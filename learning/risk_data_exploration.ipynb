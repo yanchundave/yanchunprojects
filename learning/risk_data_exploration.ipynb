{
 "cells": [
  {
   "cell_type": "code",
   "execution_count": 1,
   "id": "98429b95",
   "metadata": {},
   "outputs": [],
   "source": [
    "import numpy as np \n",
    "import pandas as pd \n",
    "import matplotlib.pyplot as plt"
   ]
  },
  {
   "cell_type": "code",
   "execution_count": 25,
   "id": "964f0402",
   "metadata": {},
   "outputs": [],
   "source": [
    "from collections import defaultdict"
   ]
  },
  {
   "cell_type": "code",
   "execution_count": 2,
   "id": "8c1df5c7",
   "metadata": {},
   "outputs": [],
   "source": [
    "df = pd.read_csv(\"ach_rule_draft-query_6-e0a50036fa32-2023-09-15-06-22-23.csv\")"
   ]
  },
  {
   "cell_type": "code",
   "execution_count": 3,
   "id": "30675955",
   "metadata": {},
   "outputs": [
    {
     "name": "stdout",
     "output_type": "stream",
     "text": [
      "ach_rule_draft-query_6-e0a50036fa32-2023-09-15-06-22-23 (1).csv\r\n",
      "ach_rule_draft-query_6-e0a50036fa32-2023-09-15-06-22-23.csv\r\n",
      "archive.zip\r\n",
      "credit_risk_analysis.ipynb\r\n",
      "creditcard.csv\r\n",
      "risk_data_exploration.ipynb\r\n"
     ]
    }
   ],
   "source": [
    "!ls"
   ]
  },
  {
   "cell_type": "code",
   "execution_count": 4,
   "id": "91171210",
   "metadata": {},
   "outputs": [
    {
     "data": {
      "text/plain": [
       "Index(['DAVE_USER_ID', 'USER_CREATION_DATE', 'FRAUD',\n",
       "       'DAVE_ACCOUNT_DELETED_DATE', 'FRAUD_ACH_RETURN', 'SPEND_CREATED_DATE',\n",
       "       'GOAL_CREATED_DATE', 'EARLIEST_BOD_DATE',\n",
       "       'DAYS_ACH_INITIATED_ACCOUNT_CREATION', 'ACCOUNT_TYPE',\n",
       "       'ACH_RETURN_AMOUNT', 'ACH_TRANSFER_INITIATED',\n",
       "       'ACH_TRANSFER_RETURNED_AT', 'ACH_TRANSFER_RETURN_CODE',\n",
       "       'EXTERNAL_BANK_ACCOUNT', 'BAD_ACTOR', 'KYC_RUN_DATE',\n",
       "       'KYC_SOCURE_DECISION', 'DOCV_SOCURE_DECISION', 'R208', 'I566', 'I625',\n",
       "       'R662', 'R655', 'I428', 'R606', 'R659', 'R610', 'R559', 'R604', 'R608',\n",
       "       'R571', 'R006', 'R572', 'R653', 'R561', 'R402', 'R658', 'R551', 'R660',\n",
       "       'R605', 'R657', 'R601', 'R642', 'R619', 'R566', 'R207', 'R618', 'R616',\n",
       "       'R211', 'R607', 'R210', 'I414', 'I402', 'R720', 'R650', 'R646', 'R633',\n",
       "       'R410', 'R409', 'R944', 'R631', 'R623', 'R574', 'R408', 'R209', 'I127',\n",
       "       'R980', 'R632', 'R573', 'R569', 'R568', 'R217', 'I912', 'R919', 'R721',\n",
       "       'R705', 'R702', 'R701', 'R661', 'R656', 'R654', 'R644', 'R622', 'R567',\n",
       "       'R113', 'R005', 'I920', 'I907', 'NAMEEMAILCORRELATION_SCORE_V2',\n",
       "       'EMAILRISK_SCORE_V2', 'NAMEPHONECORRELATION_SCORE_V2',\n",
       "       'ADDRESSRISK_SCORE_V2', 'PHONERISK_SCORE_V2'],\n",
       "      dtype='object')"
      ]
     },
     "execution_count": 4,
     "metadata": {},
     "output_type": "execute_result"
    }
   ],
   "source": [
    "df.columns"
   ]
  },
  {
   "cell_type": "code",
   "execution_count": 5,
   "id": "698196d1",
   "metadata": {},
   "outputs": [
    {
     "data": {
      "text/html": [
       "<div>\n",
       "<style scoped>\n",
       "    .dataframe tbody tr th:only-of-type {\n",
       "        vertical-align: middle;\n",
       "    }\n",
       "\n",
       "    .dataframe tbody tr th {\n",
       "        vertical-align: top;\n",
       "    }\n",
       "\n",
       "    .dataframe thead th {\n",
       "        text-align: right;\n",
       "    }\n",
       "</style>\n",
       "<table border=\"1\" class=\"dataframe\">\n",
       "  <thead>\n",
       "    <tr style=\"text-align: right;\">\n",
       "      <th></th>\n",
       "      <th>DAVE_USER_ID</th>\n",
       "      <th>DAYS_ACH_INITIATED_ACCOUNT_CREATION</th>\n",
       "      <th>ACH_RETURN_AMOUNT</th>\n",
       "      <th>R208</th>\n",
       "      <th>I566</th>\n",
       "      <th>I625</th>\n",
       "      <th>R662</th>\n",
       "      <th>R655</th>\n",
       "      <th>I428</th>\n",
       "      <th>R606</th>\n",
       "      <th>...</th>\n",
       "      <th>R567</th>\n",
       "      <th>R113</th>\n",
       "      <th>R005</th>\n",
       "      <th>I920</th>\n",
       "      <th>I907</th>\n",
       "      <th>NAMEEMAILCORRELATION_SCORE_V2</th>\n",
       "      <th>EMAILRISK_SCORE_V2</th>\n",
       "      <th>NAMEPHONECORRELATION_SCORE_V2</th>\n",
       "      <th>ADDRESSRISK_SCORE_V2</th>\n",
       "      <th>PHONERISK_SCORE_V2</th>\n",
       "    </tr>\n",
       "  </thead>\n",
       "  <tbody>\n",
       "    <tr>\n",
       "      <th>count</th>\n",
       "      <td>2.330000e+02</td>\n",
       "      <td>233.000000</td>\n",
       "      <td>233.000000</td>\n",
       "      <td>233.000000</td>\n",
       "      <td>233.000000</td>\n",
       "      <td>233.000000</td>\n",
       "      <td>233.000000</td>\n",
       "      <td>233.000000</td>\n",
       "      <td>233.000000</td>\n",
       "      <td>233.000000</td>\n",
       "      <td>...</td>\n",
       "      <td>233.000000</td>\n",
       "      <td>233.000000</td>\n",
       "      <td>233.000000</td>\n",
       "      <td>233.000000</td>\n",
       "      <td>233.000000</td>\n",
       "      <td>233.000000</td>\n",
       "      <td>233.000000</td>\n",
       "      <td>233.000000</td>\n",
       "      <td>233.000000</td>\n",
       "      <td>233.000000</td>\n",
       "    </tr>\n",
       "    <tr>\n",
       "      <th>mean</th>\n",
       "      <td>1.746109e+07</td>\n",
       "      <td>23.296137</td>\n",
       "      <td>335.394850</td>\n",
       "      <td>0.905579</td>\n",
       "      <td>0.866953</td>\n",
       "      <td>0.673820</td>\n",
       "      <td>0.463519</td>\n",
       "      <td>0.450644</td>\n",
       "      <td>0.197425</td>\n",
       "      <td>0.321888</td>\n",
       "      <td>...</td>\n",
       "      <td>0.008584</td>\n",
       "      <td>0.008584</td>\n",
       "      <td>0.004292</td>\n",
       "      <td>0.004292</td>\n",
       "      <td>0.004292</td>\n",
       "      <td>0.627811</td>\n",
       "      <td>0.553876</td>\n",
       "      <td>0.567983</td>\n",
       "      <td>0.587970</td>\n",
       "      <td>0.726262</td>\n",
       "    </tr>\n",
       "    <tr>\n",
       "      <th>std</th>\n",
       "      <td>8.057992e+05</td>\n",
       "      <td>39.404652</td>\n",
       "      <td>286.536238</td>\n",
       "      <td>0.293043</td>\n",
       "      <td>0.340357</td>\n",
       "      <td>0.469823</td>\n",
       "      <td>0.499741</td>\n",
       "      <td>0.498629</td>\n",
       "      <td>0.398913</td>\n",
       "      <td>0.468206</td>\n",
       "      <td>...</td>\n",
       "      <td>0.092448</td>\n",
       "      <td>0.092448</td>\n",
       "      <td>0.065512</td>\n",
       "      <td>0.065512</td>\n",
       "      <td>0.065512</td>\n",
       "      <td>0.350256</td>\n",
       "      <td>0.312712</td>\n",
       "      <td>0.356790</td>\n",
       "      <td>0.290876</td>\n",
       "      <td>0.216733</td>\n",
       "    </tr>\n",
       "    <tr>\n",
       "      <th>min</th>\n",
       "      <td>1.608016e+07</td>\n",
       "      <td>0.000000</td>\n",
       "      <td>125.000000</td>\n",
       "      <td>0.000000</td>\n",
       "      <td>0.000000</td>\n",
       "      <td>0.000000</td>\n",
       "      <td>0.000000</td>\n",
       "      <td>0.000000</td>\n",
       "      <td>0.000000</td>\n",
       "      <td>0.000000</td>\n",
       "      <td>...</td>\n",
       "      <td>0.000000</td>\n",
       "      <td>0.000000</td>\n",
       "      <td>0.000000</td>\n",
       "      <td>0.000000</td>\n",
       "      <td>0.000000</td>\n",
       "      <td>0.010000</td>\n",
       "      <td>0.001000</td>\n",
       "      <td>0.010000</td>\n",
       "      <td>0.001000</td>\n",
       "      <td>0.048000</td>\n",
       "    </tr>\n",
       "    <tr>\n",
       "      <th>25%</th>\n",
       "      <td>1.678826e+07</td>\n",
       "      <td>0.000000</td>\n",
       "      <td>200.000000</td>\n",
       "      <td>1.000000</td>\n",
       "      <td>1.000000</td>\n",
       "      <td>0.000000</td>\n",
       "      <td>0.000000</td>\n",
       "      <td>0.000000</td>\n",
       "      <td>0.000000</td>\n",
       "      <td>0.000000</td>\n",
       "      <td>...</td>\n",
       "      <td>0.000000</td>\n",
       "      <td>0.000000</td>\n",
       "      <td>0.000000</td>\n",
       "      <td>0.000000</td>\n",
       "      <td>0.000000</td>\n",
       "      <td>0.490000</td>\n",
       "      <td>0.304000</td>\n",
       "      <td>0.490000</td>\n",
       "      <td>0.314000</td>\n",
       "      <td>0.596000</td>\n",
       "    </tr>\n",
       "    <tr>\n",
       "      <th>50%</th>\n",
       "      <td>1.743664e+07</td>\n",
       "      <td>3.000000</td>\n",
       "      <td>200.000000</td>\n",
       "      <td>1.000000</td>\n",
       "      <td>1.000000</td>\n",
       "      <td>1.000000</td>\n",
       "      <td>0.000000</td>\n",
       "      <td>0.000000</td>\n",
       "      <td>0.000000</td>\n",
       "      <td>0.000000</td>\n",
       "      <td>...</td>\n",
       "      <td>0.000000</td>\n",
       "      <td>0.000000</td>\n",
       "      <td>0.000000</td>\n",
       "      <td>0.000000</td>\n",
       "      <td>0.000000</td>\n",
       "      <td>0.660000</td>\n",
       "      <td>0.610000</td>\n",
       "      <td>0.490000</td>\n",
       "      <td>0.662000</td>\n",
       "      <td>0.810000</td>\n",
       "    </tr>\n",
       "    <tr>\n",
       "      <th>75%</th>\n",
       "      <td>1.817579e+07</td>\n",
       "      <td>30.000000</td>\n",
       "      <td>200.000000</td>\n",
       "      <td>1.000000</td>\n",
       "      <td>1.000000</td>\n",
       "      <td>1.000000</td>\n",
       "      <td>1.000000</td>\n",
       "      <td>1.000000</td>\n",
       "      <td>0.000000</td>\n",
       "      <td>1.000000</td>\n",
       "      <td>...</td>\n",
       "      <td>0.000000</td>\n",
       "      <td>0.000000</td>\n",
       "      <td>0.000000</td>\n",
       "      <td>0.000000</td>\n",
       "      <td>0.000000</td>\n",
       "      <td>0.990000</td>\n",
       "      <td>0.859000</td>\n",
       "      <td>0.980000</td>\n",
       "      <td>0.799000</td>\n",
       "      <td>0.906000</td>\n",
       "    </tr>\n",
       "    <tr>\n",
       "      <th>max</th>\n",
       "      <td>1.865924e+07</td>\n",
       "      <td>205.000000</td>\n",
       "      <td>1000.000000</td>\n",
       "      <td>1.000000</td>\n",
       "      <td>1.000000</td>\n",
       "      <td>1.000000</td>\n",
       "      <td>1.000000</td>\n",
       "      <td>1.000000</td>\n",
       "      <td>1.000000</td>\n",
       "      <td>1.000000</td>\n",
       "      <td>...</td>\n",
       "      <td>1.000000</td>\n",
       "      <td>1.000000</td>\n",
       "      <td>1.000000</td>\n",
       "      <td>1.000000</td>\n",
       "      <td>1.000000</td>\n",
       "      <td>0.990000</td>\n",
       "      <td>0.969000</td>\n",
       "      <td>0.990000</td>\n",
       "      <td>0.998000</td>\n",
       "      <td>0.975000</td>\n",
       "    </tr>\n",
       "  </tbody>\n",
       "</table>\n",
       "<p>8 rows × 78 columns</p>\n",
       "</div>"
      ],
      "text/plain": [
       "       DAVE_USER_ID  DAYS_ACH_INITIATED_ACCOUNT_CREATION  ACH_RETURN_AMOUNT  \\\n",
       "count  2.330000e+02                           233.000000         233.000000   \n",
       "mean   1.746109e+07                            23.296137         335.394850   \n",
       "std    8.057992e+05                            39.404652         286.536238   \n",
       "min    1.608016e+07                             0.000000         125.000000   \n",
       "25%    1.678826e+07                             0.000000         200.000000   \n",
       "50%    1.743664e+07                             3.000000         200.000000   \n",
       "75%    1.817579e+07                            30.000000         200.000000   \n",
       "max    1.865924e+07                           205.000000        1000.000000   \n",
       "\n",
       "             R208        I566        I625        R662        R655        I428  \\\n",
       "count  233.000000  233.000000  233.000000  233.000000  233.000000  233.000000   \n",
       "mean     0.905579    0.866953    0.673820    0.463519    0.450644    0.197425   \n",
       "std      0.293043    0.340357    0.469823    0.499741    0.498629    0.398913   \n",
       "min      0.000000    0.000000    0.000000    0.000000    0.000000    0.000000   \n",
       "25%      1.000000    1.000000    0.000000    0.000000    0.000000    0.000000   \n",
       "50%      1.000000    1.000000    1.000000    0.000000    0.000000    0.000000   \n",
       "75%      1.000000    1.000000    1.000000    1.000000    1.000000    0.000000   \n",
       "max      1.000000    1.000000    1.000000    1.000000    1.000000    1.000000   \n",
       "\n",
       "             R606  ...        R567        R113        R005        I920  \\\n",
       "count  233.000000  ...  233.000000  233.000000  233.000000  233.000000   \n",
       "mean     0.321888  ...    0.008584    0.008584    0.004292    0.004292   \n",
       "std      0.468206  ...    0.092448    0.092448    0.065512    0.065512   \n",
       "min      0.000000  ...    0.000000    0.000000    0.000000    0.000000   \n",
       "25%      0.000000  ...    0.000000    0.000000    0.000000    0.000000   \n",
       "50%      0.000000  ...    0.000000    0.000000    0.000000    0.000000   \n",
       "75%      1.000000  ...    0.000000    0.000000    0.000000    0.000000   \n",
       "max      1.000000  ...    1.000000    1.000000    1.000000    1.000000   \n",
       "\n",
       "             I907  NAMEEMAILCORRELATION_SCORE_V2  EMAILRISK_SCORE_V2  \\\n",
       "count  233.000000                     233.000000          233.000000   \n",
       "mean     0.004292                       0.627811            0.553876   \n",
       "std      0.065512                       0.350256            0.312712   \n",
       "min      0.000000                       0.010000            0.001000   \n",
       "25%      0.000000                       0.490000            0.304000   \n",
       "50%      0.000000                       0.660000            0.610000   \n",
       "75%      0.000000                       0.990000            0.859000   \n",
       "max      1.000000                       0.990000            0.969000   \n",
       "\n",
       "       NAMEPHONECORRELATION_SCORE_V2  ADDRESSRISK_SCORE_V2  PHONERISK_SCORE_V2  \n",
       "count                     233.000000            233.000000          233.000000  \n",
       "mean                        0.567983              0.587970            0.726262  \n",
       "std                         0.356790              0.290876            0.216733  \n",
       "min                         0.010000              0.001000            0.048000  \n",
       "25%                         0.490000              0.314000            0.596000  \n",
       "50%                         0.490000              0.662000            0.810000  \n",
       "75%                         0.980000              0.799000            0.906000  \n",
       "max                         0.990000              0.998000            0.975000  \n",
       "\n",
       "[8 rows x 78 columns]"
      ]
     },
     "execution_count": 5,
     "metadata": {},
     "output_type": "execute_result"
    }
   ],
   "source": [
    "df.describe()"
   ]
  },
  {
   "cell_type": "code",
   "execution_count": 7,
   "id": "fbed8973",
   "metadata": {},
   "outputs": [
    {
     "data": {
      "text/plain": [
       "(233, 94)"
      ]
     },
     "execution_count": 7,
     "metadata": {},
     "output_type": "execute_result"
    }
   ],
   "source": [
    "df.shape"
   ]
  },
  {
   "cell_type": "code",
   "execution_count": 8,
   "id": "af72d162",
   "metadata": {},
   "outputs": [
    {
     "data": {
      "text/html": [
       "<div>\n",
       "<style scoped>\n",
       "    .dataframe tbody tr th:only-of-type {\n",
       "        vertical-align: middle;\n",
       "    }\n",
       "\n",
       "    .dataframe tbody tr th {\n",
       "        vertical-align: top;\n",
       "    }\n",
       "\n",
       "    .dataframe thead th {\n",
       "        text-align: right;\n",
       "    }\n",
       "</style>\n",
       "<table border=\"1\" class=\"dataframe\">\n",
       "  <thead>\n",
       "    <tr style=\"text-align: right;\">\n",
       "      <th></th>\n",
       "      <th>DAVE_USER_ID</th>\n",
       "    </tr>\n",
       "    <tr>\n",
       "      <th>FRAUD</th>\n",
       "      <th></th>\n",
       "    </tr>\n",
       "  </thead>\n",
       "  <tbody>\n",
       "    <tr>\n",
       "      <th>False</th>\n",
       "      <td>99</td>\n",
       "    </tr>\n",
       "    <tr>\n",
       "      <th>True</th>\n",
       "      <td>134</td>\n",
       "    </tr>\n",
       "  </tbody>\n",
       "</table>\n",
       "</div>"
      ],
      "text/plain": [
       "       DAVE_USER_ID\n",
       "FRAUD              \n",
       "False            99\n",
       "True            134"
      ]
     },
     "execution_count": 8,
     "metadata": {},
     "output_type": "execute_result"
    }
   ],
   "source": [
    "df.groupby(['FRAUD']).agg({'DAVE_USER_ID':'count'})"
   ]
  },
  {
   "cell_type": "code",
   "execution_count": 24,
   "id": "c8cfd519",
   "metadata": {},
   "outputs": [
    {
     "data": {
      "text/plain": [
       "Index(['DAVE_USER_ID', 'USER_CREATION_DATE', 'FRAUD',\n",
       "       'DAVE_ACCOUNT_DELETED_DATE', 'FRAUD_ACH_RETURN', 'SPEND_CREATED_DATE',\n",
       "       'GOAL_CREATED_DATE', 'EARLIEST_BOD_DATE',\n",
       "       'DAYS_ACH_INITIATED_ACCOUNT_CREATION', 'ACCOUNT_TYPE',\n",
       "       'ACH_RETURN_AMOUNT', 'ACH_TRANSFER_INITIATED',\n",
       "       'ACH_TRANSFER_RETURNED_AT', 'ACH_TRANSFER_RETURN_CODE',\n",
       "       'EXTERNAL_BANK_ACCOUNT', 'BAD_ACTOR', 'KYC_RUN_DATE',\n",
       "       'KYC_SOCURE_DECISION', 'DOCV_SOCURE_DECISION', 'R208', 'I566', 'I625',\n",
       "       'R662', 'R655', 'I428', 'R606', 'R659', 'R610', 'R559', 'R604', 'R608',\n",
       "       'R571', 'R006', 'R572', 'R653', 'R561', 'R402', 'R658', 'R551', 'R660',\n",
       "       'R605', 'R657', 'R601', 'R642', 'R619', 'R566', 'R207', 'R618', 'R616',\n",
       "       'R211', 'R607', 'R210', 'I414', 'I402', 'R720', 'R650', 'R646', 'R633',\n",
       "       'R410', 'R409', 'R944', 'R631', 'R623', 'R574', 'R408', 'R209', 'I127',\n",
       "       'R980', 'R632', 'R573', 'R569', 'R568', 'R217', 'I912', 'R919', 'R721',\n",
       "       'R705', 'R702', 'R701', 'R661', 'R656', 'R654', 'R644', 'R622', 'R567',\n",
       "       'R113', 'R005', 'I920', 'I907', 'NAMEEMAILCORRELATION_SCORE_V2',\n",
       "       'EMAILRISK_SCORE_V2', 'NAMEPHONECORRELATION_SCORE_V2',\n",
       "       'ADDRESSRISK_SCORE_V2', 'PHONERISK_SCORE_V2'],\n",
       "      dtype='object')"
      ]
     },
     "execution_count": 24,
     "metadata": {},
     "output_type": "execute_result"
    }
   ],
   "source": [
    "df.dtypes.index"
   ]
  },
  {
   "cell_type": "code",
   "execution_count": 16,
   "id": "d2fa8cf2",
   "metadata": {},
   "outputs": [
    {
     "data": {
      "text/plain": [
       "True"
      ]
     },
     "execution_count": 16,
     "metadata": {},
     "output_type": "execute_result"
    }
   ],
   "source": [
    "df.dtypes['EMAILRISK_SCORE_V2'] == 'float64'"
   ]
  },
  {
   "cell_type": "code",
   "execution_count": 35,
   "id": "ad05fbd7",
   "metadata": {},
   "outputs": [],
   "source": [
    "a = df.dtypes['EMAILRISK_SCORE_V2']"
   ]
  },
  {
   "cell_type": "code",
   "execution_count": 36,
   "id": "e0353b6f",
   "metadata": {},
   "outputs": [
    {
     "name": "stdout",
     "output_type": "stream",
     "text": [
      "float64\n"
     ]
    }
   ],
   "source": [
    "print(a)"
   ]
  },
  {
   "cell_type": "code",
   "execution_count": 93,
   "id": "3b1b792e",
   "metadata": {},
   "outputs": [],
   "source": [
    "def columns_type(x):\n",
    "    return_types = defaultdict(list)\n",
    "    columns = df.columns\n",
    "    index = df.dtypes.index\n",
    "    for item in index:\n",
    "        tmp = df.dtypes[item]\n",
    "        #print(tmp)\n",
    "        return_types[str(tmp)].append(item)\n",
    "    return return_types\n",
    "   "
   ]
  },
  {
   "cell_type": "code",
   "execution_count": 40,
   "id": "82c4757d",
   "metadata": {},
   "outputs": [],
   "source": [
    "dftypes = columns_type(df)"
   ]
  },
  {
   "cell_type": "code",
   "execution_count": 41,
   "id": "77871be3",
   "metadata": {},
   "outputs": [
    {
     "name": "stdout",
     "output_type": "stream",
     "text": [
      "int64\n",
      "['DAVE_USER_ID', 'DAYS_ACH_INITIATED_ACCOUNT_CREATION', 'R208', 'I566', 'I625', 'R662', 'R655', 'I428', 'R606', 'R659', 'R610', 'R559', 'R604', 'R608', 'R571', 'R006', 'R572', 'R653', 'R561', 'R402', 'R658', 'R551', 'R660', 'R605', 'R657', 'R601', 'R642', 'R619', 'R566', 'R207', 'R618', 'R616', 'R211', 'R607', 'R210', 'I414', 'I402', 'R720', 'R650', 'R646', 'R633', 'R410', 'R409', 'R944', 'R631', 'R623', 'R574', 'R408', 'R209', 'I127', 'R980', 'R632', 'R573', 'R569', 'R568', 'R217', 'I912', 'R919', 'R721', 'R705', 'R702', 'R701', 'R661', 'R656', 'R654', 'R644', 'R622', 'R567', 'R113', 'R005', 'I920', 'I907']\n",
      "object\n",
      "['USER_CREATION_DATE', 'DAVE_ACCOUNT_DELETED_DATE', 'SPEND_CREATED_DATE', 'GOAL_CREATED_DATE', 'EARLIEST_BOD_DATE', 'ACCOUNT_TYPE', 'ACH_TRANSFER_INITIATED', 'ACH_TRANSFER_RETURNED_AT', 'ACH_TRANSFER_RETURN_CODE', 'EXTERNAL_BANK_ACCOUNT', 'KYC_RUN_DATE', 'KYC_SOCURE_DECISION', 'DOCV_SOCURE_DECISION']\n",
      "bool\n",
      "['FRAUD', 'FRAUD_ACH_RETURN', 'BAD_ACTOR']\n",
      "float64\n",
      "['ACH_RETURN_AMOUNT', 'NAMEEMAILCORRELATION_SCORE_V2', 'EMAILRISK_SCORE_V2', 'NAMEPHONECORRELATION_SCORE_V2', 'ADDRESSRISK_SCORE_V2', 'PHONERISK_SCORE_V2']\n"
     ]
    }
   ],
   "source": [
    "for key in dftypes:\n",
    "    print(key)\n",
    "    print(dftypes[key])"
   ]
  },
  {
   "cell_type": "code",
   "execution_count": 42,
   "id": "74a545cb",
   "metadata": {},
   "outputs": [],
   "source": [
    "columns_int = dftypes['int64']\n",
    "columns_float = dftypes['float64']\n",
    "columns_bool = dftypes['bool']"
   ]
  },
  {
   "cell_type": "code",
   "execution_count": 44,
   "id": "1332b787",
   "metadata": {},
   "outputs": [],
   "source": [
    "columns_int.remove('DAVE_USER_ID')"
   ]
  },
  {
   "cell_type": "code",
   "execution_count": 45,
   "id": "6572b9c5",
   "metadata": {},
   "outputs": [],
   "source": [
    "dfgroup = df.groupby(['FRAUD'])"
   ]
  },
  {
   "cell_type": "code",
   "execution_count": 62,
   "id": "d6c77d3f",
   "metadata": {},
   "outputs": [
    {
     "data": {
      "text/plain": [
       "array([1, 1, 1, 1, 1, 1, 1, 1, 1, 1, 1, 1, 0, 1, 1, 1, 1, 1, 1, 1, 1, 1,\n",
       "       1, 1, 1, 1, 1, 1, 1, 1, 1, 1, 1, 1, 1, 1, 1, 0, 0, 1, 1, 1, 0, 1,\n",
       "       1, 1, 1, 1, 1, 1, 1, 1, 1, 1, 1, 1, 1, 1, 1, 1, 1, 1, 1, 1, 1, 1,\n",
       "       1, 1, 1, 1, 1, 1, 1, 1, 1, 1, 1, 1, 1, 1, 1, 1, 1, 1, 1, 1, 1, 1,\n",
       "       0, 1, 0, 1, 1, 1, 1, 1, 1, 0, 1, 1, 1, 0, 1, 1, 1, 1, 1, 1, 1, 1,\n",
       "       1, 1, 1, 1, 1, 1, 1, 1, 1, 1, 1, 1, 1, 1, 0, 1, 1, 1, 1, 1, 1, 1,\n",
       "       1, 0])"
      ]
     },
     "execution_count": 62,
     "metadata": {},
     "output_type": "execute_result"
    }
   ],
   "source": [
    "true_fraud"
   ]
  },
  {
   "cell_type": "code",
   "execution_count": 61,
   "id": "53381209",
   "metadata": {},
   "outputs": [],
   "source": [
    "true_fraud = df.loc[df['FRAUD'], ['R208']]['R208'].values\n",
    "false_fraud = df.loc[~df['FRAUD'], ['R208']]['R208'].values"
   ]
  },
  {
   "cell_type": "code",
   "execution_count": 65,
   "id": "ef0843dc",
   "metadata": {},
   "outputs": [],
   "source": [
    "from scipy.stats import kstest\n",
    "\n",
    "def ks_compare(df, columns_candidate):\n",
    "    status_result = {}\n",
    "    for item in columns_candidate:\n",
    "        true_fraud = df.loc[df['FRAUD'], [item]][item].values\n",
    "        false_fraud = df.loc[~df['FRAUD'], [item]][item].values\n",
    "        mean_diff = np.mean(true_fraud) - np.mean(false_fraud)\n",
    "        stat, p_value = kstest(true_fraud, false_fraud)\n",
    "        status_result[item] = [mean_diff, stat, p_value]\n",
    "    return status_result   "
   ]
  },
  {
   "cell_type": "code",
   "execution_count": 66,
   "id": "dbc8876c",
   "metadata": {},
   "outputs": [],
   "source": [
    "stat_int = ks_compare(df, columns_int)"
   ]
  },
  {
   "cell_type": "code",
   "execution_count": 67,
   "id": "ece8d427",
   "metadata": {},
   "outputs": [
    {
     "data": {
      "text/plain": [
       "[0.04658525554047943, 0.046585255540479424, 0.998841996833193]"
      ]
     },
     "execution_count": 67,
     "metadata": {},
     "output_type": "execute_result"
    }
   ],
   "source": [
    "stat_int['R208']"
   ]
  },
  {
   "cell_type": "code",
   "execution_count": 69,
   "id": "aec0ab01",
   "metadata": {},
   "outputs": [],
   "source": [
    "stat_int_sorted = sorted(stat_int.items(), key=lambda x: x[1][0])"
   ]
  },
  {
   "cell_type": "code",
   "execution_count": 71,
   "id": "55bf93de",
   "metadata": {},
   "outputs": [
    {
     "data": {
      "text/plain": [
       "[('DAYS_ACH_INITIATED_ACCOUNT_CREATION',\n",
       "  [-7.985903814262024, 0.08344640434192672, 0.7817110585504816]),\n",
       " ('R559', [-0.1256595808834615, 0.1256595808834615, 0.2973668915867947]),\n",
       " ('I428', [-0.11337253128297908, 0.11337253128297904, 0.4174390407749403]),\n",
       " ('R633', [-0.10191466907884819, 0.10191466907884818, 0.5507524562916993]),\n",
       " ('R660', [-0.08261721694557515, 0.08261721694557515, 0.7920935763326052]),\n",
       " ('R655', [-0.059475350520126646, 0.05947535052012664, 0.9775789098376988]),\n",
       " ('R662', [-0.05465098748680841, 0.05465098748680838, 0.9905515423165004]),\n",
       " ('R551', [-0.050957334539424096, 0.05095733453942409, 0.9959832341833564]),\n",
       " ('I625', [-0.04025327905924925, 0.040253279059249206, 0.999913403480628]),\n",
       " ('R607', [-0.028569274837931563, 0.028569274837931553, 0.9999999947235281]),\n",
       " ('R571', [-0.02464947987336047, 0.02464947987336047, 0.9999999999900467]),\n",
       " ('R631', [-0.02065430423639379, 0.02065430423639379, 0.9999999999999998]),\n",
       " ('R980', [-0.020202020202020204, 0.020202020202020204, 0.9999999999999998]),\n",
       " ('R572', [-0.019372832805668636, 0.019372832805668625, 1.0]),\n",
       " ('R605', [-0.016282225237449127, 0.016282225237449117, 1.0]),\n",
       " ('R410', [-0.015377657168701946, 0.015377657168701944, 1.0]),\n",
       " ('R654', [-0.015377657168701946, 0.015377657168701944, 1.0]),\n",
       " ('R211', [-0.013191617669229612, 0.01319161766922961, 1.0]),\n",
       " ('R650', [-0.013191617669229612, 0.01319161766922961, 1.0]),\n",
       " ('R569', [-0.013191617669229612, 0.01319161766922961, 1.0]),\n",
       " ('R408', [-0.012739333634856024, 0.012739333634856022, 1.0]),\n",
       " ('R601', [-0.011005578169757273, 0.011005578169757274, 1.0]),\n",
       " ('R721', [-0.010101010101010102, 0.010101010101010102, 1.0]),\n",
       " ('R656', [-0.010101010101010102, 0.010101010101010102, 1.0]),\n",
       " ('R005', [-0.010101010101010102, 0.010101010101010102, 1.0]),\n",
       " ('I920', [-0.010101010101010102, 0.010101010101010102, 1.0]),\n",
       " ('R568', [-0.008367254635911356, 0.008367254635911352, 1.0]),\n",
       " ('I402', [-0.007914970601537768, 0.007914970601537766, 1.0]),\n",
       " ('R623', [-0.007914970601537768, 0.007914970601537766, 1.0]),\n",
       " ('R574', [-0.005276647067691846, 0.005276647067691844, 1.0]),\n",
       " ('R702', [-0.005276647067691846, 0.005276647067691844, 1.0]),\n",
       " ('R632', [-0.002638323533845923, 0.002638323533845922, 1.0]),\n",
       " ('R701', [-0.002638323533845923, 0.002638323533845922, 1.0]),\n",
       " ('R113', [-0.002638323533845923, 0.002638323533845922, 1.0]),\n",
       " ('R658', [-0.0013568521031207675, 0.0013568521031207597, 1.0]),\n",
       " ('R616', [0.00037690336197798713, 0.00037690336197798886, 1.0]),\n",
       " ('R618', [0.0017337554650987477, 0.0017337554650987486, 1.0]),\n",
       " ('I414', [0.0021860394994723323, 0.0021860394994723353, 1.0]),\n",
       " ('R409', [0.0021860394994723323, 0.0021860394994723353, 1.0]),\n",
       " ('R209', [0.0043720789989446646, 0.004372078998944671, 1.0]),\n",
       " ('I127', [0.0043720789989446646, 0.004372078998944671, 1.0]),\n",
       " ('I907', [0.007462686567164179, 0.007462686567164179, 1.0]),\n",
       " ('R720', [0.009196442032262928, 0.009196442032262928, 1.0]),\n",
       " ('R622', [0.012287049600482434, 0.012287049600482436, 1.0]),\n",
       " ('R210', [0.014473089099954768, 0.014473089099954772, 1.0]),\n",
       " ('R217', [0.014473089099954768, 0.014473089099954772, 1.0]),\n",
       " ('I912', [0.014473089099954768, 0.014473089099954772, 1.0]),\n",
       " ('R661', [0.014925373134328358, 0.014925373134328358, 1.0]),\n",
       " ('R644', [0.014925373134328358, 0.014925373134328358, 1.0]),\n",
       " ('R567', [0.014925373134328358, 0.014925373134328358, 1.0]),\n",
       " ('R573', [0.016659128599427107, 0.016659128599427107, 1.0]),\n",
       " ('R919', [0.021935775667118948, 0.02193577566711895, 0.9999999999999857]),\n",
       " ('R705', [0.021935775667118948, 0.02193577566711895, 0.9999999999999857]),\n",
       " ('R944', [0.029398462234283128, 0.02939846223428313, 0.9999999844779824]),\n",
       " ('R566', [0.031132217699381876, 0.03113221769938188, 0.9999998869375145]),\n",
       " ('R659', [0.03671038745665611, 0.03671038745665611, 0.9999884475076665]),\n",
       " ('R646', [0.03904718830091964, 0.03904718830091965, 0.9999533872178871]),\n",
       " ('R208', [0.04658525554047943, 0.046585255540479424, 0.998841996833193]),\n",
       " ('R606', [0.0503542891602593, 0.05035428916025931, 0.9965462594475936]),\n",
       " ('R207', [0.05834464043419266, 0.05834464043419267, 0.9815361007605212]),\n",
       " ('R604', [0.06663651439770843, 0.06663651439770843, 0.9419566687701506]),\n",
       " ('R402', [0.06671189507010403, 0.06671189507010403, 0.9414032736175321]),\n",
       " ('I566', [0.06723955977687324, 0.06723955977687321, 0.9380733264859309]),\n",
       " ('R561', [0.07281772953414745, 0.07281772953414745, 0.8941188170042917]),\n",
       " ('R642', [0.0912859942710689, 0.0912859942710689, 0.6845388188180921]),\n",
       " ('R619', [0.0912859942710689, 0.0912859942710689, 0.6845388188180921]),\n",
       " ('R608', [0.09430122116689282, 0.09430122116689281, 0.6461895846238831]),\n",
       " ('R657', [0.09874868083823307, 0.09874868083823307, 0.5894960117512342]),\n",
       " ('R610', [0.13726820443238352, 0.13726820443238355, 0.20804547431715517]),\n",
       " ('R006', [0.14390170360319618, 0.14390170360319615, 0.1669907807036106]),\n",
       " ('R653', [0.16108849690939242, 0.16108849690939242, 0.09030461771891948])]"
      ]
     },
     "execution_count": 71,
     "metadata": {},
     "output_type": "execute_result"
    }
   ],
   "source": [
    "stat_int_sorted"
   ]
  },
  {
   "cell_type": "code",
   "execution_count": 72,
   "id": "265c28a7",
   "metadata": {},
   "outputs": [
    {
     "data": {
      "text/plain": [
       "Index(['DAVE_USER_ID', 'USER_CREATION_DATE', 'FRAUD',\n",
       "       'DAVE_ACCOUNT_DELETED_DATE', 'FRAUD_ACH_RETURN', 'SPEND_CREATED_DATE',\n",
       "       'GOAL_CREATED_DATE', 'EARLIEST_BOD_DATE',\n",
       "       'DAYS_ACH_INITIATED_ACCOUNT_CREATION', 'ACCOUNT_TYPE',\n",
       "       'ACH_RETURN_AMOUNT', 'ACH_TRANSFER_INITIATED',\n",
       "       'ACH_TRANSFER_RETURNED_AT', 'ACH_TRANSFER_RETURN_CODE',\n",
       "       'EXTERNAL_BANK_ACCOUNT', 'BAD_ACTOR', 'KYC_RUN_DATE',\n",
       "       'KYC_SOCURE_DECISION', 'DOCV_SOCURE_DECISION', 'R208', 'I566', 'I625',\n",
       "       'R662', 'R655', 'I428', 'R606', 'R659', 'R610', 'R559', 'R604', 'R608',\n",
       "       'R571', 'R006', 'R572', 'R653', 'R561', 'R402', 'R658', 'R551', 'R660',\n",
       "       'R605', 'R657', 'R601', 'R642', 'R619', 'R566', 'R207', 'R618', 'R616',\n",
       "       'R211', 'R607', 'R210', 'I414', 'I402', 'R720', 'R650', 'R646', 'R633',\n",
       "       'R410', 'R409', 'R944', 'R631', 'R623', 'R574', 'R408', 'R209', 'I127',\n",
       "       'R980', 'R632', 'R573', 'R569', 'R568', 'R217', 'I912', 'R919', 'R721',\n",
       "       'R705', 'R702', 'R701', 'R661', 'R656', 'R654', 'R644', 'R622', 'R567',\n",
       "       'R113', 'R005', 'I920', 'I907', 'NAMEEMAILCORRELATION_SCORE_V2',\n",
       "       'EMAILRISK_SCORE_V2', 'NAMEPHONECORRELATION_SCORE_V2',\n",
       "       'ADDRESSRISK_SCORE_V2', 'PHONERISK_SCORE_V2'],\n",
       "      dtype='object')"
      ]
     },
     "execution_count": 72,
     "metadata": {},
     "output_type": "execute_result"
    }
   ],
   "source": [
    "# build a tree model\n",
    "df.columns"
   ]
  },
  {
   "cell_type": "code",
   "execution_count": 74,
   "id": "4a03767c",
   "metadata": {},
   "outputs": [],
   "source": [
    "dfupdate = df.drop(['DAVE_USER_ID'], axis=1)"
   ]
  },
  {
   "cell_type": "code",
   "execution_count": 77,
   "id": "64d9b1bb",
   "metadata": {},
   "outputs": [
    {
     "data": {
      "text/html": [
       "<div>\n",
       "<style scoped>\n",
       "    .dataframe tbody tr th:only-of-type {\n",
       "        vertical-align: middle;\n",
       "    }\n",
       "\n",
       "    .dataframe tbody tr th {\n",
       "        vertical-align: top;\n",
       "    }\n",
       "\n",
       "    .dataframe thead th {\n",
       "        text-align: right;\n",
       "    }\n",
       "</style>\n",
       "<table border=\"1\" class=\"dataframe\">\n",
       "  <thead>\n",
       "    <tr style=\"text-align: right;\">\n",
       "      <th></th>\n",
       "      <th>USER_CREATION_DATE</th>\n",
       "      <th>FRAUD</th>\n",
       "      <th>DAVE_ACCOUNT_DELETED_DATE</th>\n",
       "      <th>FRAUD_ACH_RETURN</th>\n",
       "      <th>SPEND_CREATED_DATE</th>\n",
       "      <th>GOAL_CREATED_DATE</th>\n",
       "      <th>EARLIEST_BOD_DATE</th>\n",
       "      <th>DAYS_ACH_INITIATED_ACCOUNT_CREATION</th>\n",
       "      <th>ACCOUNT_TYPE</th>\n",
       "      <th>ACH_RETURN_AMOUNT</th>\n",
       "      <th>...</th>\n",
       "      <th>R567</th>\n",
       "      <th>R113</th>\n",
       "      <th>R005</th>\n",
       "      <th>I920</th>\n",
       "      <th>I907</th>\n",
       "      <th>NAMEEMAILCORRELATION_SCORE_V2</th>\n",
       "      <th>EMAILRISK_SCORE_V2</th>\n",
       "      <th>NAMEPHONECORRELATION_SCORE_V2</th>\n",
       "      <th>ADDRESSRISK_SCORE_V2</th>\n",
       "      <th>PHONERISK_SCORE_V2</th>\n",
       "    </tr>\n",
       "  </thead>\n",
       "  <tbody>\n",
       "    <tr>\n",
       "      <th>0</th>\n",
       "      <td>2023-01-01 21:52:29</td>\n",
       "      <td>True</td>\n",
       "      <td>2023-01-25 18:47:36</td>\n",
       "      <td>True</td>\n",
       "      <td>2023-01-01 22:00:34</td>\n",
       "      <td>NaN</td>\n",
       "      <td>2023-01-01 22:00:34</td>\n",
       "      <td>10</td>\n",
       "      <td>Checking Account</td>\n",
       "      <td>200.0</td>\n",
       "      <td>...</td>\n",
       "      <td>0</td>\n",
       "      <td>0</td>\n",
       "      <td>0</td>\n",
       "      <td>0</td>\n",
       "      <td>0</td>\n",
       "      <td>0.99</td>\n",
       "      <td>0.321</td>\n",
       "      <td>0.86</td>\n",
       "      <td>0.030</td>\n",
       "      <td>0.260</td>\n",
       "    </tr>\n",
       "    <tr>\n",
       "      <th>1</th>\n",
       "      <td>2023-01-03 16:26:10</td>\n",
       "      <td>True</td>\n",
       "      <td>2023-08-10 18:13:50</td>\n",
       "      <td>True</td>\n",
       "      <td>2023-01-03 16:38:33</td>\n",
       "      <td>NaN</td>\n",
       "      <td>2023-01-03 16:38:33</td>\n",
       "      <td>115</td>\n",
       "      <td>Checking Account</td>\n",
       "      <td>200.0</td>\n",
       "      <td>...</td>\n",
       "      <td>0</td>\n",
       "      <td>0</td>\n",
       "      <td>0</td>\n",
       "      <td>0</td>\n",
       "      <td>0</td>\n",
       "      <td>0.99</td>\n",
       "      <td>0.311</td>\n",
       "      <td>0.98</td>\n",
       "      <td>0.644</td>\n",
       "      <td>0.728</td>\n",
       "    </tr>\n",
       "    <tr>\n",
       "      <th>2</th>\n",
       "      <td>2023-01-04 00:39:23</td>\n",
       "      <td>False</td>\n",
       "      <td>9999-12-31 23:59:59</td>\n",
       "      <td>True</td>\n",
       "      <td>2023-01-04 00:45:02</td>\n",
       "      <td>NaN</td>\n",
       "      <td>2023-01-04 00:45:02</td>\n",
       "      <td>30</td>\n",
       "      <td>Checking Account</td>\n",
       "      <td>125.0</td>\n",
       "      <td>...</td>\n",
       "      <td>0</td>\n",
       "      <td>0</td>\n",
       "      <td>0</td>\n",
       "      <td>0</td>\n",
       "      <td>0</td>\n",
       "      <td>0.49</td>\n",
       "      <td>0.861</td>\n",
       "      <td>0.98</td>\n",
       "      <td>0.083</td>\n",
       "      <td>0.347</td>\n",
       "    </tr>\n",
       "  </tbody>\n",
       "</table>\n",
       "<p>3 rows × 93 columns</p>\n",
       "</div>"
      ],
      "text/plain": [
       "    USER_CREATION_DATE  FRAUD DAVE_ACCOUNT_DELETED_DATE  FRAUD_ACH_RETURN  \\\n",
       "0  2023-01-01 21:52:29   True       2023-01-25 18:47:36              True   \n",
       "1  2023-01-03 16:26:10   True       2023-08-10 18:13:50              True   \n",
       "2  2023-01-04 00:39:23  False       9999-12-31 23:59:59              True   \n",
       "\n",
       "    SPEND_CREATED_DATE GOAL_CREATED_DATE    EARLIEST_BOD_DATE  \\\n",
       "0  2023-01-01 22:00:34               NaN  2023-01-01 22:00:34   \n",
       "1  2023-01-03 16:38:33               NaN  2023-01-03 16:38:33   \n",
       "2  2023-01-04 00:45:02               NaN  2023-01-04 00:45:02   \n",
       "\n",
       "   DAYS_ACH_INITIATED_ACCOUNT_CREATION      ACCOUNT_TYPE  ACH_RETURN_AMOUNT  \\\n",
       "0                                   10  Checking Account              200.0   \n",
       "1                                  115  Checking Account              200.0   \n",
       "2                                   30  Checking Account              125.0   \n",
       "\n",
       "   ... R567 R113 R005 I920  I907 NAMEEMAILCORRELATION_SCORE_V2  \\\n",
       "0  ...    0    0    0    0     0                          0.99   \n",
       "1  ...    0    0    0    0     0                          0.99   \n",
       "2  ...    0    0    0    0     0                          0.49   \n",
       "\n",
       "  EMAILRISK_SCORE_V2 NAMEPHONECORRELATION_SCORE_V2  ADDRESSRISK_SCORE_V2  \\\n",
       "0              0.321                          0.86                 0.030   \n",
       "1              0.311                          0.98                 0.644   \n",
       "2              0.861                          0.98                 0.083   \n",
       "\n",
       "   PHONERISK_SCORE_V2  \n",
       "0               0.260  \n",
       "1               0.728  \n",
       "2               0.347  \n",
       "\n",
       "[3 rows x 93 columns]"
      ]
     },
     "execution_count": 77,
     "metadata": {},
     "output_type": "execute_result"
    }
   ],
   "source": [
    "dfupdate.head(3)"
   ]
  },
  {
   "cell_type": "code",
   "execution_count": 85,
   "id": "20f5e174",
   "metadata": {},
   "outputs": [],
   "source": [
    "y = dfupdate['FRAUD']\n",
    "X = dfupdate.loc[:, [ 'FRAUD_ACH_RETURN', \n",
    "       'DAYS_ACH_INITIATED_ACCOUNT_CREATION', 'ACCOUNT_TYPE',\n",
    "       'ACH_RETURN_AMOUNT',  'ACH_TRANSFER_RETURN_CODE',\n",
    "       'EXTERNAL_BANK_ACCOUNT', 'BAD_ACTOR', \n",
    "       'KYC_SOCURE_DECISION',  'R208', 'I566', 'I625',\n",
    "       'R662', 'R655', 'I428', 'R606', 'R659', 'R610', 'R559', 'R604', 'R608',\n",
    "       'R571', 'R006', 'R572', 'R653', 'R561', 'R402', 'R658', 'R551', 'R660',\n",
    "       'R605', 'R657', 'R601', 'R642', 'R619', 'R566', 'R207', 'R618', 'R616',\n",
    "       'R211', 'R607', 'R210', 'I414', 'I402', 'R720', 'R650', 'R646', 'R633',\n",
    "       'R410', 'R409', 'R944', 'R631', 'R623', 'R574', 'R408', 'R209', 'I127',\n",
    "       'R980', 'R632', 'R573', 'R569', 'R568', 'R217', 'I912', 'R919', 'R721',\n",
    "       'R705', 'R702', 'R701', 'R661', 'R656', 'R654', 'R644', 'R622', 'R567',\n",
    "       'R113', 'R005', 'I920', 'I907', 'NAMEEMAILCORRELATION_SCORE_V2',\n",
    "       'EMAILRISK_SCORE_V2', 'NAMEPHONECORRELATION_SCORE_V2',\n",
    "       'ADDRESSRISK_SCORE_V2', 'PHONERISK_SCORE_V2']]"
   ]
  },
  {
   "cell_type": "code",
   "execution_count": 86,
   "id": "bc03756b",
   "metadata": {},
   "outputs": [
    {
     "data": {
      "text/html": [
       "<div>\n",
       "<style scoped>\n",
       "    .dataframe tbody tr th:only-of-type {\n",
       "        vertical-align: middle;\n",
       "    }\n",
       "\n",
       "    .dataframe tbody tr th {\n",
       "        vertical-align: top;\n",
       "    }\n",
       "\n",
       "    .dataframe thead th {\n",
       "        text-align: right;\n",
       "    }\n",
       "</style>\n",
       "<table border=\"1\" class=\"dataframe\">\n",
       "  <thead>\n",
       "    <tr style=\"text-align: right;\">\n",
       "      <th></th>\n",
       "      <th>FRAUD_ACH_RETURN</th>\n",
       "      <th>DAYS_ACH_INITIATED_ACCOUNT_CREATION</th>\n",
       "      <th>ACCOUNT_TYPE</th>\n",
       "      <th>ACH_RETURN_AMOUNT</th>\n",
       "      <th>ACH_TRANSFER_RETURN_CODE</th>\n",
       "      <th>EXTERNAL_BANK_ACCOUNT</th>\n",
       "      <th>BAD_ACTOR</th>\n",
       "      <th>KYC_SOCURE_DECISION</th>\n",
       "      <th>R208</th>\n",
       "      <th>I566</th>\n",
       "      <th>...</th>\n",
       "      <th>R567</th>\n",
       "      <th>R113</th>\n",
       "      <th>R005</th>\n",
       "      <th>I920</th>\n",
       "      <th>I907</th>\n",
       "      <th>NAMEEMAILCORRELATION_SCORE_V2</th>\n",
       "      <th>EMAILRISK_SCORE_V2</th>\n",
       "      <th>NAMEPHONECORRELATION_SCORE_V2</th>\n",
       "      <th>ADDRESSRISK_SCORE_V2</th>\n",
       "      <th>PHONERISK_SCORE_V2</th>\n",
       "    </tr>\n",
       "  </thead>\n",
       "  <tbody>\n",
       "    <tr>\n",
       "      <th>0</th>\n",
       "      <td>True</td>\n",
       "      <td>10</td>\n",
       "      <td>Checking Account</td>\n",
       "      <td>200.0</td>\n",
       "      <td>R10</td>\n",
       "      <td>Regions Bank</td>\n",
       "      <td>True</td>\n",
       "      <td>accept</td>\n",
       "      <td>1</td>\n",
       "      <td>1</td>\n",
       "      <td>...</td>\n",
       "      <td>0</td>\n",
       "      <td>0</td>\n",
       "      <td>0</td>\n",
       "      <td>0</td>\n",
       "      <td>0</td>\n",
       "      <td>0.99</td>\n",
       "      <td>0.321</td>\n",
       "      <td>0.86</td>\n",
       "      <td>0.030</td>\n",
       "      <td>0.260</td>\n",
       "    </tr>\n",
       "    <tr>\n",
       "      <th>1</th>\n",
       "      <td>True</td>\n",
       "      <td>115</td>\n",
       "      <td>Checking Account</td>\n",
       "      <td>200.0</td>\n",
       "      <td>R10</td>\n",
       "      <td>Chase</td>\n",
       "      <td>True</td>\n",
       "      <td>accept</td>\n",
       "      <td>1</td>\n",
       "      <td>1</td>\n",
       "      <td>...</td>\n",
       "      <td>0</td>\n",
       "      <td>0</td>\n",
       "      <td>0</td>\n",
       "      <td>0</td>\n",
       "      <td>0</td>\n",
       "      <td>0.99</td>\n",
       "      <td>0.311</td>\n",
       "      <td>0.98</td>\n",
       "      <td>0.644</td>\n",
       "      <td>0.728</td>\n",
       "    </tr>\n",
       "    <tr>\n",
       "      <th>2</th>\n",
       "      <td>True</td>\n",
       "      <td>30</td>\n",
       "      <td>Checking Account</td>\n",
       "      <td>125.0</td>\n",
       "      <td>R10</td>\n",
       "      <td>Chase</td>\n",
       "      <td>False</td>\n",
       "      <td>accept</td>\n",
       "      <td>1</td>\n",
       "      <td>1</td>\n",
       "      <td>...</td>\n",
       "      <td>0</td>\n",
       "      <td>0</td>\n",
       "      <td>0</td>\n",
       "      <td>0</td>\n",
       "      <td>0</td>\n",
       "      <td>0.49</td>\n",
       "      <td>0.861</td>\n",
       "      <td>0.98</td>\n",
       "      <td>0.083</td>\n",
       "      <td>0.347</td>\n",
       "    </tr>\n",
       "  </tbody>\n",
       "</table>\n",
       "<p>3 rows × 83 columns</p>\n",
       "</div>"
      ],
      "text/plain": [
       "   FRAUD_ACH_RETURN  DAYS_ACH_INITIATED_ACCOUNT_CREATION      ACCOUNT_TYPE  \\\n",
       "0              True                                   10  Checking Account   \n",
       "1              True                                  115  Checking Account   \n",
       "2              True                                   30  Checking Account   \n",
       "\n",
       "   ACH_RETURN_AMOUNT ACH_TRANSFER_RETURN_CODE EXTERNAL_BANK_ACCOUNT  \\\n",
       "0              200.0                      R10          Regions Bank   \n",
       "1              200.0                      R10                 Chase   \n",
       "2              125.0                      R10                 Chase   \n",
       "\n",
       "   BAD_ACTOR KYC_SOCURE_DECISION  R208  I566  ...  R567  R113  R005  I920  \\\n",
       "0       True              accept     1     1  ...     0     0     0     0   \n",
       "1       True              accept     1     1  ...     0     0     0     0   \n",
       "2      False              accept     1     1  ...     0     0     0     0   \n",
       "\n",
       "   I907  NAMEEMAILCORRELATION_SCORE_V2  EMAILRISK_SCORE_V2  \\\n",
       "0     0                           0.99               0.321   \n",
       "1     0                           0.99               0.311   \n",
       "2     0                           0.49               0.861   \n",
       "\n",
       "   NAMEPHONECORRELATION_SCORE_V2  ADDRESSRISK_SCORE_V2  PHONERISK_SCORE_V2  \n",
       "0                           0.86                 0.030               0.260  \n",
       "1                           0.98                 0.644               0.728  \n",
       "2                           0.98                 0.083               0.347  \n",
       "\n",
       "[3 rows x 83 columns]"
      ]
     },
     "execution_count": 86,
     "metadata": {},
     "output_type": "execute_result"
    }
   ],
   "source": [
    "X.head(3)"
   ]
  },
  {
   "cell_type": "code",
   "execution_count": 84,
   "id": "e2326564",
   "metadata": {},
   "outputs": [
    {
     "data": {
      "text/plain": [
       "2"
      ]
     },
     "execution_count": 84,
     "metadata": {},
     "output_type": "execute_result"
    }
   ],
   "source": [
    "X['ACCOUNT_TYPE'].nunique()"
   ]
  },
  {
   "cell_type": "code",
   "execution_count": 89,
   "id": "f4b4dc4f",
   "metadata": {},
   "outputs": [
    {
     "data": {
      "text/plain": [
       "0       True\n",
       "1       True\n",
       "2      False\n",
       "3       True\n",
       "4      False\n",
       "       ...  \n",
       "228    False\n",
       "229    False\n",
       "230    False\n",
       "231     True\n",
       "232    False\n",
       "Name: FRAUD, Length: 233, dtype: bool"
      ]
     },
     "execution_count": 89,
     "metadata": {},
     "output_type": "execute_result"
    }
   ],
   "source": [
    "y"
   ]
  },
  {
   "cell_type": "code",
   "execution_count": 88,
   "id": "0b0ecd4b",
   "metadata": {},
   "outputs": [
    {
     "data": {
      "text/plain": [
       "Index(['FRAUD_ACH_RETURN', 'DAYS_ACH_INITIATED_ACCOUNT_CREATION',\n",
       "       'ACCOUNT_TYPE', 'ACH_RETURN_AMOUNT', 'ACH_TRANSFER_RETURN_CODE',\n",
       "       'EXTERNAL_BANK_ACCOUNT', 'BAD_ACTOR', 'KYC_SOCURE_DECISION', 'R208',\n",
       "       'I566', 'I625', 'R662', 'R655', 'I428', 'R606', 'R659', 'R610', 'R559',\n",
       "       'R604', 'R608', 'R571', 'R006', 'R572', 'R653', 'R561', 'R402', 'R658',\n",
       "       'R551', 'R660', 'R605', 'R657', 'R601', 'R642', 'R619', 'R566', 'R207',\n",
       "       'R618', 'R616', 'R211', 'R607', 'R210', 'I414', 'I402', 'R720', 'R650',\n",
       "       'R646', 'R633', 'R410', 'R409', 'R944', 'R631', 'R623', 'R574', 'R408',\n",
       "       'R209', 'I127', 'R980', 'R632', 'R573', 'R569', 'R568', 'R217', 'I912',\n",
       "       'R919', 'R721', 'R705', 'R702', 'R701', 'R661', 'R656', 'R654', 'R644',\n",
       "       'R622', 'R567', 'R113', 'R005', 'I920', 'I907',\n",
       "       'NAMEEMAILCORRELATION_SCORE_V2', 'EMAILRISK_SCORE_V2',\n",
       "       'NAMEPHONECORRELATION_SCORE_V2', 'ADDRESSRISK_SCORE_V2',\n",
       "       'PHONERISK_SCORE_V2'],\n",
       "      dtype='object')"
      ]
     },
     "execution_count": 88,
     "metadata": {},
     "output_type": "execute_result"
    }
   ],
   "source": [
    "X.columns"
   ]
  },
  {
   "cell_type": "code",
   "execution_count": 94,
   "id": "a485ad4f",
   "metadata": {},
   "outputs": [],
   "source": [
    "cols = columns_type(X)"
   ]
  },
  {
   "cell_type": "code",
   "execution_count": 95,
   "id": "aa0d35ad",
   "metadata": {},
   "outputs": [
    {
     "name": "stdout",
     "output_type": "stream",
     "text": [
      "int64\n",
      "['DAYS_ACH_INITIATED_ACCOUNT_CREATION', 'R208', 'I566', 'I625', 'R662', 'R655', 'I428', 'R606', 'R659', 'R610', 'R559', 'R604', 'R608', 'R571', 'R006', 'R572', 'R653', 'R561', 'R402', 'R658', 'R551', 'R660', 'R605', 'R657', 'R601', 'R642', 'R619', 'R566', 'R207', 'R618', 'R616', 'R211', 'R607', 'R210', 'I414', 'I402', 'R720', 'R650', 'R646', 'R633', 'R410', 'R409', 'R944', 'R631', 'R623', 'R574', 'R408', 'R209', 'I127', 'R980', 'R632', 'R573', 'R569', 'R568', 'R217', 'I912', 'R919', 'R721', 'R705', 'R702', 'R701', 'R661', 'R656', 'R654', 'R644', 'R622', 'R567', 'R113', 'R005', 'I920', 'I907']\n",
      "object\n",
      "['USER_CREATION_DATE', 'DAVE_ACCOUNT_DELETED_DATE', 'SPEND_CREATED_DATE', 'GOAL_CREATED_DATE', 'EARLIEST_BOD_DATE', 'ACCOUNT_TYPE', 'ACH_TRANSFER_INITIATED', 'ACH_TRANSFER_RETURNED_AT', 'ACH_TRANSFER_RETURN_CODE', 'EXTERNAL_BANK_ACCOUNT', 'KYC_RUN_DATE', 'KYC_SOCURE_DECISION', 'DOCV_SOCURE_DECISION']\n",
      "bool\n",
      "['FRAUD', 'FRAUD_ACH_RETURN', 'BAD_ACTOR']\n",
      "float64\n",
      "['ACH_RETURN_AMOUNT', 'NAMEEMAILCORRELATION_SCORE_V2', 'EMAILRISK_SCORE_V2', 'NAMEPHONECORRELATION_SCORE_V2', 'ADDRESSRISK_SCORE_V2', 'PHONERISK_SCORE_V2']\n"
     ]
    }
   ],
   "source": [
    "for key in cols:\n",
    "    print(key)\n",
    "    print(dftypes[key])"
   ]
  },
  {
   "cell_type": "code",
   "execution_count": 107,
   "id": "2f65214b",
   "metadata": {},
   "outputs": [],
   "source": [
    "cat_attributes = ['FRAUD_ACH_RETURN','ACCOUNT_TYPE','ACH_TRANSFER_RETURN_CODE','EXTERNAL_BANK_ACCOUNT','BAD_ACTOR','KYC_SOCURE_DECISION']\n",
    "num_attributes = ['DAYS_ACH_INITIATED_ACCOUNT_CREATION','R208',\n",
    "       'I566', 'I625', 'R662', 'R655', 'I428', 'R606', 'R659', 'R610', 'R559',\n",
    "       'R604', 'R608', 'R571', 'R006', 'R572', 'R653', 'R561', 'R402', 'R658',\n",
    "       'R551', 'R660', 'R605', 'R657', 'R601', 'R642', 'R619', 'R566', 'R207',\n",
    "       'R618', 'R616', 'R211', 'R607', 'R210', 'I414', 'I402', 'R720', 'R650',\n",
    "       'R646', 'R633', 'R410', 'R409', 'R944', 'R631', 'R623', 'R574', 'R408',\n",
    "       'R209', 'I127', 'R980', 'R632', 'R573', 'R569', 'R568', 'R217', 'I912',\n",
    "       'R919', 'R721', 'R705', 'R702', 'R701', 'R661', 'R656', 'R654', 'R644',\n",
    "       'R622', 'R567', 'R113', 'R005', 'I920', 'I907']"
   ]
  },
  {
   "cell_type": "code",
   "execution_count": 102,
   "id": "f293e685",
   "metadata": {},
   "outputs": [],
   "source": [
    "from sklearn.pipeline import Pipeline\n",
    "from sklearn.preprocessing import StandardScaler\n",
    "from sklearn.impute import SimpleImputer\n",
    "from sklearn.compose import ColumnTransformer\n",
    "from sklearn.preprocessing import OneHotEncoder\n"
   ]
  },
  {
   "cell_type": "code",
   "execution_count": 122,
   "id": "6c1def7d",
   "metadata": {},
   "outputs": [],
   "source": [
    "num_pipeline = Pipeline([\n",
    "    ('imputer', SimpleImputer(strategy=\"median\")), \n",
    "    ('std_scaler', StandardScaler())]\n",
    ")"
   ]
  },
  {
   "cell_type": "code",
   "execution_count": 123,
   "id": "12fe265b",
   "metadata": {},
   "outputs": [],
   "source": [
    "full_pipeline = ColumnTransformer([\n",
    "    (\"num\", num_pipeline, num_attributes),\n",
    "    (\"cat\", OneHotEncoder(), cat_attributes),\n",
    "])"
   ]
  },
  {
   "cell_type": "code",
   "execution_count": 117,
   "id": "b5129269",
   "metadata": {},
   "outputs": [],
   "source": [
    "x_num = X.loc[:, num_attributes]"
   ]
  },
  {
   "cell_type": "code",
   "execution_count": 120,
   "id": "faa482dc",
   "metadata": {},
   "outputs": [],
   "source": [
    "x_num_update = num_pipeline.fit_transform(x_num)"
   ]
  },
  {
   "cell_type": "code",
   "execution_count": 124,
   "id": "4b629c31",
   "metadata": {},
   "outputs": [],
   "source": [
    "Xupdate = full_pipeline.fit_transform(X)"
   ]
  },
  {
   "cell_type": "code",
   "execution_count": 125,
   "id": "6b01768d",
   "metadata": {},
   "outputs": [
    {
     "data": {
      "text/plain": [
       "array([[-0.338152  ,  0.32290154,  0.39174653, ...,  1.        ,\n",
       "         1.        ,  0.        ],\n",
       "       [ 2.33224464,  0.32290154,  0.39174653, ...,  1.        ,\n",
       "         1.        ,  0.        ],\n",
       "       [ 0.17049497,  0.32290154,  0.39174653, ...,  0.        ,\n",
       "         1.        ,  0.        ],\n",
       "       ...,\n",
       "       [-0.59247549,  0.32290154,  0.39174653, ...,  0.        ,\n",
       "         1.        ,  0.        ],\n",
       "       [-0.56704315, -3.09691929, -2.55267096, ...,  1.        ,\n",
       "         1.        ,  0.        ],\n",
       "       [-0.56704315,  0.32290154, -2.55267096, ...,  0.        ,\n",
       "         1.        ,  0.        ]])"
      ]
     },
     "execution_count": 125,
     "metadata": {},
     "output_type": "execute_result"
    }
   ],
   "source": [
    "Xupdate"
   ]
  },
  {
   "cell_type": "code",
   "execution_count": 126,
   "id": "db2e7dd0",
   "metadata": {},
   "outputs": [
    {
     "data": {
      "text/plain": [
       "(233, 151)"
      ]
     },
     "execution_count": 126,
     "metadata": {},
     "output_type": "execute_result"
    }
   ],
   "source": [
    "Xupdate.shape"
   ]
  },
  {
   "cell_type": "code",
   "execution_count": 127,
   "id": "3d3a6d0f",
   "metadata": {},
   "outputs": [
    {
     "data": {
      "text/plain": [
       "(233,)"
      ]
     },
     "execution_count": 127,
     "metadata": {},
     "output_type": "execute_result"
    }
   ],
   "source": [
    "y.shape"
   ]
  },
  {
   "cell_type": "code",
   "execution_count": 135,
   "id": "0fb07841",
   "metadata": {},
   "outputs": [],
   "source": [
    "def split_train_test(x_value, y_value, test_ratio):\n",
    "    shuffled_indices = np.random.permutation(len(x_value))\n",
    "    test_set_size = int(len(x_value) * test_ratio)\n",
    "    test_indices = shuffled_indices[:test_set_size]\n",
    "    train_indices = shuffled_indices[test_set_size:]\n",
    "    return x_value[train_indices,:], y_value[train_indices] , x_value[test_indices,:], y_value[test_indices]"
   ]
  },
  {
   "cell_type": "code",
   "execution_count": 136,
   "id": "ce5285d7",
   "metadata": {},
   "outputs": [],
   "source": [
    "train_x, train_y, test_x, test_y = split_train_test(Xupdate, y, 0.2)"
   ]
  },
  {
   "cell_type": "code",
   "execution_count": 137,
   "id": "9fb89960",
   "metadata": {},
   "outputs": [
    {
     "data": {
      "text/plain": [
       "(187, 151)"
      ]
     },
     "execution_count": 137,
     "metadata": {},
     "output_type": "execute_result"
    }
   ],
   "source": [
    "train_x.shape"
   ]
  },
  {
   "cell_type": "code",
   "execution_count": 139,
   "id": "37f71888",
   "metadata": {},
   "outputs": [],
   "source": [
    "from sklearn.ensemble import RandomForestClassifier"
   ]
  },
  {
   "cell_type": "code",
   "execution_count": 140,
   "id": "51ce9b3a",
   "metadata": {},
   "outputs": [],
   "source": [
    "forest_reg = RandomForestClassifier(random_state=42)"
   ]
  },
  {
   "cell_type": "code",
   "execution_count": 141,
   "id": "3b956e29",
   "metadata": {},
   "outputs": [
    {
     "data": {
      "text/html": [
       "<style>#sk-container-id-1 {color: black;background-color: white;}#sk-container-id-1 pre{padding: 0;}#sk-container-id-1 div.sk-toggleable {background-color: white;}#sk-container-id-1 label.sk-toggleable__label {cursor: pointer;display: block;width: 100%;margin-bottom: 0;padding: 0.3em;box-sizing: border-box;text-align: center;}#sk-container-id-1 label.sk-toggleable__label-arrow:before {content: \"▸\";float: left;margin-right: 0.25em;color: #696969;}#sk-container-id-1 label.sk-toggleable__label-arrow:hover:before {color: black;}#sk-container-id-1 div.sk-estimator:hover label.sk-toggleable__label-arrow:before {color: black;}#sk-container-id-1 div.sk-toggleable__content {max-height: 0;max-width: 0;overflow: hidden;text-align: left;background-color: #f0f8ff;}#sk-container-id-1 div.sk-toggleable__content pre {margin: 0.2em;color: black;border-radius: 0.25em;background-color: #f0f8ff;}#sk-container-id-1 input.sk-toggleable__control:checked~div.sk-toggleable__content {max-height: 200px;max-width: 100%;overflow: auto;}#sk-container-id-1 input.sk-toggleable__control:checked~label.sk-toggleable__label-arrow:before {content: \"▾\";}#sk-container-id-1 div.sk-estimator input.sk-toggleable__control:checked~label.sk-toggleable__label {background-color: #d4ebff;}#sk-container-id-1 div.sk-label input.sk-toggleable__control:checked~label.sk-toggleable__label {background-color: #d4ebff;}#sk-container-id-1 input.sk-hidden--visually {border: 0;clip: rect(1px 1px 1px 1px);clip: rect(1px, 1px, 1px, 1px);height: 1px;margin: -1px;overflow: hidden;padding: 0;position: absolute;width: 1px;}#sk-container-id-1 div.sk-estimator {font-family: monospace;background-color: #f0f8ff;border: 1px dotted black;border-radius: 0.25em;box-sizing: border-box;margin-bottom: 0.5em;}#sk-container-id-1 div.sk-estimator:hover {background-color: #d4ebff;}#sk-container-id-1 div.sk-parallel-item::after {content: \"\";width: 100%;border-bottom: 1px solid gray;flex-grow: 1;}#sk-container-id-1 div.sk-label:hover label.sk-toggleable__label {background-color: #d4ebff;}#sk-container-id-1 div.sk-serial::before {content: \"\";position: absolute;border-left: 1px solid gray;box-sizing: border-box;top: 0;bottom: 0;left: 50%;z-index: 0;}#sk-container-id-1 div.sk-serial {display: flex;flex-direction: column;align-items: center;background-color: white;padding-right: 0.2em;padding-left: 0.2em;position: relative;}#sk-container-id-1 div.sk-item {position: relative;z-index: 1;}#sk-container-id-1 div.sk-parallel {display: flex;align-items: stretch;justify-content: center;background-color: white;position: relative;}#sk-container-id-1 div.sk-item::before, #sk-container-id-1 div.sk-parallel-item::before {content: \"\";position: absolute;border-left: 1px solid gray;box-sizing: border-box;top: 0;bottom: 0;left: 50%;z-index: -1;}#sk-container-id-1 div.sk-parallel-item {display: flex;flex-direction: column;z-index: 1;position: relative;background-color: white;}#sk-container-id-1 div.sk-parallel-item:first-child::after {align-self: flex-end;width: 50%;}#sk-container-id-1 div.sk-parallel-item:last-child::after {align-self: flex-start;width: 50%;}#sk-container-id-1 div.sk-parallel-item:only-child::after {width: 0;}#sk-container-id-1 div.sk-dashed-wrapped {border: 1px dashed gray;margin: 0 0.4em 0.5em 0.4em;box-sizing: border-box;padding-bottom: 0.4em;background-color: white;}#sk-container-id-1 div.sk-label label {font-family: monospace;font-weight: bold;display: inline-block;line-height: 1.2em;}#sk-container-id-1 div.sk-label-container {text-align: center;}#sk-container-id-1 div.sk-container {/* jupyter's `normalize.less` sets `[hidden] { display: none; }` but bootstrap.min.css set `[hidden] { display: none !important; }` so we also need the `!important` here to be able to override the default hidden behavior on the sphinx rendered scikit-learn.org. See: https://github.com/scikit-learn/scikit-learn/issues/21755 */display: inline-block !important;position: relative;}#sk-container-id-1 div.sk-text-repr-fallback {display: none;}</style><div id=\"sk-container-id-1\" class=\"sk-top-container\"><div class=\"sk-text-repr-fallback\"><pre>RandomForestClassifier(random_state=42)</pre><b>In a Jupyter environment, please rerun this cell to show the HTML representation or trust the notebook. <br />On GitHub, the HTML representation is unable to render, please try loading this page with nbviewer.org.</b></div><div class=\"sk-container\" hidden><div class=\"sk-item\"><div class=\"sk-estimator sk-toggleable\"><input class=\"sk-toggleable__control sk-hidden--visually\" id=\"sk-estimator-id-1\" type=\"checkbox\" checked><label for=\"sk-estimator-id-1\" class=\"sk-toggleable__label sk-toggleable__label-arrow\">RandomForestClassifier</label><div class=\"sk-toggleable__content\"><pre>RandomForestClassifier(random_state=42)</pre></div></div></div></div></div>"
      ],
      "text/plain": [
       "RandomForestClassifier(random_state=42)"
      ]
     },
     "execution_count": 141,
     "metadata": {},
     "output_type": "execute_result"
    }
   ],
   "source": [
    "forest_reg.fit(train_x, train_y)"
   ]
  },
  {
   "cell_type": "code",
   "execution_count": 144,
   "id": "492277ee",
   "metadata": {},
   "outputs": [],
   "source": [
    "y_predict = forest_reg.predict(test_x)"
   ]
  },
  {
   "cell_type": "code",
   "execution_count": 146,
   "id": "52c0e790",
   "metadata": {},
   "outputs": [],
   "source": [
    "from sklearn.metrics import confusion_matrix"
   ]
  },
  {
   "cell_type": "code",
   "execution_count": 148,
   "id": "a44beab8",
   "metadata": {},
   "outputs": [
    {
     "data": {
      "text/plain": [
       "array([[16,  3],\n",
       "       [ 0, 27]])"
      ]
     },
     "execution_count": 148,
     "metadata": {},
     "output_type": "execute_result"
    }
   ],
   "source": [
    "confusion_matrix(test_y, y_predict)"
   ]
  },
  {
   "cell_type": "code",
   "execution_count": 149,
   "id": "5154c27a",
   "metadata": {},
   "outputs": [],
   "source": [
    "from sklearn.metrics import precision_score, recall_score"
   ]
  },
  {
   "cell_type": "code",
   "execution_count": 150,
   "id": "2b5d5bda",
   "metadata": {},
   "outputs": [
    {
     "data": {
      "text/plain": [
       "1.0"
      ]
     },
     "execution_count": 150,
     "metadata": {},
     "output_type": "execute_result"
    }
   ],
   "source": [
    "recall_score(test_y, y_predict)"
   ]
  },
  {
   "cell_type": "code",
   "execution_count": 151,
   "id": "d85d5f60",
   "metadata": {},
   "outputs": [
    {
     "data": {
      "text/plain": [
       "0.9"
      ]
     },
     "execution_count": 151,
     "metadata": {},
     "output_type": "execute_result"
    }
   ],
   "source": [
    "precision_score(test_y, y_predict)"
   ]
  },
  {
   "cell_type": "code",
   "execution_count": 154,
   "id": "f0fd69f3",
   "metadata": {},
   "outputs": [
    {
     "name": "stdout",
     "output_type": "stream",
     "text": [
      "/Users/yanchunyang/Documents/yyc/learning/datasets_kaggle\r\n"
     ]
    }
   ],
   "source": [
    "!pwd"
   ]
  },
  {
   "cell_type": "code",
   "execution_count": null,
   "id": "7708f52d",
   "metadata": {},
   "outputs": [],
   "source": []
  }
 ],
 "metadata": {
  "kernelspec": {
   "display_name": "Python 3 (ipykernel)",
   "language": "python",
   "name": "python3"
  },
  "language_info": {
   "codemirror_mode": {
    "name": "ipython",
    "version": 3
   },
   "file_extension": ".py",
   "mimetype": "text/x-python",
   "name": "python",
   "nbconvert_exporter": "python",
   "pygments_lexer": "ipython3",
   "version": "3.8.9"
  }
 },
 "nbformat": 4,
 "nbformat_minor": 5
}
