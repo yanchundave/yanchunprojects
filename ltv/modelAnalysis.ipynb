{
 "cells": [
  {
   "cell_type": "code",
   "execution_count": 1,
   "id": "1c323af3",
   "metadata": {},
   "outputs": [],
   "source": [
    "import numpy as np\n",
    "import pandas as pd\n",
    "import matplotlib.pyplot as plt"
   ]
  },
  {
   "cell_type": "code",
   "execution_count": 71,
   "id": "ce153e3d",
   "metadata": {},
   "outputs": [],
   "source": [
    "import davesci as ds"
   ]
  },
  {
   "cell_type": "code",
   "execution_count": 3,
   "id": "fd3b9359",
   "metadata": {},
   "outputs": [],
   "source": [
    "import jaydebeapi as jay"
   ]
  },
  {
   "cell_type": "code",
   "execution_count": 2,
   "id": "6d04094b",
   "metadata": {},
   "outputs": [],
   "source": [
    "datafile = \"/Users/yanchunyang/Documents/datafiles/ltv/\""
   ]
  },
  {
   "cell_type": "code",
   "execution_count": 15,
   "id": "d8c79281",
   "metadata": {},
   "outputs": [],
   "source": [
    "predict_file = \"dftotal.csv\"\n",
    "actual_file = \"testdata.csv\""
   ]
  },
  {
   "cell_type": "code",
   "execution_count": 4,
   "id": "2c8e1e9b",
   "metadata": {},
   "outputs": [],
   "source": [
    "def read_from_snowflake(sql_str):\n",
    "    with open('/Users/yanchunyang/pwd/snowflake.passphrase', 'r') as f:\n",
    "        passphrase = f.read().strip()\n",
    "    username = \"yanchun.yang@dave.com\"\n",
    "    password = \"abc\"\n",
    "    jdbcpath = \"/Users/yanchunyang/lib/jdbc/snowflake-jdbc-3.13.8.jar\"\n",
    "    jdbc_driver_name = \"net.snowflake.client.jdbc.SnowflakeDriver\"\n",
    "    hostname= \"qc63563.snowflakecomputing.com\"\n",
    "    role = \"FUNC_ACCOUNTING_USER\"\n",
    "    warehouse = \"ACCOUNTING_WH\"\n",
    "    keyfile = \"/Users/yanchunyang/.ssh/snowflake.p8\"\n",
    "\n",
    "    conn_string = f'jdbc:snowflake://qc63563.snowflakecomputing.com?role={role}&warehouse={warehouse}&private_key_file={keyfile}&private_key_file_pwd={passphrase}'\n",
    "\n",
    "    conn = jay.connect(jdbc_driver_name, conn_string, {'user': username , 'password': password }, jars=jdbcpath)\n",
    "\n",
    "#  Currently python can't interpret correctly the result returned from JDBC to connect Snowflake so we have to switch back to JSON rather than ARROW format\n",
    "# It can be done at session level\n",
    "    session_set = \"ALTER SESSION SET JDBC_QUERY_RESULT_FORMAT='JSON'\"\n",
    "    curs = conn.cursor()\n",
    "    curs.execute(session_set)\n",
    "\n",
    "    curs.execute(sql_str)\n",
    "    result = curs.fetchall()\n",
    "    return result"
   ]
  },
  {
   "cell_type": "code",
   "execution_count": 78,
   "id": "50f54ae0",
   "metadata": {},
   "outputs": [],
   "source": [
    "sql_all = \"select * from ANALYTIC_DB.MODEL_OUTPUT.statistical_training_result\""
   ]
  },
  {
   "cell_type": "code",
   "execution_count": 5,
   "id": "96a07c1b",
   "metadata": {},
   "outputs": [],
   "source": [
    "!source ~/.profile"
   ]
  },
  {
   "cell_type": "code",
   "execution_count": 75,
   "id": "7c3e3143",
   "metadata": {},
   "outputs": [],
   "source": [
    "SNOWFLAKE_ROLE = 'FUNC_ACCOUNTING_USER'\n",
    "SNOWFLAKE_WAREHOUSE = 'DAVE_USER_WH'\n",
    "con = ds.snowflake_connect(warehouse=SNOWFLAKE_WAREHOUSE, role=SNOWFLAKE_ROLE)"
   ]
  },
  {
   "cell_type": "code",
   "execution_count": 79,
   "id": "85af03b6",
   "metadata": {},
   "outputs": [
    {
     "name": "stderr",
     "output_type": "stream",
     "text": [
      "/Users/yanchunyang/miniforge3/envs/general/lib/python3.9/site-packages/pandas/io/sql.py:761: UserWarning: pandas only support SQLAlchemy connectable(engine/connection) ordatabase string URI or sqlite3 DBAPI2 connectionother DBAPI2 objects are not tested, please consider using SQLAlchemy\n",
      "  warnings.warn(\n"
     ]
    }
   ],
   "source": [
    "df_all = pd.read_sql_query(sql_all, con)"
   ]
  },
  {
   "cell_type": "code",
   "execution_count": 80,
   "id": "6933dded",
   "metadata": {},
   "outputs": [
    {
     "data": {
      "text/plain": [
       "(2770587, 17)"
      ]
     },
     "execution_count": 80,
     "metadata": {},
     "output_type": "execute_result"
    }
   ],
   "source": [
    "df_all.shape"
   ]
  },
  {
   "cell_type": "code",
   "execution_count": 81,
   "id": "dce4aa63",
   "metadata": {},
   "outputs": [
    {
     "data": {
      "text/html": [
       "<div>\n",
       "<style scoped>\n",
       "    .dataframe tbody tr th:only-of-type {\n",
       "        vertical-align: middle;\n",
       "    }\n",
       "\n",
       "    .dataframe tbody tr th {\n",
       "        vertical-align: top;\n",
       "    }\n",
       "\n",
       "    .dataframe thead th {\n",
       "        text-align: right;\n",
       "    }\n",
       "</style>\n",
       "<table border=\"1\" class=\"dataframe\">\n",
       "  <thead>\n",
       "    <tr style=\"text-align: right;\">\n",
       "      <th></th>\n",
       "      <th>USERID</th>\n",
       "      <th>PLATFORM</th>\n",
       "      <th>ATTRIBUTION</th>\n",
       "      <th>NETWORK</th>\n",
       "      <th>FIRST_TRANS</th>\n",
       "      <th>PRED_NUM</th>\n",
       "      <th>T_VALUE</th>\n",
       "      <th>FREQUENCY</th>\n",
       "      <th>PROB_ALIVE</th>\n",
       "      <th>PREDICT_CLV</th>\n",
       "      <th>TRANS_NUM</th>\n",
       "      <th>REAL_REVENUE</th>\n",
       "      <th>START_DATE</th>\n",
       "      <th>START_MONTH</th>\n",
       "      <th>PREDICT_LABEL</th>\n",
       "      <th>ACTUAL_LABEL</th>\n",
       "      <th>ACTIVE_LABEL</th>\n",
       "    </tr>\n",
       "  </thead>\n",
       "  <tbody>\n",
       "    <tr>\n",
       "      <th>0</th>\n",
       "      <td>11884416</td>\n",
       "      <td>ios</td>\n",
       "      <td>ORGANIC</td>\n",
       "      <td>Organic</td>\n",
       "      <td>0</td>\n",
       "      <td>0.000000</td>\n",
       "      <td>0.000000</td>\n",
       "      <td>0.0</td>\n",
       "      <td>0.000000</td>\n",
       "      <td>0.000000</td>\n",
       "      <td>0.0</td>\n",
       "      <td>0.00</td>\n",
       "      <td>2021-10-30</td>\n",
       "      <td>2021-10-01</td>\n",
       "      <td>0</td>\n",
       "      <td>0</td>\n",
       "      <td>0</td>\n",
       "    </tr>\n",
       "    <tr>\n",
       "      <th>1</th>\n",
       "      <td>11857531</td>\n",
       "      <td>ios</td>\n",
       "      <td>PAID</td>\n",
       "      <td>bytedanceglobal_int</td>\n",
       "      <td>0</td>\n",
       "      <td>0.000000</td>\n",
       "      <td>0.000000</td>\n",
       "      <td>0.0</td>\n",
       "      <td>0.000000</td>\n",
       "      <td>0.000000</td>\n",
       "      <td>0.0</td>\n",
       "      <td>0.00</td>\n",
       "      <td>2021-10-27</td>\n",
       "      <td>2021-10-01</td>\n",
       "      <td>0</td>\n",
       "      <td>0</td>\n",
       "      <td>0</td>\n",
       "    </tr>\n",
       "    <tr>\n",
       "      <th>2</th>\n",
       "      <td>10880784</td>\n",
       "      <td>android</td>\n",
       "      <td>PAID</td>\n",
       "      <td>Facebook</td>\n",
       "      <td>2021-06-27</td>\n",
       "      <td>3.878073</td>\n",
       "      <td>34.783987</td>\n",
       "      <td>4.0</td>\n",
       "      <td>0.892023</td>\n",
       "      <td>34.831377</td>\n",
       "      <td>2.0</td>\n",
       "      <td>4.88</td>\n",
       "      <td>2021-06-26</td>\n",
       "      <td>2021-06-01</td>\n",
       "      <td>1</td>\n",
       "      <td>1</td>\n",
       "      <td>1</td>\n",
       "    </tr>\n",
       "    <tr>\n",
       "      <th>3</th>\n",
       "      <td>10123692</td>\n",
       "      <td>ios</td>\n",
       "      <td>PAID</td>\n",
       "      <td>Snapchat</td>\n",
       "      <td>0</td>\n",
       "      <td>0.000000</td>\n",
       "      <td>0.000000</td>\n",
       "      <td>0.0</td>\n",
       "      <td>0.000000</td>\n",
       "      <td>0.000000</td>\n",
       "      <td>0.0</td>\n",
       "      <td>0.00</td>\n",
       "      <td>2021-03-08</td>\n",
       "      <td>2021-03-01</td>\n",
       "      <td>0</td>\n",
       "      <td>0</td>\n",
       "      <td>0</td>\n",
       "    </tr>\n",
       "    <tr>\n",
       "      <th>4</th>\n",
       "      <td>10409193</td>\n",
       "      <td>android</td>\n",
       "      <td>ORGANIC</td>\n",
       "      <td>Organic</td>\n",
       "      <td>0</td>\n",
       "      <td>0.000000</td>\n",
       "      <td>0.000000</td>\n",
       "      <td>0.0</td>\n",
       "      <td>0.000000</td>\n",
       "      <td>0.000000</td>\n",
       "      <td>0.0</td>\n",
       "      <td>0.00</td>\n",
       "      <td>2021-04-23</td>\n",
       "      <td>2021-04-01</td>\n",
       "      <td>0</td>\n",
       "      <td>0</td>\n",
       "      <td>0</td>\n",
       "    </tr>\n",
       "    <tr>\n",
       "      <th>5</th>\n",
       "      <td>10781178</td>\n",
       "      <td>0</td>\n",
       "      <td>UNDETERMINED</td>\n",
       "      <td>UNDETERMINED</td>\n",
       "      <td>0</td>\n",
       "      <td>0.000000</td>\n",
       "      <td>0.000000</td>\n",
       "      <td>0.0</td>\n",
       "      <td>0.000000</td>\n",
       "      <td>0.000000</td>\n",
       "      <td>0.0</td>\n",
       "      <td>0.00</td>\n",
       "      <td>2021-06-12</td>\n",
       "      <td>2021-06-01</td>\n",
       "      <td>0</td>\n",
       "      <td>0</td>\n",
       "      <td>0</td>\n",
       "    </tr>\n",
       "    <tr>\n",
       "      <th>6</th>\n",
       "      <td>10220732</td>\n",
       "      <td>android</td>\n",
       "      <td>PAID</td>\n",
       "      <td>Snapchat</td>\n",
       "      <td>2021-07-21</td>\n",
       "      <td>2.551760</td>\n",
       "      <td>12.639138</td>\n",
       "      <td>2.0</td>\n",
       "      <td>0.895830</td>\n",
       "      <td>15.562680</td>\n",
       "      <td>0.0</td>\n",
       "      <td>0.00</td>\n",
       "      <td>2021-03-26</td>\n",
       "      <td>2021-03-01</td>\n",
       "      <td>1</td>\n",
       "      <td>0</td>\n",
       "      <td>1</td>\n",
       "    </tr>\n",
       "    <tr>\n",
       "      <th>7</th>\n",
       "      <td>10845069</td>\n",
       "      <td>ios</td>\n",
       "      <td>ORGANIC</td>\n",
       "      <td>Organic</td>\n",
       "      <td>0</td>\n",
       "      <td>0.000000</td>\n",
       "      <td>0.000000</td>\n",
       "      <td>0.0</td>\n",
       "      <td>0.000000</td>\n",
       "      <td>0.000000</td>\n",
       "      <td>0.0</td>\n",
       "      <td>0.00</td>\n",
       "      <td>2021-06-21</td>\n",
       "      <td>2021-06-01</td>\n",
       "      <td>0</td>\n",
       "      <td>0</td>\n",
       "      <td>0</td>\n",
       "    </tr>\n",
       "    <tr>\n",
       "      <th>8</th>\n",
       "      <td>11234166</td>\n",
       "      <td>android</td>\n",
       "      <td>PAID</td>\n",
       "      <td>Adwords</td>\n",
       "      <td>0</td>\n",
       "      <td>0.000000</td>\n",
       "      <td>0.000000</td>\n",
       "      <td>0.0</td>\n",
       "      <td>0.000000</td>\n",
       "      <td>0.000000</td>\n",
       "      <td>0.0</td>\n",
       "      <td>0.00</td>\n",
       "      <td>2021-08-10</td>\n",
       "      <td>2021-08-01</td>\n",
       "      <td>0</td>\n",
       "      <td>0</td>\n",
       "      <td>0</td>\n",
       "    </tr>\n",
       "    <tr>\n",
       "      <th>9</th>\n",
       "      <td>11627095</td>\n",
       "      <td>android</td>\n",
       "      <td>PAID</td>\n",
       "      <td>Adwords</td>\n",
       "      <td>2021-09-30</td>\n",
       "      <td>0.594407</td>\n",
       "      <td>3.271883</td>\n",
       "      <td>1.0</td>\n",
       "      <td>0.524367</td>\n",
       "      <td>4.149381</td>\n",
       "      <td>0.0</td>\n",
       "      <td>0.00</td>\n",
       "      <td>2021-09-30</td>\n",
       "      <td>2021-09-01</td>\n",
       "      <td>1</td>\n",
       "      <td>0</td>\n",
       "      <td>1</td>\n",
       "    </tr>\n",
       "  </tbody>\n",
       "</table>\n",
       "</div>"
      ],
      "text/plain": [
       "     USERID PLATFORM   ATTRIBUTION              NETWORK FIRST_TRANS  PRED_NUM  \\\n",
       "0  11884416      ios       ORGANIC              Organic           0  0.000000   \n",
       "1  11857531      ios          PAID  bytedanceglobal_int           0  0.000000   \n",
       "2  10880784  android          PAID             Facebook  2021-06-27  3.878073   \n",
       "3  10123692      ios          PAID             Snapchat           0  0.000000   \n",
       "4  10409193  android       ORGANIC              Organic           0  0.000000   \n",
       "5  10781178        0  UNDETERMINED         UNDETERMINED           0  0.000000   \n",
       "6  10220732  android          PAID             Snapchat  2021-07-21  2.551760   \n",
       "7  10845069      ios       ORGANIC              Organic           0  0.000000   \n",
       "8  11234166  android          PAID              Adwords           0  0.000000   \n",
       "9  11627095  android          PAID              Adwords  2021-09-30  0.594407   \n",
       "\n",
       "     T_VALUE  FREQUENCY  PROB_ALIVE  PREDICT_CLV  TRANS_NUM  REAL_REVENUE  \\\n",
       "0   0.000000        0.0    0.000000     0.000000        0.0          0.00   \n",
       "1   0.000000        0.0    0.000000     0.000000        0.0          0.00   \n",
       "2  34.783987        4.0    0.892023    34.831377        2.0          4.88   \n",
       "3   0.000000        0.0    0.000000     0.000000        0.0          0.00   \n",
       "4   0.000000        0.0    0.000000     0.000000        0.0          0.00   \n",
       "5   0.000000        0.0    0.000000     0.000000        0.0          0.00   \n",
       "6  12.639138        2.0    0.895830    15.562680        0.0          0.00   \n",
       "7   0.000000        0.0    0.000000     0.000000        0.0          0.00   \n",
       "8   0.000000        0.0    0.000000     0.000000        0.0          0.00   \n",
       "9   3.271883        1.0    0.524367     4.149381        0.0          0.00   \n",
       "\n",
       "  START_DATE START_MONTH  PREDICT_LABEL  ACTUAL_LABEL  ACTIVE_LABEL  \n",
       "0 2021-10-30  2021-10-01              0             0             0  \n",
       "1 2021-10-27  2021-10-01              0             0             0  \n",
       "2 2021-06-26  2021-06-01              1             1             1  \n",
       "3 2021-03-08  2021-03-01              0             0             0  \n",
       "4 2021-04-23  2021-04-01              0             0             0  \n",
       "5 2021-06-12  2021-06-01              0             0             0  \n",
       "6 2021-03-26  2021-03-01              1             0             1  \n",
       "7 2021-06-21  2021-06-01              0             0             0  \n",
       "8 2021-08-10  2021-08-01              0             0             0  \n",
       "9 2021-09-30  2021-09-01              1             0             1  "
      ]
     },
     "execution_count": 81,
     "metadata": {},
     "output_type": "execute_result"
    }
   ],
   "source": [
    "df_all.head(10)"
   ]
  },
  {
   "cell_type": "code",
   "execution_count": 83,
   "id": "ab6ee8a7",
   "metadata": {},
   "outputs": [],
   "source": [
    "predict = df_all.loc[df_all['PREDICT_LABEL'] == 1, :]"
   ]
  },
  {
   "cell_type": "code",
   "execution_count": 99,
   "id": "4c95ac12",
   "metadata": {},
   "outputs": [],
   "source": [
    "predict_month = predict.groupby(['START_MONTH']).agg({'T_VALUE':np.mean, 'REAL_REVENUE':np.mean}).reset_index()"
   ]
  },
  {
   "cell_type": "code",
   "execution_count": 100,
   "id": "99e07313",
   "metadata": {},
   "outputs": [
    {
     "data": {
      "text/html": [
       "<div>\n",
       "<style scoped>\n",
       "    .dataframe tbody tr th:only-of-type {\n",
       "        vertical-align: middle;\n",
       "    }\n",
       "\n",
       "    .dataframe tbody tr th {\n",
       "        vertical-align: top;\n",
       "    }\n",
       "\n",
       "    .dataframe thead th {\n",
       "        text-align: right;\n",
       "    }\n",
       "</style>\n",
       "<table border=\"1\" class=\"dataframe\">\n",
       "  <thead>\n",
       "    <tr style=\"text-align: right;\">\n",
       "      <th></th>\n",
       "      <th>START_MONTH</th>\n",
       "      <th>T_VALUE</th>\n",
       "      <th>REAL_REVENUE</th>\n",
       "    </tr>\n",
       "  </thead>\n",
       "  <tbody>\n",
       "    <tr>\n",
       "      <th>0</th>\n",
       "      <td>2021-01-01</td>\n",
       "      <td>18.481497</td>\n",
       "      <td>16.972098</td>\n",
       "    </tr>\n",
       "    <tr>\n",
       "      <th>1</th>\n",
       "      <td>2021-02-01</td>\n",
       "      <td>20.383314</td>\n",
       "      <td>18.764501</td>\n",
       "    </tr>\n",
       "    <tr>\n",
       "      <th>2</th>\n",
       "      <td>2021-03-01</td>\n",
       "      <td>18.732009</td>\n",
       "      <td>16.769095</td>\n",
       "    </tr>\n",
       "    <tr>\n",
       "      <th>3</th>\n",
       "      <td>2021-04-01</td>\n",
       "      <td>17.139789</td>\n",
       "      <td>14.306515</td>\n",
       "    </tr>\n",
       "    <tr>\n",
       "      <th>4</th>\n",
       "      <td>2021-05-01</td>\n",
       "      <td>19.151830</td>\n",
       "      <td>16.293621</td>\n",
       "    </tr>\n",
       "    <tr>\n",
       "      <th>5</th>\n",
       "      <td>2021-06-01</td>\n",
       "      <td>23.257874</td>\n",
       "      <td>20.263287</td>\n",
       "    </tr>\n",
       "    <tr>\n",
       "      <th>6</th>\n",
       "      <td>2021-07-01</td>\n",
       "      <td>26.410605</td>\n",
       "      <td>23.534008</td>\n",
       "    </tr>\n",
       "    <tr>\n",
       "      <th>7</th>\n",
       "      <td>2021-08-01</td>\n",
       "      <td>27.643953</td>\n",
       "      <td>25.148904</td>\n",
       "    </tr>\n",
       "    <tr>\n",
       "      <th>8</th>\n",
       "      <td>2021-09-01</td>\n",
       "      <td>28.929829</td>\n",
       "      <td>27.137216</td>\n",
       "    </tr>\n",
       "  </tbody>\n",
       "</table>\n",
       "</div>"
      ],
      "text/plain": [
       "  START_MONTH    T_VALUE  REAL_REVENUE\n",
       "0  2021-01-01  18.481497     16.972098\n",
       "1  2021-02-01  20.383314     18.764501\n",
       "2  2021-03-01  18.732009     16.769095\n",
       "3  2021-04-01  17.139789     14.306515\n",
       "4  2021-05-01  19.151830     16.293621\n",
       "5  2021-06-01  23.257874     20.263287\n",
       "6  2021-07-01  26.410605     23.534008\n",
       "7  2021-08-01  27.643953     25.148904\n",
       "8  2021-09-01  28.929829     27.137216"
      ]
     },
     "execution_count": 100,
     "metadata": {},
     "output_type": "execute_result"
    }
   ],
   "source": [
    "predict_month"
   ]
  },
  {
   "cell_type": "code",
   "execution_count": 102,
   "id": "f85b84df",
   "metadata": {},
   "outputs": [
    {
     "data": {
      "text/plain": [
       "[<matplotlib.lines.Line2D at 0x28ef07f10>]"
      ]
     },
     "execution_count": 102,
     "metadata": {},
     "output_type": "execute_result"
    },
    {
     "data": {
      "image/png": "[encoded data removed]",
      "text/plain": [
       "<Figure size 432x288 with 1 Axes>"
      ]
     },
     "metadata": {
      "needs_background": "light"
     },
     "output_type": "display_data"
    }
   ],
   "source": [
    "plt.plot(predict_month['START_MONTH'], predict_month['T_VALUE'])\n",
    "plt.plot(predict_month['START_MONTH'], predict_month['REAL_REVENUE'])"
   ]
  },
  {
   "cell_type": "code",
   "execution_count": 84,
   "id": "b34b74f0",
   "metadata": {},
   "outputs": [
    {
     "data": {
      "text/plain": [
       "(550621, 17)"
      ]
     },
     "execution_count": 84,
     "metadata": {},
     "output_type": "execute_result"
    }
   ],
   "source": [
    "predict.shape"
   ]
  },
  {
   "cell_type": "code",
   "execution_count": 86,
   "id": "b79854c4",
   "metadata": {},
   "outputs": [
    {
     "data": {
      "text/plain": [
       "19.88817170067977"
      ]
     },
     "execution_count": 86,
     "metadata": {},
     "output_type": "execute_result"
    }
   ],
   "source": [
    "np.sum(predict['REAL_REVENUE'])/predict.shape[0]"
   ]
  },
  {
   "cell_type": "code",
   "execution_count": 87,
   "id": "c684d3f5",
   "metadata": {},
   "outputs": [
    {
     "data": {
      "text/plain": [
       "22.231278505324745"
      ]
     },
     "execution_count": 87,
     "metadata": {},
     "output_type": "execute_result"
    }
   ],
   "source": [
    "np.sum(predict['T_VALUE'])/predict.shape[0]"
   ]
  },
  {
   "cell_type": "code",
   "execution_count": 88,
   "id": "e42d81f2",
   "metadata": {},
   "outputs": [
    {
     "data": {
      "text/plain": [
       "17.05616977844516"
      ]
     },
     "execution_count": 88,
     "metadata": {},
     "output_type": "execute_result"
    }
   ],
   "source": [
    "np.mean(predict['PREDICT_CLV'])"
   ]
  },
  {
   "cell_type": "code",
   "execution_count": 93,
   "id": "07569276",
   "metadata": {},
   "outputs": [
    {
     "data": {
      "text/plain": [
       "0.6288172808519835"
      ]
     },
     "execution_count": 93,
     "metadata": {},
     "output_type": "execute_result"
    }
   ],
   "source": [
    "predict.loc[predict['ACTUAL_LABEL'] == 0,:].shape[0]/predict.shape[0]"
   ]
  },
  {
   "cell_type": "code",
   "execution_count": 91,
   "id": "fad7c7fe",
   "metadata": {},
   "outputs": [
    {
     "data": {
      "text/plain": [
       "0.5195152382491769"
      ]
     },
     "execution_count": 91,
     "metadata": {},
     "output_type": "execute_result"
    }
   ],
   "source": [
    "predict.loc[predict['PRED_NUM'] < 1,:].shape[0]/predict.shape[0]"
   ]
  },
  {
   "cell_type": "code",
   "execution_count": 92,
   "id": "e2f71a4e",
   "metadata": {},
   "outputs": [
    {
     "data": {
      "text/plain": [
       "0.6615194851003784"
      ]
     },
     "execution_count": 92,
     "metadata": {},
     "output_type": "execute_result"
    }
   ],
   "source": [
    "np.mean(predict['PROB_ALIVE'])"
   ]
  },
  {
   "cell_type": "code",
   "execution_count": 94,
   "id": "702a1116",
   "metadata": {},
   "outputs": [
    {
     "data": {
      "text/plain": [
       "35.353053435114504"
      ]
     },
     "execution_count": 94,
     "metadata": {},
     "output_type": "execute_result"
    }
   ],
   "source": [
    "22.23/0.6288"
   ]
  },
  {
   "cell_type": "code",
   "execution_count": 103,
   "id": "509336af",
   "metadata": {},
   "outputs": [
    {
     "data": {
      "text/plain": [
       "42.79114533205005"
      ]
     },
     "execution_count": 103,
     "metadata": {},
     "output_type": "execute_result"
    }
   ],
   "source": [
    "22.23/0.5195"
   ]
  },
  {
   "cell_type": "code",
   "execution_count": 96,
   "id": "b65d00d8",
   "metadata": {},
   "outputs": [
    {
     "data": {
      "text/plain": [
       "58.759231905465285"
      ]
     },
     "execution_count": 96,
     "metadata": {},
     "output_type": "execute_result"
    }
   ],
   "source": [
    "19.89/(1-0.6615)"
   ]
  },
  {
   "cell_type": "code",
   "execution_count": 10,
   "id": "eaa43e4e",
   "metadata": {},
   "outputs": [],
   "source": [
    "columns = ['userid', 'startdate', 'platform', 'attribution', 'network']"
   ]
  },
  {
   "cell_type": "code",
   "execution_count": 12,
   "id": "f28c0048",
   "metadata": {},
   "outputs": [],
   "source": [
    "df = pd.DataFrame(df_all, columns=columns)"
   ]
  },
  {
   "cell_type": "code",
   "execution_count": 13,
   "id": "68bd0ddd",
   "metadata": {},
   "outputs": [
    {
     "data": {
      "text/plain": [
       "(3005400, 5)"
      ]
     },
     "execution_count": 13,
     "metadata": {},
     "output_type": "execute_result"
    }
   ],
   "source": [
    "df.shape"
   ]
  },
  {
   "cell_type": "code",
   "execution_count": 44,
   "id": "05ee18fc",
   "metadata": {},
   "outputs": [],
   "source": [
    "predict_df = pd.read_csv(datafile + predict_file, header=0)\n",
    "actual_df = pd.read_csv(datafile + actual_file)\n",
    "predict_update = predict_df.loc[:, ['userid', 'pred_num', 't_value', 'frequency', 'prob_alive']]\n",
    "actual_update = actual_df.loc[:, ['userid', 'trans_num', 'real_revenue']]"
   ]
  },
  {
   "cell_type": "code",
   "execution_count": 45,
   "id": "f8d954d8",
   "metadata": {},
   "outputs": [],
   "source": [
    "combine_1 = pd.merge(df, predict_df, on=['userid'], how='left')\n",
    "combine_2 = pd.merge(combine_1, actual_df, on=['userid'], how='left')"
   ]
  },
  {
   "cell_type": "code",
   "execution_count": 46,
   "id": "4428148b",
   "metadata": {},
   "outputs": [],
   "source": [
    "combine_2 = combine_2.fillna(0)"
   ]
  },
  {
   "cell_type": "code",
   "execution_count": 47,
   "id": "31591fb2",
   "metadata": {},
   "outputs": [],
   "source": [
    "combine_2 = combine_2.drop(['Unnamed: 0.1', 'Unnamed: 0_x','Unnamed: 0_y'], axis=1)"
   ]
  },
  {
   "cell_type": "code",
   "execution_count": 27,
   "id": "02084df4",
   "metadata": {},
   "outputs": [
    {
     "data": {
      "text/plain": [
       "Index(['userid', 'startdate', 'platform', 'attribution', 'network',\n",
       "       'first_trans', 'frequency', 'T', 'recency', 'monetary', 'pred_num',\n",
       "       'monetary_update', 'prob_alive', 'expected_monetary', 't_value',\n",
       "       'trans_num', 'real_revenue'],\n",
       "      dtype='object')"
      ]
     },
     "execution_count": 27,
     "metadata": {},
     "output_type": "execute_result"
    }
   ],
   "source": [
    "combine_2.columns"
   ]
  },
  {
   "cell_type": "code",
   "execution_count": 35,
   "id": "2730e4cd",
   "metadata": {},
   "outputs": [
    {
     "data": {
      "text/html": [
       "<div>\n",
       "<style scoped>\n",
       "    .dataframe tbody tr th:only-of-type {\n",
       "        vertical-align: middle;\n",
       "    }\n",
       "\n",
       "    .dataframe tbody tr th {\n",
       "        vertical-align: top;\n",
       "    }\n",
       "\n",
       "    .dataframe thead th {\n",
       "        text-align: right;\n",
       "    }\n",
       "</style>\n",
       "<table border=\"1\" class=\"dataframe\">\n",
       "  <thead>\n",
       "    <tr style=\"text-align: right;\">\n",
       "      <th></th>\n",
       "      <th>userid</th>\n",
       "      <th>startdate</th>\n",
       "      <th>platform</th>\n",
       "      <th>attribution</th>\n",
       "      <th>network</th>\n",
       "      <th>first_trans</th>\n",
       "      <th>frequency</th>\n",
       "      <th>T</th>\n",
       "      <th>recency</th>\n",
       "      <th>monetary</th>\n",
       "      <th>...</th>\n",
       "      <th>prob_alive</th>\n",
       "      <th>expected_monetary</th>\n",
       "      <th>t_value</th>\n",
       "      <th>trans_num</th>\n",
       "      <th>real_revenue</th>\n",
       "      <th>start_date</th>\n",
       "      <th>start_month</th>\n",
       "      <th>predict_label</th>\n",
       "      <th>actual_label</th>\n",
       "      <th>active_label</th>\n",
       "    </tr>\n",
       "  </thead>\n",
       "  <tbody>\n",
       "    <tr>\n",
       "      <th>0</th>\n",
       "      <td>11670673</td>\n",
       "      <td>2021-10-06</td>\n",
       "      <td>ios</td>\n",
       "      <td>ORGANIC</td>\n",
       "      <td>Organic</td>\n",
       "      <td>2021-10-29</td>\n",
       "      <td>2.0</td>\n",
       "      <td>95.0</td>\n",
       "      <td>24.0</td>\n",
       "      <td>4.156667</td>\n",
       "      <td>...</td>\n",
       "      <td>0.421666</td>\n",
       "      <td>5.596436</td>\n",
       "      <td>6.929668</td>\n",
       "      <td>0.0</td>\n",
       "      <td>0.0</td>\n",
       "      <td>2021-10-06</td>\n",
       "      <td>2021-10-01</td>\n",
       "      <td>1</td>\n",
       "      <td>0</td>\n",
       "      <td>1</td>\n",
       "    </tr>\n",
       "    <tr>\n",
       "      <th>1</th>\n",
       "      <td>11568202</td>\n",
       "      <td>2021-09-23</td>\n",
       "      <td>ios</td>\n",
       "      <td>PAID</td>\n",
       "      <td>Snapchat</td>\n",
       "      <td>0</td>\n",
       "      <td>0.0</td>\n",
       "      <td>0.0</td>\n",
       "      <td>0.0</td>\n",
       "      <td>0.000000</td>\n",
       "      <td>...</td>\n",
       "      <td>0.000000</td>\n",
       "      <td>0.000000</td>\n",
       "      <td>0.000000</td>\n",
       "      <td>0.0</td>\n",
       "      <td>0.0</td>\n",
       "      <td>2021-09-23</td>\n",
       "      <td>2021-09-01</td>\n",
       "      <td>0</td>\n",
       "      <td>0</td>\n",
       "      <td>0</td>\n",
       "    </tr>\n",
       "  </tbody>\n",
       "</table>\n",
       "<p>2 rows × 22 columns</p>\n",
       "</div>"
      ],
      "text/plain": [
       "     userid   startdate platform attribution   network first_trans  frequency  \\\n",
       "0  11670673  2021-10-06      ios     ORGANIC   Organic  2021-10-29        2.0   \n",
       "1  11568202  2021-09-23      ios        PAID  Snapchat           0        0.0   \n",
       "\n",
       "      T  recency  monetary  ...  prob_alive  expected_monetary   t_value  \\\n",
       "0  95.0     24.0  4.156667  ...    0.421666           5.596436  6.929668   \n",
       "1   0.0      0.0  0.000000  ...    0.000000           0.000000  0.000000   \n",
       "\n",
       "   trans_num  real_revenue  start_date  start_month predict_label  \\\n",
       "0        0.0           0.0  2021-10-06   2021-10-01             1   \n",
       "1        0.0           0.0  2021-09-23   2021-09-01             0   \n",
       "\n",
       "  actual_label  active_label  \n",
       "0            0             1  \n",
       "1            0             0  \n",
       "\n",
       "[2 rows x 22 columns]"
      ]
     },
     "execution_count": 35,
     "metadata": {},
     "output_type": "execute_result"
    }
   ],
   "source": [
    "combine_2.head(2)"
   ]
  },
  {
   "cell_type": "code",
   "execution_count": 48,
   "id": "a9e2f8be",
   "metadata": {},
   "outputs": [],
   "source": [
    "combine_2['start_date'] = pd.to_datetime(combine_2['startdate'])"
   ]
  },
  {
   "cell_type": "code",
   "execution_count": 49,
   "id": "693646bd",
   "metadata": {},
   "outputs": [],
   "source": [
    "combine_2['start_month'] = combine_2['start_date'].apply(lambda x: x.strftime('%Y-%m-01'))"
   ]
  },
  {
   "cell_type": "code",
   "execution_count": 50,
   "id": "8abd8308",
   "metadata": {},
   "outputs": [],
   "source": [
    "combine_2['predict_label'] = combine_2['first_trans'].apply(lambda x: 1 if x !=0 else 0)\n",
    "combine_2['actual_label'] = combine_2['trans_num'].apply(lambda x: 1 if x != 0 else 0)"
   ]
  },
  {
   "cell_type": "code",
   "execution_count": 51,
   "id": "a812c912",
   "metadata": {},
   "outputs": [],
   "source": [
    "combine_2['tmp_label'] = combine_2['predict_label'] + combine_2['actual_label']\n",
    "combine_2['active_label'] = combine_2['tmp_label'].apply(lambda x: 1 if x !=0 else 0)\n",
    "combine_2 = combine_2.drop(['tmp_label'], axis=1)"
   ]
  },
  {
   "cell_type": "code",
   "execution_count": 64,
   "id": "cab35366",
   "metadata": {},
   "outputs": [
    {
     "ename": "NameError",
     "evalue": "name 'combine_2' is not defined",
     "output_type": "error",
     "traceback": [
      "\u001b[0;31m---------------------------------------------------------------------------\u001b[0m",
      "\u001b[0;31mNameError\u001b[0m                                 Traceback (most recent call last)",
      "Input \u001b[0;32mIn [64]\u001b[0m, in \u001b[0;36m<cell line: 1>\u001b[0;34m()\u001b[0m\n\u001b[0;32m----> 1\u001b[0m pv_churn \u001b[38;5;241m=\u001b[39m \u001b[43mcombine_2\u001b[49m\u001b[38;5;241m.\u001b[39mgroupby([\u001b[38;5;124m'\u001b[39m\u001b[38;5;124mstart_month\u001b[39m\u001b[38;5;124m'\u001b[39m])\u001b[38;5;241m.\u001b[39magg({\u001b[38;5;124m'\u001b[39m\u001b[38;5;124muserid\u001b[39m\u001b[38;5;124m'\u001b[39m: \u001b[38;5;124m'\u001b[39m\u001b[38;5;124mcount\u001b[39m\u001b[38;5;124m'\u001b[39m, \u001b[38;5;124m'\u001b[39m\u001b[38;5;124mactive_label\u001b[39m\u001b[38;5;124m'\u001b[39m: \u001b[38;5;124m'\u001b[39m\u001b[38;5;124msum\u001b[39m\u001b[38;5;124m'\u001b[39m})\u001b[38;5;241m.\u001b[39mreset_index()\n",
      "\u001b[0;31mNameError\u001b[0m: name 'combine_2' is not defined"
     ]
    }
   ],
   "source": [
    "pv_churn = combine_2.groupby(['start_month']).agg({'userid': 'count', 'active_label': 'sum'}).reset_index()"
   ]
  },
  {
   "cell_type": "code",
   "execution_count": 53,
   "id": "5d0ae0c0",
   "metadata": {},
   "outputs": [],
   "source": [
    "pv_churn['rate'] = pv_churn['active_label'] / pv_churn['userid']"
   ]
  },
  {
   "cell_type": "code",
   "execution_count": 54,
   "id": "16be67e2",
   "metadata": {},
   "outputs": [
    {
     "data": {
      "text/html": [
       "<div>\n",
       "<style scoped>\n",
       "    .dataframe tbody tr th:only-of-type {\n",
       "        vertical-align: middle;\n",
       "    }\n",
       "\n",
       "    .dataframe tbody tr th {\n",
       "        vertical-align: top;\n",
       "    }\n",
       "\n",
       "    .dataframe thead th {\n",
       "        text-align: right;\n",
       "    }\n",
       "</style>\n",
       "<table border=\"1\" class=\"dataframe\">\n",
       "  <thead>\n",
       "    <tr style=\"text-align: right;\">\n",
       "      <th></th>\n",
       "      <th>userid</th>\n",
       "      <th>startdate</th>\n",
       "      <th>platform</th>\n",
       "      <th>attribution</th>\n",
       "      <th>network</th>\n",
       "      <th>first_trans</th>\n",
       "      <th>frequency</th>\n",
       "      <th>T</th>\n",
       "      <th>recency</th>\n",
       "      <th>monetary</th>\n",
       "      <th>...</th>\n",
       "      <th>prob_alive</th>\n",
       "      <th>expected_monetary</th>\n",
       "      <th>t_value</th>\n",
       "      <th>trans_num</th>\n",
       "      <th>real_revenue</th>\n",
       "      <th>start_date</th>\n",
       "      <th>start_month</th>\n",
       "      <th>predict_label</th>\n",
       "      <th>actual_label</th>\n",
       "      <th>active_label</th>\n",
       "    </tr>\n",
       "  </thead>\n",
       "  <tbody>\n",
       "    <tr>\n",
       "      <th>26</th>\n",
       "      <td>12427970</td>\n",
       "      <td>2022-01-15</td>\n",
       "      <td>ios</td>\n",
       "      <td>PAID</td>\n",
       "      <td>Apple Search Ads</td>\n",
       "      <td>0</td>\n",
       "      <td>0.0</td>\n",
       "      <td>0.0</td>\n",
       "      <td>0.0</td>\n",
       "      <td>0.00</td>\n",
       "      <td>...</td>\n",
       "      <td>0.0</td>\n",
       "      <td>0.00</td>\n",
       "      <td>0.00000</td>\n",
       "      <td>0.0</td>\n",
       "      <td>0.00</td>\n",
       "      <td>2022-01-15</td>\n",
       "      <td>2022-01-01</td>\n",
       "      <td>0</td>\n",
       "      <td>0</td>\n",
       "      <td>0</td>\n",
       "    </tr>\n",
       "    <tr>\n",
       "      <th>42</th>\n",
       "      <td>12347691</td>\n",
       "      <td>2022-01-04</td>\n",
       "      <td>android</td>\n",
       "      <td>PAID</td>\n",
       "      <td>bytedanceglobal_int</td>\n",
       "      <td>2022-01-04</td>\n",
       "      <td>0.0</td>\n",
       "      <td>28.0</td>\n",
       "      <td>0.0</td>\n",
       "      <td>4.99</td>\n",
       "      <td>...</td>\n",
       "      <td>1.0</td>\n",
       "      <td>4.99</td>\n",
       "      <td>11.08115</td>\n",
       "      <td>1.0</td>\n",
       "      <td>5.99</td>\n",
       "      <td>2022-01-04</td>\n",
       "      <td>2022-01-01</td>\n",
       "      <td>1</td>\n",
       "      <td>1</td>\n",
       "      <td>1</td>\n",
       "    </tr>\n",
       "    <tr>\n",
       "      <th>67</th>\n",
       "      <td>12554425</td>\n",
       "      <td>2022-01-31</td>\n",
       "      <td>android</td>\n",
       "      <td>PAID</td>\n",
       "      <td>Adwords</td>\n",
       "      <td>0</td>\n",
       "      <td>0.0</td>\n",
       "      <td>0.0</td>\n",
       "      <td>0.0</td>\n",
       "      <td>0.00</td>\n",
       "      <td>...</td>\n",
       "      <td>0.0</td>\n",
       "      <td>0.00</td>\n",
       "      <td>0.00000</td>\n",
       "      <td>0.0</td>\n",
       "      <td>0.00</td>\n",
       "      <td>2022-01-31</td>\n",
       "      <td>2022-01-01</td>\n",
       "      <td>0</td>\n",
       "      <td>0</td>\n",
       "      <td>0</td>\n",
       "    </tr>\n",
       "    <tr>\n",
       "      <th>80</th>\n",
       "      <td>12536510</td>\n",
       "      <td>2022-01-29</td>\n",
       "      <td>ios</td>\n",
       "      <td>PAID</td>\n",
       "      <td>Apple Search Ads</td>\n",
       "      <td>0</td>\n",
       "      <td>0.0</td>\n",
       "      <td>0.0</td>\n",
       "      <td>0.0</td>\n",
       "      <td>0.00</td>\n",
       "      <td>...</td>\n",
       "      <td>0.0</td>\n",
       "      <td>0.00</td>\n",
       "      <td>0.00000</td>\n",
       "      <td>4.0</td>\n",
       "      <td>23.46</td>\n",
       "      <td>2022-01-29</td>\n",
       "      <td>2022-01-01</td>\n",
       "      <td>0</td>\n",
       "      <td>1</td>\n",
       "      <td>1</td>\n",
       "    </tr>\n",
       "  </tbody>\n",
       "</table>\n",
       "<p>4 rows × 22 columns</p>\n",
       "</div>"
      ],
      "text/plain": [
       "      userid   startdate platform attribution              network  \\\n",
       "26  12427970  2022-01-15      ios        PAID     Apple Search Ads   \n",
       "42  12347691  2022-01-04  android        PAID  bytedanceglobal_int   \n",
       "67  12554425  2022-01-31  android        PAID              Adwords   \n",
       "80  12536510  2022-01-29      ios        PAID     Apple Search Ads   \n",
       "\n",
       "   first_trans  frequency     T  recency  monetary  ...  prob_alive  \\\n",
       "26           0        0.0   0.0      0.0      0.00  ...         0.0   \n",
       "42  2022-01-04        0.0  28.0      0.0      4.99  ...         1.0   \n",
       "67           0        0.0   0.0      0.0      0.00  ...         0.0   \n",
       "80           0        0.0   0.0      0.0      0.00  ...         0.0   \n",
       "\n",
       "    expected_monetary   t_value  trans_num  real_revenue  start_date  \\\n",
       "26               0.00   0.00000        0.0          0.00  2022-01-15   \n",
       "42               4.99  11.08115        1.0          5.99  2022-01-04   \n",
       "67               0.00   0.00000        0.0          0.00  2022-01-31   \n",
       "80               0.00   0.00000        4.0         23.46  2022-01-29   \n",
       "\n",
       "    start_month predict_label actual_label  active_label  \n",
       "26   2022-01-01             0            0             0  \n",
       "42   2022-01-01             1            1             1  \n",
       "67   2022-01-01             0            0             0  \n",
       "80   2022-01-01             0            1             1  \n",
       "\n",
       "[4 rows x 22 columns]"
      ]
     },
     "execution_count": 54,
     "metadata": {},
     "output_type": "execute_result"
    }
   ],
   "source": [
    "combine_2.loc[combine_2['start_month']=='2022-01-01',:].head(4)"
   ]
  },
  {
   "cell_type": "code",
   "execution_count": 55,
   "id": "5660a286",
   "metadata": {},
   "outputs": [
    {
     "data": {
      "text/plain": [
       "[<matplotlib.lines.Line2D at 0x2ccba7790>]"
      ]
     },
     "execution_count": 55,
     "metadata": {},
     "output_type": "execute_result"
    },
    {
     "data": {
      "image/png": "[encoded data removed]",
      "text/plain": [
       "<Figure size 432x288 with 1 Axes>"
      ]
     },
     "metadata": {
      "needs_background": "light"
     },
     "output_type": "display_data"
    }
   ],
   "source": [
    "plt.plot(pv_churn['start_month'], pv_churn['rate'])"
   ]
  },
  {
   "cell_type": "code",
   "execution_count": 56,
   "id": "80be1b6f",
   "metadata": {},
   "outputs": [],
   "source": [
    "dftmp = combine_2.loc[combine_2['predict_label'] == 1, ]\n",
    "predict_bymonth = dftmp.groupby(['start_month']).agg({'t_value': np.mean, 'real_revenue': np.mean}).reset_index()"
   ]
  },
  {
   "cell_type": "code",
   "execution_count": 57,
   "id": "29f7d0f0",
   "metadata": {},
   "outputs": [
    {
     "data": {
      "text/plain": [
       "<AxesSubplot:>"
      ]
     },
     "execution_count": 57,
     "metadata": {},
     "output_type": "execute_result"
    },
    {
     "data": {
      "image/png": "[encoded data removed]",
      "text/plain": [
       "<Figure size 432x288 with 1 Axes>"
      ]
     },
     "metadata": {
      "needs_background": "light"
     },
     "output_type": "display_data"
    }
   ],
   "source": [
    "predict_bymonth.plot()"
   ]
  },
  {
   "cell_type": "code",
   "execution_count": 61,
   "id": "d509f989",
   "metadata": {},
   "outputs": [
    {
     "name": "stderr",
     "output_type": "stream",
     "text": [
      "/var/folders/d1/rw6rwxz927g254dvggnj0jpr0000gn/T/ipykernel_88305/2688319310.py:1: SettingWithCopyWarning: \n",
      "A value is trying to be set on a copy of a slice from a DataFrame.\n",
      "Try using .loc[row_indexer,col_indexer] = value instead\n",
      "\n",
      "See the caveats in the documentation: https://pandas.pydata.org/pandas-docs/stable/user_guide/indexing.html#returning-a-view-versus-a-copy\n",
      "  dftmp['actual_retention'] = dftmp['real_revenue'].apply(lambda x: 1 if int(x) > 0 else 0)\n"
     ]
    }
   ],
   "source": [
    "dftmp['actual_retention'] = dftmp['real_revenue'].apply(lambda x: 1 if int(x) > 0 else 0)"
   ]
  },
  {
   "cell_type": "code",
   "execution_count": 62,
   "id": "318f4d82",
   "metadata": {},
   "outputs": [],
   "source": [
    "predict_retention = dftmp.groupby(['start_month']).agg({'prob_alive':np.mean, 'actual_retention':np.mean})"
   ]
  },
  {
   "cell_type": "code",
   "execution_count": 63,
   "id": "792e5ac8",
   "metadata": {},
   "outputs": [
    {
     "ename": "NameError",
     "evalue": "name 'predict_retention' is not defined",
     "output_type": "error",
     "traceback": [
      "\u001b[0;31m---------------------------------------------------------------------------\u001b[0m",
      "\u001b[0;31mNameError\u001b[0m                                 Traceback (most recent call last)",
      "Input \u001b[0;32mIn [63]\u001b[0m, in \u001b[0;36m<cell line: 1>\u001b[0;34m()\u001b[0m\n\u001b[0;32m----> 1\u001b[0m \u001b[43mpredict_retention\u001b[49m\n",
      "\u001b[0;31mNameError\u001b[0m: name 'predict_retention' is not defined"
     ]
    }
   ],
   "source": [
    "predict_retention"
   ]
  },
  {
   "cell_type": "code",
   "execution_count": 63,
   "id": "9f0d4cf6",
   "metadata": {},
   "outputs": [
    {
     "data": {
      "text/plain": [
       "<AxesSubplot:xlabel='start_month'>"
      ]
     },
     "execution_count": 63,
     "metadata": {},
     "output_type": "execute_result"
    },
    {
     "data": {
      "image/png": "[encoded data removed]",
      "text/plain": [
       "<Figure size 432x288 with 1 Axes>"
      ]
     },
     "metadata": {
      "needs_background": "light"
     },
     "output_type": "display_data"
    }
   ],
   "source": [
    "predict_retention.plot()"
   ]
  },
  {
   "cell_type": "code",
   "execution_count": 64,
   "id": "9d71cabc",
   "metadata": {},
   "outputs": [
    {
     "data": {
      "text/plain": [
       "Index(['userid', 'startdate', 'platform', 'attribution', 'network',\n",
       "       'first_trans', 'frequency', 'T', 'recency', 'monetary', 'pred_num',\n",
       "       'monetary_update', 'prob_alive', 'expected_monetary', 't_value',\n",
       "       'trans_num', 'real_revenue', 'start_date', 'start_month',\n",
       "       'predict_label', 'actual_label', 'active_label'],\n",
       "      dtype='object')"
      ]
     },
     "execution_count": 64,
     "metadata": {},
     "output_type": "execute_result"
    }
   ],
   "source": [
    "combine_2.columns"
   ]
  },
  {
   "cell_type": "code",
   "execution_count": 65,
   "id": "329f656d",
   "metadata": {},
   "outputs": [
    {
     "data": {
      "text/html": [
       "<div>\n",
       "<style scoped>\n",
       "    .dataframe tbody tr th:only-of-type {\n",
       "        vertical-align: middle;\n",
       "    }\n",
       "\n",
       "    .dataframe tbody tr th {\n",
       "        vertical-align: top;\n",
       "    }\n",
       "\n",
       "    .dataframe thead th {\n",
       "        text-align: right;\n",
       "    }\n",
       "</style>\n",
       "<table border=\"1\" class=\"dataframe\">\n",
       "  <thead>\n",
       "    <tr style=\"text-align: right;\">\n",
       "      <th></th>\n",
       "      <th>userid</th>\n",
       "      <th>startdate</th>\n",
       "      <th>platform</th>\n",
       "      <th>attribution</th>\n",
       "      <th>network</th>\n",
       "      <th>first_trans</th>\n",
       "      <th>frequency</th>\n",
       "      <th>T</th>\n",
       "      <th>recency</th>\n",
       "      <th>monetary</th>\n",
       "      <th>...</th>\n",
       "      <th>t_value</th>\n",
       "      <th>trans_num</th>\n",
       "      <th>real_revenue</th>\n",
       "      <th>start_date</th>\n",
       "      <th>start_month</th>\n",
       "      <th>predict_label</th>\n",
       "      <th>actual_label</th>\n",
       "      <th>active_label</th>\n",
       "      <th>actualchurn</th>\n",
       "      <th>actual_retention</th>\n",
       "    </tr>\n",
       "  </thead>\n",
       "  <tbody>\n",
       "    <tr>\n",
       "      <th>0</th>\n",
       "      <td>11670673</td>\n",
       "      <td>2021-10-06</td>\n",
       "      <td>ios</td>\n",
       "      <td>ORGANIC</td>\n",
       "      <td>Organic</td>\n",
       "      <td>2021-10-29</td>\n",
       "      <td>2.0</td>\n",
       "      <td>95.0</td>\n",
       "      <td>24.0</td>\n",
       "      <td>4.156667</td>\n",
       "      <td>...</td>\n",
       "      <td>6.861211</td>\n",
       "      <td>0.0</td>\n",
       "      <td>0.00</td>\n",
       "      <td>2021-10-06</td>\n",
       "      <td>2021-10-01</td>\n",
       "      <td>1</td>\n",
       "      <td>0</td>\n",
       "      <td>1</td>\n",
       "      <td>0</td>\n",
       "      <td>0</td>\n",
       "    </tr>\n",
       "    <tr>\n",
       "      <th>3</th>\n",
       "      <td>11231405</td>\n",
       "      <td>2021-08-10</td>\n",
       "      <td>android</td>\n",
       "      <td>PAID</td>\n",
       "      <td>Adwords</td>\n",
       "      <td>2021-08-10</td>\n",
       "      <td>21.0</td>\n",
       "      <td>175.0</td>\n",
       "      <td>174.0</td>\n",
       "      <td>4.628636</td>\n",
       "      <td>...</td>\n",
       "      <td>91.218055</td>\n",
       "      <td>4.0</td>\n",
       "      <td>23.96</td>\n",
       "      <td>2021-08-10</td>\n",
       "      <td>2021-08-01</td>\n",
       "      <td>1</td>\n",
       "      <td>1</td>\n",
       "      <td>1</td>\n",
       "      <td>1</td>\n",
       "      <td>1</td>\n",
       "    </tr>\n",
       "    <tr>\n",
       "      <th>6</th>\n",
       "      <td>10972388</td>\n",
       "      <td>2021-07-07</td>\n",
       "      <td>ios</td>\n",
       "      <td>PAID</td>\n",
       "      <td>Apple Search Ads</td>\n",
       "      <td>2021-12-08</td>\n",
       "      <td>2.0</td>\n",
       "      <td>55.0</td>\n",
       "      <td>25.0</td>\n",
       "      <td>4.990000</td>\n",
       "      <td>...</td>\n",
       "      <td>23.842932</td>\n",
       "      <td>0.0</td>\n",
       "      <td>0.00</td>\n",
       "      <td>2021-07-07</td>\n",
       "      <td>2021-07-01</td>\n",
       "      <td>1</td>\n",
       "      <td>0</td>\n",
       "      <td>1</td>\n",
       "      <td>0</td>\n",
       "      <td>0</td>\n",
       "    </tr>\n",
       "    <tr>\n",
       "      <th>7</th>\n",
       "      <td>11355457</td>\n",
       "      <td>2021-08-26</td>\n",
       "      <td>ios</td>\n",
       "      <td>ORGANIC</td>\n",
       "      <td>Organic</td>\n",
       "      <td>2021-10-06</td>\n",
       "      <td>1.0</td>\n",
       "      <td>118.0</td>\n",
       "      <td>93.0</td>\n",
       "      <td>3.990000</td>\n",
       "      <td>...</td>\n",
       "      <td>11.093794</td>\n",
       "      <td>0.0</td>\n",
       "      <td>0.00</td>\n",
       "      <td>2021-08-26</td>\n",
       "      <td>2021-08-01</td>\n",
       "      <td>1</td>\n",
       "      <td>0</td>\n",
       "      <td>1</td>\n",
       "      <td>0</td>\n",
       "      <td>0</td>\n",
       "    </tr>\n",
       "  </tbody>\n",
       "</table>\n",
       "<p>4 rows × 24 columns</p>\n",
       "</div>"
      ],
      "text/plain": [
       "     userid   startdate platform attribution           network first_trans  \\\n",
       "0  11670673  2021-10-06      ios     ORGANIC           Organic  2021-10-29   \n",
       "3  11231405  2021-08-10  android        PAID           Adwords  2021-08-10   \n",
       "6  10972388  2021-07-07      ios        PAID  Apple Search Ads  2021-12-08   \n",
       "7  11355457  2021-08-26      ios     ORGANIC           Organic  2021-10-06   \n",
       "\n",
       "   frequency      T  recency  monetary  ...    t_value  trans_num  \\\n",
       "0        2.0   95.0     24.0  4.156667  ...   6.861211        0.0   \n",
       "3       21.0  175.0    174.0  4.628636  ...  91.218055        4.0   \n",
       "6        2.0   55.0     25.0  4.990000  ...  23.842932        0.0   \n",
       "7        1.0  118.0     93.0  3.990000  ...  11.093794        0.0   \n",
       "\n",
       "   real_revenue  start_date  start_month  predict_label  actual_label  \\\n",
       "0          0.00  2021-10-06   2021-10-01              1             0   \n",
       "3         23.96  2021-08-10   2021-08-01              1             1   \n",
       "6          0.00  2021-07-07   2021-07-01              1             0   \n",
       "7          0.00  2021-08-26   2021-08-01              1             0   \n",
       "\n",
       "  active_label actualchurn  actual_retention  \n",
       "0            1           0                 0  \n",
       "3            1           1                 1  \n",
       "6            1           0                 0  \n",
       "7            1           0                 0  \n",
       "\n",
       "[4 rows x 24 columns]"
      ]
     },
     "execution_count": 65,
     "metadata": {},
     "output_type": "execute_result"
    }
   ],
   "source": [
    "dftmp.head(4)"
   ]
  },
  {
   "cell_type": "code",
   "execution_count": 66,
   "id": "602b4ff5",
   "metadata": {},
   "outputs": [],
   "source": [
    "predict_bymonthplatform = dftmp.groupby(['start_month', 'platform']).agg({'t_value': np.mean, 'real_revenue': np.mean}).reset_index()"
   ]
  },
  {
   "cell_type": "code",
   "execution_count": 69,
   "id": "cbc1cbf5",
   "metadata": {},
   "outputs": [],
   "source": [
    "predict_bymonthplatform_ios = predict_bymonthplatform.loc[predict_bymonthplatform['platform']=='ios',:]"
   ]
  },
  {
   "cell_type": "code",
   "execution_count": 87,
   "id": "b78677e2",
   "metadata": {},
   "outputs": [
    {
     "data": {
      "text/plain": [
       "[<matplotlib.lines.Line2D at 0x2ccce55b0>]"
      ]
     },
     "execution_count": 87,
     "metadata": {},
     "output_type": "execute_result"
    },
    {
     "data": {
      "image/png": "[encoded data removed]",
      "text/plain": [
       "<Figure size 432x288 with 1 Axes>"
      ]
     },
     "metadata": {
      "needs_background": "light"
     },
     "output_type": "display_data"
    }
   ],
   "source": [
    "plt.plot(predict_bymonthplatform_ios['start_month'], predict_bymonthplatform_ios['t_value'])\n",
    "plt.plot(predict_bymonthplatform_ios['start_month'],  predict_bymonthplatform_ios['real_revenue'])"
   ]
  },
  {
   "cell_type": "code",
   "execution_count": 71,
   "id": "38e81c48",
   "metadata": {},
   "outputs": [],
   "source": [
    "predict_bymonthplatform_android = predict_bymonthplatform.loc[predict_bymonthplatform['platform']=='android',:]"
   ]
  },
  {
   "cell_type": "code",
   "execution_count": 72,
   "id": "1a696d19",
   "metadata": {},
   "outputs": [
    {
     "data": {
      "text/plain": [
       "<AxesSubplot:>"
      ]
     },
     "execution_count": 72,
     "metadata": {},
     "output_type": "execute_result"
    },
    {
     "data": {
      "image/png": "[encoded data removed]",
      "text/plain": [
       "<Figure size 432x288 with 1 Axes>"
      ]
     },
     "metadata": {
      "needs_background": "light"
     },
     "output_type": "display_data"
    }
   ],
   "source": [
    "predict_bymonthplatform_android.plot()"
   ]
  },
  {
   "cell_type": "code",
   "execution_count": 73,
   "id": "b0ad725e",
   "metadata": {},
   "outputs": [
    {
     "data": {
      "text/html": [
       "<div>\n",
       "<style scoped>\n",
       "    .dataframe tbody tr th:only-of-type {\n",
       "        vertical-align: middle;\n",
       "    }\n",
       "\n",
       "    .dataframe tbody tr th {\n",
       "        vertical-align: top;\n",
       "    }\n",
       "\n",
       "    .dataframe thead th {\n",
       "        text-align: right;\n",
       "    }\n",
       "</style>\n",
       "<table border=\"1\" class=\"dataframe\">\n",
       "  <thead>\n",
       "    <tr style=\"text-align: right;\">\n",
       "      <th></th>\n",
       "      <th>start_month</th>\n",
       "      <th>platform</th>\n",
       "      <th>t_value</th>\n",
       "      <th>real_revenue</th>\n",
       "    </tr>\n",
       "  </thead>\n",
       "  <tbody>\n",
       "    <tr>\n",
       "      <th>0</th>\n",
       "      <td>2021-01-01</td>\n",
       "      <td>0</td>\n",
       "      <td>7.850212</td>\n",
       "      <td>5.248767</td>\n",
       "    </tr>\n",
       "    <tr>\n",
       "      <th>1</th>\n",
       "      <td>2021-01-01</td>\n",
       "      <td>android</td>\n",
       "      <td>16.564829</td>\n",
       "      <td>15.176519</td>\n",
       "    </tr>\n",
       "    <tr>\n",
       "      <th>2</th>\n",
       "      <td>2021-01-01</td>\n",
       "      <td>ios</td>\n",
       "      <td>19.831606</td>\n",
       "      <td>18.732509</td>\n",
       "    </tr>\n",
       "    <tr>\n",
       "      <th>3</th>\n",
       "      <td>2021-02-01</td>\n",
       "      <td>0</td>\n",
       "      <td>8.116141</td>\n",
       "      <td>6.001573</td>\n",
       "    </tr>\n",
       "    <tr>\n",
       "      <th>4</th>\n",
       "      <td>2021-02-01</td>\n",
       "      <td>android</td>\n",
       "      <td>18.605088</td>\n",
       "      <td>17.157173</td>\n",
       "    </tr>\n",
       "  </tbody>\n",
       "</table>\n",
       "</div>"
      ],
      "text/plain": [
       "  start_month platform    t_value  real_revenue\n",
       "0  2021-01-01        0   7.850212      5.248767\n",
       "1  2021-01-01  android  16.564829     15.176519\n",
       "2  2021-01-01      ios  19.831606     18.732509\n",
       "3  2021-02-01        0   8.116141      6.001573\n",
       "4  2021-02-01  android  18.605088     17.157173"
      ]
     },
     "execution_count": 73,
     "metadata": {},
     "output_type": "execute_result"
    }
   ],
   "source": [
    "predict_bymonthplatform.head(5)"
   ]
  },
  {
   "cell_type": "code",
   "execution_count": 82,
   "id": "3b51270f",
   "metadata": {},
   "outputs": [],
   "source": [
    "predict_pivot = predict_bymonthplatform.loc[predict_bymonthplatform['platform'].isin(['ios', 'android']),['t_value', 'start_month', 'platform']]"
   ]
  },
  {
   "cell_type": "code",
   "execution_count": 83,
   "id": "6d88cd71",
   "metadata": {},
   "outputs": [],
   "source": [
    "predict_df = pd.pivot_table(predict_pivot, index=['start_month'], columns='platform', values='t_value', aggfunc='sum')"
   ]
  },
  {
   "cell_type": "code",
   "execution_count": 84,
   "id": "49dfeb19",
   "metadata": {},
   "outputs": [
    {
     "data": {
      "text/html": [
       "<div>\n",
       "<style scoped>\n",
       "    .dataframe tbody tr th:only-of-type {\n",
       "        vertical-align: middle;\n",
       "    }\n",
       "\n",
       "    .dataframe tbody tr th {\n",
       "        vertical-align: top;\n",
       "    }\n",
       "\n",
       "    .dataframe thead th {\n",
       "        text-align: right;\n",
       "    }\n",
       "</style>\n",
       "<table border=\"1\" class=\"dataframe\">\n",
       "  <thead>\n",
       "    <tr style=\"text-align: right;\">\n",
       "      <th>platform</th>\n",
       "      <th>android</th>\n",
       "      <th>ios</th>\n",
       "    </tr>\n",
       "    <tr>\n",
       "      <th>start_month</th>\n",
       "      <th></th>\n",
       "      <th></th>\n",
       "    </tr>\n",
       "  </thead>\n",
       "  <tbody>\n",
       "    <tr>\n",
       "      <th>2021-01-01</th>\n",
       "      <td>16.564829</td>\n",
       "      <td>19.831606</td>\n",
       "    </tr>\n",
       "    <tr>\n",
       "      <th>2021-02-01</th>\n",
       "      <td>18.605088</td>\n",
       "      <td>21.798804</td>\n",
       "    </tr>\n",
       "    <tr>\n",
       "      <th>2021-03-01</th>\n",
       "      <td>16.259466</td>\n",
       "      <td>20.387722</td>\n",
       "    </tr>\n",
       "    <tr>\n",
       "      <th>2021-04-01</th>\n",
       "      <td>14.012981</td>\n",
       "      <td>19.790171</td>\n",
       "    </tr>\n",
       "    <tr>\n",
       "      <th>2021-05-01</th>\n",
       "      <td>16.718970</td>\n",
       "      <td>23.290099</td>\n",
       "    </tr>\n",
       "    <tr>\n",
       "      <th>2021-06-01</th>\n",
       "      <td>19.785947</td>\n",
       "      <td>25.737430</td>\n",
       "    </tr>\n",
       "    <tr>\n",
       "      <th>2021-07-01</th>\n",
       "      <td>23.907261</td>\n",
       "      <td>26.736917</td>\n",
       "    </tr>\n",
       "    <tr>\n",
       "      <th>2021-08-01</th>\n",
       "      <td>24.933536</td>\n",
       "      <td>28.207124</td>\n",
       "    </tr>\n",
       "    <tr>\n",
       "      <th>2021-09-01</th>\n",
       "      <td>26.354483</td>\n",
       "      <td>29.281975</td>\n",
       "    </tr>\n",
       "    <tr>\n",
       "      <th>2021-10-01</th>\n",
       "      <td>27.807394</td>\n",
       "      <td>31.099523</td>\n",
       "    </tr>\n",
       "    <tr>\n",
       "      <th>2021-11-01</th>\n",
       "      <td>29.291647</td>\n",
       "      <td>31.512105</td>\n",
       "    </tr>\n",
       "    <tr>\n",
       "      <th>2021-12-01</th>\n",
       "      <td>29.561139</td>\n",
       "      <td>30.619753</td>\n",
       "    </tr>\n",
       "    <tr>\n",
       "      <th>2022-01-01</th>\n",
       "      <td>27.138944</td>\n",
       "      <td>27.413969</td>\n",
       "    </tr>\n",
       "  </tbody>\n",
       "</table>\n",
       "</div>"
      ],
      "text/plain": [
       "platform       android        ios\n",
       "start_month                      \n",
       "2021-01-01   16.564829  19.831606\n",
       "2021-02-01   18.605088  21.798804\n",
       "2021-03-01   16.259466  20.387722\n",
       "2021-04-01   14.012981  19.790171\n",
       "2021-05-01   16.718970  23.290099\n",
       "2021-06-01   19.785947  25.737430\n",
       "2021-07-01   23.907261  26.736917\n",
       "2021-08-01   24.933536  28.207124\n",
       "2021-09-01   26.354483  29.281975\n",
       "2021-10-01   27.807394  31.099523\n",
       "2021-11-01   29.291647  31.512105\n",
       "2021-12-01   29.561139  30.619753\n",
       "2022-01-01   27.138944  27.413969"
      ]
     },
     "execution_count": 84,
     "metadata": {},
     "output_type": "execute_result"
    }
   ],
   "source": [
    "predict_df"
   ]
  },
  {
   "cell_type": "code",
   "execution_count": 85,
   "id": "0674d194",
   "metadata": {},
   "outputs": [
    {
     "data": {
      "text/plain": [
       "<AxesSubplot:xlabel='start_month'>"
      ]
     },
     "execution_count": 85,
     "metadata": {},
     "output_type": "execute_result"
    },
    {
     "data": {
      "image/png": "[encoded data removed]",
      "text/plain": [
       "<Figure size 432x288 with 1 Axes>"
      ]
     },
     "metadata": {
      "needs_background": "light"
     },
     "output_type": "display_data"
    }
   ],
   "source": [
    "predict_df.plot()"
   ]
  },
  {
   "cell_type": "code",
   "execution_count": 7,
   "id": "2e2ddde6",
   "metadata": {},
   "outputs": [],
   "source": [
    "df = pd.read_csv(datafile + \"advance_user.csv\", header=0)"
   ]
  },
  {
   "cell_type": "code",
   "execution_count": 8,
   "id": "5ceb5921",
   "metadata": {},
   "outputs": [
    {
     "data": {
      "text/html": [
       "<div>\n",
       "<style scoped>\n",
       "    .dataframe tbody tr th:only-of-type {\n",
       "        vertical-align: middle;\n",
       "    }\n",
       "\n",
       "    .dataframe tbody tr th {\n",
       "        vertical-align: top;\n",
       "    }\n",
       "\n",
       "    .dataframe thead th {\n",
       "        text-align: right;\n",
       "    }\n",
       "</style>\n",
       "<table border=\"1\" class=\"dataframe\">\n",
       "  <thead>\n",
       "    <tr style=\"text-align: right;\">\n",
       "      <th></th>\n",
       "      <th>Unnamed: 0</th>\n",
       "      <th>USER_ID</th>\n",
       "      <th>FIRST_TRANS</th>\n",
       "      <th>FREQUENCY</th>\n",
       "      <th>T</th>\n",
       "      <th>RECENCY</th>\n",
       "      <th>MONETARY</th>\n",
       "    </tr>\n",
       "  </thead>\n",
       "  <tbody>\n",
       "    <tr>\n",
       "      <th>687150</th>\n",
       "      <td>687150</td>\n",
       "      <td>12258254</td>\n",
       "      <td>2021-12-22</td>\n",
       "      <td>0</td>\n",
       "      <td>10</td>\n",
       "      <td>0</td>\n",
       "      <td>3.240</td>\n",
       "    </tr>\n",
       "    <tr>\n",
       "      <th>687151</th>\n",
       "      <td>687151</td>\n",
       "      <td>12246582</td>\n",
       "      <td>2021-12-21</td>\n",
       "      <td>1</td>\n",
       "      <td>11</td>\n",
       "      <td>8</td>\n",
       "      <td>11.365</td>\n",
       "    </tr>\n",
       "    <tr>\n",
       "      <th>687152</th>\n",
       "      <td>687152</td>\n",
       "      <td>12255833</td>\n",
       "      <td>2021-12-21</td>\n",
       "      <td>0</td>\n",
       "      <td>11</td>\n",
       "      <td>0</td>\n",
       "      <td>16.990</td>\n",
       "    </tr>\n",
       "    <tr>\n",
       "      <th>687153</th>\n",
       "      <td>687153</td>\n",
       "      <td>12250544</td>\n",
       "      <td>2021-12-21</td>\n",
       "      <td>0</td>\n",
       "      <td>11</td>\n",
       "      <td>0</td>\n",
       "      <td>5.240</td>\n",
       "    </tr>\n",
       "  </tbody>\n",
       "</table>\n",
       "</div>"
      ],
      "text/plain": [
       "        Unnamed: 0   USER_ID FIRST_TRANS  FREQUENCY   T  RECENCY  MONETARY\n",
       "687150      687150  12258254  2021-12-22          0  10        0     3.240\n",
       "687151      687151  12246582  2021-12-21          1  11        8    11.365\n",
       "687152      687152  12255833  2021-12-21          0  11        0    16.990\n",
       "687153      687153  12250544  2021-12-21          0  11        0     5.240"
      ]
     },
     "execution_count": 8,
     "metadata": {},
     "output_type": "execute_result"
    }
   ],
   "source": [
    "df.tail(4)"
   ]
  },
  {
   "cell_type": "code",
   "execution_count": 9,
   "id": "b2195c5b",
   "metadata": {},
   "outputs": [],
   "source": [
    "adf = pd.read_csv(datafile + \"testdata.csv\", header=0)"
   ]
  },
  {
   "cell_type": "code",
   "execution_count": 10,
   "id": "b0f7a243",
   "metadata": {},
   "outputs": [
    {
     "data": {
      "text/plain": [
       "Index(['Unnamed: 0', 'USER_ID', 'TRANS_NUM', 'REAL_REVENUE'], dtype='object')"
      ]
     },
     "execution_count": 10,
     "metadata": {},
     "output_type": "execute_result"
    }
   ],
   "source": [
    "adf.columns"
   ]
  },
  {
   "cell_type": "code",
   "execution_count": 12,
   "id": "4f85a2bb",
   "metadata": {},
   "outputs": [
    {
     "data": {
      "text/plain": [
       "'/Users/yanchunyang/Documents/datafiles/ltv/'"
      ]
     },
     "execution_count": 12,
     "metadata": {},
     "output_type": "execute_result"
    }
   ],
   "source": [
    "datafile"
   ]
  },
  {
   "cell_type": "code",
   "execution_count": 14,
   "id": "b3b8810e",
   "metadata": {},
   "outputs": [],
   "source": [
    "all_user = pd.read_csv(datafile + \"users_property.csv\", header=0)"
   ]
  },
  {
   "cell_type": "code",
   "execution_count": 15,
   "id": "4041ba5f",
   "metadata": {},
   "outputs": [
    {
     "data": {
      "text/plain": [
       "Index(['Unnamed: 0', 'USER_ID', 'STARTDATE', 'PLATFORM', 'ATTRIBUTION',\n",
       "       'NETWORK'],\n",
       "      dtype='object')"
      ]
     },
     "execution_count": 15,
     "metadata": {},
     "output_type": "execute_result"
    }
   ],
   "source": [
    "all_user.columns"
   ]
  },
  {
   "cell_type": "code",
   "execution_count": 46,
   "id": "10a9d979",
   "metadata": {},
   "outputs": [],
   "source": [
    "predict = pd.read_csv(datafile + \"dftotal.csv\")"
   ]
  },
  {
   "cell_type": "code",
   "execution_count": 47,
   "id": "adc1d9f5",
   "metadata": {},
   "outputs": [
    {
     "data": {
      "text/html": [
       "<div>\n",
       "<style scoped>\n",
       "    .dataframe tbody tr th:only-of-type {\n",
       "        vertical-align: middle;\n",
       "    }\n",
       "\n",
       "    .dataframe tbody tr th {\n",
       "        vertical-align: top;\n",
       "    }\n",
       "\n",
       "    .dataframe thead th {\n",
       "        text-align: right;\n",
       "    }\n",
       "</style>\n",
       "<table border=\"1\" class=\"dataframe\">\n",
       "  <thead>\n",
       "    <tr style=\"text-align: right;\">\n",
       "      <th></th>\n",
       "      <th>Unnamed: 0</th>\n",
       "      <th>index_name</th>\n",
       "      <th>userid</th>\n",
       "      <th>first_trans</th>\n",
       "      <th>frequency</th>\n",
       "      <th>T</th>\n",
       "      <th>recency</th>\n",
       "      <th>monetary</th>\n",
       "      <th>pred_num</th>\n",
       "      <th>monetary_update</th>\n",
       "      <th>prob_alive</th>\n",
       "      <th>expected_monetary</th>\n",
       "      <th>predict_clv</th>\n",
       "      <th>t_value</th>\n",
       "    </tr>\n",
       "  </thead>\n",
       "  <tbody>\n",
       "    <tr>\n",
       "      <th>0</th>\n",
       "      <td>0</td>\n",
       "      <td>0</td>\n",
       "      <td>9560006</td>\n",
       "      <td>2021-08-10</td>\n",
       "      <td>8</td>\n",
       "      <td>144</td>\n",
       "      <td>129</td>\n",
       "      <td>5.990000</td>\n",
       "      <td>8.727374</td>\n",
       "      <td>5.990000</td>\n",
       "      <td>0.876967</td>\n",
       "      <td>6.071350</td>\n",
       "      <td>41.580169</td>\n",
       "      <td>52.986938</td>\n",
       "    </tr>\n",
       "    <tr>\n",
       "      <th>1</th>\n",
       "      <td>1</td>\n",
       "      <td>1</td>\n",
       "      <td>10214684</td>\n",
       "      <td>2021-04-18</td>\n",
       "      <td>13</td>\n",
       "      <td>258</td>\n",
       "      <td>243</td>\n",
       "      <td>5.169286</td>\n",
       "      <td>8.430613</td>\n",
       "      <td>5.169286</td>\n",
       "      <td>0.907123</td>\n",
       "      <td>5.426195</td>\n",
       "      <td>38.269801</td>\n",
       "      <td>45.746147</td>\n",
       "    </tr>\n",
       "    <tr>\n",
       "      <th>2</th>\n",
       "      <td>2</td>\n",
       "      <td>2</td>\n",
       "      <td>10682172</td>\n",
       "      <td>2021-05-29</td>\n",
       "      <td>4</td>\n",
       "      <td>217</td>\n",
       "      <td>42</td>\n",
       "      <td>5.790000</td>\n",
       "      <td>0.058841</td>\n",
       "      <td>5.790000</td>\n",
       "      <td>0.019113</td>\n",
       "      <td>6.013245</td>\n",
       "      <td>0.120264</td>\n",
       "      <td>0.353825</td>\n",
       "    </tr>\n",
       "    <tr>\n",
       "      <th>3</th>\n",
       "      <td>3</td>\n",
       "      <td>3</td>\n",
       "      <td>10531540</td>\n",
       "      <td>2021-05-09</td>\n",
       "      <td>17</td>\n",
       "      <td>237</td>\n",
       "      <td>222</td>\n",
       "      <td>5.823333</td>\n",
       "      <td>11.587426</td>\n",
       "      <td>5.823333</td>\n",
       "      <td>0.892857</td>\n",
       "      <td>5.902913</td>\n",
       "      <td>53.719229</td>\n",
       "      <td>68.399562</td>\n",
       "    </tr>\n",
       "    <tr>\n",
       "      <th>4</th>\n",
       "      <td>4</td>\n",
       "      <td>4</td>\n",
       "      <td>11057934</td>\n",
       "      <td>2021-07-19</td>\n",
       "      <td>5</td>\n",
       "      <td>166</td>\n",
       "      <td>150</td>\n",
       "      <td>1.990000</td>\n",
       "      <td>5.228664</td>\n",
       "      <td>1.990000</td>\n",
       "      <td>0.893605</td>\n",
       "      <td>3.916474</td>\n",
       "      <td>18.853808</td>\n",
       "      <td>20.477927</td>\n",
       "    </tr>\n",
       "    <tr>\n",
       "      <th>5</th>\n",
       "      <td>5</td>\n",
       "      <td>5</td>\n",
       "      <td>11463561</td>\n",
       "      <td>2021-09-10</td>\n",
       "      <td>10</td>\n",
       "      <td>113</td>\n",
       "      <td>106</td>\n",
       "      <td>5.035455</td>\n",
       "      <td>13.116343</td>\n",
       "      <td>5.035455</td>\n",
       "      <td>0.910623</td>\n",
       "      <td>5.386134</td>\n",
       "      <td>50.686384</td>\n",
       "      <td>70.646382</td>\n",
       "    </tr>\n",
       "    <tr>\n",
       "      <th>6</th>\n",
       "      <td>6</td>\n",
       "      <td>6</td>\n",
       "      <td>9580210</td>\n",
       "      <td>2021-01-06</td>\n",
       "      <td>7</td>\n",
       "      <td>360</td>\n",
       "      <td>354</td>\n",
       "      <td>2.271250</td>\n",
       "      <td>3.661057</td>\n",
       "      <td>2.271250</td>\n",
       "      <td>0.933608</td>\n",
       "      <td>3.747760</td>\n",
       "      <td>14.115702</td>\n",
       "      <td>13.720763</td>\n",
       "    </tr>\n",
       "    <tr>\n",
       "      <th>7</th>\n",
       "      <td>7</td>\n",
       "      <td>7</td>\n",
       "      <td>10313055</td>\n",
       "      <td>2021-04-17</td>\n",
       "      <td>15</td>\n",
       "      <td>259</td>\n",
       "      <td>217</td>\n",
       "      <td>5.490000</td>\n",
       "      <td>8.312395</td>\n",
       "      <td>5.490000</td>\n",
       "      <td>0.628826</td>\n",
       "      <td>5.650365</td>\n",
       "      <td>31.686902</td>\n",
       "      <td>46.968064</td>\n",
       "    </tr>\n",
       "    <tr>\n",
       "      <th>8</th>\n",
       "      <td>8</td>\n",
       "      <td>8</td>\n",
       "      <td>10953405</td>\n",
       "      <td>2021-07-05</td>\n",
       "      <td>20</td>\n",
       "      <td>180</td>\n",
       "      <td>172</td>\n",
       "      <td>5.751905</td>\n",
       "      <td>17.219477</td>\n",
       "      <td>5.751905</td>\n",
       "      <td>0.919800</td>\n",
       "      <td>5.833924</td>\n",
       "      <td>73.759076</td>\n",
       "      <td>100.457126</td>\n",
       "    </tr>\n",
       "    <tr>\n",
       "      <th>9</th>\n",
       "      <td>9</td>\n",
       "      <td>9</td>\n",
       "      <td>9583235</td>\n",
       "      <td>2021-02-28</td>\n",
       "      <td>22</td>\n",
       "      <td>307</td>\n",
       "      <td>305</td>\n",
       "      <td>17.511739</td>\n",
       "      <td>12.035036</td>\n",
       "      <td>17.511739</td>\n",
       "      <td>0.961714</td>\n",
       "      <td>15.714392</td>\n",
       "      <td>157.833676</td>\n",
       "      <td>189.123283</td>\n",
       "    </tr>\n",
       "  </tbody>\n",
       "</table>\n",
       "</div>"
      ],
      "text/plain": [
       "   Unnamed: 0  index_name    userid first_trans  frequency    T  recency  \\\n",
       "0           0           0   9560006  2021-08-10          8  144      129   \n",
       "1           1           1  10214684  2021-04-18         13  258      243   \n",
       "2           2           2  10682172  2021-05-29          4  217       42   \n",
       "3           3           3  10531540  2021-05-09         17  237      222   \n",
       "4           4           4  11057934  2021-07-19          5  166      150   \n",
       "5           5           5  11463561  2021-09-10         10  113      106   \n",
       "6           6           6   9580210  2021-01-06          7  360      354   \n",
       "7           7           7  10313055  2021-04-17         15  259      217   \n",
       "8           8           8  10953405  2021-07-05         20  180      172   \n",
       "9           9           9   9583235  2021-02-28         22  307      305   \n",
       "\n",
       "    monetary   pred_num  monetary_update  prob_alive  expected_monetary  \\\n",
       "0   5.990000   8.727374         5.990000    0.876967           6.071350   \n",
       "1   5.169286   8.430613         5.169286    0.907123           5.426195   \n",
       "2   5.790000   0.058841         5.790000    0.019113           6.013245   \n",
       "3   5.823333  11.587426         5.823333    0.892857           5.902913   \n",
       "4   1.990000   5.228664         1.990000    0.893605           3.916474   \n",
       "5   5.035455  13.116343         5.035455    0.910623           5.386134   \n",
       "6   2.271250   3.661057         2.271250    0.933608           3.747760   \n",
       "7   5.490000   8.312395         5.490000    0.628826           5.650365   \n",
       "8   5.751905  17.219477         5.751905    0.919800           5.833924   \n",
       "9  17.511739  12.035036        17.511739    0.961714          15.714392   \n",
       "\n",
       "   predict_clv     t_value  \n",
       "0    41.580169   52.986938  \n",
       "1    38.269801   45.746147  \n",
       "2     0.120264    0.353825  \n",
       "3    53.719229   68.399562  \n",
       "4    18.853808   20.477927  \n",
       "5    50.686384   70.646382  \n",
       "6    14.115702   13.720763  \n",
       "7    31.686902   46.968064  \n",
       "8    73.759076  100.457126  \n",
       "9   157.833676  189.123283  "
      ]
     },
     "execution_count": 47,
     "metadata": {},
     "output_type": "execute_result"
    }
   ],
   "source": [
    "predict.head(10)"
   ]
  },
  {
   "cell_type": "code",
   "execution_count": 48,
   "id": "eb6c64aa",
   "metadata": {},
   "outputs": [
    {
     "data": {
      "text/plain": [
       "23.659784027198146"
      ]
     },
     "execution_count": 48,
     "metadata": {},
     "output_type": "execute_result"
    }
   ],
   "source": [
    "np.mean(predict['t_value'])"
   ]
  },
  {
   "cell_type": "code",
   "execution_count": 49,
   "id": "72e40001",
   "metadata": {},
   "outputs": [
    {
     "data": {
      "text/plain": [
       "24.741111189561778"
      ]
     },
     "execution_count": 49,
     "metadata": {},
     "output_type": "execute_result"
    }
   ],
   "source": [
    "np.mean(predict['predict_clv'])"
   ]
  },
  {
   "cell_type": "code",
   "execution_count": 21,
   "id": "b73b29b7",
   "metadata": {},
   "outputs": [
    {
     "data": {
      "text/plain": [
       "0.7086157734166831"
      ]
     },
     "execution_count": 21,
     "metadata": {},
     "output_type": "execute_result"
    }
   ],
   "source": [
    "np.mean(predict['prob_alive'])"
   ]
  },
  {
   "cell_type": "code",
   "execution_count": 53,
   "id": "c9eb0fb3",
   "metadata": {},
   "outputs": [],
   "source": [
    "predict['retention'] = predict['pred_num'].apply(lambda x: 1 if x >=1 else 0)"
   ]
  },
  {
   "cell_type": "code",
   "execution_count": 54,
   "id": "ed5d8578",
   "metadata": {},
   "outputs": [],
   "source": [
    "predict['start_month'] = predict['first_trans'].str.slice(0, 7)"
   ]
  },
  {
   "cell_type": "code",
   "execution_count": 55,
   "id": "712aad11",
   "metadata": {},
   "outputs": [
    {
     "data": {
      "text/html": [
       "<div>\n",
       "<style scoped>\n",
       "    .dataframe tbody tr th:only-of-type {\n",
       "        vertical-align: middle;\n",
       "    }\n",
       "\n",
       "    .dataframe tbody tr th {\n",
       "        vertical-align: top;\n",
       "    }\n",
       "\n",
       "    .dataframe thead th {\n",
       "        text-align: right;\n",
       "    }\n",
       "</style>\n",
       "<table border=\"1\" class=\"dataframe\">\n",
       "  <thead>\n",
       "    <tr style=\"text-align: right;\">\n",
       "      <th></th>\n",
       "      <th>Unnamed: 0</th>\n",
       "      <th>index_name</th>\n",
       "      <th>userid</th>\n",
       "      <th>first_trans</th>\n",
       "      <th>frequency</th>\n",
       "      <th>T</th>\n",
       "      <th>recency</th>\n",
       "      <th>monetary</th>\n",
       "      <th>pred_num</th>\n",
       "      <th>monetary_update</th>\n",
       "      <th>prob_alive</th>\n",
       "      <th>expected_monetary</th>\n",
       "      <th>predict_clv</th>\n",
       "      <th>t_value</th>\n",
       "      <th>retention</th>\n",
       "      <th>start_month</th>\n",
       "    </tr>\n",
       "  </thead>\n",
       "  <tbody>\n",
       "    <tr>\n",
       "      <th>0</th>\n",
       "      <td>0</td>\n",
       "      <td>0</td>\n",
       "      <td>9560006</td>\n",
       "      <td>2021-08-10</td>\n",
       "      <td>8</td>\n",
       "      <td>144</td>\n",
       "      <td>129</td>\n",
       "      <td>5.990000</td>\n",
       "      <td>8.727374</td>\n",
       "      <td>5.990000</td>\n",
       "      <td>0.876967</td>\n",
       "      <td>6.071350</td>\n",
       "      <td>41.580169</td>\n",
       "      <td>52.986938</td>\n",
       "      <td>1</td>\n",
       "      <td>2021-08</td>\n",
       "    </tr>\n",
       "    <tr>\n",
       "      <th>1</th>\n",
       "      <td>1</td>\n",
       "      <td>1</td>\n",
       "      <td>10214684</td>\n",
       "      <td>2021-04-18</td>\n",
       "      <td>13</td>\n",
       "      <td>258</td>\n",
       "      <td>243</td>\n",
       "      <td>5.169286</td>\n",
       "      <td>8.430613</td>\n",
       "      <td>5.169286</td>\n",
       "      <td>0.907123</td>\n",
       "      <td>5.426195</td>\n",
       "      <td>38.269801</td>\n",
       "      <td>45.746147</td>\n",
       "      <td>1</td>\n",
       "      <td>2021-04</td>\n",
       "    </tr>\n",
       "    <tr>\n",
       "      <th>2</th>\n",
       "      <td>2</td>\n",
       "      <td>2</td>\n",
       "      <td>10682172</td>\n",
       "      <td>2021-05-29</td>\n",
       "      <td>4</td>\n",
       "      <td>217</td>\n",
       "      <td>42</td>\n",
       "      <td>5.790000</td>\n",
       "      <td>0.058841</td>\n",
       "      <td>5.790000</td>\n",
       "      <td>0.019113</td>\n",
       "      <td>6.013245</td>\n",
       "      <td>0.120264</td>\n",
       "      <td>0.353825</td>\n",
       "      <td>0</td>\n",
       "      <td>2021-05</td>\n",
       "    </tr>\n",
       "    <tr>\n",
       "      <th>3</th>\n",
       "      <td>3</td>\n",
       "      <td>3</td>\n",
       "      <td>10531540</td>\n",
       "      <td>2021-05-09</td>\n",
       "      <td>17</td>\n",
       "      <td>237</td>\n",
       "      <td>222</td>\n",
       "      <td>5.823333</td>\n",
       "      <td>11.587426</td>\n",
       "      <td>5.823333</td>\n",
       "      <td>0.892857</td>\n",
       "      <td>5.902913</td>\n",
       "      <td>53.719229</td>\n",
       "      <td>68.399562</td>\n",
       "      <td>1</td>\n",
       "      <td>2021-05</td>\n",
       "    </tr>\n",
       "  </tbody>\n",
       "</table>\n",
       "</div>"
      ],
      "text/plain": [
       "   Unnamed: 0  index_name    userid first_trans  frequency    T  recency  \\\n",
       "0           0           0   9560006  2021-08-10          8  144      129   \n",
       "1           1           1  10214684  2021-04-18         13  258      243   \n",
       "2           2           2  10682172  2021-05-29          4  217       42   \n",
       "3           3           3  10531540  2021-05-09         17  237      222   \n",
       "\n",
       "   monetary   pred_num  monetary_update  prob_alive  expected_monetary  \\\n",
       "0  5.990000   8.727374         5.990000    0.876967           6.071350   \n",
       "1  5.169286   8.430613         5.169286    0.907123           5.426195   \n",
       "2  5.790000   0.058841         5.790000    0.019113           6.013245   \n",
       "3  5.823333  11.587426         5.823333    0.892857           5.902913   \n",
       "\n",
       "   predict_clv    t_value  retention start_month  \n",
       "0    41.580169  52.986938          1     2021-08  \n",
       "1    38.269801  45.746147          1     2021-04  \n",
       "2     0.120264   0.353825          0     2021-05  \n",
       "3    53.719229  68.399562          1     2021-05  "
      ]
     },
     "execution_count": 55,
     "metadata": {},
     "output_type": "execute_result"
    }
   ],
   "source": [
    "predict.head(4)"
   ]
  },
  {
   "cell_type": "code",
   "execution_count": 56,
   "id": "be503ea2",
   "metadata": {},
   "outputs": [],
   "source": [
    "predict_group = predict.groupby(['start_month']).agg({'retention':'sum', 'userid':'count'}).reset_index()"
   ]
  },
  {
   "cell_type": "code",
   "execution_count": 57,
   "id": "957cc062",
   "metadata": {},
   "outputs": [],
   "source": [
    "predict_group['retention_rate'] =predict_group['retention']*1.0 / predict_group['userid']"
   ]
  },
  {
   "cell_type": "code",
   "execution_count": 58,
   "id": "8e2910c0",
   "metadata": {},
   "outputs": [
    {
     "data": {
      "text/html": [
       "<div>\n",
       "<style scoped>\n",
       "    .dataframe tbody tr th:only-of-type {\n",
       "        vertical-align: middle;\n",
       "    }\n",
       "\n",
       "    .dataframe tbody tr th {\n",
       "        vertical-align: top;\n",
       "    }\n",
       "\n",
       "    .dataframe thead th {\n",
       "        text-align: right;\n",
       "    }\n",
       "</style>\n",
       "<table border=\"1\" class=\"dataframe\">\n",
       "  <thead>\n",
       "    <tr style=\"text-align: right;\">\n",
       "      <th></th>\n",
       "      <th>start_month</th>\n",
       "      <th>retention</th>\n",
       "      <th>userid</th>\n",
       "      <th>retention_rate</th>\n",
       "    </tr>\n",
       "  </thead>\n",
       "  <tbody>\n",
       "    <tr>\n",
       "      <th>0</th>\n",
       "      <td>2021-01</td>\n",
       "      <td>14707</td>\n",
       "      <td>39464</td>\n",
       "      <td>0.372669</td>\n",
       "    </tr>\n",
       "    <tr>\n",
       "      <th>1</th>\n",
       "      <td>2021-02</td>\n",
       "      <td>20577</td>\n",
       "      <td>50907</td>\n",
       "      <td>0.404208</td>\n",
       "    </tr>\n",
       "    <tr>\n",
       "      <th>2</th>\n",
       "      <td>2021-03</td>\n",
       "      <td>15245</td>\n",
       "      <td>41632</td>\n",
       "      <td>0.366185</td>\n",
       "    </tr>\n",
       "    <tr>\n",
       "      <th>3</th>\n",
       "      <td>2021-04</td>\n",
       "      <td>15944</td>\n",
       "      <td>48025</td>\n",
       "      <td>0.331994</td>\n",
       "    </tr>\n",
       "    <tr>\n",
       "      <th>4</th>\n",
       "      <td>2021-05</td>\n",
       "      <td>24804</td>\n",
       "      <td>71188</td>\n",
       "      <td>0.348430</td>\n",
       "    </tr>\n",
       "    <tr>\n",
       "      <th>5</th>\n",
       "      <td>2021-06</td>\n",
       "      <td>27646</td>\n",
       "      <td>64502</td>\n",
       "      <td>0.428607</td>\n",
       "    </tr>\n",
       "    <tr>\n",
       "      <th>6</th>\n",
       "      <td>2021-07</td>\n",
       "      <td>32220</td>\n",
       "      <td>63731</td>\n",
       "      <td>0.505562</td>\n",
       "    </tr>\n",
       "    <tr>\n",
       "      <th>7</th>\n",
       "      <td>2021-08</td>\n",
       "      <td>34980</td>\n",
       "      <td>64202</td>\n",
       "      <td>0.544843</td>\n",
       "    </tr>\n",
       "    <tr>\n",
       "      <th>8</th>\n",
       "      <td>2021-09</td>\n",
       "      <td>35281</td>\n",
       "      <td>57811</td>\n",
       "      <td>0.610282</td>\n",
       "    </tr>\n",
       "    <tr>\n",
       "      <th>9</th>\n",
       "      <td>2021-10</td>\n",
       "      <td>58917</td>\n",
       "      <td>62799</td>\n",
       "      <td>0.938184</td>\n",
       "    </tr>\n",
       "    <tr>\n",
       "      <th>10</th>\n",
       "      <td>2021-11</td>\n",
       "      <td>58385</td>\n",
       "      <td>58768</td>\n",
       "      <td>0.993483</td>\n",
       "    </tr>\n",
       "    <tr>\n",
       "      <th>11</th>\n",
       "      <td>2021-12</td>\n",
       "      <td>64118</td>\n",
       "      <td>64125</td>\n",
       "      <td>0.999891</td>\n",
       "    </tr>\n",
       "  </tbody>\n",
       "</table>\n",
       "</div>"
      ],
      "text/plain": [
       "   start_month  retention  userid  retention_rate\n",
       "0      2021-01      14707   39464        0.372669\n",
       "1      2021-02      20577   50907        0.404208\n",
       "2      2021-03      15245   41632        0.366185\n",
       "3      2021-04      15944   48025        0.331994\n",
       "4      2021-05      24804   71188        0.348430\n",
       "5      2021-06      27646   64502        0.428607\n",
       "6      2021-07      32220   63731        0.505562\n",
       "7      2021-08      34980   64202        0.544843\n",
       "8      2021-09      35281   57811        0.610282\n",
       "9      2021-10      58917   62799        0.938184\n",
       "10     2021-11      58385   58768        0.993483\n",
       "11     2021-12      64118   64125        0.999891"
      ]
     },
     "execution_count": 58,
     "metadata": {},
     "output_type": "execute_result"
    }
   ],
   "source": [
    "predict_group"
   ]
  },
  {
   "cell_type": "code",
   "execution_count": 59,
   "id": "4dd859a4",
   "metadata": {},
   "outputs": [
    {
     "data": {
      "text/plain": [
       "0.5862208471463457"
      ]
     },
     "execution_count": 59,
     "metadata": {},
     "output_type": "execute_result"
    }
   ],
   "source": [
    "np.sum(predict['retention'])/len(predict)"
   ]
  },
  {
   "cell_type": "code",
   "execution_count": 65,
   "id": "d059e136",
   "metadata": {},
   "outputs": [
    {
     "data": {
      "text/plain": [
       "0.7086157734166831"
      ]
     },
     "execution_count": 65,
     "metadata": {},
     "output_type": "execute_result"
    }
   ],
   "source": [
    "np.mean(predict['prob_alive'])"
   ]
  },
  {
   "cell_type": "code",
   "execution_count": 60,
   "id": "252f14da",
   "metadata": {},
   "outputs": [
    {
     "data": {
      "text/plain": [
       "Index(['Unnamed: 0', 'index_name', 'userid', 'first_trans', 'frequency', 'T',\n",
       "       'recency', 'monetary', 'pred_num', 'monetary_update', 'prob_alive',\n",
       "       'expected_monetary', 'predict_clv', 't_value', 'retention',\n",
       "       'start_month'],\n",
       "      dtype='object')"
      ]
     },
     "execution_count": 60,
     "metadata": {},
     "output_type": "execute_result"
    }
   ],
   "source": [
    "predict.columns"
   ]
  },
  {
   "cell_type": "code",
   "execution_count": 61,
   "id": "fd5927f0",
   "metadata": {},
   "outputs": [],
   "source": [
    "tmp = predict.groupby(['start_month']).agg({'prob_alive':np.mean}).reset_index()"
   ]
  },
  {
   "cell_type": "code",
   "execution_count": 62,
   "id": "50ce4dab",
   "metadata": {},
   "outputs": [
    {
     "data": {
      "text/html": [
       "<div>\n",
       "<style scoped>\n",
       "    .dataframe tbody tr th:only-of-type {\n",
       "        vertical-align: middle;\n",
       "    }\n",
       "\n",
       "    .dataframe tbody tr th {\n",
       "        vertical-align: top;\n",
       "    }\n",
       "\n",
       "    .dataframe thead th {\n",
       "        text-align: right;\n",
       "    }\n",
       "</style>\n",
       "<table border=\"1\" class=\"dataframe\">\n",
       "  <thead>\n",
       "    <tr style=\"text-align: right;\">\n",
       "      <th></th>\n",
       "      <th>start_month</th>\n",
       "      <th>prob_alive</th>\n",
       "    </tr>\n",
       "  </thead>\n",
       "  <tbody>\n",
       "    <tr>\n",
       "      <th>0</th>\n",
       "      <td>2021-01</td>\n",
       "      <td>0.518563</td>\n",
       "    </tr>\n",
       "    <tr>\n",
       "      <th>1</th>\n",
       "      <td>2021-02</td>\n",
       "      <td>0.544490</td>\n",
       "    </tr>\n",
       "    <tr>\n",
       "      <th>2</th>\n",
       "      <td>2021-03</td>\n",
       "      <td>0.537122</td>\n",
       "    </tr>\n",
       "    <tr>\n",
       "      <th>3</th>\n",
       "      <td>2021-04</td>\n",
       "      <td>0.573796</td>\n",
       "    </tr>\n",
       "    <tr>\n",
       "      <th>4</th>\n",
       "      <td>2021-05</td>\n",
       "      <td>0.650566</td>\n",
       "    </tr>\n",
       "    <tr>\n",
       "      <th>5</th>\n",
       "      <td>2021-06</td>\n",
       "      <td>0.667417</td>\n",
       "    </tr>\n",
       "    <tr>\n",
       "      <th>6</th>\n",
       "      <td>2021-07</td>\n",
       "      <td>0.675846</td>\n",
       "    </tr>\n",
       "    <tr>\n",
       "      <th>7</th>\n",
       "      <td>2021-08</td>\n",
       "      <td>0.719684</td>\n",
       "    </tr>\n",
       "    <tr>\n",
       "      <th>8</th>\n",
       "      <td>2021-09</td>\n",
       "      <td>0.785893</td>\n",
       "    </tr>\n",
       "    <tr>\n",
       "      <th>9</th>\n",
       "      <td>2021-10</td>\n",
       "      <td>0.833595</td>\n",
       "    </tr>\n",
       "    <tr>\n",
       "      <th>10</th>\n",
       "      <td>2021-11</td>\n",
       "      <td>0.878022</td>\n",
       "    </tr>\n",
       "    <tr>\n",
       "      <th>11</th>\n",
       "      <td>2021-12</td>\n",
       "      <td>0.948237</td>\n",
       "    </tr>\n",
       "  </tbody>\n",
       "</table>\n",
       "</div>"
      ],
      "text/plain": [
       "   start_month  prob_alive\n",
       "0      2021-01    0.518563\n",
       "1      2021-02    0.544490\n",
       "2      2021-03    0.537122\n",
       "3      2021-04    0.573796\n",
       "4      2021-05    0.650566\n",
       "5      2021-06    0.667417\n",
       "6      2021-07    0.675846\n",
       "7      2021-08    0.719684\n",
       "8      2021-09    0.785893\n",
       "9      2021-10    0.833595\n",
       "10     2021-11    0.878022\n",
       "11     2021-12    0.948237"
      ]
     },
     "execution_count": 62,
     "metadata": {},
     "output_type": "execute_result"
    }
   ],
   "source": [
    "tmp"
   ]
  },
  {
   "cell_type": "code",
   "execution_count": 69,
   "id": "c2e7c89a",
   "metadata": {},
   "outputs": [],
   "source": [
    "test = pd.read_csv(datafile + \"forecast_input.csv\", header=0)"
   ]
  },
  {
   "cell_type": "code",
   "execution_count": 67,
   "id": "17f66ae8",
   "metadata": {},
   "outputs": [
    {
     "data": {
      "text/html": [
       "<div>\n",
       "<style scoped>\n",
       "    .dataframe tbody tr th:only-of-type {\n",
       "        vertical-align: middle;\n",
       "    }\n",
       "\n",
       "    .dataframe tbody tr th {\n",
       "        vertical-align: top;\n",
       "    }\n",
       "\n",
       "    .dataframe thead th {\n",
       "        text-align: right;\n",
       "    }\n",
       "</style>\n",
       "<table border=\"1\" class=\"dataframe\">\n",
       "  <thead>\n",
       "    <tr style=\"text-align: right;\">\n",
       "      <th></th>\n",
       "      <th>Unnamed: 0</th>\n",
       "      <th>userid</th>\n",
       "      <th>first_trans</th>\n",
       "      <th>frequency</th>\n",
       "      <th>T</th>\n",
       "      <th>recency</th>\n",
       "      <th>monetary</th>\n",
       "    </tr>\n",
       "  </thead>\n",
       "  <tbody>\n",
       "    <tr>\n",
       "      <th>0</th>\n",
       "      <td>0</td>\n",
       "      <td>10088946</td>\n",
       "      <td>2021-03-03</td>\n",
       "      <td>43</td>\n",
       "      <td>540</td>\n",
       "      <td>534</td>\n",
       "      <td>5.717273</td>\n",
       "    </tr>\n",
       "    <tr>\n",
       "      <th>1</th>\n",
       "      <td>1</td>\n",
       "      <td>11887000</td>\n",
       "      <td>2021-10-30</td>\n",
       "      <td>4</td>\n",
       "      <td>299</td>\n",
       "      <td>49</td>\n",
       "      <td>5.790000</td>\n",
       "    </tr>\n",
       "    <tr>\n",
       "      <th>2</th>\n",
       "      <td>2</td>\n",
       "      <td>13458004</td>\n",
       "      <td>2022-06-01</td>\n",
       "      <td>7</td>\n",
       "      <td>85</td>\n",
       "      <td>86</td>\n",
       "      <td>12.802500</td>\n",
       "    </tr>\n",
       "    <tr>\n",
       "      <th>3</th>\n",
       "      <td>3</td>\n",
       "      <td>10083667</td>\n",
       "      <td>2021-04-09</td>\n",
       "      <td>23</td>\n",
       "      <td>503</td>\n",
       "      <td>479</td>\n",
       "      <td>5.302500</td>\n",
       "    </tr>\n",
       "    <tr>\n",
       "      <th>4</th>\n",
       "      <td>4</td>\n",
       "      <td>10544514</td>\n",
       "      <td>2022-02-27</td>\n",
       "      <td>7</td>\n",
       "      <td>179</td>\n",
       "      <td>164</td>\n",
       "      <td>3.678750</td>\n",
       "    </tr>\n",
       "    <tr>\n",
       "      <th>5</th>\n",
       "      <td>5</td>\n",
       "      <td>11342632</td>\n",
       "      <td>2021-08-26</td>\n",
       "      <td>4</td>\n",
       "      <td>364</td>\n",
       "      <td>108</td>\n",
       "      <td>5.240000</td>\n",
       "    </tr>\n",
       "    <tr>\n",
       "      <th>6</th>\n",
       "      <td>6</td>\n",
       "      <td>12674190</td>\n",
       "      <td>2022-02-27</td>\n",
       "      <td>1</td>\n",
       "      <td>179</td>\n",
       "      <td>14</td>\n",
       "      <td>15.990000</td>\n",
       "    </tr>\n",
       "    <tr>\n",
       "      <th>7</th>\n",
       "      <td>7</td>\n",
       "      <td>9759431</td>\n",
       "      <td>2021-02-07</td>\n",
       "      <td>32</td>\n",
       "      <td>564</td>\n",
       "      <td>560</td>\n",
       "      <td>5.747879</td>\n",
       "    </tr>\n",
       "    <tr>\n",
       "      <th>8</th>\n",
       "      <td>8</td>\n",
       "      <td>11510414</td>\n",
       "      <td>2021-09-24</td>\n",
       "      <td>4</td>\n",
       "      <td>335</td>\n",
       "      <td>337</td>\n",
       "      <td>5.390000</td>\n",
       "    </tr>\n",
       "    <tr>\n",
       "      <th>9</th>\n",
       "      <td>9</td>\n",
       "      <td>11114775</td>\n",
       "      <td>2021-07-26</td>\n",
       "      <td>49</td>\n",
       "      <td>395</td>\n",
       "      <td>392</td>\n",
       "      <td>6.100000</td>\n",
       "    </tr>\n",
       "  </tbody>\n",
       "</table>\n",
       "</div>"
      ],
      "text/plain": [
       "   Unnamed: 0    userid first_trans  frequency    T  recency   monetary\n",
       "0           0  10088946  2021-03-03         43  540      534   5.717273\n",
       "1           1  11887000  2021-10-30          4  299       49   5.790000\n",
       "2           2  13458004  2022-06-01          7   85       86  12.802500\n",
       "3           3  10083667  2021-04-09         23  503      479   5.302500\n",
       "4           4  10544514  2022-02-27          7  179      164   3.678750\n",
       "5           5  11342632  2021-08-26          4  364      108   5.240000\n",
       "6           6  12674190  2022-02-27          1  179       14  15.990000\n",
       "7           7   9759431  2021-02-07         32  564      560   5.747879\n",
       "8           8  11510414  2021-09-24          4  335      337   5.390000\n",
       "9           9  11114775  2021-07-26         49  395      392   6.100000"
      ]
     },
     "execution_count": 67,
     "metadata": {},
     "output_type": "execute_result"
    }
   ],
   "source": [
    "test.head(10)"
   ]
  },
  {
   "cell_type": "code",
   "execution_count": 70,
   "id": "6c4dd4f5",
   "metadata": {},
   "outputs": [
    {
     "data": {
      "text/html": [
       "<div>\n",
       "<style scoped>\n",
       "    .dataframe tbody tr th:only-of-type {\n",
       "        vertical-align: middle;\n",
       "    }\n",
       "\n",
       "    .dataframe tbody tr th {\n",
       "        vertical-align: top;\n",
       "    }\n",
       "\n",
       "    .dataframe thead th {\n",
       "        text-align: right;\n",
       "    }\n",
       "</style>\n",
       "<table border=\"1\" class=\"dataframe\">\n",
       "  <thead>\n",
       "    <tr style=\"text-align: right;\">\n",
       "      <th></th>\n",
       "      <th>Unnamed: 0</th>\n",
       "      <th>userid</th>\n",
       "      <th>first_trans</th>\n",
       "      <th>frequency</th>\n",
       "      <th>T</th>\n",
       "      <th>recency</th>\n",
       "      <th>monetary</th>\n",
       "    </tr>\n",
       "  </thead>\n",
       "  <tbody>\n",
       "  </tbody>\n",
       "</table>\n",
       "</div>"
      ],
      "text/plain": [
       "Empty DataFrame\n",
       "Columns: [Unnamed: 0, userid, first_trans, frequency, T, recency, monetary]\n",
       "Index: []"
      ]
     },
     "execution_count": 70,
     "metadata": {},
     "output_type": "execute_result"
    }
   ],
   "source": [
    "test.loc[test['T']<= test['recency'],:]"
   ]
  },
  {
   "cell_type": "code",
   "execution_count": null,
   "id": "0e39a284",
   "metadata": {},
   "outputs": [],
   "source": []
  }
 ],
 "metadata": {
  "kernelspec": {
   "display_name": "Python 3 (ipykernel)",
   "language": "python",
   "name": "python3"
  },
  "language_info": {
   "codemirror_mode": {
    "name": "ipython",
    "version": 3
   },
   "file_extension": ".py",
   "mimetype": "text/x-python",
   "name": "python",
   "nbconvert_exporter": "python",
   "pygments_lexer": "ipython3",
   "version": "3.9.13"
  }
 },
 "nbformat": 4,
 "nbformat_minor": 5
}
