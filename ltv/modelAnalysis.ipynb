{
 "cells": [
  {
   "cell_type": "code",
   "execution_count": 2,
   "id": "776aa3ea",
   "metadata": {},
   "outputs": [],
   "source": [
    "import numpy as np\n",
    "import pandas as pd\n",
    "import matplotlib.pyplot as plt"
   ]
  },
  {
   "cell_type": "code",
   "execution_count": 3,
   "id": "bbe1cc0c",
   "metadata": {},
   "outputs": [],
   "source": [
    "import jaydebeapi as jay"
   ]
  },
  {
   "cell_type": "code",
   "execution_count": 14,
   "id": "de25d355",
   "metadata": {},
   "outputs": [],
   "source": [
    "datafile = \"/Users/yanchunyang/Documents/datafiles/ltv/\""
   ]
  },
  {
   "cell_type": "code",
   "execution_count": 15,
   "id": "2040b311",
   "metadata": {},
   "outputs": [],
   "source": [
    "predict_file = \"dftotal.csv\"\n",
    "actual_file = \"testdata.csv\""
   ]
  },
  {
   "cell_type": "code",
   "execution_count": 4,
   "id": "71c85900",
   "metadata": {},
   "outputs": [],
   "source": [
    "def read_from_snowflake(sql_str):\n",
    "    with open('/Users/yanchunyang/pwd/snowflake.passphrase', 'r') as f:\n",
    "        passphrase = f.read().strip()\n",
    "    username = \"yanchun.yang@dave.com\"\n",
    "    password = \"abc\"\n",
    "    jdbcpath = \"/Users/yanchunyang/lib/jdbc/snowflake-jdbc-3.13.8.jar\"\n",
    "    jdbc_driver_name = \"net.snowflake.client.jdbc.SnowflakeDriver\"\n",
    "    hostname= \"qc63563.snowflakecomputing.com\"\n",
    "    role = \"FUNC_ACCOUNTING_USER\"\n",
    "    warehouse = \"ACCOUNTING_WH\"\n",
    "    keyfile = \"/Users/yanchunyang/.ssh/snowflake.p8\"\n",
    "\n",
    "    conn_string = f'jdbc:snowflake://qc63563.snowflakecomputing.com?role={role}&warehouse={warehouse}&private_key_file={keyfile}&private_key_file_pwd={passphrase}'\n",
    "\n",
    "    conn = jay.connect(jdbc_driver_name, conn_string, {'user': username , 'password': password }, jars=jdbcpath)\n",
    "\n",
    "#  Currently python can't interpret correctly the result returned from JDBC to connect Snowflake so we have to switch back to JSON rather than ARROW format\n",
    "# It can be done at session level\n",
    "    session_set = \"ALTER SESSION SET JDBC_QUERY_RESULT_FORMAT='JSON'\"\n",
    "    curs = conn.cursor()\n",
    "    curs.execute(session_set)\n",
    "\n",
    "    curs.execute(sql_str)\n",
    "    result = curs.fetchall()\n",
    "    return result"
   ]
  },
  {
   "cell_type": "code",
   "execution_count": 7,
   "id": "05d3605a",
   "metadata": {},
   "outputs": [],
   "source": [
    "sql_all = \"SELECT * FROM  ACCOUNTING.DBT_LOCAL.LTV_USER_2022\""
   ]
  },
  {
   "cell_type": "code",
   "execution_count": 8,
   "id": "9c85c176",
   "metadata": {},
   "outputs": [],
   "source": [
    "df_all = read_from_snowflake(sql_all)"
   ]
  },
  {
   "cell_type": "code",
   "execution_count": 10,
   "id": "e3d26f99",
   "metadata": {},
   "outputs": [],
   "source": [
    "columns = ['userid', 'startdate', 'platform', 'attribution', 'network']"
   ]
  },
  {
   "cell_type": "code",
   "execution_count": 12,
   "id": "0cb46fd2",
   "metadata": {},
   "outputs": [],
   "source": [
    "df = pd.DataFrame(df_all, columns=columns)"
   ]
  },
  {
   "cell_type": "code",
   "execution_count": 13,
   "id": "3fd40ef5",
   "metadata": {},
   "outputs": [
    {
     "data": {
      "text/plain": [
       "(3005400, 5)"
      ]
     },
     "execution_count": 13,
     "metadata": {},
     "output_type": "execute_result"
    }
   ],
   "source": [
    "df.shape"
   ]
  },
  {
   "cell_type": "code",
   "execution_count": 44,
   "id": "fb767306",
   "metadata": {},
   "outputs": [],
   "source": [
    "predict_df = pd.read_csv(datafile + predict_file, header=0)\n",
    "actual_df = pd.read_csv(datafile + actual_file)\n",
    "predict_update = predict_df.loc[:, ['userid', 'pred_num', 't_value', 'frequency', 'prob_alive']]\n",
    "actual_update = actual_df.loc[:, ['userid', 'trans_num', 'real_revenue']]"
   ]
  },
  {
   "cell_type": "code",
   "execution_count": 45,
   "id": "f0ae3447",
   "metadata": {},
   "outputs": [],
   "source": [
    "combine_1 = pd.merge(df, predict_df, on=['userid'], how='left')\n",
    "combine_2 = pd.merge(combine_1, actual_df, on=['userid'], how='left')"
   ]
  },
  {
   "cell_type": "code",
   "execution_count": 46,
   "id": "1041ce1d",
   "metadata": {},
   "outputs": [],
   "source": [
    "combine_2 = combine_2.fillna(0)"
   ]
  },
  {
   "cell_type": "code",
   "execution_count": 47,
   "id": "f4d4d593",
   "metadata": {},
   "outputs": [],
   "source": [
    "combine_2 = combine_2.drop(['Unnamed: 0.1', 'Unnamed: 0_x','Unnamed: 0_y'], axis=1)"
   ]
  },
  {
   "cell_type": "code",
   "execution_count": 27,
   "id": "6e5530c4",
   "metadata": {},
   "outputs": [
    {
     "data": {
      "text/plain": [
       "Index(['userid', 'startdate', 'platform', 'attribution', 'network',\n",
       "       'first_trans', 'frequency', 'T', 'recency', 'monetary', 'pred_num',\n",
       "       'monetary_update', 'prob_alive', 'expected_monetary', 't_value',\n",
       "       'trans_num', 'real_revenue'],\n",
       "      dtype='object')"
      ]
     },
     "execution_count": 27,
     "metadata": {},
     "output_type": "execute_result"
    }
   ],
   "source": [
    "combine_2.columns"
   ]
  },
  {
   "cell_type": "code",
   "execution_count": 35,
   "id": "acd4fdfe",
   "metadata": {},
   "outputs": [
    {
     "data": {
      "text/html": [
       "<div>\n",
       "<style scoped>\n",
       "    .dataframe tbody tr th:only-of-type {\n",
       "        vertical-align: middle;\n",
       "    }\n",
       "\n",
       "    .dataframe tbody tr th {\n",
       "        vertical-align: top;\n",
       "    }\n",
       "\n",
       "    .dataframe thead th {\n",
       "        text-align: right;\n",
       "    }\n",
       "</style>\n",
       "<table border=\"1\" class=\"dataframe\">\n",
       "  <thead>\n",
       "    <tr style=\"text-align: right;\">\n",
       "      <th></th>\n",
       "      <th>userid</th>\n",
       "      <th>startdate</th>\n",
       "      <th>platform</th>\n",
       "      <th>attribution</th>\n",
       "      <th>network</th>\n",
       "      <th>first_trans</th>\n",
       "      <th>frequency</th>\n",
       "      <th>T</th>\n",
       "      <th>recency</th>\n",
       "      <th>monetary</th>\n",
       "      <th>...</th>\n",
       "      <th>prob_alive</th>\n",
       "      <th>expected_monetary</th>\n",
       "      <th>t_value</th>\n",
       "      <th>trans_num</th>\n",
       "      <th>real_revenue</th>\n",
       "      <th>start_date</th>\n",
       "      <th>start_month</th>\n",
       "      <th>predict_label</th>\n",
       "      <th>actual_label</th>\n",
       "      <th>active_label</th>\n",
       "    </tr>\n",
       "  </thead>\n",
       "  <tbody>\n",
       "    <tr>\n",
       "      <th>0</th>\n",
       "      <td>11670673</td>\n",
       "      <td>2021-10-06</td>\n",
       "      <td>ios</td>\n",
       "      <td>ORGANIC</td>\n",
       "      <td>Organic</td>\n",
       "      <td>2021-10-29</td>\n",
       "      <td>2.0</td>\n",
       "      <td>95.0</td>\n",
       "      <td>24.0</td>\n",
       "      <td>4.156667</td>\n",
       "      <td>...</td>\n",
       "      <td>0.421666</td>\n",
       "      <td>5.596436</td>\n",
       "      <td>6.929668</td>\n",
       "      <td>0.0</td>\n",
       "      <td>0.0</td>\n",
       "      <td>2021-10-06</td>\n",
       "      <td>2021-10-01</td>\n",
       "      <td>1</td>\n",
       "      <td>0</td>\n",
       "      <td>1</td>\n",
       "    </tr>\n",
       "    <tr>\n",
       "      <th>1</th>\n",
       "      <td>11568202</td>\n",
       "      <td>2021-09-23</td>\n",
       "      <td>ios</td>\n",
       "      <td>PAID</td>\n",
       "      <td>Snapchat</td>\n",
       "      <td>0</td>\n",
       "      <td>0.0</td>\n",
       "      <td>0.0</td>\n",
       "      <td>0.0</td>\n",
       "      <td>0.000000</td>\n",
       "      <td>...</td>\n",
       "      <td>0.000000</td>\n",
       "      <td>0.000000</td>\n",
       "      <td>0.000000</td>\n",
       "      <td>0.0</td>\n",
       "      <td>0.0</td>\n",
       "      <td>2021-09-23</td>\n",
       "      <td>2021-09-01</td>\n",
       "      <td>0</td>\n",
       "      <td>0</td>\n",
       "      <td>0</td>\n",
       "    </tr>\n",
       "  </tbody>\n",
       "</table>\n",
       "<p>2 rows × 22 columns</p>\n",
       "</div>"
      ],
      "text/plain": [
       "     userid   startdate platform attribution   network first_trans  frequency  \\\n",
       "0  11670673  2021-10-06      ios     ORGANIC   Organic  2021-10-29        2.0   \n",
       "1  11568202  2021-09-23      ios        PAID  Snapchat           0        0.0   \n",
       "\n",
       "      T  recency  monetary  ...  prob_alive  expected_monetary   t_value  \\\n",
       "0  95.0     24.0  4.156667  ...    0.421666           5.596436  6.929668   \n",
       "1   0.0      0.0  0.000000  ...    0.000000           0.000000  0.000000   \n",
       "\n",
       "   trans_num  real_revenue  start_date  start_month predict_label  \\\n",
       "0        0.0           0.0  2021-10-06   2021-10-01             1   \n",
       "1        0.0           0.0  2021-09-23   2021-09-01             0   \n",
       "\n",
       "  actual_label  active_label  \n",
       "0            0             1  \n",
       "1            0             0  \n",
       "\n",
       "[2 rows x 22 columns]"
      ]
     },
     "execution_count": 35,
     "metadata": {},
     "output_type": "execute_result"
    }
   ],
   "source": [
    "combine_2.head(2)"
   ]
  },
  {
   "cell_type": "code",
   "execution_count": 48,
   "id": "20e8398c",
   "metadata": {},
   "outputs": [],
   "source": [
    "combine_2['start_date'] = pd.to_datetime(combine_2['startdate'])"
   ]
  },
  {
   "cell_type": "code",
   "execution_count": 49,
   "id": "47939b43",
   "metadata": {},
   "outputs": [],
   "source": [
    "combine_2['start_month'] = combine_2['start_date'].apply(lambda x: x.strftime('%Y-%m-01'))"
   ]
  },
  {
   "cell_type": "code",
   "execution_count": 50,
   "id": "f71c0f92",
   "metadata": {},
   "outputs": [],
   "source": [
    "combine_2['predict_label'] = combine_2['first_trans'].apply(lambda x: 1 if x !=0 else 0)\n",
    "combine_2['actual_label'] = combine_2['trans_num'].apply(lambda x: 1 if x != 0 else 0)"
   ]
  },
  {
   "cell_type": "code",
   "execution_count": 51,
   "id": "fb220497",
   "metadata": {},
   "outputs": [],
   "source": [
    "combine_2['tmp_label'] = combine_2['predict_label'] + combine_2['actual_label']\n",
    "combine_2['active_label'] = combine_2['tmp_label'].apply(lambda x: 1 if x !=0 else 0)\n",
    "combine_2 = combine_2.drop(['tmp_label'], axis=1)"
   ]
  },
  {
   "cell_type": "code",
   "execution_count": 52,
   "id": "abe69e85",
   "metadata": {},
   "outputs": [],
   "source": [
    "pv_churn = combine_2.groupby(['start_month']).agg({'userid': 'count', 'active_label': 'sum'}).reset_index()"
   ]
  },
  {
   "cell_type": "code",
   "execution_count": 53,
   "id": "552a361e",
   "metadata": {},
   "outputs": [],
   "source": [
    "pv_churn['rate'] = pv_churn['active_label'] / pv_churn['userid']"
   ]
  },
  {
   "cell_type": "code",
   "execution_count": 54,
   "id": "f1d4a47c",
   "metadata": {},
   "outputs": [
    {
     "data": {
      "text/html": [
       "<div>\n",
       "<style scoped>\n",
       "    .dataframe tbody tr th:only-of-type {\n",
       "        vertical-align: middle;\n",
       "    }\n",
       "\n",
       "    .dataframe tbody tr th {\n",
       "        vertical-align: top;\n",
       "    }\n",
       "\n",
       "    .dataframe thead th {\n",
       "        text-align: right;\n",
       "    }\n",
       "</style>\n",
       "<table border=\"1\" class=\"dataframe\">\n",
       "  <thead>\n",
       "    <tr style=\"text-align: right;\">\n",
       "      <th></th>\n",
       "      <th>userid</th>\n",
       "      <th>startdate</th>\n",
       "      <th>platform</th>\n",
       "      <th>attribution</th>\n",
       "      <th>network</th>\n",
       "      <th>first_trans</th>\n",
       "      <th>frequency</th>\n",
       "      <th>T</th>\n",
       "      <th>recency</th>\n",
       "      <th>monetary</th>\n",
       "      <th>...</th>\n",
       "      <th>prob_alive</th>\n",
       "      <th>expected_monetary</th>\n",
       "      <th>t_value</th>\n",
       "      <th>trans_num</th>\n",
       "      <th>real_revenue</th>\n",
       "      <th>start_date</th>\n",
       "      <th>start_month</th>\n",
       "      <th>predict_label</th>\n",
       "      <th>actual_label</th>\n",
       "      <th>active_label</th>\n",
       "    </tr>\n",
       "  </thead>\n",
       "  <tbody>\n",
       "    <tr>\n",
       "      <th>26</th>\n",
       "      <td>12427970</td>\n",
       "      <td>2022-01-15</td>\n",
       "      <td>ios</td>\n",
       "      <td>PAID</td>\n",
       "      <td>Apple Search Ads</td>\n",
       "      <td>0</td>\n",
       "      <td>0.0</td>\n",
       "      <td>0.0</td>\n",
       "      <td>0.0</td>\n",
       "      <td>0.00</td>\n",
       "      <td>...</td>\n",
       "      <td>0.0</td>\n",
       "      <td>0.00</td>\n",
       "      <td>0.00000</td>\n",
       "      <td>0.0</td>\n",
       "      <td>0.00</td>\n",
       "      <td>2022-01-15</td>\n",
       "      <td>2022-01-01</td>\n",
       "      <td>0</td>\n",
       "      <td>0</td>\n",
       "      <td>0</td>\n",
       "    </tr>\n",
       "    <tr>\n",
       "      <th>42</th>\n",
       "      <td>12347691</td>\n",
       "      <td>2022-01-04</td>\n",
       "      <td>android</td>\n",
       "      <td>PAID</td>\n",
       "      <td>bytedanceglobal_int</td>\n",
       "      <td>2022-01-04</td>\n",
       "      <td>0.0</td>\n",
       "      <td>28.0</td>\n",
       "      <td>0.0</td>\n",
       "      <td>4.99</td>\n",
       "      <td>...</td>\n",
       "      <td>1.0</td>\n",
       "      <td>4.99</td>\n",
       "      <td>11.08115</td>\n",
       "      <td>1.0</td>\n",
       "      <td>5.99</td>\n",
       "      <td>2022-01-04</td>\n",
       "      <td>2022-01-01</td>\n",
       "      <td>1</td>\n",
       "      <td>1</td>\n",
       "      <td>1</td>\n",
       "    </tr>\n",
       "    <tr>\n",
       "      <th>67</th>\n",
       "      <td>12554425</td>\n",
       "      <td>2022-01-31</td>\n",
       "      <td>android</td>\n",
       "      <td>PAID</td>\n",
       "      <td>Adwords</td>\n",
       "      <td>0</td>\n",
       "      <td>0.0</td>\n",
       "      <td>0.0</td>\n",
       "      <td>0.0</td>\n",
       "      <td>0.00</td>\n",
       "      <td>...</td>\n",
       "      <td>0.0</td>\n",
       "      <td>0.00</td>\n",
       "      <td>0.00000</td>\n",
       "      <td>0.0</td>\n",
       "      <td>0.00</td>\n",
       "      <td>2022-01-31</td>\n",
       "      <td>2022-01-01</td>\n",
       "      <td>0</td>\n",
       "      <td>0</td>\n",
       "      <td>0</td>\n",
       "    </tr>\n",
       "    <tr>\n",
       "      <th>80</th>\n",
       "      <td>12536510</td>\n",
       "      <td>2022-01-29</td>\n",
       "      <td>ios</td>\n",
       "      <td>PAID</td>\n",
       "      <td>Apple Search Ads</td>\n",
       "      <td>0</td>\n",
       "      <td>0.0</td>\n",
       "      <td>0.0</td>\n",
       "      <td>0.0</td>\n",
       "      <td>0.00</td>\n",
       "      <td>...</td>\n",
       "      <td>0.0</td>\n",
       "      <td>0.00</td>\n",
       "      <td>0.00000</td>\n",
       "      <td>4.0</td>\n",
       "      <td>23.46</td>\n",
       "      <td>2022-01-29</td>\n",
       "      <td>2022-01-01</td>\n",
       "      <td>0</td>\n",
       "      <td>1</td>\n",
       "      <td>1</td>\n",
       "    </tr>\n",
       "  </tbody>\n",
       "</table>\n",
       "<p>4 rows × 22 columns</p>\n",
       "</div>"
      ],
      "text/plain": [
       "      userid   startdate platform attribution              network  \\\n",
       "26  12427970  2022-01-15      ios        PAID     Apple Search Ads   \n",
       "42  12347691  2022-01-04  android        PAID  bytedanceglobal_int   \n",
       "67  12554425  2022-01-31  android        PAID              Adwords   \n",
       "80  12536510  2022-01-29      ios        PAID     Apple Search Ads   \n",
       "\n",
       "   first_trans  frequency     T  recency  monetary  ...  prob_alive  \\\n",
       "26           0        0.0   0.0      0.0      0.00  ...         0.0   \n",
       "42  2022-01-04        0.0  28.0      0.0      4.99  ...         1.0   \n",
       "67           0        0.0   0.0      0.0      0.00  ...         0.0   \n",
       "80           0        0.0   0.0      0.0      0.00  ...         0.0   \n",
       "\n",
       "    expected_monetary   t_value  trans_num  real_revenue  start_date  \\\n",
       "26               0.00   0.00000        0.0          0.00  2022-01-15   \n",
       "42               4.99  11.08115        1.0          5.99  2022-01-04   \n",
       "67               0.00   0.00000        0.0          0.00  2022-01-31   \n",
       "80               0.00   0.00000        4.0         23.46  2022-01-29   \n",
       "\n",
       "    start_month predict_label actual_label  active_label  \n",
       "26   2022-01-01             0            0             0  \n",
       "42   2022-01-01             1            1             1  \n",
       "67   2022-01-01             0            0             0  \n",
       "80   2022-01-01             0            1             1  \n",
       "\n",
       "[4 rows x 22 columns]"
      ]
     },
     "execution_count": 54,
     "metadata": {},
     "output_type": "execute_result"
    }
   ],
   "source": [
    "combine_2.loc[combine_2['start_month']=='2022-01-01',:].head(4)"
   ]
  },
  {
   "cell_type": "code",
   "execution_count": 55,
   "id": "384dd3b9",
   "metadata": {},
   "outputs": [
    {
     "data": {
      "text/plain": [
       "[<matplotlib.lines.Line2D at 0x2ccba7790>]"
      ]
     },
     "execution_count": 55,
     "metadata": {},
     "output_type": "execute_result"
    },
    {
     "data": {
      "image/png": "[encoded data removed]",
      "text/plain": [
       "<Figure size 432x288 with 1 Axes>"
      ]
     },
     "metadata": {
      "needs_background": "light"
     },
     "output_type": "display_data"
    }
   ],
   "source": [
    "plt.plot(pv_churn['start_month'], pv_churn['rate'])"
   ]
  },
  {
   "cell_type": "code",
   "execution_count": 56,
   "id": "aecf31a1",
   "metadata": {},
   "outputs": [],
   "source": [
    "dftmp = combine_2.loc[combine_2['predict_label'] == 1, ]\n",
    "predict_bymonth = dftmp.groupby(['start_month']).agg({'t_value': np.mean, 'real_revenue': np.mean}).reset_index()"
   ]
  },
  {
   "cell_type": "code",
   "execution_count": 57,
   "id": "ce55f98c",
   "metadata": {},
   "outputs": [
    {
     "data": {
      "text/plain": [
       "<AxesSubplot:>"
      ]
     },
     "execution_count": 57,
     "metadata": {},
     "output_type": "execute_result"
    },
    {
     "data": {
      "image/png": "[encoded data removed]",
      "text/plain": [
       "<Figure size 432x288 with 1 Axes>"
      ]
     },
     "metadata": {
      "needs_background": "light"
     },
     "output_type": "display_data"
    }
   ],
   "source": [
    "predict_bymonth.plot()"
   ]
  },
  {
   "cell_type": "code",
   "execution_count": 61,
   "id": "2e3097f0",
   "metadata": {},
   "outputs": [
    {
     "name": "stderr",
     "output_type": "stream",
     "text": [
      "/var/folders/d1/rw6rwxz927g254dvggnj0jpr0000gn/T/ipykernel_88305/2688319310.py:1: SettingWithCopyWarning: \n",
      "A value is trying to be set on a copy of a slice from a DataFrame.\n",
      "Try using .loc[row_indexer,col_indexer] = value instead\n",
      "\n",
      "See the caveats in the documentation: https://pandas.pydata.org/pandas-docs/stable/user_guide/indexing.html#returning-a-view-versus-a-copy\n",
      "  dftmp['actual_retention'] = dftmp['real_revenue'].apply(lambda x: 1 if int(x) > 0 else 0)\n"
     ]
    }
   ],
   "source": [
    "dftmp['actual_retention'] = dftmp['real_revenue'].apply(lambda x: 1 if int(x) > 0 else 0)"
   ]
  },
  {
   "cell_type": "code",
   "execution_count": 62,
   "id": "8400961b",
   "metadata": {},
   "outputs": [],
   "source": [
    "predict_retention = dftmp.groupby(['start_month']).agg({'prob_alive':np.mean, 'actual_retention':np.mean})"
   ]
  },
  {
   "cell_type": "code",
   "execution_count": 63,
   "id": "e805ea1d",
   "metadata": {},
   "outputs": [
    {
     "data": {
      "text/plain": [
       "<AxesSubplot:xlabel='start_month'>"
      ]
     },
     "execution_count": 63,
     "metadata": {},
     "output_type": "execute_result"
    },
    {
     "data": {
      "image/png": "[encoded data removed]",
      "text/plain": [
       "<Figure size 432x288 with 1 Axes>"
      ]
     },
     "metadata": {
      "needs_background": "light"
     },
     "output_type": "display_data"
    }
   ],
   "source": [
    "predict_retention.plot()"
   ]
  },
  {
   "cell_type": "code",
   "execution_count": 64,
   "id": "8d26d907",
   "metadata": {},
   "outputs": [
    {
     "data": {
      "text/plain": [
       "Index(['userid', 'startdate', 'platform', 'attribution', 'network',\n",
       "       'first_trans', 'frequency', 'T', 'recency', 'monetary', 'pred_num',\n",
       "       'monetary_update', 'prob_alive', 'expected_monetary', 't_value',\n",
       "       'trans_num', 'real_revenue', 'start_date', 'start_month',\n",
       "       'predict_label', 'actual_label', 'active_label'],\n",
       "      dtype='object')"
      ]
     },
     "execution_count": 64,
     "metadata": {},
     "output_type": "execute_result"
    }
   ],
   "source": [
    "combine_2.columns"
   ]
  },
  {
   "cell_type": "code",
   "execution_count": 65,
   "id": "0969ced5",
   "metadata": {},
   "outputs": [
    {
     "data": {
      "text/html": [
       "<div>\n",
       "<style scoped>\n",
       "    .dataframe tbody tr th:only-of-type {\n",
       "        vertical-align: middle;\n",
       "    }\n",
       "\n",
       "    .dataframe tbody tr th {\n",
       "        vertical-align: top;\n",
       "    }\n",
       "\n",
       "    .dataframe thead th {\n",
       "        text-align: right;\n",
       "    }\n",
       "</style>\n",
       "<table border=\"1\" class=\"dataframe\">\n",
       "  <thead>\n",
       "    <tr style=\"text-align: right;\">\n",
       "      <th></th>\n",
       "      <th>userid</th>\n",
       "      <th>startdate</th>\n",
       "      <th>platform</th>\n",
       "      <th>attribution</th>\n",
       "      <th>network</th>\n",
       "      <th>first_trans</th>\n",
       "      <th>frequency</th>\n",
       "      <th>T</th>\n",
       "      <th>recency</th>\n",
       "      <th>monetary</th>\n",
       "      <th>...</th>\n",
       "      <th>t_value</th>\n",
       "      <th>trans_num</th>\n",
       "      <th>real_revenue</th>\n",
       "      <th>start_date</th>\n",
       "      <th>start_month</th>\n",
       "      <th>predict_label</th>\n",
       "      <th>actual_label</th>\n",
       "      <th>active_label</th>\n",
       "      <th>actualchurn</th>\n",
       "      <th>actual_retention</th>\n",
       "    </tr>\n",
       "  </thead>\n",
       "  <tbody>\n",
       "    <tr>\n",
       "      <th>0</th>\n",
       "      <td>11670673</td>\n",
       "      <td>2021-10-06</td>\n",
       "      <td>ios</td>\n",
       "      <td>ORGANIC</td>\n",
       "      <td>Organic</td>\n",
       "      <td>2021-10-29</td>\n",
       "      <td>2.0</td>\n",
       "      <td>95.0</td>\n",
       "      <td>24.0</td>\n",
       "      <td>4.156667</td>\n",
       "      <td>...</td>\n",
       "      <td>6.861211</td>\n",
       "      <td>0.0</td>\n",
       "      <td>0.00</td>\n",
       "      <td>2021-10-06</td>\n",
       "      <td>2021-10-01</td>\n",
       "      <td>1</td>\n",
       "      <td>0</td>\n",
       "      <td>1</td>\n",
       "      <td>0</td>\n",
       "      <td>0</td>\n",
       "    </tr>\n",
       "    <tr>\n",
       "      <th>3</th>\n",
       "      <td>11231405</td>\n",
       "      <td>2021-08-10</td>\n",
       "      <td>android</td>\n",
       "      <td>PAID</td>\n",
       "      <td>Adwords</td>\n",
       "      <td>2021-08-10</td>\n",
       "      <td>21.0</td>\n",
       "      <td>175.0</td>\n",
       "      <td>174.0</td>\n",
       "      <td>4.628636</td>\n",
       "      <td>...</td>\n",
       "      <td>91.218055</td>\n",
       "      <td>4.0</td>\n",
       "      <td>23.96</td>\n",
       "      <td>2021-08-10</td>\n",
       "      <td>2021-08-01</td>\n",
       "      <td>1</td>\n",
       "      <td>1</td>\n",
       "      <td>1</td>\n",
       "      <td>1</td>\n",
       "      <td>1</td>\n",
       "    </tr>\n",
       "    <tr>\n",
       "      <th>6</th>\n",
       "      <td>10972388</td>\n",
       "      <td>2021-07-07</td>\n",
       "      <td>ios</td>\n",
       "      <td>PAID</td>\n",
       "      <td>Apple Search Ads</td>\n",
       "      <td>2021-12-08</td>\n",
       "      <td>2.0</td>\n",
       "      <td>55.0</td>\n",
       "      <td>25.0</td>\n",
       "      <td>4.990000</td>\n",
       "      <td>...</td>\n",
       "      <td>23.842932</td>\n",
       "      <td>0.0</td>\n",
       "      <td>0.00</td>\n",
       "      <td>2021-07-07</td>\n",
       "      <td>2021-07-01</td>\n",
       "      <td>1</td>\n",
       "      <td>0</td>\n",
       "      <td>1</td>\n",
       "      <td>0</td>\n",
       "      <td>0</td>\n",
       "    </tr>\n",
       "    <tr>\n",
       "      <th>7</th>\n",
       "      <td>11355457</td>\n",
       "      <td>2021-08-26</td>\n",
       "      <td>ios</td>\n",
       "      <td>ORGANIC</td>\n",
       "      <td>Organic</td>\n",
       "      <td>2021-10-06</td>\n",
       "      <td>1.0</td>\n",
       "      <td>118.0</td>\n",
       "      <td>93.0</td>\n",
       "      <td>3.990000</td>\n",
       "      <td>...</td>\n",
       "      <td>11.093794</td>\n",
       "      <td>0.0</td>\n",
       "      <td>0.00</td>\n",
       "      <td>2021-08-26</td>\n",
       "      <td>2021-08-01</td>\n",
       "      <td>1</td>\n",
       "      <td>0</td>\n",
       "      <td>1</td>\n",
       "      <td>0</td>\n",
       "      <td>0</td>\n",
       "    </tr>\n",
       "  </tbody>\n",
       "</table>\n",
       "<p>4 rows × 24 columns</p>\n",
       "</div>"
      ],
      "text/plain": [
       "     userid   startdate platform attribution           network first_trans  \\\n",
       "0  11670673  2021-10-06      ios     ORGANIC           Organic  2021-10-29   \n",
       "3  11231405  2021-08-10  android        PAID           Adwords  2021-08-10   \n",
       "6  10972388  2021-07-07      ios        PAID  Apple Search Ads  2021-12-08   \n",
       "7  11355457  2021-08-26      ios     ORGANIC           Organic  2021-10-06   \n",
       "\n",
       "   frequency      T  recency  monetary  ...    t_value  trans_num  \\\n",
       "0        2.0   95.0     24.0  4.156667  ...   6.861211        0.0   \n",
       "3       21.0  175.0    174.0  4.628636  ...  91.218055        4.0   \n",
       "6        2.0   55.0     25.0  4.990000  ...  23.842932        0.0   \n",
       "7        1.0  118.0     93.0  3.990000  ...  11.093794        0.0   \n",
       "\n",
       "   real_revenue  start_date  start_month  predict_label  actual_label  \\\n",
       "0          0.00  2021-10-06   2021-10-01              1             0   \n",
       "3         23.96  2021-08-10   2021-08-01              1             1   \n",
       "6          0.00  2021-07-07   2021-07-01              1             0   \n",
       "7          0.00  2021-08-26   2021-08-01              1             0   \n",
       "\n",
       "  active_label actualchurn  actual_retention  \n",
       "0            1           0                 0  \n",
       "3            1           1                 1  \n",
       "6            1           0                 0  \n",
       "7            1           0                 0  \n",
       "\n",
       "[4 rows x 24 columns]"
      ]
     },
     "execution_count": 65,
     "metadata": {},
     "output_type": "execute_result"
    }
   ],
   "source": [
    "dftmp.head(4)"
   ]
  },
  {
   "cell_type": "code",
   "execution_count": 66,
   "id": "74a13b62",
   "metadata": {},
   "outputs": [],
   "source": [
    "predict_bymonthplatform = dftmp.groupby(['start_month', 'platform']).agg({'t_value': np.mean, 'real_revenue': np.mean}).reset_index()"
   ]
  },
  {
   "cell_type": "code",
   "execution_count": 69,
   "id": "e1b9ef0e",
   "metadata": {},
   "outputs": [],
   "source": [
    "predict_bymonthplatform_ios = predict_bymonthplatform.loc[predict_bymonthplatform['platform']=='ios',:]"
   ]
  },
  {
   "cell_type": "code",
   "execution_count": 70,
   "id": "54b44201",
   "metadata": {},
   "outputs": [
    {
     "data": {
      "text/plain": [
       "<AxesSubplot:>"
      ]
     },
     "execution_count": 70,
     "metadata": {},
     "output_type": "execute_result"
    },
    {
     "data": {
      "image/png": "[encoded data removed]",
      "text/plain": [
       "<Figure size 432x288 with 1 Axes>"
      ]
     },
     "metadata": {
      "needs_background": "light"
     },
     "output_type": "display_data"
    }
   ],
   "source": [
    "predict_bymonthplatform_ios.plot()"
   ]
  },
  {
   "cell_type": "code",
   "execution_count": 71,
   "id": "dbe0bbc1",
   "metadata": {},
   "outputs": [],
   "source": [
    "predict_bymonthplatform_android = predict_bymonthplatform.loc[predict_bymonthplatform['platform']=='android',:]"
   ]
  },
  {
   "cell_type": "code",
   "execution_count": 72,
   "id": "aa03f613",
   "metadata": {},
   "outputs": [
    {
     "data": {
      "text/plain": [
       "<AxesSubplot:>"
      ]
     },
     "execution_count": 72,
     "metadata": {},
     "output_type": "execute_result"
    },
    {
     "data": {
      "image/png": "[encoded data removed]",
      "text/plain": [
       "<Figure size 432x288 with 1 Axes>"
      ]
     },
     "metadata": {
      "needs_background": "light"
     },
     "output_type": "display_data"
    }
   ],
   "source": [
    "predict_bymonthplatform_android.plot()"
   ]
  },
  {
   "cell_type": "code",
   "execution_count": 73,
   "id": "456b49d9",
   "metadata": {},
   "outputs": [
    {
     "data": {
      "text/html": [
       "<div>\n",
       "<style scoped>\n",
       "    .dataframe tbody tr th:only-of-type {\n",
       "        vertical-align: middle;\n",
       "    }\n",
       "\n",
       "    .dataframe tbody tr th {\n",
       "        vertical-align: top;\n",
       "    }\n",
       "\n",
       "    .dataframe thead th {\n",
       "        text-align: right;\n",
       "    }\n",
       "</style>\n",
       "<table border=\"1\" class=\"dataframe\">\n",
       "  <thead>\n",
       "    <tr style=\"text-align: right;\">\n",
       "      <th></th>\n",
       "      <th>start_month</th>\n",
       "      <th>platform</th>\n",
       "      <th>t_value</th>\n",
       "      <th>real_revenue</th>\n",
       "    </tr>\n",
       "  </thead>\n",
       "  <tbody>\n",
       "    <tr>\n",
       "      <th>0</th>\n",
       "      <td>2021-01-01</td>\n",
       "      <td>0</td>\n",
       "      <td>7.850212</td>\n",
       "      <td>5.248767</td>\n",
       "    </tr>\n",
       "    <tr>\n",
       "      <th>1</th>\n",
       "      <td>2021-01-01</td>\n",
       "      <td>android</td>\n",
       "      <td>16.564829</td>\n",
       "      <td>15.176519</td>\n",
       "    </tr>\n",
       "    <tr>\n",
       "      <th>2</th>\n",
       "      <td>2021-01-01</td>\n",
       "      <td>ios</td>\n",
       "      <td>19.831606</td>\n",
       "      <td>18.732509</td>\n",
       "    </tr>\n",
       "    <tr>\n",
       "      <th>3</th>\n",
       "      <td>2021-02-01</td>\n",
       "      <td>0</td>\n",
       "      <td>8.116141</td>\n",
       "      <td>6.001573</td>\n",
       "    </tr>\n",
       "    <tr>\n",
       "      <th>4</th>\n",
       "      <td>2021-02-01</td>\n",
       "      <td>android</td>\n",
       "      <td>18.605088</td>\n",
       "      <td>17.157173</td>\n",
       "    </tr>\n",
       "  </tbody>\n",
       "</table>\n",
       "</div>"
      ],
      "text/plain": [
       "  start_month platform    t_value  real_revenue\n",
       "0  2021-01-01        0   7.850212      5.248767\n",
       "1  2021-01-01  android  16.564829     15.176519\n",
       "2  2021-01-01      ios  19.831606     18.732509\n",
       "3  2021-02-01        0   8.116141      6.001573\n",
       "4  2021-02-01  android  18.605088     17.157173"
      ]
     },
     "execution_count": 73,
     "metadata": {},
     "output_type": "execute_result"
    }
   ],
   "source": [
    "predict_bymonthplatform.head(5)"
   ]
  },
  {
   "cell_type": "code",
   "execution_count": 82,
   "id": "af37a3ea",
   "metadata": {},
   "outputs": [],
   "source": [
    "predict_pivot = predict_bymonthplatform.loc[predict_bymonthplatform['platform'].isin(['ios', 'android']),['t_value', 'start_month', 'platform']]"
   ]
  },
  {
   "cell_type": "code",
   "execution_count": 83,
   "id": "78199f7b",
   "metadata": {},
   "outputs": [],
   "source": [
    "predict_df = pd.pivot_table(predict_pivot, index=['start_month'], columns='platform', values='t_value', aggfunc='sum')"
   ]
  },
  {
   "cell_type": "code",
   "execution_count": 84,
   "id": "f3743b9b",
   "metadata": {},
   "outputs": [
    {
     "data": {
      "text/html": [
       "<div>\n",
       "<style scoped>\n",
       "    .dataframe tbody tr th:only-of-type {\n",
       "        vertical-align: middle;\n",
       "    }\n",
       "\n",
       "    .dataframe tbody tr th {\n",
       "        vertical-align: top;\n",
       "    }\n",
       "\n",
       "    .dataframe thead th {\n",
       "        text-align: right;\n",
       "    }\n",
       "</style>\n",
       "<table border=\"1\" class=\"dataframe\">\n",
       "  <thead>\n",
       "    <tr style=\"text-align: right;\">\n",
       "      <th>platform</th>\n",
       "      <th>android</th>\n",
       "      <th>ios</th>\n",
       "    </tr>\n",
       "    <tr>\n",
       "      <th>start_month</th>\n",
       "      <th></th>\n",
       "      <th></th>\n",
       "    </tr>\n",
       "  </thead>\n",
       "  <tbody>\n",
       "    <tr>\n",
       "      <th>2021-01-01</th>\n",
       "      <td>16.564829</td>\n",
       "      <td>19.831606</td>\n",
       "    </tr>\n",
       "    <tr>\n",
       "      <th>2021-02-01</th>\n",
       "      <td>18.605088</td>\n",
       "      <td>21.798804</td>\n",
       "    </tr>\n",
       "    <tr>\n",
       "      <th>2021-03-01</th>\n",
       "      <td>16.259466</td>\n",
       "      <td>20.387722</td>\n",
       "    </tr>\n",
       "    <tr>\n",
       "      <th>2021-04-01</th>\n",
       "      <td>14.012981</td>\n",
       "      <td>19.790171</td>\n",
       "    </tr>\n",
       "    <tr>\n",
       "      <th>2021-05-01</th>\n",
       "      <td>16.718970</td>\n",
       "      <td>23.290099</td>\n",
       "    </tr>\n",
       "    <tr>\n",
       "      <th>2021-06-01</th>\n",
       "      <td>19.785947</td>\n",
       "      <td>25.737430</td>\n",
       "    </tr>\n",
       "    <tr>\n",
       "      <th>2021-07-01</th>\n",
       "      <td>23.907261</td>\n",
       "      <td>26.736917</td>\n",
       "    </tr>\n",
       "    <tr>\n",
       "      <th>2021-08-01</th>\n",
       "      <td>24.933536</td>\n",
       "      <td>28.207124</td>\n",
       "    </tr>\n",
       "    <tr>\n",
       "      <th>2021-09-01</th>\n",
       "      <td>26.354483</td>\n",
       "      <td>29.281975</td>\n",
       "    </tr>\n",
       "    <tr>\n",
       "      <th>2021-10-01</th>\n",
       "      <td>27.807394</td>\n",
       "      <td>31.099523</td>\n",
       "    </tr>\n",
       "    <tr>\n",
       "      <th>2021-11-01</th>\n",
       "      <td>29.291647</td>\n",
       "      <td>31.512105</td>\n",
       "    </tr>\n",
       "    <tr>\n",
       "      <th>2021-12-01</th>\n",
       "      <td>29.561139</td>\n",
       "      <td>30.619753</td>\n",
       "    </tr>\n",
       "    <tr>\n",
       "      <th>2022-01-01</th>\n",
       "      <td>27.138944</td>\n",
       "      <td>27.413969</td>\n",
       "    </tr>\n",
       "  </tbody>\n",
       "</table>\n",
       "</div>"
      ],
      "text/plain": [
       "platform       android        ios\n",
       "start_month                      \n",
       "2021-01-01   16.564829  19.831606\n",
       "2021-02-01   18.605088  21.798804\n",
       "2021-03-01   16.259466  20.387722\n",
       "2021-04-01   14.012981  19.790171\n",
       "2021-05-01   16.718970  23.290099\n",
       "2021-06-01   19.785947  25.737430\n",
       "2021-07-01   23.907261  26.736917\n",
       "2021-08-01   24.933536  28.207124\n",
       "2021-09-01   26.354483  29.281975\n",
       "2021-10-01   27.807394  31.099523\n",
       "2021-11-01   29.291647  31.512105\n",
       "2021-12-01   29.561139  30.619753\n",
       "2022-01-01   27.138944  27.413969"
      ]
     },
     "execution_count": 84,
     "metadata": {},
     "output_type": "execute_result"
    }
   ],
   "source": [
    "predict_df"
   ]
  },
  {
   "cell_type": "code",
   "execution_count": 85,
   "id": "2b2bf133",
   "metadata": {},
   "outputs": [
    {
     "data": {
      "text/plain": [
       "<AxesSubplot:xlabel='start_month'>"
      ]
     },
     "execution_count": 85,
     "metadata": {},
     "output_type": "execute_result"
    },
    {
     "data": {
      "image/png": "[encoded data removed]",
      "text/plain": [
       "<Figure size 432x288 with 1 Axes>"
      ]
     },
     "metadata": {
      "needs_background": "light"
     },
     "output_type": "display_data"
    }
   ],
   "source": [
    "predict_df.plot()"
   ]
  }
 ],
 "metadata": {
  "kernelspec": {
   "display_name": "Python 3 (ipykernel)",
   "language": "python",
   "name": "python3"
  },
  "language_info": {
   "codemirror_mode": {
    "name": "ipython",
    "version": 3
   },
   "file_extension": ".py",
   "mimetype": "text/x-python",
   "name": "python",
   "nbconvert_exporter": "python",
   "pygments_lexer": "ipython3",
   "version": "3.9.13"
  }
 },
 "nbformat": 4,
 "nbformat_minor": 5
}
