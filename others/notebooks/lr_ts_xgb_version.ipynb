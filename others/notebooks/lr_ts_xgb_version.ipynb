{
 "cells": [
  {
   "cell_type": "raw",
   "id": "14b21bd0-2353-414f-8f5e-8ea79ca38d33",
   "metadata": {},
   "source": [
    "<h3>\n",
    "    Three tables for this analysis <br>\n",
    "     * select * from sandbox.dev_yyang.lossrate_daily   --lossrate_daily.csv\n",
    "     * select * from sandbox.dev_yyang.loss_rate_feature_history ---lossrate_history.csv\n",
    "     * select * from sandbox.dev_yyang.loss_rate_feature_disburse  ---lossrate_disbursement.csv\n",
    "</h3>"
   ]
  },
  {
   "cell_type": "code",
   "execution_count": 215,
   "id": "c4a86a0c-b2d1-41b9-b612-1560be4db6ae",
   "metadata": {},
   "outputs": [],
   "source": [
    "!cp ~/Downloads/lossrate_*.csv ./"
   ]
  },
  {
   "cell_type": "code",
   "execution_count": 216,
   "id": "68a02d17-989f-4226-a3d3-90da8e3454b0",
   "metadata": {},
   "outputs": [
    {
     "name": "stdout",
     "output_type": "stream",
     "text": [
      "loss_arrival.csv           ltv_tf_version_2.ipynb\n",
      "lossrate_daily.csv         ltv_train.csv\n",
      "lossrate_disbursement.csv  ltv_train_64.csv\n",
      "lossrate_history.csv       new_ltv_training.csv\n",
      "lr_time_series_model.ipynb optuna.db\n",
      "lr_ts_xgb_version.ipynb    taxi-train.csv\n",
      "ltv_predict.csv            taxi-valid.csv\n",
      "ltv_tf_version.ipynb       taxifare.ipynb\n"
     ]
    }
   ],
   "source": [
    "!ls"
   ]
  },
  {
   "cell_type": "code",
   "execution_count": 5,
   "id": "6edbf8cb-2f3f-4041-a94b-3646d58a2949",
   "metadata": {},
   "outputs": [],
   "source": [
    "import pandas as pd \n",
    "import numpy as np \n",
    "import matplotlib.pyplot as plt\n",
    "import xgboost as xgb"
   ]
  },
  {
   "cell_type": "code",
   "execution_count": 6,
   "id": "e3b836c8-8e0d-4e0f-baa2-1f9cd6b7f9d2",
   "metadata": {},
   "outputs": [],
   "source": [
    "loss_daily = pd.read_csv(\"lossrate_daily.csv\")"
   ]
  },
  {
   "cell_type": "code",
   "execution_count": 7,
   "id": "d5d44a4b-bc2e-40ae-b6ea-10eae23eaf85",
   "metadata": {},
   "outputs": [
    {
     "data": {
      "text/plain": [
       "Index(['DISBURSEMENT_DS', 'TOTAL_RECEIVABLES', 'TOTAL_DISBURSEMENT_AMOUNT',\n",
       "       'TOTAL_PLEDGED_REVENUE', 'D_0_LOSS_RATE', 'D_1_LOSS_RATE',\n",
       "       'D_2_LOSS_RATE', 'D_3_LOSS_RATE', 'D_4_LOSS_RATE', 'D_5_LOSS_RATE',\n",
       "       ...\n",
       "       'D_353_LOSS_RATE', 'D_354_LOSS_RATE', 'D_355_LOSS_RATE',\n",
       "       'D_356_LOSS_RATE', 'D_357_LOSS_RATE', 'D_358_LOSS_RATE',\n",
       "       'D_359_LOSS_RATE', 'D_360_LOSS_RATE', 'D_361_LOSS_RATE', 'DIFF'],\n",
       "      dtype='object', length=367)"
      ]
     },
     "execution_count": 7,
     "metadata": {},
     "output_type": "execute_result"
    }
   ],
   "source": [
    "loss_daily.columns"
   ]
  },
  {
   "cell_type": "code",
   "execution_count": 217,
   "id": "d2fa5290-069b-4421-a3b0-a3bee76d8c4f",
   "metadata": {},
   "outputs": [],
   "source": [
    "loss_history = pd.read_csv(\"lossrate_history.csv\")"
   ]
  },
  {
   "cell_type": "code",
   "execution_count": 218,
   "id": "02132e6b-3226-457e-8e82-2295e6416a20",
   "metadata": {},
   "outputs": [],
   "source": [
    "loss_dis = pd.read_csv(\"lossrate_disbursement.csv\")"
   ]
  },
  {
   "cell_type": "code",
   "execution_count": 13,
   "id": "e3862be2-0d7a-4eb5-ae42-496f572c233a",
   "metadata": {},
   "outputs": [],
   "source": [
    "df_daily = loss_daily.sort_values(by=['DISBURSEMENT_DS'])"
   ]
  },
  {
   "cell_type": "code",
   "execution_count": 227,
   "id": "c0d2e04e-a140-4d79-a17b-59b10fe04412",
   "metadata": {},
   "outputs": [],
   "source": [
    "def extract_time(df_raw, time_feature, col_feature, h=14):\n",
    "    df = df_raw.sort_values(by=['DISBURSEMENT_DS'])\n",
    "    length = df.shape[0]\n",
    "    date_num = np.array(df[time_feature][h:length])\n",
    "    y = np.array(df[col_feature][h:length])\n",
    "    x = np.array([df[col_feature][i-14:i][::-1] for i in range(h, length)])\n",
    "    colname = ['pass_day_col' + str(i) for i in range(0, h)]\n",
    "    df_g = pd.DataFrame(date_num, columns=['DISBURSEMENT_DS'])\n",
    "    df_g['y'] = y\n",
    "    df_g[colname] = x\n",
    "    return df_g"
   ]
  },
  {
   "cell_type": "code",
   "execution_count": 228,
   "id": "900330f0-24f2-43ff-a71e-4ace6ed36c2f",
   "metadata": {},
   "outputs": [],
   "source": [
    "df_daily = extract_time(loss_daily, 'DISBURSEMENT_DS', 'D_0_LOSS_RATE', h=14)"
   ]
  },
  {
   "cell_type": "code",
   "execution_count": 147,
   "id": "e7cff1cc-aeac-4178-8dfe-0d19d3cf66f7",
   "metadata": {},
   "outputs": [],
   "source": [
    "def bucket(item):\n",
    "    if int(item) <= 10:\n",
    "        r_str = str(item)\n",
    "    elif int(item) <= 50:\n",
    "        r_str = '10-50'\n",
    "    elif int(item) <= 100:\n",
    "        r_str = '50-100'\n",
    "    elif int(item) <= 200:\n",
    "        r_str = '100-200'\n",
    "    elif int(item) <= 300:\n",
    "        r_str = '200-300'\n",
    "    else:\n",
    "        r_str =  'over 350'\n",
    "    return r_str"
   ]
  },
  {
   "cell_type": "code",
   "execution_count": 219,
   "id": "0f8fd060-3381-4ac3-8467-9b28c927a71b",
   "metadata": {},
   "outputs": [],
   "source": [
    "loss_history['bucket'] = loss_history['ROWNUMBER'].apply(lambda x: bucket(x))"
   ]
  },
  {
   "cell_type": "code",
   "execution_count": 220,
   "id": "31b0e27c-3a50-45d4-868b-00b1fa3ba869",
   "metadata": {},
   "outputs": [],
   "source": [
    "df_his = pd.pivot_table(loss_history, \n",
    "    index='DISBURSEMENT_DS', columns='bucket', values='COUNT_HISTORY', aggfunc='sum')"
   ]
  },
  {
   "cell_type": "code",
   "execution_count": 221,
   "id": "4e318b37-053e-429a-acc3-8ebfb45451fe",
   "metadata": {},
   "outputs": [
    {
     "data": {
      "text/plain": [
       "(2627, 15)"
      ]
     },
     "execution_count": 221,
     "metadata": {},
     "output_type": "execute_result"
    }
   ],
   "source": [
    "df_his.shape"
   ]
  },
  {
   "cell_type": "code",
   "execution_count": 222,
   "id": "933637a4-1a7b-4a7d-bd68-25c2fbb5bcf1",
   "metadata": {},
   "outputs": [],
   "source": [
    "df_disburse = pd.pivot_table(loss_dis, index='DISBURSEMENT_DS', columns='AMOUNT_BUCKET', values='COUNT_AMOUNT', aggfunc='sum')"
   ]
  },
  {
   "cell_type": "code",
   "execution_count": 223,
   "id": "900ef0d9-9717-4a01-8498-911f55c45910",
   "metadata": {},
   "outputs": [],
   "source": [
    "df_disburse.fillna(0, inplace=True)"
   ]
  },
  {
   "cell_type": "code",
   "execution_count": 165,
   "id": "960299b1-69cb-4a53-b79c-f1319aac3de7",
   "metadata": {},
   "outputs": [],
   "source": [
    "def create_rate_df(df):\n",
    "    df.fillna(0, inplace=True)\n",
    "    cols = []\n",
    "    df['total'] = df.sum(axis=1)\n",
    "    for item in df.columns:\n",
    "        if item != 'total':\n",
    "            df[item + '_rate'] = df[item]/df['total']\n",
    "            cols.append(item + '_rate')\n",
    "    return df.loc[:, cols].reset_index()\n",
    "  \n",
    "    "
   ]
  },
  {
   "cell_type": "code",
   "execution_count": 224,
   "id": "80d63df0-2f6c-47e8-8108-e2161f8dc2b5",
   "metadata": {},
   "outputs": [],
   "source": [
    "df_hist_update = create_rate_df(df_his)"
   ]
  },
  {
   "cell_type": "code",
   "execution_count": 225,
   "id": "efcafa17-17d7-4b71-a033-50f3710366ea",
   "metadata": {},
   "outputs": [],
   "source": [
    "df_disburse_update = create_rate_df(df_disburse)"
   ]
  },
  {
   "cell_type": "code",
   "execution_count": 226,
   "id": "b6437d96-a022-44f0-bc35-cab63107a9f9",
   "metadata": {},
   "outputs": [
    {
     "data": {
      "text/plain": [
       "Index(['date', 'y', 'pass_day_col0', 'pass_day_col1', 'pass_day_col2',\n",
       "       'pass_day_col3', 'pass_day_col4', 'pass_day_col5', 'pass_day_col6',\n",
       "       'pass_day_col7', 'pass_day_col8', 'pass_day_col9', 'pass_day_col10',\n",
       "       'pass_day_col11', 'pass_day_col12', 'pass_day_col13'],\n",
       "      dtype='object')"
      ]
     },
     "execution_count": 226,
     "metadata": {},
     "output_type": "execute_result"
    }
   ],
   "source": [
    "df_daily.columns"
   ]
  },
  {
   "cell_type": "code",
   "execution_count": 229,
   "id": "c2f00a1f-a84f-40f5-9be1-a27be74a2403",
   "metadata": {},
   "outputs": [],
   "source": [
    "df_combine1 = pd.merge(df_daily, df_hist_update, on='DISBURSEMENT_DS', how='inner')"
   ]
  },
  {
   "cell_type": "code",
   "execution_count": 230,
   "id": "c838b555-d4dd-45c9-8bcc-190f55b1653a",
   "metadata": {},
   "outputs": [],
   "source": [
    "df_combine2 = pd.merge(df_combine1, df_disburse_update, on='DISBURSEMENT_DS', how='inner')"
   ]
  },
  {
   "cell_type": "code",
   "execution_count": 231,
   "id": "1c0de6b8-8379-4b53-ad13-e22cc6f6176b",
   "metadata": {},
   "outputs": [
    {
     "data": {
      "text/plain": [
       "(1245, 37)"
      ]
     },
     "execution_count": 231,
     "metadata": {},
     "output_type": "execute_result"
    }
   ],
   "source": [
    "df_combine2.shape"
   ]
  },
  {
   "cell_type": "code",
   "execution_count": 232,
   "id": "1429cf53-9249-4974-9a63-443f81e987ca",
   "metadata": {},
   "outputs": [
    {
     "data": {
      "text/plain": [
       "Index(['DISBURSEMENT_DS', 'y', 'pass_day_col0', 'pass_day_col1',\n",
       "       'pass_day_col2', 'pass_day_col3', 'pass_day_col4', 'pass_day_col5',\n",
       "       'pass_day_col6', 'pass_day_col7', 'pass_day_col8', 'pass_day_col9',\n",
       "       'pass_day_col10', 'pass_day_col11', 'pass_day_col12', 'pass_day_col13',\n",
       "       '1_rate', '10_rate', '10-50_rate', '100-200_rate', '2_rate',\n",
       "       '200-300_rate', '3_rate', '4_rate', '5_rate', '50-100_rate', '6_rate',\n",
       "       '7_rate', '8_rate', '9_rate', 'over 350_rate', '0-100-dollar_rate',\n",
       "       '100-200-dollar_rate', '200-300-dollar_rate', '300-400-dollar_rate',\n",
       "       '400-500-dollar_rate', 'over-500-dollar_rate'],\n",
       "      dtype='object')"
      ]
     },
     "execution_count": 232,
     "metadata": {},
     "output_type": "execute_result"
    }
   ],
   "source": [
    "df_combine2.columns"
   ]
  },
  {
   "cell_type": "code",
   "execution_count": 233,
   "id": "858cb58b-ab88-4bce-bdae-cdbd485ddfa8",
   "metadata": {},
   "outputs": [],
   "source": [
    "df_predict = df_combine2.iloc[-20:]\n",
    "df_train_valid = df_combine2.iloc[0:-20]"
   ]
  },
  {
   "cell_type": "code",
   "execution_count": 234,
   "id": "dc078d9d-e064-4b5a-9252-da540afabd37",
   "metadata": {},
   "outputs": [],
   "source": [
    "def split_train_test(length, r1, r2):\n",
    "    shuffle_index = np.random.permutation(length)\n",
    "    test_size = int(length * r1)\n",
    "    valid_size = int(length * r2)\n",
    "    print(test_size)\n",
    "    print(valid_size)\n",
    "    test_index = shuffle_index[:test_size]\n",
    "    valid_index = shuffle_index[test_size: valid_size]\n",
    "    train_index = shuffle_index[valid_size:]\n",
    "    return test_index, valid_index, train_index"
   ]
  },
  {
   "cell_type": "code",
   "execution_count": 235,
   "id": "8ec528d8-47d4-45a9-b8f3-71f610b877a2",
   "metadata": {},
   "outputs": [
    {
     "name": "stdout",
     "output_type": "stream",
     "text": [
      "245\n",
      "490\n"
     ]
    }
   ],
   "source": [
    "test_index, valid_index, train_index = split_train_test(df_train_valid.shape[0], 0.2, 0.4)"
   ]
  },
  {
   "cell_type": "code",
   "execution_count": 236,
   "id": "a9de5d90-9ce4-4227-bdfb-ae468328e8b9",
   "metadata": {},
   "outputs": [],
   "source": [
    "train = df_train_valid.iloc[train_index]\n",
    "val = df_train_valid.iloc[valid_index]\n",
    "test = df_train_valid.iloc[test_index]"
   ]
  },
  {
   "cell_type": "code",
   "execution_count": 238,
   "id": "3ff6620e-8dc6-4130-8e3e-9afb372a5bac",
   "metadata": {},
   "outputs": [],
   "source": [
    "X_COL = set(df_combine2.columns)\n",
    "X_COL.remove('y')\n",
    "X_COL.remove('DISBURSEMENT_DS')\n",
    "X_COL = list(X_COL)"
   ]
  },
  {
   "cell_type": "code",
   "execution_count": 239,
   "id": "8ad91b73-1c03-40e4-b8fd-7a35dc93a1cc",
   "metadata": {},
   "outputs": [],
   "source": [
    "Y_COL = 'y'"
   ]
  },
  {
   "cell_type": "code",
   "execution_count": 240,
   "id": "ec546986-7238-4434-b6e8-f64d5645a7bc",
   "metadata": {},
   "outputs": [],
   "source": [
    "dtrain = xgb.DMatrix(train[X_COL], label=train[Y_COL], enable_categorical=True)\n",
    "dvalid = xgb.DMatrix(val[X_COL], label=val[Y_COL], enable_categorical=True)\n",
    "dtest = xgb.DMatrix(test[X_COL], label=test[Y_COL], enable_categorical=True)"
   ]
  },
  {
   "cell_type": "code",
   "execution_count": 241,
   "id": "456e63de-895d-4451-9f25-8b60c592c9ef",
   "metadata": {},
   "outputs": [],
   "source": [
    "dpredict = xgb.DMatrix(df_predict[X_COL], label=df_predict[Y_COL])"
   ]
  },
  {
   "cell_type": "code",
   "execution_count": 242,
   "id": "9c2244b6-8d25-40a5-a439-1d82784f2610",
   "metadata": {},
   "outputs": [
    {
     "name": "stderr",
     "output_type": "stream",
     "text": [
      "/var/folders/d1/rw6rwxz927g254dvggnj0jpr0000gn/T/ipykernel_3129/206844803.py:33: ExperimentalWarning: QMCSampler is experimental (supported from v3.0.0). The interface can change in the future.\n",
      "  sampler = QMCSampler(seed=42)\n",
      "[I 2024-06-12 11:08:00,635] A new study created in RDB with name: no-name-f7f5db87-a9b6-4049-ac55-47e34892a2ee\n",
      "[I 2024-06-12 11:08:00,749] Trial 0 finished with value: 0.018044929951429367 and parameters: {'max_depth': 5, 'learning_rate': 0.7969454818643931, 'subsample': 0.9463987883622811, 'colsample_bytree': 0.7993292420985183, 'num_boost_round': 240}. Best is trial 0 with value: 0.018044929951429367.\n",
      "[I 2024-06-12 11:08:00,831] Trial 1 finished with value: 0.02000584453344345 and parameters: {'max_depth': 3, 'learning_rate': 0.010000000000000005, 'subsample': 0.8, 'colsample_bytree': 0.5, 'num_boost_round': 100}. Best is trial 0 with value: 0.018044929951429367.\n",
      "[I 2024-06-12 11:08:01,093] Trial 2 finished with value: 0.014498685486614704 and parameters: {'max_depth': 7, 'learning_rate': 0.10000000000000002, 'subsample': 0.9, 'colsample_bytree': 0.75, 'num_boost_round': 550}. Best is trial 2 with value: 0.014498685486614704.\n",
      "[I 2024-06-12 11:08:02,112] Trial 3 finished with value: 0.013987688347697258 and parameters: {'max_depth': 9, 'learning_rate': 0.0316227766016838, 'subsample': 0.8500000000000001, 'colsample_bytree': 0.625, 'num_boost_round': 775}. Best is trial 3 with value: 0.013987688347697258.\n",
      "[I 2024-06-12 11:08:02,284] Trial 4 finished with value: 0.014670345932245255 and parameters: {'max_depth': 5, 'learning_rate': 0.31622776601683805, 'subsample': 0.95, 'colsample_bytree': 0.875, 'num_boost_round': 325}. Best is trial 3 with value: 0.013987688347697258.\n",
      "[I 2024-06-12 11:08:02,891] Trial 5 finished with value: 0.014390101656317711 and parameters: {'max_depth': 5, 'learning_rate': 0.05623413251903493, 'subsample': 0.925, 'colsample_bytree': 0.9375, 'num_boost_round': 437}. Best is trial 3 with value: 0.013987688347697258.\n",
      "[I 2024-06-12 11:08:03,059] Trial 6 finished with value: 0.016810083761811256 and parameters: {'max_depth': 9, 'learning_rate': 0.562341325190349, 'subsample': 0.8250000000000001, 'colsample_bytree': 0.6875, 'num_boost_round': 888}. Best is trial 3 with value: 0.013987688347697258.\n",
      "[I 2024-06-12 11:08:04,315] Trial 7 finished with value: 0.014205139130353928 and parameters: {'max_depth': 7, 'learning_rate': 0.01778279410038924, 'subsample': 0.975, 'colsample_bytree': 0.8125, 'num_boost_round': 663}. Best is trial 3 with value: 0.013987688347697258.\n",
      "[I 2024-06-12 11:08:04,437] Trial 8 finished with value: 0.0140065373852849 and parameters: {'max_depth': 3, 'learning_rate': 0.1778279410038923, 'subsample': 0.875, 'colsample_bytree': 0.5625, 'num_boost_round': 212}. Best is trial 3 with value: 0.013987688347697258.\n",
      "[I 2024-06-12 11:08:04,893] Trial 9 finished with value: 0.01376948319375515 and parameters: {'max_depth': 4, 'learning_rate': 0.04216965034285824, 'subsample': 0.9875, 'colsample_bytree': 0.71875, 'num_boost_round': 606}. Best is trial 9 with value: 0.01376948319375515.\n",
      "[I 2024-06-12 11:08:05,020] Trial 10 finished with value: 0.015181452967226505 and parameters: {'max_depth': 8, 'learning_rate': 0.4216965034285823, 'subsample': 0.8875000000000001, 'colsample_bytree': 0.96875, 'num_boost_round': 156}. Best is trial 9 with value: 0.01376948319375515.\n",
      "[I 2024-06-12 11:08:06,400] Trial 11 finished with value: 0.014363323338329792 and parameters: {'max_depth': 10, 'learning_rate': 0.013335214321633242, 'subsample': 0.9375, 'colsample_bytree': 0.59375, 'num_boost_round': 381}. Best is trial 9 with value: 0.01376948319375515.\n",
      "[I 2024-06-12 11:08:06,610] Trial 12 finished with value: 0.01454976201057434 and parameters: {'max_depth': 6, 'learning_rate': 0.13335214321633246, 'subsample': 0.8375, 'colsample_bytree': 0.84375, 'num_boost_round': 832}. Best is trial 9 with value: 0.01376948319375515.\n",
      "[I 2024-06-12 11:08:07,296] Trial 13 finished with value: 0.013847350142896175 and parameters: {'max_depth': 5, 'learning_rate': 0.023713737056616564, 'subsample': 0.8625, 'colsample_bytree': 0.78125, 'num_boost_round': 944}. Best is trial 9 with value: 0.01376948319375515.\n",
      "[I 2024-06-12 11:08:07,449] Trial 14 finished with value: 0.014559305272996426 and parameters: {'max_depth': 9, 'learning_rate': 0.23713737056616557, 'subsample': 0.9625, 'colsample_bytree': 0.53125, 'num_boost_round': 494}. Best is trial 9 with value: 0.01376948319375515.\n",
      "[I 2024-06-12 11:08:07,843] Trial 15 finished with value: 0.014163197949528694 and parameters: {'max_depth': 7, 'learning_rate': 0.07498942093324559, 'subsample': 0.8125, 'colsample_bytree': 0.90625, 'num_boost_round': 268}. Best is trial 9 with value: 0.01376948319375515.\n",
      "[I 2024-06-12 11:08:07,953] Trial 16 finished with value: 0.016605384647846222 and parameters: {'max_depth': 3, 'learning_rate': 0.7498942093324561, 'subsample': 0.9125, 'colsample_bytree': 0.65625, 'num_boost_round': 719}. Best is trial 9 with value: 0.01376948319375515.\n",
      "[I 2024-06-12 11:08:08,237] Trial 17 finished with value: 0.013654832728207111 and parameters: {'max_depth': 3, 'learning_rate': 0.08659643233600657, 'subsample': 0.89375, 'colsample_bytree': 0.828125, 'num_boost_round': 353}. Best is trial 17 with value: 0.013654832728207111.\n",
      "[I 2024-06-12 11:08:08,322] Trial 18 finished with value: 0.01725502498447895 and parameters: {'max_depth': 7, 'learning_rate': 0.8659643233600651, 'subsample': 0.99375, 'colsample_bytree': 0.578125, 'num_boost_round': 803}. Best is trial 17 with value: 0.013654832728207111.\n",
      "[I 2024-06-12 11:08:09,427] Trial 19 finished with value: 0.013992414809763432 and parameters: {'max_depth': 9, 'learning_rate': 0.02738419634264362, 'subsample': 0.84375, 'colsample_bytree': 0.953125, 'num_boost_round': 578}. Best is trial 17 with value: 0.013654832728207111.\n",
      "[I 2024-06-12 11:08:09,553] Trial 20 finished with value: 0.01497127115726471 and parameters: {'max_depth': 5, 'learning_rate': 0.27384196342643613, 'subsample': 0.94375, 'colsample_bytree': 0.703125, 'num_boost_round': 128}. Best is trial 17 with value: 0.013654832728207111.\n",
      "[I 2024-06-12 11:08:09,941] Trial 21 finished with value: 0.014481754042208195 and parameters: {'max_depth': 6, 'learning_rate': 0.015399265260594926, 'subsample': 0.96875, 'colsample_bytree': 0.640625, 'num_boost_round': 240}. Best is trial 17 with value: 0.013654832728207111.\n",
      "[I 2024-06-12 11:08:10,249] Trial 22 finished with value: 0.014570076949894428 and parameters: {'max_depth': 10, 'learning_rate': 0.15399265260594924, 'subsample': 0.86875, 'colsample_bytree': 0.890625, 'num_boost_round': 691}. Best is trial 17 with value: 0.013654832728207111.\n",
      "[I 2024-06-12 11:08:10,759] Trial 23 finished with value: 0.013719707727432251 and parameters: {'max_depth': 8, 'learning_rate': 0.04869675251658632, 'subsample': 0.91875, 'colsample_bytree': 0.515625, 'num_boost_round': 916}. Best is trial 17 with value: 0.013654832728207111.\n",
      "[I 2024-06-12 11:08:10,865] Trial 24 finished with value: 0.015580895356833935 and parameters: {'max_depth': 4, 'learning_rate': 0.48696752516586306, 'subsample': 0.8187500000000001, 'colsample_bytree': 0.765625, 'num_boost_round': 466}. Best is trial 17 with value: 0.013654832728207111.\n",
      "[I 2024-06-12 11:08:11,631] Trial 25 finished with value: 0.013593229465186596 and parameters: {'max_depth': 4, 'learning_rate': 0.020535250264571463, 'subsample': 0.90625, 'colsample_bytree': 0.921875, 'num_boost_round': 860}. Best is trial 25 with value: 0.013593229465186596.\n",
      "[I 2024-06-12 11:08:11,815] Trial 26 finished with value: 0.014943565241992474 and parameters: {'max_depth': 8, 'learning_rate': 0.20535250264571467, 'subsample': 0.80625, 'colsample_bytree': 0.671875, 'num_boost_round': 409}. Best is trial 25 with value: 0.013593229465186596.\n",
      "[I 2024-06-12 11:08:12,332] Trial 27 finished with value: 0.01439587865024805 and parameters: {'max_depth': 10, 'learning_rate': 0.06493816315762115, 'subsample': 0.95625, 'colsample_bytree': 0.796875, 'num_boost_round': 184}. Best is trial 25 with value: 0.013593229465186596.\n",
      "[I 2024-06-12 11:08:12,427] Trial 28 finished with value: 0.01649467647075653 and parameters: {'max_depth': 6, 'learning_rate': 0.6493816315762113, 'subsample': 0.8562500000000001, 'colsample_bytree': 0.546875, 'num_boost_round': 634}. Best is trial 25 with value: 0.013593229465186596.\n",
      "[I 2024-06-12 11:08:13,023] Trial 29 finished with value: 0.013732904568314552 and parameters: {'max_depth': 5, 'learning_rate': 0.03651741272548378, 'subsample': 0.83125, 'colsample_bytree': 0.609375, 'num_boost_round': 747}. Best is trial 25 with value: 0.013593229465186596.\n",
      "[I 2024-06-12 11:08:13,197] Trial 30 finished with value: 0.015266434289515018 and parameters: {'max_depth': 9, 'learning_rate': 0.3651741272548378, 'subsample': 0.93125, 'colsample_bytree': 0.859375, 'num_boost_round': 297}. Best is trial 25 with value: 0.013593229465186596.\n",
      "[I 2024-06-12 11:08:14,375] Trial 31 finished with value: 0.013999263755977154 and parameters: {'max_depth': 7, 'learning_rate': 0.01154781984689459, 'subsample': 0.8812500000000001, 'colsample_bytree': 0.734375, 'num_boost_round': 522}. Best is trial 25 with value: 0.013593229465186596.\n",
      "[I 2024-06-12 11:08:14,598] Trial 32 finished with value: 0.013722963631153107 and parameters: {'max_depth': 3, 'learning_rate': 0.11547819846894583, 'subsample': 0.98125, 'colsample_bytree': 0.984375, 'num_boost_round': 972}. Best is trial 25 with value: 0.013593229465186596.\n",
      "[I 2024-06-12 11:08:14,747] Trial 33 finished with value: 0.01399422436952591 and parameters: {'max_depth': 3, 'learning_rate': 0.033982083289425605, 'subsample': 0.940625, 'colsample_bytree': 0.7734375, 'num_boost_round': 226}. Best is trial 25 with value: 0.013593229465186596.\n",
      "[I 2024-06-12 11:08:14,868] Trial 34 finished with value: 0.015505330637097359 and parameters: {'max_depth': 7, 'learning_rate': 0.33982083289425596, 'subsample': 0.8406250000000001, 'colsample_bytree': 0.5234375, 'num_boost_round': 677}. Best is trial 25 with value: 0.013593229465186596.\n",
      "[I 2024-06-12 11:08:17,661] Trial 35 finished with value: 0.014345169067382812 and parameters: {'max_depth': 9, 'learning_rate': 0.010746078283213176, 'subsample': 0.990625, 'colsample_bytree': 0.8984375, 'num_boost_round': 902}. Best is trial 25 with value: 0.013593229465186596.\n",
      "[I 2024-06-12 11:08:17,952] Trial 36 finished with value: 0.014199554920196533 and parameters: {'max_depth': 5, 'learning_rate': 0.10746078283213178, 'subsample': 0.890625, 'colsample_bytree': 0.6484375, 'num_boost_round': 451}. Best is trial 25 with value: 0.013593229465186596.\n",
      "[I 2024-06-12 11:08:18,487] Trial 37 finished with value: 0.013761963695287704 and parameters: {'max_depth': 6, 'learning_rate': 0.019109529749704413, 'subsample': 0.815625, 'colsample_bytree': 0.7109375, 'num_boost_round': 339}. Best is trial 25 with value: 0.013593229465186596.\n",
      "[I 2024-06-12 11:08:18,791] Trial 38 finished with value: 0.014781166799366474 and parameters: {'max_depth': 10, 'learning_rate': 0.1910952974970441, 'subsample': 0.915625, 'colsample_bytree': 0.9609375, 'num_boost_round': 789}. Best is trial 25 with value: 0.013593229465186596.\n",
      "[I 2024-06-12 11:08:19,167] Trial 39 finished with value: 0.013705403544008732 and parameters: {'max_depth': 8, 'learning_rate': 0.060429639023813285, 'subsample': 0.8656250000000001, 'colsample_bytree': 0.5859375, 'num_boost_round': 564}. Best is trial 25 with value: 0.013593229465186596.\n",
      "[I 2024-06-12 11:08:19,264] Trial 40 finished with value: 0.015870271250605583 and parameters: {'max_depth': 4, 'learning_rate': 0.604296390238133, 'subsample': 0.965625, 'colsample_bytree': 0.8359375, 'num_boost_round': 114}. Best is trial 25 with value: 0.013593229465186596.\n",
      "[I 2024-06-12 11:08:19,925] Trial 41 finished with value: 0.01365017518401146 and parameters: {'max_depth': 4, 'learning_rate': 0.014330125702369637, 'subsample': 0.853125, 'colsample_bytree': 0.9921875, 'num_boost_round': 733}. Best is trial 25 with value: 0.013593229465186596.\n",
      "[I 2024-06-12 11:08:20,137] Trial 42 finished with value: 0.01414905209094286 and parameters: {'max_depth': 8, 'learning_rate': 0.14330125702369628, 'subsample': 0.953125, 'colsample_bytree': 0.7421875, 'num_boost_round': 283}. Best is trial 25 with value: 0.013593229465186596.\n",
      "[I 2024-06-12 11:08:20,978] Trial 43 finished with value: 0.014086809009313583 and parameters: {'max_depth': 10, 'learning_rate': 0.045315836376008195, 'subsample': 0.8031250000000001, 'colsample_bytree': 0.8671875, 'num_boost_round': 508}. Best is trial 25 with value: 0.013593229465186596.\n",
      "[I 2024-06-12 11:08:21,096] Trial 44 finished with value: 0.01563361845910549 and parameters: {'max_depth': 6, 'learning_rate': 0.4531583637600819, 'subsample': 0.9031250000000001, 'colsample_bytree': 0.6171875, 'num_boost_round': 958}. Best is trial 25 with value: 0.013593229465186596.\n",
      "[I 2024-06-12 11:08:21,348] Trial 45 finished with value: 0.014109539799392223 and parameters: {'max_depth': 5, 'learning_rate': 0.0805842187761482, 'subsample': 0.978125, 'colsample_bytree': 0.5546875, 'num_boost_round': 846}. Best is trial 25 with value: 0.013593229465186596.\n",
      "[I 2024-06-12 11:08:21,445] Trial 46 finished with value: 0.018833816051483154 and parameters: {'max_depth': 9, 'learning_rate': 0.8058421877614819, 'subsample': 0.878125, 'colsample_bytree': 0.8046875, 'num_boost_round': 395}. Best is trial 25 with value: 0.013593229465186596.\n",
      "[I 2024-06-12 11:08:21,830] Trial 47 finished with value: 0.014270159415900707 and parameters: {'max_depth': 7, 'learning_rate': 0.025482967479793468, 'subsample': 0.928125, 'colsample_bytree': 0.6796875, 'num_boost_round': 170}. Best is trial 25 with value: 0.013593229465186596.\n",
      "[I 2024-06-12 11:08:21,941] Trial 48 finished with value: 0.013989327475428581 and parameters: {'max_depth': 3, 'learning_rate': 0.2548296747979347, 'subsample': 0.828125, 'colsample_bytree': 0.9296875, 'num_boost_round': 620}. Best is trial 25 with value: 0.013593229465186596.\n",
      "[I 2024-06-12 11:08:22,190] Trial 49 finished with value: 0.01374141126871109 and parameters: {'max_depth': 3, 'learning_rate': 0.02942727176209283, 'subsample': 0.959375, 'colsample_bytree': 0.5703125, 'num_boost_round': 480}. Best is trial 25 with value: 0.013593229465186596.\n",
      "[I 2024-06-12 11:08:22,330] Trial 50 finished with value: 0.014342857524752617 and parameters: {'max_depth': 7, 'learning_rate': 0.2942727176209282, 'subsample': 0.859375, 'colsample_bytree': 0.8203125, 'num_boost_round': 930}. Best is trial 25 with value: 0.013593229465186596.\n",
      "[I 2024-06-12 11:08:22,640] Trial 51 finished with value: 0.014312800951302052 and parameters: {'max_depth': 9, 'learning_rate': 0.0930572040929699, 'subsample': 0.909375, 'colsample_bytree': 0.6953125, 'num_boost_round': 705}. Best is trial 25 with value: 0.013593229465186596.\n",
      "[I 2024-06-12 11:08:22,754] Trial 52 finished with value: 0.019493162631988525 and parameters: {'max_depth': 5, 'learning_rate': 0.9305720409296993, 'subsample': 0.8093750000000001, 'colsample_bytree': 0.9453125, 'num_boost_round': 254}. Best is trial 25 with value: 0.013593229465186596.\n",
      "[I 2024-06-12 11:08:23,054] Trial 53 finished with value: 0.01419191062450409 and parameters: {'max_depth': 6, 'learning_rate': 0.052329911468149484, 'subsample': 0.884375, 'colsample_bytree': 0.8828125, 'num_boost_round': 142}. Best is trial 25 with value: 0.013593229465186596.\n",
      "[I 2024-06-12 11:08:23,193] Trial 54 finished with value: 0.016665278002619743 and parameters: {'max_depth': 10, 'learning_rate': 0.5232991146814947, 'subsample': 0.984375, 'colsample_bytree': 0.6328125, 'num_boost_round': 592}. Best is trial 25 with value: 0.013593229465186596.\n",
      "[I 2024-06-12 11:08:24,658] Trial 55 finished with value: 0.014052939601242542 and parameters: {'max_depth': 8, 'learning_rate': 0.016548170999431816, 'subsample': 0.8343750000000001, 'colsample_bytree': 0.7578125, 'num_boost_round': 817}. Best is trial 25 with value: 0.013593229465186596.\n",
      "[I 2024-06-12 11:08:24,803] Trial 56 finished with value: 0.014064243994653225 and parameters: {'max_depth': 4, 'learning_rate': 0.1654817099943182, 'subsample': 0.934375, 'colsample_bytree': 0.5078125, 'num_boost_round': 367}. Best is trial 25 with value: 0.013593229465186596.\n",
      "[I 2024-06-12 11:08:25,248] Trial 57 finished with value: 0.013387375511229038 and parameters: {'max_depth': 4, 'learning_rate': 0.06978305848598666, 'subsample': 0.846875, 'colsample_bytree': 0.6640625, 'num_boost_round': 986}. Best is trial 57 with value: 0.013387375511229038.\n",
      "[I 2024-06-12 11:08:25,342] Trial 58 finished with value: 0.016879351809620857 and parameters: {'max_depth': 8, 'learning_rate': 0.6978305848598662, 'subsample': 0.946875, 'colsample_bytree': 0.9140625, 'num_boost_round': 536}. Best is trial 57 with value: 0.013387375511229038.\n",
      "[I 2024-06-12 11:08:26,291] Trial 59 finished with value: 0.014302559196949005 and parameters: {'max_depth': 10, 'learning_rate': 0.022067340690845903, 'subsample': 0.896875, 'colsample_bytree': 0.5390625, 'num_boost_round': 311}. Best is trial 57 with value: 0.013387375511229038.\n"
     ]
    },
    {
     "data": {
      "text/plain": [
       "{'max_depth': 4,\n",
       " 'learning_rate': 0.06978305848598666,\n",
       " 'subsample': 0.846875,\n",
       " 'colsample_bytree': 0.6640625,\n",
       " 'num_boost_round': 986}"
      ]
     },
     "execution_count": 242,
     "metadata": {},
     "output_type": "execute_result"
    }
   ],
   "source": [
    "import xgboost as xgb\n",
    "import optuna\n",
    "from optuna import Trial\n",
    "from optuna.samplers import TPESampler, QMCSampler\n",
    "from sklearn.metrics import root_mean_squared_error\n",
    "\n",
    "\n",
    "def train_model(dtrain, dvalid, num_boost_round, params):\n",
    "    return xgb.train(\n",
    "        params,\n",
    "        dtrain,\n",
    "        num_boost_round=num_boost_round,\n",
    "        evals=[(dvalid, \"valid\")],\n",
    "        verbose_eval=False,\n",
    "        early_stopping_rounds=100,\n",
    "    )\n",
    "\n",
    "\n",
    "def objective(trial: Trial, dtrain, dvalid):\n",
    "    params = {\n",
    "        \"max_depth\": trial.suggest_int(\"max_depth\", 3, 10),\n",
    "        \"learning_rate\": trial.suggest_float(\"learning_rate\", 0.01, 1.0, log=True),\n",
    "        \"subsample\": trial.suggest_float(\"subsample\", 0.8, 1.0),\n",
    "        \"colsample_bytree\": trial.suggest_float(\"colsample_bytree\", 0.5, 1.0),\n",
    "    }\n",
    "    num_boost_round = trial.suggest_int(\"num_boost_round\", 100, 1000)\n",
    "    model = train_model(dtrain, dvalid, num_boost_round, params)\n",
    "    preds = model.predict(dvalid)\n",
    "    score = root_mean_squared_error(dvalid.get_label(), preds)\n",
    "    return score\n",
    "\n",
    "\n",
    "sampler = QMCSampler(seed=42)\n",
    "study = optuna.create_study(\n",
    "    direction=\"minimize\", sampler=sampler, storage=\"sqlite:///optuna.db\"\n",
    ")\n",
    "study.optimize(lambda trial: objective(trial, dtrain, dvalid), n_trials=60)\n",
    "\n",
    "best_params = study.best_params\n",
    "\n",
    "best_params"
   ]
  },
  {
   "cell_type": "code",
   "execution_count": 243,
   "id": "9676a8c3-df58-44e8-9478-bfdbd16b3a22",
   "metadata": {},
   "outputs": [
    {
     "name": "stderr",
     "output_type": "stream",
     "text": [
      "/Users/yanchunyang/Documents/virenv/tensorflow/lib/python3.10/site-packages/xgboost/core.py:160: UserWarning: [11:08:35] WARNING: /Users/runner/work/xgboost/xgboost/src/learner.cc:742: \n",
      "Parameters: { \"num_boost_round\" } are not used.\n",
      "\n",
      "  warnings.warn(smsg, UserWarning)\n"
     ]
    }
   ],
   "source": [
    "model = train_model(\n",
    "    dtrain, dvalid, study.best_trial.params[\"num_boost_round\"], best_params\n",
    ")"
   ]
  },
  {
   "cell_type": "code",
   "execution_count": 250,
   "id": "0908493b-b33e-498a-af2a-df311f56d371",
   "metadata": {},
   "outputs": [
    {
     "data": {
      "text/plain": [
       "986"
      ]
     },
     "execution_count": 250,
     "metadata": {},
     "output_type": "execute_result"
    }
   ],
   "source": [
    "study.best_trial.params[\"num_boost_round\"]"
   ]
  },
  {
   "cell_type": "code",
   "execution_count": 244,
   "id": "2f499376-7923-4834-9f77-ca8489b764c4",
   "metadata": {},
   "outputs": [],
   "source": [
    "predict_test = model.predict(dtest)"
   ]
  },
  {
   "cell_type": "code",
   "execution_count": 245,
   "id": "a99ffd34-efc3-41db-bf2f-e337a7d24b5d",
   "metadata": {},
   "outputs": [
    {
     "data": {
      "text/plain": [
       "0.1805980298367347"
      ]
     },
     "execution_count": 245,
     "metadata": {},
     "output_type": "execute_result"
    }
   ],
   "source": [
    "test[Y_COL].mean()"
   ]
  },
  {
   "cell_type": "code",
   "execution_count": 246,
   "id": "d451c789-a9d8-43bf-9d10-38262404e2fe",
   "metadata": {},
   "outputs": [
    {
     "data": {
      "text/plain": [
       "(245,)"
      ]
     },
     "execution_count": 246,
     "metadata": {},
     "output_type": "execute_result"
    }
   ],
   "source": [
    "predict_test.shape"
   ]
  },
  {
   "cell_type": "code",
   "execution_count": 247,
   "id": "595518b5-c88b-4268-8718-4717b7b5dac7",
   "metadata": {},
   "outputs": [
    {
     "data": {
      "text/plain": [
       "[<matplotlib.lines.Line2D at 0x14c0de830>]"
      ]
     },
     "execution_count": 247,
     "metadata": {},
     "output_type": "execute_result"
    },
    {
     "data": {
      "image/png": "[encoded data removed]",
      "text/plain": [
       "<Figure size 640x480 with 1 Axes>"
      ]
     },
     "metadata": {},
     "output_type": "display_data"
    }
   ],
   "source": [
    "plt.plot(predict_test)\n",
    "plt.plot(list(test[Y_COL]))"
   ]
  },
  {
   "cell_type": "code",
   "execution_count": 248,
   "id": "d1fb8306-a79e-42b2-9f8f-db1abb2979b2",
   "metadata": {},
   "outputs": [],
   "source": [
    "predicts = model.predict(dpredict)"
   ]
  },
  {
   "cell_type": "code",
   "execution_count": 249,
   "id": "3262a9de-3a99-4962-bd1e-8f12b96c9089",
   "metadata": {},
   "outputs": [
    {
     "data": {
      "text/plain": [
       "[<matplotlib.lines.Line2D at 0x14bf9e530>]"
      ]
     },
     "execution_count": 249,
     "metadata": {},
     "output_type": "execute_result"
    },
    {
     "data": {
      "image/png": "[encoded data removed]",
      "text/plain": [
       "<Figure size 640x480 with 1 Axes>"
      ]
     },
     "metadata": {},
     "output_type": "display_data"
    }
   ],
   "source": [
    "plt.plot(predicts)\n",
    "plt.plot(list(df_predict[Y_COL]))"
   ]
  },
  {
   "cell_type": "code",
   "execution_count": null,
   "id": "7d6d4e8e-48be-414a-8fc1-5fdab91d2f16",
   "metadata": {},
   "outputs": [],
   "source": []
  }
 ],
 "metadata": {
  "kernelspec": {
   "display_name": "Python 3 (ipykernel)",
   "language": "python",
   "name": "python3"
  },
  "language_info": {
   "codemirror_mode": {
    "name": "ipython",
    "version": 3
   },
   "file_extension": ".py",
   "mimetype": "text/x-python",
   "name": "python",
   "nbconvert_exporter": "python",
   "pygments_lexer": "ipython3",
   "version": "3.10.6"
  }
 },
 "nbformat": 4,
 "nbformat_minor": 5
}
