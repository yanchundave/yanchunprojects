{
 "cells": [
  {
   "cell_type": "code",
   "execution_count": 1,
   "id": "eed4d680-f0d4-42dc-9f80-325ae79275fc",
   "metadata": {},
   "outputs": [],
   "source": [
    "import datetime\n",
    "import logging\n",
    "import os\n",
    "import numpy as np \n",
    "import tensorflow as tf\n",
    "from tensorflow.keras import activations\n",
    "from tensorflow.keras import callbacks\n",
    "from tensorflow.keras import layers\n",
    "from tensorflow.keras import models\n",
    "\n",
    "from tensorflow import feature_column as fc"
   ]
  },
  {
   "cell_type": "code",
   "execution_count": 2,
   "id": "b1b914cc-6910-4699-bd1c-f918eb47577a",
   "metadata": {},
   "outputs": [],
   "source": [
    "import pandas as pd\n",
    "import matplotlib.pyplot as plt\n",
    "import keras"
   ]
  },
  {
   "cell_type": "code",
   "execution_count": 3,
   "id": "907682f0-6bf0-44b9-a33e-5e0ed0bd48f2",
   "metadata": {},
   "outputs": [],
   "source": [
    "import numpy as np"
   ]
  },
  {
   "cell_type": "code",
   "execution_count": 4,
   "id": "f1c302c6-0ab9-4036-bc8b-1fce3747b4ff",
   "metadata": {},
   "outputs": [],
   "source": [
    "from tensorflow.keras.callbacks import EarlyStopping"
   ]
  },
  {
   "cell_type": "code",
   "execution_count": 220,
   "id": "c02646a1-77d8-4cc5-b08b-ebe0481ad36d",
   "metadata": {},
   "outputs": [],
   "source": [
    "from tensorflow.keras.backend import clear_session"
   ]
  },
  {
   "cell_type": "code",
   "execution_count": 386,
   "id": "6450c122-0da1-46a9-8fbf-75eb8d9dc0b3",
   "metadata": {},
   "outputs": [
    {
     "name": "stdout",
     "output_type": "stream",
     "text": [
      "/Users/yanchunyang/Documents/training/learning_datasets\n"
     ]
    }
   ],
   "source": [
    "!pwd"
   ]
  },
  {
   "cell_type": "code",
   "execution_count": 81,
   "id": "d705393d-f8a1-4997-9875-3b3ffa8ca886",
   "metadata": {},
   "outputs": [],
   "source": [
    "!cp ~/Downloads/ltv_train.csv ~/Documents/training/learning_datasets/"
   ]
  },
  {
   "cell_type": "code",
   "execution_count": 82,
   "id": "c65af3d4-fa6b-4926-88c7-6a56ec2c434a",
   "metadata": {},
   "outputs": [
    {
     "name": "stdout",
     "output_type": "stream",
     "text": [
      "loss_arrival.csv           ltv_train_64.csv\n",
      "lossrate_disbursement.csv  new_ltv_training.csv\n",
      "lr_time_series_model.ipynb optuna.db\n",
      "ltv_predict.csv            taxi-train.csv\n",
      "ltv_tf_version.ipynb       taxi-valid.csv\n",
      "ltv_tf_version_2.ipynb     taxifare.ipynb\n",
      "ltv_train.csv\n"
     ]
    }
   ],
   "source": [
    "!ls"
   ]
  },
  {
   "cell_type": "code",
   "execution_count": 85,
   "id": "cb30e92d-dd0e-49c2-ba5b-a936752dc59e",
   "metadata": {},
   "outputs": [],
   "source": [
    "df_raw = pd.read_csv(\"ltv_train.csv\")"
   ]
  },
  {
   "cell_type": "code",
   "execution_count": 86,
   "id": "a64f658c-44af-4685-b477-494fd6929656",
   "metadata": {},
   "outputs": [
    {
     "data": {
      "text/plain": [
       "(952418, 85)"
      ]
     },
     "execution_count": 86,
     "metadata": {},
     "output_type": "execute_result"
    }
   ],
   "source": [
    "df_raw.shape"
   ]
  },
  {
   "cell_type": "code",
   "execution_count": 90,
   "id": "4dd0b0b4-ed93-48b9-885a-4382dc42969f",
   "metadata": {},
   "outputs": [],
   "source": [
    "columns = df_raw.columns"
   ]
  },
  {
   "cell_type": "code",
   "execution_count": 93,
   "id": "7d8c108a-e247-41bd-8ec8-32c0d0823081",
   "metadata": {},
   "outputs": [],
   "source": [
    "df_raw['forecast_date'] = pd.to_datetime(df_raw['OBSERVATION_TS'])"
   ]
  },
  {
   "cell_type": "code",
   "execution_count": 94,
   "id": "0f1ac518-d5dd-4e75-9d98-83fc77cd8f33",
   "metadata": {},
   "outputs": [],
   "source": [
    "types = {item[0]: item[1] for item in zip(df_raw.dtypes.index, df_raw.dtypes)}"
   ]
  },
  {
   "cell_type": "code",
   "execution_count": 95,
   "id": "c91eee9e-9577-44e6-8fa0-d853f17cbf3d",
   "metadata": {},
   "outputs": [],
   "source": [
    "columns_select = df_raw.columns[3:-7]"
   ]
  },
  {
   "cell_type": "code",
   "execution_count": 96,
   "id": "95b76d15-672d-4a35-9bff-3502fbce86d6",
   "metadata": {},
   "outputs": [],
   "source": [
    "cat_columns = [item for item in columns_select if types[item] == 'object']"
   ]
  },
  {
   "cell_type": "code",
   "execution_count": 97,
   "id": "2e5d8850-57e8-4f97-8b3f-fa5d89568cb9",
   "metadata": {},
   "outputs": [],
   "source": [
    "num_columns = [item for item in columns_select if types[item] != 'object']"
   ]
  },
  {
   "cell_type": "code",
   "execution_count": 98,
   "id": "ba821d42-03fd-472b-b2b5-0417277da41c",
   "metadata": {},
   "outputs": [],
   "source": [
    "y = df_raw.loc[:, ['LABEL_REVENUE_6M']].fillna(0).values.astype(np.float32)"
   ]
  },
  {
   "cell_type": "code",
   "execution_count": 99,
   "id": "3c0c70cd-8464-44ee-9859-2b1811b729b1",
   "metadata": {},
   "outputs": [],
   "source": [
    "df = df_raw[num_columns + cat_columns]"
   ]
  },
  {
   "cell_type": "code",
   "execution_count": 100,
   "id": "5e8ecb71-a2ac-4965-838e-343bd2676831",
   "metadata": {},
   "outputs": [
    {
     "data": {
      "text/plain": [
       "952418"
      ]
     },
     "execution_count": 100,
     "metadata": {},
     "output_type": "execute_result"
    }
   ],
   "source": [
    "len(y)"
   ]
  },
  {
   "cell_type": "code",
   "execution_count": 101,
   "id": "375dabc7-0b30-4e03-a74f-7318eb551721",
   "metadata": {},
   "outputs": [],
   "source": [
    "def get_dataset(num_feature, categorical_feature, labels):\n",
    "    length = linear_features.shape[0]\n",
    "    train_cat_linear, train_num_linear, train_label = categorical_feature[0:int(0.8*length)], num_feature[0:int(0.8*length)], labels[0:int(0.8*length)]\n",
    "    test_cat_linear, test_num_linear, test_label = categorical_feature[int(0.8*length):], num_feature[0:int(0.8*length)], labels[int(0.8*length):]\n",
    "    return train_linear, train_num_linear, train_label, test_cat_linear, test_num_linear, test_label"
   ]
  },
  {
   "cell_type": "code",
   "execution_count": 102,
   "id": "320eb4c5-4a2d-4603-9df5-589f255e23dc",
   "metadata": {},
   "outputs": [
    {
     "name": "stdout",
     "output_type": "stream",
     "text": [
      "2.16.1\n"
     ]
    }
   ],
   "source": [
    "print(tf.__version__)"
   ]
  },
  {
   "cell_type": "code",
   "execution_count": 103,
   "id": "19857be6-893f-481b-bbd6-d750b4796640",
   "metadata": {},
   "outputs": [],
   "source": [
    "from sklearn.compose import ColumnTransformer\n",
    "from sklearn.preprocessing import OneHotEncoder, StandardScaler"
   ]
  },
  {
   "cell_type": "code",
   "execution_count": 105,
   "id": "36ab35d1-8e20-4f14-8b61-c7590c6ebc2c",
   "metadata": {},
   "outputs": [],
   "source": [
    "#write a pipeline\n",
    "\n",
    "def get_pipeline_update(df, num_columns, cat_columns):\n",
    "    categorical_transformer = OneHotEncoder(sparse_output=False, handle_unknown='ignore')\n",
    "    numerical_transformer = StandardScaler()\n",
    "    preprocessor = ColumnTransformer(\n",
    "        transformers=[\n",
    "            ('num', numerical_transformer, num_columns),\n",
    "            ('cat', categorical_transformer, cat_columns)\n",
    "            ]\n",
    "    )\n",
    "    preprocessor.fit(df)\n",
    "    return preprocessor"
   ]
  },
  {
   "cell_type": "code",
   "execution_count": 106,
   "id": "f9af7976-86bf-4e17-affd-43bba4b24e8e",
   "metadata": {},
   "outputs": [],
   "source": [
    "preprocess = get_pipeline_update(df, num_columns, cat_columns)"
   ]
  },
  {
   "cell_type": "code",
   "execution_count": 107,
   "id": "a33d7df9-39ee-4612-9450-5b37fcf981e9",
   "metadata": {},
   "outputs": [
    {
     "data": {
      "text/plain": [
       "(952418, 76)"
      ]
     },
     "execution_count": 107,
     "metadata": {},
     "output_type": "execute_result"
    }
   ],
   "source": [
    "df.loc[df['ADVANCE_LAST_6M_COUNT']>0,:].shape"
   ]
  },
  {
   "cell_type": "code",
   "execution_count": 108,
   "id": "cb25ee1f-2205-4304-b743-c43c8617d619",
   "metadata": {},
   "outputs": [],
   "source": [
    "transformed_data = preprocess.transform(df)"
   ]
  },
  {
   "cell_type": "code",
   "execution_count": 109,
   "id": "dfe36779-1f3e-48f2-be00-1bd072f2ea5b",
   "metadata": {},
   "outputs": [
    {
     "data": {
      "text/plain": [
       "(952418, 241)"
      ]
     },
     "execution_count": 109,
     "metadata": {},
     "output_type": "execute_result"
    }
   ],
   "source": [
    "transformed_data.shape"
   ]
  },
  {
   "cell_type": "code",
   "execution_count": 110,
   "id": "026ae4c2-4309-4b09-bc0c-f73bfa96c17c",
   "metadata": {},
   "outputs": [],
   "source": [
    "categorical_feature_df = preprocess.named_transformers_['cat'].get_feature_names_out(cat_columns)"
   ]
  },
  {
   "cell_type": "code",
   "execution_count": 111,
   "id": "e95f8af1-9218-4480-ac97-bbce252f43ff",
   "metadata": {},
   "outputs": [],
   "source": [
    "all_feature_names = np.concatenate([num_columns, categorical_feature_df])"
   ]
  },
  {
   "cell_type": "code",
   "execution_count": 112,
   "id": "5c129dcc-199f-4e71-a680-27f60d4f0e08",
   "metadata": {},
   "outputs": [],
   "source": [
    "transformed_df = pd.DataFrame(transformed_data, columns=all_feature_names)"
   ]
  },
  {
   "cell_type": "code",
   "execution_count": 113,
   "id": "ef3249f7-3566-4681-92a5-f5201a29e6c3",
   "metadata": {},
   "outputs": [],
   "source": [
    "transformed_df=transformed_df.fillna(0)"
   ]
  },
  {
   "cell_type": "code",
   "execution_count": 114,
   "id": "999e6b1f-8181-422c-bab9-86a4ba5e2e29",
   "metadata": {},
   "outputs": [],
   "source": [
    "def capped_linear(x, cap_value=2000.0):\n",
    "    return tf.keras.backend.minimum(x, cap_value)"
   ]
  },
  {
   "cell_type": "code",
   "execution_count": 237,
   "id": "c7093c88-5a9e-4df4-b9ec-cbcd5dbda819",
   "metadata": {},
   "outputs": [],
   "source": [
    "def get_model(shape):\n",
    "    input_dense = tf.keras.Input(shape=(shape, ), name='input_dense')\n",
    "    dense_output = layers.Dense(256, activation='relu')(input_dense)\n",
    "    dense_output = layers.Dropout(rate=0.2)(dense_output)\n",
    "    dense_output = layers.Dense(128, activation='relu')(dense_output)  \n",
    "    dense_output = layers.Dropout(rate=0.2)(dense_output)\n",
    "    dense_output = layers.Dense(64, activation='relu')(dense_output)\n",
    "    output = layers.Dense(1, activation='linear')(dense_output)\n",
    "    capped_output = layers.Lambda(lambda x: capped_linear(x, cap_value=2000))(output)\n",
    "    model = models.Model(inputs=input_dense, outputs=capped_output)\n",
    "    model.compile(loss='mean_squared_error', optimizer='adam', metrics=['mean_squared_error'])\n",
    "    return model\n",
    "                  \n",
    "    "
   ]
  },
  {
   "cell_type": "code",
   "execution_count": 211,
   "id": "820932b8-6e72-40e4-9cd6-5b7441060153",
   "metadata": {},
   "outputs": [],
   "source": [
    "inputs_value = transformed_df.values\n",
    "outputs = y"
   ]
  },
  {
   "cell_type": "code",
   "execution_count": 117,
   "id": "ae7f9661-33ba-4d04-99c7-6f4f74ccb9a3",
   "metadata": {},
   "outputs": [],
   "source": [
    "def split_train(length, r1):\n",
    "    shuffle_index = np.random.permutation(length)\n",
    "    test_size = int(length * r1)\n",
    "    test_index = shuffle_index[:test_size]\n",
    "    train_index = shuffle_index[test_size:]\n",
    "    return test_index, train_index"
   ]
  },
  {
   "cell_type": "code",
   "execution_count": 118,
   "id": "8877ff47-5305-4b5b-b0c3-126a4389f09b",
   "metadata": {},
   "outputs": [],
   "source": [
    "length = inputs_value.shape[0]"
   ]
  },
  {
   "cell_type": "code",
   "execution_count": 191,
   "id": "8628ad89-5ce1-4583-952d-411e8ab3ada8",
   "metadata": {},
   "outputs": [],
   "source": [
    "test_index, train_index = split_train(length, 0.25)"
   ]
  },
  {
   "cell_type": "code",
   "execution_count": 192,
   "id": "3a17d613-d8bb-4c6d-bc4b-77918a985aa2",
   "metadata": {},
   "outputs": [],
   "source": [
    "train_inputs, test_inputs = inputs_value[train_index], inputs_value[test_index]"
   ]
  },
  {
   "cell_type": "code",
   "execution_count": 193,
   "id": "7a680bb2-05df-4e13-90ea-75c0097e1c1b",
   "metadata": {},
   "outputs": [],
   "source": [
    "train_outputs, test_outputs = y[train_index], y[test_index]"
   ]
  },
  {
   "cell_type": "code",
   "execution_count": 194,
   "id": "cb86ad2e-849d-49d6-aab1-40010e6e7638",
   "metadata": {},
   "outputs": [
    {
     "data": {
      "text/plain": [
       "(714314, 241)"
      ]
     },
     "execution_count": 194,
     "metadata": {},
     "output_type": "execute_result"
    }
   ],
   "source": [
    "train_inputs.shape"
   ]
  },
  {
   "cell_type": "code",
   "execution_count": 238,
   "id": "a39ddac2-0306-455b-a163-ea6e1c4dd3e6",
   "metadata": {},
   "outputs": [],
   "source": [
    "clear_session()"
   ]
  },
  {
   "cell_type": "code",
   "execution_count": 239,
   "id": "9e86952d-68ab-4623-ab44-1d8057114e37",
   "metadata": {},
   "outputs": [],
   "source": [
    "model_tf = get_model(transformed_df.shape[1])"
   ]
  },
  {
   "cell_type": "code",
   "execution_count": 240,
   "id": "9c32e511-e16e-42bc-9c0b-552f5412cac7",
   "metadata": {},
   "outputs": [],
   "source": [
    "early_stopping = EarlyStopping(\n",
    "    monitor='mean_squared_error',  # Metric to monitor\n",
    "    mode='min',\n",
    "    patience=5,          # Number of epochs with no improvement after which training will be stopped\n",
    "    verbose=1,           # Verbosity mode\n",
    "    restore_best_weights=True  # Restore model weights from the epoch with the best value of the monitored metric\n",
    ")"
   ]
  },
  {
   "cell_type": "code",
   "execution_count": 241,
   "id": "7fcb0a65-02c3-41bc-9598-7be8ad6223c1",
   "metadata": {},
   "outputs": [
    {
     "name": "stdout",
     "output_type": "stream",
     "text": [
      "Epoch 1/40\n",
      "\u001b[1m17858/17858\u001b[0m \u001b[32m━━━━━━━━━━━━━━━━━━━━\u001b[0m\u001b[37m\u001b[0m \u001b[1m21s\u001b[0m 1ms/step - loss: 3387.2195 - mean_squared_error: 3387.2195 - val_loss: 3146.7861 - val_mean_squared_error: 3146.7861\n",
      "Epoch 2/40\n",
      "\u001b[1m17858/17858\u001b[0m \u001b[32m━━━━━━━━━━━━━━━━━━━━\u001b[0m\u001b[37m\u001b[0m \u001b[1m20s\u001b[0m 1ms/step - loss: 3192.7209 - mean_squared_error: 3192.7209 - val_loss: 3138.5273 - val_mean_squared_error: 3138.5273\n",
      "Epoch 3/40\n",
      "\u001b[1m17858/17858\u001b[0m \u001b[32m━━━━━━━━━━━━━━━━━━━━\u001b[0m\u001b[37m\u001b[0m \u001b[1m20s\u001b[0m 1ms/step - loss: 3149.4487 - mean_squared_error: 3149.4487 - val_loss: 3050.6816 - val_mean_squared_error: 3050.6816\n",
      "Epoch 4/40\n",
      "\u001b[1m17858/17858\u001b[0m \u001b[32m━━━━━━━━━━━━━━━━━━━━\u001b[0m\u001b[37m\u001b[0m \u001b[1m21s\u001b[0m 1ms/step - loss: 3135.1528 - mean_squared_error: 3135.1528 - val_loss: 3097.3113 - val_mean_squared_error: 3097.3113\n",
      "Epoch 5/40\n",
      "\u001b[1m17858/17858\u001b[0m \u001b[32m━━━━━━━━━━━━━━━━━━━━\u001b[0m\u001b[37m\u001b[0m \u001b[1m20s\u001b[0m 1ms/step - loss: 3100.5996 - mean_squared_error: 3100.5996 - val_loss: 3318.1462 - val_mean_squared_error: 3318.1462\n",
      "Epoch 6/40\n",
      "\u001b[1m17858/17858\u001b[0m \u001b[32m━━━━━━━━━━━━━━━━━━━━\u001b[0m\u001b[37m\u001b[0m \u001b[1m21s\u001b[0m 1ms/step - loss: 3079.6699 - mean_squared_error: 3079.6699 - val_loss: 3113.8145 - val_mean_squared_error: 3113.8145\n",
      "Epoch 7/40\n",
      "\u001b[1m17858/17858\u001b[0m \u001b[32m━━━━━━━━━━━━━━━━━━━━\u001b[0m\u001b[37m\u001b[0m \u001b[1m22s\u001b[0m 1ms/step - loss: 3036.6252 - mean_squared_error: 3036.6252 - val_loss: 3167.6365 - val_mean_squared_error: 3167.6365\n",
      "Epoch 8/40\n",
      "\u001b[1m17858/17858\u001b[0m \u001b[32m━━━━━━━━━━━━━━━━━━━━\u001b[0m\u001b[37m\u001b[0m \u001b[1m22s\u001b[0m 1ms/step - loss: 3016.0908 - mean_squared_error: 3016.0908 - val_loss: 3202.7402 - val_mean_squared_error: 3202.7402\n",
      "Epoch 9/40\n",
      "\u001b[1m17858/17858\u001b[0m \u001b[32m━━━━━━━━━━━━━━━━━━━━\u001b[0m\u001b[37m\u001b[0m \u001b[1m21s\u001b[0m 1ms/step - loss: 3030.8330 - mean_squared_error: 3030.8330 - val_loss: 3393.2795 - val_mean_squared_error: 3393.2795\n",
      "Epoch 10/40\n",
      "\u001b[1m17858/17858\u001b[0m \u001b[32m━━━━━━━━━━━━━━━━━━━━\u001b[0m\u001b[37m\u001b[0m \u001b[1m21s\u001b[0m 1ms/step - loss: 3041.1260 - mean_squared_error: 3041.1260 - val_loss: 3221.8218 - val_mean_squared_error: 3221.8218\n",
      "Epoch 11/40\n",
      "\u001b[1m17858/17858\u001b[0m \u001b[32m━━━━━━━━━━━━━━━━━━━━\u001b[0m\u001b[37m\u001b[0m \u001b[1m21s\u001b[0m 1ms/step - loss: 3027.4880 - mean_squared_error: 3027.4880 - val_loss: 3115.4951 - val_mean_squared_error: 3115.4951\n",
      "Epoch 12/40\n",
      "\u001b[1m17858/17858\u001b[0m \u001b[32m━━━━━━━━━━━━━━━━━━━━\u001b[0m\u001b[37m\u001b[0m \u001b[1m21s\u001b[0m 1ms/step - loss: 3017.4641 - mean_squared_error: 3017.4641 - val_loss: 3248.1516 - val_mean_squared_error: 3248.1516\n",
      "Epoch 13/40\n",
      "\u001b[1m17858/17858\u001b[0m \u001b[32m━━━━━━━━━━━━━━━━━━━━\u001b[0m\u001b[37m\u001b[0m \u001b[1m21s\u001b[0m 1ms/step - loss: 3002.6675 - mean_squared_error: 3002.6675 - val_loss: 3052.6157 - val_mean_squared_error: 3052.6157\n",
      "Epoch 14/40\n",
      "\u001b[1m17858/17858\u001b[0m \u001b[32m━━━━━━━━━━━━━━━━━━━━\u001b[0m\u001b[37m\u001b[0m \u001b[1m21s\u001b[0m 1ms/step - loss: 3051.3418 - mean_squared_error: 3051.3418 - val_loss: 3280.9197 - val_mean_squared_error: 3280.9197\n",
      "Epoch 15/40\n",
      "\u001b[1m17858/17858\u001b[0m \u001b[32m━━━━━━━━━━━━━━━━━━━━\u001b[0m\u001b[37m\u001b[0m \u001b[1m21s\u001b[0m 1ms/step - loss: 2992.4810 - mean_squared_error: 2992.4810 - val_loss: 3192.2815 - val_mean_squared_error: 3192.2815\n",
      "Epoch 16/40\n",
      "\u001b[1m17858/17858\u001b[0m \u001b[32m━━━━━━━━━━━━━━━━━━━━\u001b[0m\u001b[37m\u001b[0m \u001b[1m21s\u001b[0m 1ms/step - loss: 3010.6018 - mean_squared_error: 3010.6018 - val_loss: 3271.6726 - val_mean_squared_error: 3271.6726\n",
      "Epoch 17/40\n",
      "\u001b[1m17858/17858\u001b[0m \u001b[32m━━━━━━━━━━━━━━━━━━━━\u001b[0m\u001b[37m\u001b[0m \u001b[1m21s\u001b[0m 1ms/step - loss: 2978.2957 - mean_squared_error: 2978.2957 - val_loss: 3266.0305 - val_mean_squared_error: 3266.0305\n",
      "Epoch 18/40\n",
      "\u001b[1m17858/17858\u001b[0m \u001b[32m━━━━━━━━━━━━━━━━━━━━\u001b[0m\u001b[37m\u001b[0m \u001b[1m21s\u001b[0m 1ms/step - loss: 2994.1082 - mean_squared_error: 2994.1082 - val_loss: 3208.7068 - val_mean_squared_error: 3208.7068\n",
      "Epoch 19/40\n",
      "\u001b[1m17858/17858\u001b[0m \u001b[32m━━━━━━━━━━━━━━━━━━━━\u001b[0m\u001b[37m\u001b[0m \u001b[1m20s\u001b[0m 1ms/step - loss: 2997.4717 - mean_squared_error: 2997.4717 - val_loss: 3264.1514 - val_mean_squared_error: 3264.1514\n",
      "Epoch 20/40\n",
      "\u001b[1m17858/17858\u001b[0m \u001b[32m━━━━━━━━━━━━━━━━━━━━\u001b[0m\u001b[37m\u001b[0m \u001b[1m21s\u001b[0m 1ms/step - loss: 2990.0972 - mean_squared_error: 2990.0972 - val_loss: 3135.7644 - val_mean_squared_error: 3135.7644\n",
      "Epoch 21/40\n",
      "\u001b[1m17858/17858\u001b[0m \u001b[32m━━━━━━━━━━━━━━━━━━━━\u001b[0m\u001b[37m\u001b[0m \u001b[1m21s\u001b[0m 1ms/step - loss: 2974.4817 - mean_squared_error: 2974.4817 - val_loss: 3208.9302 - val_mean_squared_error: 3208.9302\n",
      "Epoch 22/40\n",
      "\u001b[1m17858/17858\u001b[0m \u001b[32m━━━━━━━━━━━━━━━━━━━━\u001b[0m\u001b[37m\u001b[0m \u001b[1m21s\u001b[0m 1ms/step - loss: 2939.2896 - mean_squared_error: 2939.2896 - val_loss: 3169.2095 - val_mean_squared_error: 3169.2095\n",
      "Epoch 23/40\n",
      "\u001b[1m17858/17858\u001b[0m \u001b[32m━━━━━━━━━━━━━━━━━━━━\u001b[0m\u001b[37m\u001b[0m \u001b[1m21s\u001b[0m 1ms/step - loss: 2960.1567 - mean_squared_error: 2960.1567 - val_loss: 3187.1443 - val_mean_squared_error: 3187.1443\n",
      "Epoch 24/40\n",
      "\u001b[1m17858/17858\u001b[0m \u001b[32m━━━━━━━━━━━━━━━━━━━━\u001b[0m\u001b[37m\u001b[0m \u001b[1m21s\u001b[0m 1ms/step - loss: 2969.0557 - mean_squared_error: 2969.0557 - val_loss: 3169.8809 - val_mean_squared_error: 3169.8809\n",
      "Epoch 25/40\n",
      "\u001b[1m17858/17858\u001b[0m \u001b[32m━━━━━━━━━━━━━━━━━━━━\u001b[0m\u001b[37m\u001b[0m \u001b[1m21s\u001b[0m 1ms/step - loss: 2956.9443 - mean_squared_error: 2956.9443 - val_loss: 3148.7744 - val_mean_squared_error: 3148.7744\n",
      "Epoch 26/40\n",
      "\u001b[1m17858/17858\u001b[0m \u001b[32m━━━━━━━━━━━━━━━━━━━━\u001b[0m\u001b[37m\u001b[0m \u001b[1m21s\u001b[0m 1ms/step - loss: 2954.7346 - mean_squared_error: 2954.7346 - val_loss: 3159.8308 - val_mean_squared_error: 3159.8308\n",
      "Epoch 27/40\n",
      "\u001b[1m17858/17858\u001b[0m \u001b[32m━━━━━━━━━━━━━━━━━━━━\u001b[0m\u001b[37m\u001b[0m \u001b[1m21s\u001b[0m 1ms/step - loss: 2958.6201 - mean_squared_error: 2958.6201 - val_loss: 3212.6069 - val_mean_squared_error: 3212.6069\n",
      "Epoch 28/40\n",
      "\u001b[1m17858/17858\u001b[0m \u001b[32m━━━━━━━━━━━━━━━━━━━━\u001b[0m\u001b[37m\u001b[0m \u001b[1m21s\u001b[0m 1ms/step - loss: 2966.3096 - mean_squared_error: 2966.3096 - val_loss: 3043.8530 - val_mean_squared_error: 3043.8530\n",
      "Epoch 29/40\n",
      "\u001b[1m17858/17858\u001b[0m \u001b[32m━━━━━━━━━━━━━━━━━━━━\u001b[0m\u001b[37m\u001b[0m \u001b[1m21s\u001b[0m 1ms/step - loss: 2931.0691 - mean_squared_error: 2931.0691 - val_loss: 3178.9875 - val_mean_squared_error: 3178.9875\n",
      "Epoch 30/40\n",
      "\u001b[1m17858/17858\u001b[0m \u001b[32m━━━━━━━━━━━━━━━━━━━━\u001b[0m\u001b[37m\u001b[0m \u001b[1m21s\u001b[0m 1ms/step - loss: 2936.6479 - mean_squared_error: 2936.6479 - val_loss: 3242.2261 - val_mean_squared_error: 3242.2261\n",
      "Epoch 31/40\n",
      "\u001b[1m17858/17858\u001b[0m \u001b[32m━━━━━━━━━━━━━━━━━━━━\u001b[0m\u001b[37m\u001b[0m \u001b[1m21s\u001b[0m 1ms/step - loss: 2924.1575 - mean_squared_error: 2924.1575 - val_loss: 3060.4585 - val_mean_squared_error: 3060.4585\n",
      "Epoch 32/40\n",
      "\u001b[1m17858/17858\u001b[0m \u001b[32m━━━━━━━━━━━━━━━━━━━━\u001b[0m\u001b[37m\u001b[0m \u001b[1m21s\u001b[0m 1ms/step - loss: 2883.3267 - mean_squared_error: 2883.3267 - val_loss: 3113.1008 - val_mean_squared_error: 3113.1008\n",
      "Epoch 33/40\n",
      "\u001b[1m17858/17858\u001b[0m \u001b[32m━━━━━━━━━━━━━━━━━━━━\u001b[0m\u001b[37m\u001b[0m \u001b[1m21s\u001b[0m 1ms/step - loss: 2868.6726 - mean_squared_error: 2868.6726 - val_loss: 3064.1763 - val_mean_squared_error: 3064.1763\n",
      "Epoch 34/40\n",
      "\u001b[1m17858/17858\u001b[0m \u001b[32m━━━━━━━━━━━━━━━━━━━━\u001b[0m\u001b[37m\u001b[0m \u001b[1m21s\u001b[0m 1ms/step - loss: 2891.0735 - mean_squared_error: 2891.0735 - val_loss: 3220.8364 - val_mean_squared_error: 3220.8364\n",
      "Epoch 35/40\n",
      "\u001b[1m17858/17858\u001b[0m \u001b[32m━━━━━━━━━━━━━━━━━━━━\u001b[0m\u001b[37m\u001b[0m \u001b[1m21s\u001b[0m 1ms/step - loss: 2904.5020 - mean_squared_error: 2904.5020 - val_loss: 3205.3179 - val_mean_squared_error: 3205.3179\n",
      "Epoch 36/40\n",
      "\u001b[1m17858/17858\u001b[0m \u001b[32m━━━━━━━━━━━━━━━━━━━━\u001b[0m\u001b[37m\u001b[0m \u001b[1m21s\u001b[0m 1ms/step - loss: 2924.1646 - mean_squared_error: 2924.1646 - val_loss: 3142.1675 - val_mean_squared_error: 3142.1675\n",
      "Epoch 37/40\n",
      "\u001b[1m17858/17858\u001b[0m \u001b[32m━━━━━━━━━━━━━━━━━━━━\u001b[0m\u001b[37m\u001b[0m \u001b[1m21s\u001b[0m 1ms/step - loss: 2878.7253 - mean_squared_error: 2878.7253 - val_loss: 3152.3459 - val_mean_squared_error: 3152.3459\n",
      "Epoch 38/40\n",
      "\u001b[1m17858/17858\u001b[0m \u001b[32m━━━━━━━━━━━━━━━━━━━━\u001b[0m\u001b[37m\u001b[0m \u001b[1m20s\u001b[0m 1ms/step - loss: 2892.6577 - mean_squared_error: 2892.6577 - val_loss: 3093.0964 - val_mean_squared_error: 3093.0964\n",
      "Epoch 39/40\n",
      "\u001b[1m17858/17858\u001b[0m \u001b[32m━━━━━━━━━━━━━━━━━━━━\u001b[0m\u001b[37m\u001b[0m \u001b[1m21s\u001b[0m 1ms/step - loss: 2876.6558 - mean_squared_error: 2876.6558 - val_loss: 3246.8584 - val_mean_squared_error: 3246.8584\n",
      "Epoch 40/40\n",
      "\u001b[1m17858/17858\u001b[0m \u001b[32m━━━━━━━━━━━━━━━━━━━━\u001b[0m\u001b[37m\u001b[0m \u001b[1m21s\u001b[0m 1ms/step - loss: 2884.2605 - mean_squared_error: 2884.2605 - val_loss: 3147.3591 - val_mean_squared_error: 3147.3591\n",
      "Restoring model weights from the end of the best epoch: 39.\n"
     ]
    }
   ],
   "source": [
    "history_np = model_tf.fit(\n",
    "    train_inputs, train_outputs, \n",
    "    epochs=40, batch_size=32, \n",
    "    validation_split=0.2,\n",
    "    callbacks=[early_stopping]    \n",
    ")"
   ]
  },
  {
   "cell_type": "code",
   "execution_count": 52,
   "id": "c1265893-5973-4575-829b-975ae4c383ec",
   "metadata": {},
   "outputs": [
    {
     "data": {
      "text/plain": [
       "(619120, 234)"
      ]
     },
     "execution_count": 52,
     "metadata": {},
     "output_type": "execute_result"
    }
   ],
   "source": [
    "train_inputs.shape"
   ]
  },
  {
   "cell_type": "code",
   "execution_count": 242,
   "id": "67e0b426-c4bb-4efb-a5fa-664558c276b4",
   "metadata": {},
   "outputs": [
    {
     "name": "stdout",
     "output_type": "stream",
     "text": [
      "\u001b[1m7441/7441\u001b[0m \u001b[32m━━━━━━━━━━━━━━━━━━━━\u001b[0m\u001b[37m\u001b[0m \u001b[1m3s\u001b[0m 360us/step\n"
     ]
    }
   ],
   "source": [
    "test_pred = model_tf.predict(test_inputs)"
   ]
  },
  {
   "cell_type": "code",
   "execution_count": 243,
   "id": "dede57df-9d6c-4701-9b8c-ffecf3290a97",
   "metadata": {},
   "outputs": [
    {
     "data": {
      "text/plain": [
       "43.51294"
      ]
     },
     "execution_count": 243,
     "metadata": {},
     "output_type": "execute_result"
    }
   ],
   "source": [
    "np.squeeze(test_pred).mean()"
   ]
  },
  {
   "cell_type": "code",
   "execution_count": 244,
   "id": "7443401b-616b-4061-9c86-50a254fa05c5",
   "metadata": {},
   "outputs": [
    {
     "data": {
      "text/plain": [
       "51.33396"
      ]
     },
     "execution_count": 244,
     "metadata": {},
     "output_type": "execute_result"
    }
   ],
   "source": [
    "test_outputs.mean()"
   ]
  },
  {
   "cell_type": "code",
   "execution_count": 6,
   "id": "00b6a936-8c6f-4313-a56b-5b4dde60ac69",
   "metadata": {},
   "outputs": [],
   "source": [
    "prediction = pd.read_csv(\"ltv_predict.csv\")"
   ]
  },
  {
   "cell_type": "code",
   "execution_count": 7,
   "id": "b429cf62-c4ea-4a6c-ace9-444babbc0cf6",
   "metadata": {},
   "outputs": [],
   "source": [
    "checkcol = zip(df.columns, prediction.columns)"
   ]
  },
  {
   "cell_type": "code",
   "execution_count": 32,
   "id": "7163940e-d9e9-4563-93a8-c1d1ed71b130",
   "metadata": {},
   "outputs": [],
   "source": [
    "prediction[num_columns] = prediction[num_columns].astype(float)"
   ]
  },
  {
   "cell_type": "code",
   "execution_count": 33,
   "id": "391c8b73-2864-4662-9c34-e775f773a9e4",
   "metadata": {},
   "outputs": [],
   "source": [
    "prediction[cat_columns] = prediction[cat_columns].astype(str)"
   ]
  },
  {
   "cell_type": "code",
   "execution_count": 129,
   "id": "204063f3-24bd-4658-82b7-3b3d925d828e",
   "metadata": {},
   "outputs": [],
   "source": [
    "pred_tf = prediction[num_columns + cat_columns]"
   ]
  },
  {
   "cell_type": "code",
   "execution_count": 130,
   "id": "b4fa7620-7469-472c-9d3c-b9db82532314",
   "metadata": {},
   "outputs": [],
   "source": [
    "transformed_predict = preprocess.transform(pred_tf)"
   ]
  },
  {
   "cell_type": "code",
   "execution_count": 131,
   "id": "7095a49e-5e1d-4c91-ab5c-b3989cb09ee1",
   "metadata": {},
   "outputs": [],
   "source": [
    "t1 = np.nan_to_num(transformed_predict, nan=0.0)"
   ]
  },
  {
   "cell_type": "code",
   "execution_count": 132,
   "id": "97aea6da-4e9f-411d-bbc8-5d1811b97ed3",
   "metadata": {},
   "outputs": [
    {
     "data": {
      "text/plain": [
       "(2044901, 241)"
      ]
     },
     "execution_count": 132,
     "metadata": {},
     "output_type": "execute_result"
    }
   ],
   "source": [
    "t1.shape"
   ]
  },
  {
   "cell_type": "code",
   "execution_count": 245,
   "id": "761d93e7-bc52-4aa5-ab5c-60139bd056f7",
   "metadata": {},
   "outputs": [
    {
     "name": "stdout",
     "output_type": "stream",
     "text": [
      "\u001b[1m63904/63904\u001b[0m \u001b[32m━━━━━━━━━━━━━━━━━━━━\u001b[0m\u001b[37m\u001b[0m \u001b[1m22s\u001b[0m 340us/step\n"
     ]
    }
   ],
   "source": [
    "predicted_value = model_tf.predict(t1)"
   ]
  },
  {
   "cell_type": "code",
   "execution_count": 246,
   "id": "fe836352-9e15-4cf2-8913-5d59b6b08a93",
   "metadata": {},
   "outputs": [],
   "source": [
    "predicted = predicted_value.squeeze()"
   ]
  },
  {
   "cell_type": "code",
   "execution_count": 247,
   "id": "0ee6948b-c4c1-41d4-b35c-f350a39e67e9",
   "metadata": {},
   "outputs": [
    {
     "data": {
      "text/plain": [
       "56.20777"
      ]
     },
     "execution_count": 247,
     "metadata": {},
     "output_type": "execute_result"
    }
   ],
   "source": [
    "predicted[predicted<2500].mean()"
   ]
  },
  {
   "cell_type": "code",
   "execution_count": 201,
   "id": "a07f21a9-82bc-405b-aca0-bb9327d66a98",
   "metadata": {},
   "outputs": [
    {
     "data": {
      "text/plain": [
       "-17.294666"
      ]
     },
     "execution_count": 201,
     "metadata": {},
     "output_type": "execute_result"
    }
   ],
   "source": [
    "min(predicted)"
   ]
  },
  {
   "cell_type": "code",
   "execution_count": 202,
   "id": "80db3204-0824-4b56-9e86-5d19e972c138",
   "metadata": {},
   "outputs": [
    {
     "data": {
      "text/plain": [
       "(array([1.820536e+06, 1.712680e+05, 4.997200e+04, 2.901000e+03,\n",
       "        1.280000e+02, 2.300000e+01, 9.000000e+00, 0.000000e+00,\n",
       "        0.000000e+00, 6.400000e+01]),\n",
       " array([ -17.29466629,  167.61750793,  352.52966309,  537.4418335 ,\n",
       "         722.35400391,  907.26617432, 1092.17834473, 1277.09057617,\n",
       "        1462.00268555, 1646.91491699, 1831.82702637]),\n",
       " <BarContainer object of 10 artists>)"
      ]
     },
     "execution_count": 202,
     "metadata": {},
     "output_type": "execute_result"
    },
    {
     "data": {
      "image/png": "[encoded data removed]",
      "text/plain": [
       "<Figure size 640x480 with 1 Axes>"
      ]
     },
     "metadata": {},
     "output_type": "display_data"
    }
   ],
   "source": [
    "plt.hist(predicted)"
   ]
  },
  {
   "cell_type": "code",
   "execution_count": 58,
   "id": "e62f016b-5390-4c60-a69a-b2f906c47f05",
   "metadata": {},
   "outputs": [
    {
     "name": "stdout",
     "output_type": "stream",
     "text": [
      "\u001b[1m24185/24185\u001b[0m \u001b[32m━━━━━━━━━━━━━━━━━━━━\u001b[0m\u001b[37m\u001b[0m \u001b[1m6s\u001b[0m 255us/step\n"
     ]
    }
   ],
   "source": [
    "inputs_predict = model_tf.predict(inputs_value)"
   ]
  },
  {
   "cell_type": "code",
   "execution_count": 59,
   "id": "a9ba56ec-8d39-40bc-bdf6-14feeb14bf0c",
   "metadata": {},
   "outputs": [
    {
     "data": {
      "text/plain": [
       "40.510204"
      ]
     },
     "execution_count": 59,
     "metadata": {},
     "output_type": "execute_result"
    }
   ],
   "source": [
    "inputs_predict.mean()"
   ]
  },
  {
   "cell_type": "code",
   "execution_count": 60,
   "id": "0503412c-ed5d-40ec-a814-38486933fb66",
   "metadata": {},
   "outputs": [
    {
     "data": {
      "text/plain": [
       "44.496925"
      ]
     },
     "execution_count": 60,
     "metadata": {},
     "output_type": "execute_result"
    }
   ],
   "source": [
    "outputs.mean()"
   ]
  },
  {
   "cell_type": "code",
   "execution_count": 107,
   "id": "860712d3-4dfe-4d44-9015-63492c0f51c1",
   "metadata": {},
   "outputs": [
    {
     "name": "stdout",
     "output_type": "stream",
     "text": [
      "/Users/yanchunyang/Documents/training/learning_datasets\n"
     ]
    }
   ],
   "source": [
    "!pwd"
   ]
  },
  {
   "cell_type": "code",
   "execution_count": 183,
   "id": "af2ef80c-6414-49d7-b0d3-6967388e15d1",
   "metadata": {},
   "outputs": [
    {
     "data": {
      "text/plain": [
       "(2000014, 275)"
      ]
     },
     "execution_count": 183,
     "metadata": {},
     "output_type": "execute_result"
    }
   ],
   "source": [
    "inputs_value.shape"
   ]
  },
  {
   "cell_type": "code",
   "execution_count": 69,
   "id": "4e0f13e3-5cfd-4f27-8d71-e33dcfa162ec",
   "metadata": {},
   "outputs": [
    {
     "data": {
      "text/plain": [
       "(1933526, 86)"
      ]
     },
     "execution_count": 69,
     "metadata": {},
     "output_type": "execute_result"
    }
   ],
   "source": [
    "prediction[prediction['ADVANCE_LAST_6M_AMOUNT_TOTAL']>0].shape"
   ]
  },
  {
   "cell_type": "code",
   "execution_count": 553,
   "id": "dc337a86-370d-4793-87ba-2898d3bcf979",
   "metadata": {},
   "outputs": [
    {
     "data": {
      "text/plain": [
       "array([[1.],\n",
       "       [1.],\n",
       "       [1.],\n",
       "       [1.],\n",
       "       [1.],\n",
       "       [1.],\n",
       "       [1.],\n",
       "       [1.],\n",
       "       [1.],\n",
       "       [1.]], dtype=float32)"
      ]
     },
     "execution_count": 553,
     "metadata": {},
     "output_type": "execute_result"
    }
   ],
   "source": [
    "y_churn[0:10]"
   ]
  },
  {
   "cell_type": "code",
   "execution_count": 66,
   "id": "047ad8b6-fc4e-48e2-af65-c7a92d765e22",
   "metadata": {},
   "outputs": [],
   "source": [
    "from tensorflow.keras.losses import BinaryCrossentropy"
   ]
  },
  {
   "cell_type": "code",
   "execution_count": 65,
   "id": "ae61aeac-2db0-44ac-b3ae-e0d538f2805b",
   "metadata": {},
   "outputs": [],
   "source": [
    "def get_churn_model(shape):\n",
    "    input_dense = tf.keras.Input(shape=(shape, ), name='input_dense')\n",
    "    dense_output = layers.Dense(100, activation='relu')(input_dense)\n",
    "    dense_output = layers.Dropout(rate=0.2)(dense_output)\n",
    "    dense_output = layers.Dense(20, activation='relu')(dense_output)  \n",
    "    dense_output = layers.Dropout(rate=0.2)(dense_output)\n",
    "    dense_output = layers.Dense(5, activation='relu')(dense_output)\n",
    "    output = layers.Dense(1, activation='sigmoid')(dense_output)\n",
    "    capped_output = layers.Lambda(lambda x: capped_linear(x, cap_value=2000))(output)\n",
    "    model = models.Model(inputs=input_dense, outputs=capped_output)\n",
    "    model.compile(loss=BinaryCrossentropy(), optimizer='adam', metrics=['accuracy'])\n",
    "    return model\n",
    "                  "
   ]
  },
  {
   "cell_type": "code",
   "execution_count": 138,
   "id": "1f5666f0-c1ce-4c79-b193-18a5d14d1eba",
   "metadata": {},
   "outputs": [],
   "source": [
    "y_churn = df_raw.loc[:, ['LABEL_RETENTION_6M']].fillna(0).values.astype(np.float32)\n",
    "inputs_value = transformed_df.values\n",
    "outputs = y_churn\n",
    "train_inputs_churn, test_inputs_churn = inputs_value[train_index], inputs_value[test_index]\n",
    "train_outputs_churn, test_outputs_churn = y_churn[train_index], y_churn[test_index]"
   ]
  },
  {
   "cell_type": "code",
   "execution_count": 139,
   "id": "08f51b60-8a65-4709-86f7-6a4375f67724",
   "metadata": {},
   "outputs": [
    {
     "name": "stdout",
     "output_type": "stream",
     "text": [
      "Epoch 1/30\n",
      "\u001b[1m21430/21430\u001b[0m \u001b[32m━━━━━━━━━━━━━━━━━━━━\u001b[0m\u001b[37m\u001b[0m \u001b[1m14s\u001b[0m 615us/step - accuracy: 0.8745 - loss: 0.2815 - val_accuracy: 0.8866 - val_loss: 0.2515\n",
      "Epoch 2/30\n",
      "\u001b[1m21430/21430\u001b[0m \u001b[32m━━━━━━━━━━━━━━━━━━━━\u001b[0m\u001b[37m\u001b[0m \u001b[1m13s\u001b[0m 623us/step - accuracy: 0.8865 - loss: 0.2527 - val_accuracy: 0.8883 - val_loss: 0.2494\n",
      "Epoch 3/30\n",
      "\u001b[1m21430/21430\u001b[0m \u001b[32m━━━━━━━━━━━━━━━━━━━━\u001b[0m\u001b[37m\u001b[0m \u001b[1m13s\u001b[0m 624us/step - accuracy: 0.8878 - loss: 0.2489 - val_accuracy: 0.8883 - val_loss: 0.2485\n",
      "Epoch 4/30\n",
      "\u001b[1m21430/21430\u001b[0m \u001b[32m━━━━━━━━━━━━━━━━━━━━\u001b[0m\u001b[37m\u001b[0m \u001b[1m12s\u001b[0m 575us/step - accuracy: 0.8884 - loss: 0.2475 - val_accuracy: 0.8892 - val_loss: 0.2498\n",
      "Epoch 5/30\n",
      "\u001b[1m21430/21430\u001b[0m \u001b[32m━━━━━━━━━━━━━━━━━━━━\u001b[0m\u001b[37m\u001b[0m \u001b[1m12s\u001b[0m 548us/step - accuracy: 0.8897 - loss: 0.2443 - val_accuracy: 0.8871 - val_loss: 0.2482\n",
      "Epoch 6/30\n",
      "\u001b[1m21430/21430\u001b[0m \u001b[32m━━━━━━━━━━━━━━━━━━━━\u001b[0m\u001b[37m\u001b[0m \u001b[1m12s\u001b[0m 547us/step - accuracy: 0.8894 - loss: 0.2441 - val_accuracy: 0.8886 - val_loss: 0.2449\n",
      "Epoch 7/30\n",
      "\u001b[1m21430/21430\u001b[0m \u001b[32m━━━━━━━━━━━━━━━━━━━━\u001b[0m\u001b[37m\u001b[0m \u001b[1m12s\u001b[0m 562us/step - accuracy: 0.8898 - loss: 0.2429 - val_accuracy: 0.8876 - val_loss: 0.2444\n",
      "Epoch 8/30\n",
      "\u001b[1m21430/21430\u001b[0m \u001b[32m━━━━━━━━━━━━━━━━━━━━\u001b[0m\u001b[37m\u001b[0m \u001b[1m12s\u001b[0m 552us/step - accuracy: 0.8898 - loss: 0.2427 - val_accuracy: 0.8901 - val_loss: 0.2439\n",
      "Epoch 9/30\n",
      "\u001b[1m21430/21430\u001b[0m \u001b[32m━━━━━━━━━━━━━━━━━━━━\u001b[0m\u001b[37m\u001b[0m \u001b[1m13s\u001b[0m 607us/step - accuracy: 0.8908 - loss: 0.2415 - val_accuracy: 0.8899 - val_loss: 0.2461\n",
      "Epoch 10/30\n",
      "\u001b[1m21430/21430\u001b[0m \u001b[32m━━━━━━━━━━━━━━━━━━━━\u001b[0m\u001b[37m\u001b[0m \u001b[1m14s\u001b[0m 644us/step - accuracy: 0.8904 - loss: 0.2418 - val_accuracy: 0.8900 - val_loss: 0.2474\n",
      "Epoch 11/30\n",
      "\u001b[1m21430/21430\u001b[0m \u001b[32m━━━━━━━━━━━━━━━━━━━━\u001b[0m\u001b[37m\u001b[0m \u001b[1m14s\u001b[0m 636us/step - accuracy: 0.8907 - loss: 0.2418 - val_accuracy: 0.8897 - val_loss: 0.2448\n",
      "Epoch 12/30\n",
      "\u001b[1m21430/21430\u001b[0m \u001b[32m━━━━━━━━━━━━━━━━━━━━\u001b[0m\u001b[37m\u001b[0m \u001b[1m12s\u001b[0m 563us/step - accuracy: 0.8912 - loss: 0.2403 - val_accuracy: 0.8907 - val_loss: 0.2436\n",
      "Epoch 13/30\n",
      "\u001b[1m21430/21430\u001b[0m \u001b[32m━━━━━━━━━━━━━━━━━━━━\u001b[0m\u001b[37m\u001b[0m \u001b[1m14s\u001b[0m 656us/step - accuracy: 0.8914 - loss: 0.2394 - val_accuracy: 0.8902 - val_loss: 0.2441\n",
      "Epoch 14/30\n",
      "\u001b[1m21430/21430\u001b[0m \u001b[32m━━━━━━━━━━━━━━━━━━━━\u001b[0m\u001b[37m\u001b[0m \u001b[1m13s\u001b[0m 625us/step - accuracy: 0.8921 - loss: 0.2392 - val_accuracy: 0.8892 - val_loss: 0.2452\n",
      "Epoch 15/30\n",
      "\u001b[1m21430/21430\u001b[0m \u001b[32m━━━━━━━━━━━━━━━━━━━━\u001b[0m\u001b[37m\u001b[0m \u001b[1m13s\u001b[0m 621us/step - accuracy: 0.8917 - loss: 0.2394 - val_accuracy: 0.8902 - val_loss: 0.2435\n",
      "Epoch 16/30\n",
      "\u001b[1m21430/21430\u001b[0m \u001b[32m━━━━━━━━━━━━━━━━━━━━\u001b[0m\u001b[37m\u001b[0m \u001b[1m13s\u001b[0m 629us/step - accuracy: 0.8920 - loss: 0.2384 - val_accuracy: 0.8905 - val_loss: 0.2432\n",
      "Epoch 17/30\n",
      "\u001b[1m21430/21430\u001b[0m \u001b[32m━━━━━━━━━━━━━━━━━━━━\u001b[0m\u001b[37m\u001b[0m \u001b[1m14s\u001b[0m 654us/step - accuracy: 0.8913 - loss: 0.2387 - val_accuracy: 0.8903 - val_loss: 0.2445\n",
      "Epoch 18/30\n",
      "\u001b[1m21430/21430\u001b[0m \u001b[32m━━━━━━━━━━━━━━━━━━━━\u001b[0m\u001b[37m\u001b[0m \u001b[1m12s\u001b[0m 580us/step - accuracy: 0.8925 - loss: 0.2387 - val_accuracy: 0.8901 - val_loss: 0.2415\n",
      "Epoch 19/30\n",
      "\u001b[1m21430/21430\u001b[0m \u001b[32m━━━━━━━━━━━━━━━━━━━━\u001b[0m\u001b[37m\u001b[0m \u001b[1m12s\u001b[0m 550us/step - accuracy: 0.8926 - loss: 0.2373 - val_accuracy: 0.8906 - val_loss: 0.2421\n",
      "Epoch 20/30\n",
      "\u001b[1m21430/21430\u001b[0m \u001b[32m━━━━━━━━━━━━━━━━━━━━\u001b[0m\u001b[37m\u001b[0m \u001b[1m14s\u001b[0m 669us/step - accuracy: 0.8923 - loss: 0.2378 - val_accuracy: 0.8901 - val_loss: 0.2441\n",
      "Epoch 21/30\n",
      "\u001b[1m21430/21430\u001b[0m \u001b[32m━━━━━━━━━━━━━━━━━━━━\u001b[0m\u001b[37m\u001b[0m \u001b[1m14s\u001b[0m 668us/step - accuracy: 0.8925 - loss: 0.2373 - val_accuracy: 0.8903 - val_loss: 0.2430\n",
      "Epoch 22/30\n",
      "\u001b[1m21430/21430\u001b[0m \u001b[32m━━━━━━━━━━━━━━━━━━━━\u001b[0m\u001b[37m\u001b[0m \u001b[1m14s\u001b[0m 666us/step - accuracy: 0.8924 - loss: 0.2374 - val_accuracy: 0.8904 - val_loss: 0.2426\n",
      "Epoch 23/30\n",
      "\u001b[1m21430/21430\u001b[0m \u001b[32m━━━━━━━━━━━━━━━━━━━━\u001b[0m\u001b[37m\u001b[0m \u001b[1m14s\u001b[0m 641us/step - accuracy: 0.8923 - loss: 0.2369 - val_accuracy: 0.8910 - val_loss: 0.2433\n",
      "Epoch 24/30\n",
      "\u001b[1m21430/21430\u001b[0m \u001b[32m━━━━━━━━━━━━━━━━━━━━\u001b[0m\u001b[37m\u001b[0m \u001b[1m12s\u001b[0m 565us/step - accuracy: 0.8920 - loss: 0.2373 - val_accuracy: 0.8891 - val_loss: 0.2450\n",
      "Epoch 25/30\n",
      "\u001b[1m21430/21430\u001b[0m \u001b[32m━━━━━━━━━━━━━━━━━━━━\u001b[0m\u001b[37m\u001b[0m \u001b[1m12s\u001b[0m 555us/step - accuracy: 0.8923 - loss: 0.2371 - val_accuracy: 0.8907 - val_loss: 0.2412\n",
      "Epoch 26/30\n",
      "\u001b[1m21430/21430\u001b[0m \u001b[32m━━━━━━━━━━━━━━━━━━━━\u001b[0m\u001b[37m\u001b[0m \u001b[1m13s\u001b[0m 610us/step - accuracy: 0.8928 - loss: 0.2366 - val_accuracy: 0.8905 - val_loss: 0.2417\n",
      "Epoch 27/30\n",
      "\u001b[1m21430/21430\u001b[0m \u001b[32m━━━━━━━━━━━━━━━━━━━━\u001b[0m\u001b[37m\u001b[0m \u001b[1m12s\u001b[0m 573us/step - accuracy: 0.8935 - loss: 0.2352 - val_accuracy: 0.8897 - val_loss: 0.2428\n",
      "Epoch 28/30\n",
      "\u001b[1m21430/21430\u001b[0m \u001b[32m━━━━━━━━━━━━━━━━━━━━\u001b[0m\u001b[37m\u001b[0m \u001b[1m14s\u001b[0m 653us/step - accuracy: 0.8931 - loss: 0.2362 - val_accuracy: 0.8897 - val_loss: 0.2412\n",
      "Epoch 29/30\n",
      "\u001b[1m21430/21430\u001b[0m \u001b[32m━━━━━━━━━━━━━━━━━━━━\u001b[0m\u001b[37m\u001b[0m \u001b[1m14s\u001b[0m 659us/step - accuracy: 0.8933 - loss: 0.2363 - val_accuracy: 0.8897 - val_loss: 0.2441\n",
      "Epoch 30/30\n",
      "\u001b[1m21430/21430\u001b[0m \u001b[32m━━━━━━━━━━━━━━━━━━━━\u001b[0m\u001b[37m\u001b[0m \u001b[1m13s\u001b[0m 592us/step - accuracy: 0.8926 - loss: 0.2365 - val_accuracy: 0.8907 - val_loss: 0.2417\n",
      "Restoring model weights from the end of the best epoch: 29.\n"
     ]
    }
   ],
   "source": [
    "model_tf_churn = get_churn_model(transformed_df.shape[1])\n",
    "early_stopping_churn = EarlyStopping(\n",
    "    monitor='accuracy',  # Metric to monitor\n",
    "    mode='max',\n",
    "    patience=5,          # Number of epochs with no improvement after which training will be stopped\n",
    "    verbose=1,           # Verbosity mode\n",
    "    restore_best_weights=True  # Restore model weights from the epoch with the best value of the monitored metric\n",
    ")\n",
    "history_np_churn = model_tf_churn.fit(\n",
    "    train_inputs_churn, train_outputs_churn, \n",
    "    epochs=30, batch_size=32, \n",
    "    validation_split=0.1,\n",
    "    callbacks=[early_stopping_churn]    \n",
    ")"
   ]
  },
  {
   "cell_type": "code",
   "execution_count": 140,
   "id": "b9999faa-727d-44e3-bb83-5c1c62ab46d6",
   "metadata": {},
   "outputs": [
    {
     "name": "stdout",
     "output_type": "stream",
     "text": [
      "\u001b[1m63904/63904\u001b[0m \u001b[32m━━━━━━━━━━━━━━━━━━━━\u001b[0m\u001b[37m\u001b[0m \u001b[1m17s\u001b[0m 263us/step\n"
     ]
    },
    {
     "data": {
      "text/plain": [
       "0.53691226"
      ]
     },
     "execution_count": 140,
     "metadata": {},
     "output_type": "execute_result"
    }
   ],
   "source": [
    "predicted_value = model_tf_churn.predict(t1)\n",
    "predicted = predicted_value.squeeze()\n",
    "predicted[predicted<2500].mean()"
   ]
  },
  {
   "cell_type": "code",
   "execution_count": 141,
   "id": "2b3194a7-4fc5-4aab-b212-791a2b4ae2e7",
   "metadata": {},
   "outputs": [
    {
     "name": "stdout",
     "output_type": "stream",
     "text": [
      "\u001b[1m5953/5953\u001b[0m \u001b[32m━━━━━━━━━━━━━━━━━━━━\u001b[0m\u001b[37m\u001b[0m \u001b[1m2s\u001b[0m 260us/step\n"
     ]
    },
    {
     "data": {
      "text/plain": [
       "0.6164202"
      ]
     },
     "execution_count": 141,
     "metadata": {},
     "output_type": "execute_result"
    }
   ],
   "source": [
    "test_pred = model_tf_churn.predict(test_inputs_churn)\n",
    "test_pred = test_pred.squeeze()\n",
    "test_pred.mean()"
   ]
  },
  {
   "cell_type": "code",
   "execution_count": 142,
   "id": "7ab74668-28a7-4bf4-b6f1-c77bceb5be90",
   "metadata": {},
   "outputs": [
    {
     "data": {
      "text/plain": [
       "0.6338781"
      ]
     },
     "execution_count": 142,
     "metadata": {},
     "output_type": "execute_result"
    }
   ],
   "source": [
    "test_outputs_churn.mean()"
   ]
  },
  {
   "cell_type": "code",
   "execution_count": 143,
   "id": "dd526ca9-6d9c-4171-9f3e-8419175ae6c7",
   "metadata": {},
   "outputs": [
    {
     "data": {
      "text/plain": [
       "143.47826086956522"
      ]
     },
     "execution_count": 143,
     "metadata": {},
     "output_type": "execute_result"
    }
   ],
   "source": [
    "66/0.46"
   ]
  },
  {
   "cell_type": "markdown",
   "id": "3a420c74-7a71-4a3e-af3c-86261b582a08",
   "metadata": {},
   "source": [
    "<h3> xgboost model </h3>"
   ]
  },
  {
   "cell_type": "code",
   "execution_count": 157,
   "id": "d78b5c4a-c4c7-49f3-a157-943d6282b388",
   "metadata": {},
   "outputs": [],
   "source": [
    "import xgboost as xgb"
   ]
  },
  {
   "cell_type": "code",
   "execution_count": 325,
   "id": "16bcf06a-46f6-4792-ab03-6a6ae1fb096f",
   "metadata": {},
   "outputs": [],
   "source": [
    "np.random.seed(42)"
   ]
  },
  {
   "cell_type": "code",
   "execution_count": 149,
   "id": "7964dfd0-2726-41e2-b134-914d3fc9a03b",
   "metadata": {},
   "outputs": [],
   "source": [
    "def split_train_test(length, r1, r2):\n",
    "    shuffle_index = np.random.permutation(length)\n",
    "    test_size = int(length * r1)\n",
    "    valid_size = int(length * r2)\n",
    "    print(test_size)\n",
    "    print(valid_size)\n",
    "    test_index = shuffle_index[:test_size]\n",
    "    valid_index = shuffle_index[test_size: valid_size]\n",
    "    train_index = shuffle_index[valid_size:]\n",
    "    return test_index, valid_index, train_index"
   ]
  },
  {
   "cell_type": "code",
   "execution_count": 144,
   "id": "e6a6a736-3cf6-48ad-9824-4fd922cd4278",
   "metadata": {},
   "outputs": [],
   "source": [
    "df_xg = df_raw.copy()"
   ]
  },
  {
   "cell_type": "code",
   "execution_count": 145,
   "id": "8443e3a0-9a1b-4916-b323-1c7cfc9d540d",
   "metadata": {},
   "outputs": [],
   "source": [
    "df_xg[cat_columns] = df_xg[cat_columns].astype('category')"
   ]
  },
  {
   "cell_type": "code",
   "execution_count": 146,
   "id": "4cde655f-70c4-4d0b-8a94-9c331ba8cddb",
   "metadata": {},
   "outputs": [],
   "source": [
    "X_COL = cat_columns + num_columns"
   ]
  },
  {
   "cell_type": "code",
   "execution_count": 147,
   "id": "c4b1b97e-dec2-42a8-9377-8fbe699356a9",
   "metadata": {},
   "outputs": [],
   "source": [
    "Y_COL = 'LABEL_REVENUE_6M'"
   ]
  },
  {
   "cell_type": "code",
   "execution_count": 150,
   "id": "1648f45c-5385-4efb-8596-16dcffcd7eb7",
   "metadata": {},
   "outputs": [
    {
     "name": "stdout",
     "output_type": "stream",
     "text": [
      "190483\n",
      "380967\n"
     ]
    }
   ],
   "source": [
    "test_index, valid_index, train_index = split_train_test(df_xg.shape[0], 0.2, 0.4)"
   ]
  },
  {
   "cell_type": "code",
   "execution_count": 151,
   "id": "1ec0b8e0-0343-4f47-a5f1-375e34c05e42",
   "metadata": {},
   "outputs": [
    {
     "data": {
      "text/plain": [
       "(190484,)"
      ]
     },
     "execution_count": 151,
     "metadata": {},
     "output_type": "execute_result"
    }
   ],
   "source": [
    "valid_index.shape"
   ]
  },
  {
   "cell_type": "code",
   "execution_count": 152,
   "id": "d01f28ce-acb5-491d-83f7-0f02c49984dd",
   "metadata": {},
   "outputs": [],
   "source": [
    "train = df_xg.iloc[train_index]\n",
    "val = df_xg.iloc[valid_index]\n",
    "test = df_xg.iloc[test_index]"
   ]
  },
  {
   "cell_type": "code",
   "execution_count": 153,
   "id": "0bcc3ff9-2c1d-4cea-87e2-7cfbc7787ec9",
   "metadata": {},
   "outputs": [
    {
     "data": {
      "text/plain": [
       "(190483, 86)"
      ]
     },
     "execution_count": 153,
     "metadata": {},
     "output_type": "execute_result"
    }
   ],
   "source": [
    "test.shape"
   ]
  },
  {
   "cell_type": "code",
   "execution_count": 154,
   "id": "108bf97b-0f70-48c8-aee7-6418ff37a01f",
   "metadata": {},
   "outputs": [
    {
     "data": {
      "text/plain": [
       "(190484, 86)"
      ]
     },
     "execution_count": 154,
     "metadata": {},
     "output_type": "execute_result"
    }
   ],
   "source": [
    "val.shape"
   ]
  },
  {
   "cell_type": "code",
   "execution_count": 174,
   "id": "a2e50928-5c2c-4486-b193-d4b88d56d550",
   "metadata": {},
   "outputs": [
    {
     "data": {
      "text/plain": [
       "'LABEL_REVENUE_6M'"
      ]
     },
     "execution_count": 174,
     "metadata": {},
     "output_type": "execute_result"
    }
   ],
   "source": [
    "Y_COL"
   ]
  },
  {
   "cell_type": "code",
   "execution_count": 158,
   "id": "27b7c621-b5f5-4e22-98af-435b8996bd30",
   "metadata": {},
   "outputs": [],
   "source": [
    "dtrain = xgb.DMatrix(train[X_COL], label=train[Y_COL], enable_categorical=True)\n",
    "dvalid = xgb.DMatrix(val[X_COL], label=val[Y_COL], enable_categorical=True)\n",
    "dtest = xgb.DMatrix(test[X_COL], label=test[Y_COL], enable_categorical=True)"
   ]
  },
  {
   "cell_type": "code",
   "execution_count": 248,
   "id": "5cef4bc1-a491-411f-85be-6a85b90142c4",
   "metadata": {},
   "outputs": [
    {
     "name": "stderr",
     "output_type": "stream",
     "text": [
      "/var/folders/d1/rw6rwxz927g254dvggnj0jpr0000gn/T/ipykernel_86949/206844803.py:33: ExperimentalWarning: QMCSampler is experimental (supported from v3.0.0). The interface can change in the future.\n",
      "  sampler = QMCSampler(seed=42)\n",
      "[I 2024-06-07 10:46:10,726] A new study created in RDB with name: no-name-0fb7e9a7-0cab-4fb7-8967-12182aafea29\n",
      "[I 2024-06-07 10:46:14,073] Trial 0 finished with value: 57.25820541381836 and parameters: {'max_depth': 5, 'learning_rate': 0.7969454818643931, 'subsample': 0.9463987883622811, 'colsample_bytree': 0.7993292420985183, 'num_boost_round': 240}. Best is trial 0 with value: 57.25820541381836.\n",
      "[I 2024-06-07 10:46:15,794] Trial 1 finished with value: 63.403194427490234 and parameters: {'max_depth': 3, 'learning_rate': 0.010000000000000005, 'subsample': 0.8, 'colsample_bytree': 0.5, 'num_boost_round': 100}. Best is trial 0 with value: 57.25820541381836.\n",
      "[I 2024-06-07 10:46:25,336] Trial 2 finished with value: 54.67042922973633 and parameters: {'max_depth': 7, 'learning_rate': 0.10000000000000002, 'subsample': 0.9, 'colsample_bytree': 0.75, 'num_boost_round': 550}. Best is trial 2 with value: 54.67042922973633.\n",
      "[I 2024-06-07 10:46:52,132] Trial 3 finished with value: 54.49165344238281 and parameters: {'max_depth': 9, 'learning_rate': 0.0316227766016838, 'subsample': 0.8500000000000001, 'colsample_bytree': 0.625, 'num_boost_round': 775}. Best is trial 3 with value: 54.49165344238281.\n",
      "[I 2024-06-07 10:46:56,999] Trial 4 finished with value: 55.051841735839844 and parameters: {'max_depth': 5, 'learning_rate': 0.31622776601683805, 'subsample': 0.95, 'colsample_bytree': 0.875, 'num_boost_round': 325}. Best is trial 3 with value: 54.49165344238281.\n",
      "[I 2024-06-07 10:47:07,535] Trial 5 finished with value: 54.690582275390625 and parameters: {'max_depth': 5, 'learning_rate': 0.05623413251903493, 'subsample': 0.925, 'colsample_bytree': 0.9375, 'num_boost_round': 437}. Best is trial 3 with value: 54.49165344238281.\n",
      "[I 2024-06-07 10:47:13,033] Trial 6 finished with value: 60.2296257019043 and parameters: {'max_depth': 9, 'learning_rate': 0.562341325190349, 'subsample': 0.8250000000000001, 'colsample_bytree': 0.6875, 'num_boost_round': 888}. Best is trial 3 with value: 54.49165344238281.\n",
      "[I 2024-06-07 10:47:37,885] Trial 7 finished with value: 54.51591110229492 and parameters: {'max_depth': 7, 'learning_rate': 0.01778279410038924, 'subsample': 0.975, 'colsample_bytree': 0.8125, 'num_boost_round': 663}. Best is trial 3 with value: 54.49165344238281.\n",
      "[I 2024-06-07 10:47:41,312] Trial 8 finished with value: 55.33704376220703 and parameters: {'max_depth': 3, 'learning_rate': 0.1778279410038923, 'subsample': 0.875, 'colsample_bytree': 0.5625, 'num_boost_round': 212}. Best is trial 3 with value: 54.49165344238281.\n",
      "[I 2024-06-07 10:47:52,995] Trial 9 finished with value: 54.94856643676758 and parameters: {'max_depth': 4, 'learning_rate': 0.04216965034285824, 'subsample': 0.9875, 'colsample_bytree': 0.71875, 'num_boost_round': 606}. Best is trial 3 with value: 54.49165344238281.\n",
      "[I 2024-06-07 10:47:57,877] Trial 10 finished with value: 56.926727294921875 and parameters: {'max_depth': 8, 'learning_rate': 0.4216965034285823, 'subsample': 0.8875000000000001, 'colsample_bytree': 0.96875, 'num_boost_round': 156}. Best is trial 3 with value: 54.49165344238281.\n",
      "[I 2024-06-07 10:48:25,542] Trial 11 finished with value: 54.511566162109375 and parameters: {'max_depth': 10, 'learning_rate': 0.013335214321633242, 'subsample': 0.9375, 'colsample_bytree': 0.59375, 'num_boost_round': 381}. Best is trial 3 with value: 54.49165344238281.\n",
      "[I 2024-06-07 10:48:35,383] Trial 12 finished with value: 54.79672622680664 and parameters: {'max_depth': 6, 'learning_rate': 0.13335214321633246, 'subsample': 0.8375, 'colsample_bytree': 0.84375, 'num_boost_round': 832}. Best is trial 3 with value: 54.49165344238281.\n",
      "[I 2024-06-07 10:48:58,671] Trial 13 finished with value: 54.69564437866211 and parameters: {'max_depth': 5, 'learning_rate': 0.023713737056616564, 'subsample': 0.8625, 'colsample_bytree': 0.78125, 'num_boost_round': 944}. Best is trial 3 with value: 54.49165344238281.\n",
      "[I 2024-06-07 10:49:05,714] Trial 14 finished with value: 55.50802230834961 and parameters: {'max_depth': 9, 'learning_rate': 0.23713737056616557, 'subsample': 0.9625, 'colsample_bytree': 0.53125, 'num_boost_round': 494}. Best is trial 3 with value: 54.49165344238281.\n",
      "[I 2024-06-07 10:49:15,218] Trial 15 finished with value: 54.655845642089844 and parameters: {'max_depth': 7, 'learning_rate': 0.07498942093324559, 'subsample': 0.8125, 'colsample_bytree': 0.90625, 'num_boost_round': 268}. Best is trial 3 with value: 54.49165344238281.\n",
      "[I 2024-06-07 10:49:19,603] Trial 16 finished with value: 55.802268981933594 and parameters: {'max_depth': 3, 'learning_rate': 0.7498942093324561, 'subsample': 0.9125, 'colsample_bytree': 0.65625, 'num_boost_round': 719}. Best is trial 3 with value: 54.49165344238281.\n",
      "[I 2024-06-07 10:49:25,319] Trial 17 finished with value: 55.330570220947266 and parameters: {'max_depth': 3, 'learning_rate': 0.08659643233600657, 'subsample': 0.89375, 'colsample_bytree': 0.828125, 'num_boost_round': 353}. Best is trial 3 with value: 54.49165344238281.\n",
      "[I 2024-06-07 10:49:28,904] Trial 18 finished with value: 59.938350677490234 and parameters: {'max_depth': 7, 'learning_rate': 0.8659643233600651, 'subsample': 0.99375, 'colsample_bytree': 0.578125, 'num_boost_round': 803}. Best is trial 3 with value: 54.49165344238281.\n",
      "[I 2024-06-07 10:49:56,015] Trial 19 finished with value: 54.4898567199707 and parameters: {'max_depth': 9, 'learning_rate': 0.02738419634264362, 'subsample': 0.84375, 'colsample_bytree': 0.953125, 'num_boost_round': 578}. Best is trial 19 with value: 54.4898567199707.\n",
      "[I 2024-06-07 10:49:59,091] Trial 20 finished with value: 55.04566192626953 and parameters: {'max_depth': 5, 'learning_rate': 0.27384196342643613, 'subsample': 0.94375, 'colsample_bytree': 0.703125, 'num_boost_round': 128}. Best is trial 19 with value: 54.4898567199707.\n",
      "[I 2024-06-07 10:50:06,787] Trial 21 finished with value: 55.357757568359375 and parameters: {'max_depth': 6, 'learning_rate': 0.015399265260594926, 'subsample': 0.96875, 'colsample_bytree': 0.640625, 'num_boost_round': 240}. Best is trial 19 with value: 54.4898567199707.\n",
      "[I 2024-06-07 10:50:15,891] Trial 22 finished with value: 55.41117477416992 and parameters: {'max_depth': 10, 'learning_rate': 0.15399265260594924, 'subsample': 0.86875, 'colsample_bytree': 0.890625, 'num_boost_round': 691}. Best is trial 19 with value: 54.4898567199707.\n",
      "[I 2024-06-07 10:50:37,192] Trial 23 finished with value: 54.45810317993164 and parameters: {'max_depth': 8, 'learning_rate': 0.04869675251658632, 'subsample': 0.91875, 'colsample_bytree': 0.515625, 'num_boost_round': 916}. Best is trial 23 with value: 54.45810317993164.\n",
      "[I 2024-06-07 10:50:40,930] Trial 24 finished with value: 55.720191955566406 and parameters: {'max_depth': 4, 'learning_rate': 0.48696752516586306, 'subsample': 0.8187500000000001, 'colsample_bytree': 0.765625, 'num_boost_round': 466}. Best is trial 23 with value: 54.45810317993164.\n",
      "[I 2024-06-07 10:50:57,936] Trial 25 finished with value: 55.11893844604492 and parameters: {'max_depth': 4, 'learning_rate': 0.020535250264571463, 'subsample': 0.90625, 'colsample_bytree': 0.921875, 'num_boost_round': 860}. Best is trial 23 with value: 54.45810317993164.\n",
      "[I 2024-06-07 10:51:03,826] Trial 26 finished with value: 55.41246795654297 and parameters: {'max_depth': 8, 'learning_rate': 0.20535250264571467, 'subsample': 0.80625, 'colsample_bytree': 0.671875, 'num_boost_round': 409}. Best is trial 23 with value: 54.45810317993164.\n",
      "[I 2024-06-07 10:51:16,290] Trial 27 finished with value: 54.6550178527832 and parameters: {'max_depth': 10, 'learning_rate': 0.06493816315762115, 'subsample': 0.95625, 'colsample_bytree': 0.796875, 'num_boost_round': 184}. Best is trial 23 with value: 54.45810317993164.\n",
      "[I 2024-06-07 10:51:19,579] Trial 28 finished with value: 57.3805046081543 and parameters: {'max_depth': 6, 'learning_rate': 0.6493816315762113, 'subsample': 0.8562500000000001, 'colsample_bytree': 0.546875, 'num_boost_round': 634}. Best is trial 23 with value: 54.45810317993164.\n",
      "[I 2024-06-07 10:51:37,426] Trial 29 finished with value: 54.646331787109375 and parameters: {'max_depth': 5, 'learning_rate': 0.03651741272548378, 'subsample': 0.83125, 'colsample_bytree': 0.609375, 'num_boost_round': 747}. Best is trial 23 with value: 54.45810317993164.\n",
      "[I 2024-06-07 10:51:43,319] Trial 30 finished with value: 57.16655349731445 and parameters: {'max_depth': 9, 'learning_rate': 0.3651741272548378, 'subsample': 0.93125, 'colsample_bytree': 0.859375, 'num_boost_round': 297}. Best is trial 23 with value: 54.45810317993164.\n",
      "[I 2024-06-07 10:52:04,439] Trial 31 finished with value: 54.700523376464844 and parameters: {'max_depth': 7, 'learning_rate': 0.01154781984689459, 'subsample': 0.8812500000000001, 'colsample_bytree': 0.734375, 'num_boost_round': 522}. Best is trial 23 with value: 54.45810317993164.\n",
      "[I 2024-06-07 10:52:19,697] Trial 32 finished with value: 54.80906295776367 and parameters: {'max_depth': 3, 'learning_rate': 0.11547819846894583, 'subsample': 0.98125, 'colsample_bytree': 0.984375, 'num_boost_round': 972}. Best is trial 23 with value: 54.45810317993164.\n",
      "[I 2024-06-07 10:52:23,386] Trial 33 finished with value: 56.354270935058594 and parameters: {'max_depth': 3, 'learning_rate': 0.033982083289425605, 'subsample': 0.940625, 'colsample_bytree': 0.7734375, 'num_boost_round': 226}. Best is trial 23 with value: 54.45810317993164.\n",
      "[I 2024-06-07 10:52:28,323] Trial 34 finished with value: 56.00981521606445 and parameters: {'max_depth': 7, 'learning_rate': 0.33982083289425596, 'subsample': 0.8406250000000001, 'colsample_bytree': 0.5234375, 'num_boost_round': 677}. Best is trial 23 with value: 54.45810317993164.\n",
      "[I 2024-06-07 10:53:21,240] Trial 35 finished with value: 54.4907341003418 and parameters: {'max_depth': 9, 'learning_rate': 0.010746078283213176, 'subsample': 0.990625, 'colsample_bytree': 0.8984375, 'num_boost_round': 902}. Best is trial 23 with value: 54.45810317993164.\n",
      "[I 2024-06-07 10:53:31,607] Trial 36 finished with value: 54.71255874633789 and parameters: {'max_depth': 5, 'learning_rate': 0.10746078283213178, 'subsample': 0.890625, 'colsample_bytree': 0.6484375, 'num_boost_round': 451}. Best is trial 23 with value: 54.45810317993164.\n",
      "[I 2024-06-07 10:53:42,644] Trial 37 finished with value: 54.90681838989258 and parameters: {'max_depth': 6, 'learning_rate': 0.019109529749704413, 'subsample': 0.815625, 'colsample_bytree': 0.7109375, 'num_boost_round': 339}. Best is trial 23 with value: 54.45810317993164.\n",
      "[I 2024-06-07 10:53:51,443] Trial 38 finished with value: 55.61580276489258 and parameters: {'max_depth': 10, 'learning_rate': 0.1910952974970441, 'subsample': 0.915625, 'colsample_bytree': 0.9609375, 'num_boost_round': 789}. Best is trial 23 with value: 54.45810317993164.\n",
      "[I 2024-06-07 10:54:09,331] Trial 39 finished with value: 54.56502914428711 and parameters: {'max_depth': 8, 'learning_rate': 0.060429639023813285, 'subsample': 0.8656250000000001, 'colsample_bytree': 0.5859375, 'num_boost_round': 564}. Best is trial 23 with value: 54.45810317993164.\n",
      "[I 2024-06-07 10:54:11,508] Trial 40 finished with value: 55.55866241455078 and parameters: {'max_depth': 4, 'learning_rate': 0.604296390238133, 'subsample': 0.965625, 'colsample_bytree': 0.8359375, 'num_boost_round': 114}. Best is trial 23 with value: 54.45810317993164.\n",
      "[I 2024-06-07 10:54:26,223] Trial 41 finished with value: 55.374839782714844 and parameters: {'max_depth': 4, 'learning_rate': 0.014330125702369637, 'subsample': 0.853125, 'colsample_bytree': 0.9921875, 'num_boost_round': 733}. Best is trial 23 with value: 54.45810317993164.\n",
      "[I 2024-06-07 10:54:34,326] Trial 42 finished with value: 54.90958023071289 and parameters: {'max_depth': 8, 'learning_rate': 0.14330125702369628, 'subsample': 0.953125, 'colsample_bytree': 0.7421875, 'num_boost_round': 283}. Best is trial 23 with value: 54.45810317993164.\n",
      "[I 2024-06-07 10:54:55,733] Trial 43 finished with value: 54.5970573425293 and parameters: {'max_depth': 10, 'learning_rate': 0.045315836376008195, 'subsample': 0.8031250000000001, 'colsample_bytree': 0.8671875, 'num_boost_round': 508}. Best is trial 23 with value: 54.45810317993164.\n",
      "[I 2024-06-07 10:54:59,782] Trial 44 finished with value: 56.05180740356445 and parameters: {'max_depth': 6, 'learning_rate': 0.4531583637600819, 'subsample': 0.9031250000000001, 'colsample_bytree': 0.6171875, 'num_boost_round': 958}. Best is trial 23 with value: 54.45810317993164.\n",
      "[I 2024-06-07 10:55:19,142] Trial 45 finished with value: 54.600711822509766 and parameters: {'max_depth': 5, 'learning_rate': 0.0805842187761482, 'subsample': 0.978125, 'colsample_bytree': 0.5546875, 'num_boost_round': 846}. Best is trial 23 with value: 54.45810317993164.\n",
      "[I 2024-06-07 10:55:24,700] Trial 46 finished with value: 64.2422866821289 and parameters: {'max_depth': 9, 'learning_rate': 0.8058421877614819, 'subsample': 0.878125, 'colsample_bytree': 0.8046875, 'num_boost_round': 395}. Best is trial 23 with value: 54.45810317993164.\n",
      "[I 2024-06-07 10:55:31,440] Trial 47 finished with value: 54.89141082763672 and parameters: {'max_depth': 7, 'learning_rate': 0.025482967479793468, 'subsample': 0.928125, 'colsample_bytree': 0.6796875, 'num_boost_round': 170}. Best is trial 23 with value: 54.45810317993164.\n",
      "[I 2024-06-07 10:55:39,408] Trial 48 finished with value: 55.089111328125 and parameters: {'max_depth': 3, 'learning_rate': 0.2548296747979347, 'subsample': 0.828125, 'colsample_bytree': 0.9296875, 'num_boost_round': 620}. Best is trial 23 with value: 54.45810317993164.\n",
      "[I 2024-06-07 10:55:47,242] Trial 49 finished with value: 55.81637191772461 and parameters: {'max_depth': 3, 'learning_rate': 0.02942727176209283, 'subsample': 0.959375, 'colsample_bytree': 0.5703125, 'num_boost_round': 480}. Best is trial 23 with value: 54.45810317993164.\n",
      "[I 2024-06-07 10:55:51,763] Trial 50 finished with value: 55.64906692504883 and parameters: {'max_depth': 7, 'learning_rate': 0.2942727176209282, 'subsample': 0.859375, 'colsample_bytree': 0.8203125, 'num_boost_round': 930}. Best is trial 23 with value: 54.45810317993164.\n",
      "[I 2024-06-07 10:56:04,859] Trial 51 finished with value: 54.81229019165039 and parameters: {'max_depth': 9, 'learning_rate': 0.0930572040929699, 'subsample': 0.909375, 'colsample_bytree': 0.6953125, 'num_boost_round': 705}. Best is trial 23 with value: 54.45810317993164.\n",
      "[I 2024-06-07 10:56:07,632] Trial 52 finished with value: 58.400978088378906 and parameters: {'max_depth': 5, 'learning_rate': 0.9305720409296993, 'subsample': 0.8093750000000001, 'colsample_bytree': 0.9453125, 'num_boost_round': 254}. Best is trial 23 with value: 54.45810317993164.\n",
      "[I 2024-06-07 10:56:12,527] Trial 53 finished with value: 54.88391876220703 and parameters: {'max_depth': 6, 'learning_rate': 0.052329911468149484, 'subsample': 0.884375, 'colsample_bytree': 0.8828125, 'num_boost_round': 142}. Best is trial 23 with value: 54.45810317993164.\n",
      "[I 2024-06-07 10:56:19,149] Trial 54 finished with value: 59.67629623413086 and parameters: {'max_depth': 10, 'learning_rate': 0.5232991146814947, 'subsample': 0.984375, 'colsample_bytree': 0.6328125, 'num_boost_round': 592}. Best is trial 23 with value: 54.45810317993164.\n",
      "[I 2024-06-07 10:56:57,312] Trial 55 finished with value: 54.43607711791992 and parameters: {'max_depth': 8, 'learning_rate': 0.016548170999431816, 'subsample': 0.8343750000000001, 'colsample_bytree': 0.7578125, 'num_boost_round': 817}. Best is trial 55 with value: 54.43607711791992.\n",
      "[I 2024-06-07 10:57:04,190] Trial 56 finished with value: 54.83570861816406 and parameters: {'max_depth': 4, 'learning_rate': 0.1654817099943182, 'subsample': 0.934375, 'colsample_bytree': 0.5078125, 'num_boost_round': 367}. Best is trial 55 with value: 54.43607711791992.\n",
      "[I 2024-06-07 10:57:22,589] Trial 57 finished with value: 54.68350601196289 and parameters: {'max_depth': 4, 'learning_rate': 0.06978305848598666, 'subsample': 0.846875, 'colsample_bytree': 0.6640625, 'num_boost_round': 986}. Best is trial 55 with value: 54.43607711791992.\n",
      "[I 2024-06-07 10:57:27,191] Trial 58 finished with value: 60.053863525390625 and parameters: {'max_depth': 8, 'learning_rate': 0.6978305848598662, 'subsample': 0.946875, 'colsample_bytree': 0.9140625, 'num_boost_round': 536}. Best is trial 55 with value: 54.43607711791992.\n",
      "[I 2024-06-07 10:57:48,851] Trial 59 finished with value: 54.41151428222656 and parameters: {'max_depth': 10, 'learning_rate': 0.022067340690845903, 'subsample': 0.896875, 'colsample_bytree': 0.5390625, 'num_boost_round': 311}. Best is trial 59 with value: 54.41151428222656.\n"
     ]
    },
    {
     "data": {
      "text/plain": [
       "{'max_depth': 10,\n",
       " 'learning_rate': 0.022067340690845903,\n",
       " 'subsample': 0.896875,\n",
       " 'colsample_bytree': 0.5390625,\n",
       " 'num_boost_round': 311}"
      ]
     },
     "execution_count": 248,
     "metadata": {},
     "output_type": "execute_result"
    }
   ],
   "source": [
    "import xgboost as xgb\n",
    "import optuna\n",
    "from optuna import Trial\n",
    "from optuna.samplers import TPESampler, QMCSampler\n",
    "from sklearn.metrics import root_mean_squared_error\n",
    "\n",
    "\n",
    "def train_model(dtrain, dvalid, num_boost_round, params):\n",
    "    return xgb.train(\n",
    "        params,\n",
    "        dtrain,\n",
    "        num_boost_round=num_boost_round,\n",
    "        evals=[(dvalid, \"valid\")],\n",
    "        verbose_eval=False,\n",
    "        early_stopping_rounds=100,\n",
    "    )\n",
    "\n",
    "\n",
    "def objective(trial: Trial, dtrain, dvalid):\n",
    "    params = {\n",
    "        \"max_depth\": trial.suggest_int(\"max_depth\", 3, 10),\n",
    "        \"learning_rate\": trial.suggest_float(\"learning_rate\", 0.01, 1.0, log=True),\n",
    "        \"subsample\": trial.suggest_float(\"subsample\", 0.8, 1.0),\n",
    "        \"colsample_bytree\": trial.suggest_float(\"colsample_bytree\", 0.5, 1.0),\n",
    "    }\n",
    "    num_boost_round = trial.suggest_int(\"num_boost_round\", 100, 1000)\n",
    "    model = train_model(dtrain, dvalid, num_boost_round, params)\n",
    "    preds = model.predict(dvalid)\n",
    "    score = root_mean_squared_error(dvalid.get_label(), preds)\n",
    "    return score\n",
    "\n",
    "\n",
    "sampler = QMCSampler(seed=42)\n",
    "study = optuna.create_study(\n",
    "    direction=\"minimize\", sampler=sampler, storage=\"sqlite:///optuna.db\"\n",
    ")\n",
    "study.optimize(lambda trial: objective(trial, dtrain, dvalid), n_trials=60)\n",
    "\n",
    "best_params = study.best_params\n",
    "\n",
    "best_params"
   ]
  },
  {
   "cell_type": "code",
   "execution_count": 249,
   "id": "23d81284-9a9d-4ec7-902e-1de25944e56a",
   "metadata": {},
   "outputs": [
    {
     "name": "stderr",
     "output_type": "stream",
     "text": [
      "/Users/yanchunyang/Documents/virenv/tensorflow/lib/python3.10/site-packages/xgboost/core.py:160: UserWarning: [11:11:15] WARNING: /Users/runner/work/xgboost/xgboost/src/learner.cc:742: \n",
      "Parameters: { \"num_boost_round\" } are not used.\n",
      "\n",
      "  warnings.warn(smsg, UserWarning)\n"
     ]
    }
   ],
   "source": [
    "model = train_model(\n",
    "    dtrain, dvalid, study.best_trial.params[\"num_boost_round\"], best_params\n",
    ")"
   ]
  },
  {
   "cell_type": "code",
   "execution_count": 164,
   "id": "d15415a2-ec21-4d55-af3b-2d3a41a4b297",
   "metadata": {},
   "outputs": [
    {
     "data": {
      "text/plain": [
       "(2044901, 86)"
      ]
     },
     "execution_count": 164,
     "metadata": {},
     "output_type": "execute_result"
    }
   ],
   "source": [
    "prediction.shape"
   ]
  },
  {
   "cell_type": "code",
   "execution_count": 250,
   "id": "aa5f1a8f-1fde-4d85-ab81-5d9f4c6b574f",
   "metadata": {},
   "outputs": [],
   "source": [
    "predict_data = prediction.copy()"
   ]
  },
  {
   "cell_type": "code",
   "execution_count": 252,
   "id": "0dc84b31-90f4-4bf4-8d8c-d742b2f378c4",
   "metadata": {},
   "outputs": [],
   "source": [
    "predict_data[cat_columns] =  predict_data[cat_columns].astype('category')"
   ]
  },
  {
   "cell_type": "code",
   "execution_count": 253,
   "id": "4233d505-d2d4-4790-b96e-6b6c0f1a9d7d",
   "metadata": {},
   "outputs": [],
   "source": [
    "pred =  xgb.DMatrix(predict_data[X_COL], enable_categorical=True)"
   ]
  },
  {
   "cell_type": "code",
   "execution_count": 254,
   "id": "85485cdb-ba89-42a7-a17b-7f08b18a7a2e",
   "metadata": {},
   "outputs": [],
   "source": [
    "predicted_value = model.predict(pred)"
   ]
  },
  {
   "cell_type": "code",
   "execution_count": 255,
   "id": "ddecedc4-b965-4e42-ac39-9886a8aac9b5",
   "metadata": {},
   "outputs": [
    {
     "data": {
      "text/plain": [
       "83.24114"
      ]
     },
     "execution_count": 255,
     "metadata": {},
     "output_type": "execute_result"
    }
   ],
   "source": [
    "predicted_value.mean()"
   ]
  },
  {
   "cell_type": "code",
   "execution_count": 256,
   "id": "3a7dd802-be92-441a-a5d0-05f142765399",
   "metadata": {},
   "outputs": [
    {
     "data": {
      "text/plain": [
       "83.24114"
      ]
     },
     "execution_count": 256,
     "metadata": {},
     "output_type": "execute_result"
    }
   ],
   "source": [
    "predicted_value[predicted_value <2500].mean()"
   ]
  },
  {
   "cell_type": "code",
   "execution_count": 257,
   "id": "50e33150-d3c4-48f5-8e0a-fd50a4892902",
   "metadata": {},
   "outputs": [
    {
     "data": {
      "text/plain": [
       "1130.9604"
      ]
     },
     "execution_count": 257,
     "metadata": {},
     "output_type": "execute_result"
    }
   ],
   "source": [
    "max(predicted_value)"
   ]
  },
  {
   "cell_type": "code",
   "execution_count": 173,
   "id": "a2a2d7d1-2451-4388-b85b-268a023868c7",
   "metadata": {},
   "outputs": [
    {
     "data": {
      "text/plain": [
       "90.5286"
      ]
     },
     "execution_count": 173,
     "metadata": {},
     "output_type": "execute_result"
    }
   ],
   "source": [
    "predicted_value[predicted_value < 1000].mean()"
   ]
  },
  {
   "cell_type": "code",
   "execution_count": 347,
   "id": "0b6231d7-cea4-41bc-98f1-3fbbac06689a",
   "metadata": {},
   "outputs": [
    {
     "data": {
      "text/plain": [
       "(array([1.601458e+06, 3.467610e+05, 7.791700e+04, 1.345400e+04,\n",
       "        3.642000e+03, 1.272000e+03, 2.370000e+02, 5.800000e+01,\n",
       "        2.900000e+01, 7.300000e+01]),\n",
       " array([-146.98077393,  349.18643188,  845.3536377 , 1341.52087402,\n",
       "        1837.68811035, 2333.85522461, 2830.02246094, 3326.18969727,\n",
       "        3822.35693359, 4318.52441406, 4814.69140625]),\n",
       " <BarContainer object of 10 artists>)"
      ]
     },
     "execution_count": 347,
     "metadata": {},
     "output_type": "execute_result"
    },
    {
     "data": {
      "image/png": "[encoded data removed]",
      "text/plain": [
       "<Figure size 640x480 with 1 Axes>"
      ]
     },
     "metadata": {},
     "output_type": "display_data"
    }
   ],
   "source": [
    "plt.hist(predicted_value)"
   ]
  },
  {
   "cell_type": "code",
   "execution_count": 165,
   "id": "c5771098-4f69-4f04-b91e-dfd058302d36",
   "metadata": {},
   "outputs": [
    {
     "data": {
      "text/plain": [
       "235.39156"
      ]
     },
     "execution_count": 165,
     "metadata": {},
     "output_type": "execute_result"
    }
   ],
   "source": [
    "predicted_value.mean()"
   ]
  },
  {
   "cell_type": "code",
   "execution_count": 348,
   "id": "644ed577-dd07-46d7-904e-ae7bc53bcf99",
   "metadata": {},
   "outputs": [],
   "source": [
    "train_predict = model.predict(dtrain)"
   ]
  },
  {
   "cell_type": "code",
   "execution_count": 349,
   "id": "62d88710-0c1a-4e7c-b73d-84c957605596",
   "metadata": {},
   "outputs": [
    {
     "data": {
      "text/plain": [
       "36.45143"
      ]
     },
     "execution_count": 349,
     "metadata": {},
     "output_type": "execute_result"
    }
   ],
   "source": [
    "train_predict.mean()"
   ]
  },
  {
   "cell_type": "code",
   "execution_count": 350,
   "id": "f4e24952-0c8a-4bdc-92f9-e6934f11babc",
   "metadata": {},
   "outputs": [
    {
     "data": {
      "text/plain": [
       "(array([8.91968e+05, 3.01865e+05, 5.60200e+03, 4.64000e+02, 7.10000e+01,\n",
       "        2.30000e+01, 5.00000e+00, 0.00000e+00, 1.00000e+00, 1.00000e+01]),\n",
       " array([-589.06182861,   14.96037006,  618.98254395, 1223.00476074,\n",
       "        1827.02697754, 2431.04907227, 3035.07128906, 3639.09350586,\n",
       "        4243.11572266, 4847.13818359, 5451.16015625]),\n",
       " <BarContainer object of 10 artists>)"
      ]
     },
     "execution_count": 350,
     "metadata": {},
     "output_type": "execute_result"
    },
    {
     "data": {
      "image/png": "[encoded data removed]",
      "text/plain": [
       "<Figure size 640x480 with 1 Axes>"
      ]
     },
     "metadata": {},
     "output_type": "display_data"
    }
   ],
   "source": [
    "plt.hist(train_predict)"
   ]
  },
  {
   "cell_type": "code",
   "execution_count": 258,
   "id": "2c94f1cd-b83f-4496-b33e-4b1d6d19cb9a",
   "metadata": {},
   "outputs": [],
   "source": [
    "predict_test = model.predict(dtest)"
   ]
  },
  {
   "cell_type": "code",
   "execution_count": 259,
   "id": "4c3a4b7f-91d7-4747-9415-d17fbd45e795",
   "metadata": {},
   "outputs": [
    {
     "data": {
      "text/plain": [
       "51.432686"
      ]
     },
     "execution_count": 259,
     "metadata": {},
     "output_type": "execute_result"
    }
   ],
   "source": [
    "predict_test.mean()"
   ]
  },
  {
   "cell_type": "code",
   "execution_count": 260,
   "id": "b79cb9d0-c3e2-4183-aeed-0d41a6b3f956",
   "metadata": {},
   "outputs": [
    {
     "data": {
      "text/plain": [
       "'LABEL_REVENUE_6M'"
      ]
     },
     "execution_count": 260,
     "metadata": {},
     "output_type": "execute_result"
    }
   ],
   "source": [
    "Y_COL"
   ]
  },
  {
   "cell_type": "code",
   "execution_count": 261,
   "id": "8465fc5c-1740-46f9-92a5-f8a2789c0631",
   "metadata": {},
   "outputs": [
    {
     "data": {
      "text/plain": [
       "51.51537082049316"
      ]
     },
     "execution_count": 261,
     "metadata": {},
     "output_type": "execute_result"
    }
   ],
   "source": [
    "test[Y_COL].mean()"
   ]
  },
  {
   "cell_type": "code",
   "execution_count": 175,
   "id": "d0757e68-274a-473c-bba0-b0c4b39529e7",
   "metadata": {},
   "outputs": [],
   "source": [
    "Y_COL_CHURN = 'LABEL_RETENTION_6M'"
   ]
  },
  {
   "cell_type": "code",
   "execution_count": 176,
   "id": "a4ddeb91-0f22-4fec-824a-48eff4c91649",
   "metadata": {},
   "outputs": [],
   "source": [
    "dtrain_churn = xgb.DMatrix(train[X_COL], label=train[Y_COL_CHURN], enable_categorical=True)\n",
    "dvalid_churn = xgb.DMatrix(val[X_COL], label=val[Y_COL_CHURN], enable_categorical=True)\n",
    "dtest_churn = xgb.DMatrix(test[X_COL], label=test[Y_COL_CHURN], enable_categorical=True)"
   ]
  },
  {
   "cell_type": "code",
   "execution_count": 179,
   "id": "d1566ed3-cc98-42db-bc0e-b7aeaeeff4c4",
   "metadata": {},
   "outputs": [],
   "source": [
    "from sklearn.metrics import log_loss, roc_auc_score"
   ]
  },
  {
   "cell_type": "code",
   "execution_count": 183,
   "id": "1500e0d2-892a-42cf-a23a-28dc9e84a16e",
   "metadata": {},
   "outputs": [
    {
     "name": "stderr",
     "output_type": "stream",
     "text": [
      "/var/folders/d1/rw6rwxz927g254dvggnj0jpr0000gn/T/ipykernel_86949/273311208.py:31: ExperimentalWarning: QMCSampler is experimental (supported from v3.0.0). The interface can change in the future.\n",
      "  sampler = QMCSampler(seed=42)\n",
      "[I 2024-06-05 23:31:33,283] A new study created in RDB with name: no-name-128744d8-0815-4c71-9b2e-95ddfb95f138\n",
      "[I 2024-06-05 23:31:37,923] Trial 0 finished with value: 0.24844181198326817 and parameters: {'max_depth': 5, 'learning_rate': 0.7969454818643931, 'subsample': 0.9463987883622811, 'colsample_bytree': 0.7993292420985183, 'num_boost_round': 240}. Best is trial 0 with value: 0.24844181198326817.\n",
      "[I 2024-06-05 23:31:40,074] Trial 1 finished with value: 0.4056075953716903 and parameters: {'max_depth': 3, 'learning_rate': 0.010000000000000005, 'subsample': 0.8, 'colsample_bytree': 0.5, 'num_boost_round': 100}. Best is trial 0 with value: 0.24844181198326817.\n",
      "[I 2024-06-05 23:31:56,897] Trial 2 finished with value: 0.23247677422910235 and parameters: {'max_depth': 7, 'learning_rate': 0.10000000000000002, 'subsample': 0.9, 'colsample_bytree': 0.75, 'num_boost_round': 550}. Best is trial 2 with value: 0.23247677422910235.\n",
      "[I 2024-06-05 23:32:37,176] Trial 3 finished with value: 0.23118971093496438 and parameters: {'max_depth': 9, 'learning_rate': 0.0316227766016838, 'subsample': 0.8500000000000001, 'colsample_bytree': 0.625, 'num_boost_round': 775}. Best is trial 3 with value: 0.23118971093496438.\n",
      "[I 2024-06-05 23:32:44,840] Trial 4 finished with value: 0.2352861794823821 and parameters: {'max_depth': 5, 'learning_rate': 0.31622776601683805, 'subsample': 0.95, 'colsample_bytree': 0.875, 'num_boost_round': 325}. Best is trial 3 with value: 0.23118971093496438.\n",
      "[I 2024-06-05 23:32:58,247] Trial 5 finished with value: 0.2339362957465831 and parameters: {'max_depth': 5, 'learning_rate': 0.05623413251903493, 'subsample': 0.925, 'colsample_bytree': 0.9375, 'num_boost_round': 437}. Best is trial 3 with value: 0.23118971093496438.\n",
      "[I 2024-06-05 23:33:05,183] Trial 6 finished with value: 0.27326365789577717 and parameters: {'max_depth': 9, 'learning_rate': 0.562341325190349, 'subsample': 0.8250000000000001, 'colsample_bytree': 0.6875, 'num_boost_round': 888}. Best is trial 3 with value: 0.23118971093496438.\n",
      "[I 2024-06-05 23:33:34,268] Trial 7 finished with value: 0.23360847204199106 and parameters: {'max_depth': 7, 'learning_rate': 0.01778279410038924, 'subsample': 0.975, 'colsample_bytree': 0.8125, 'num_boost_round': 663}. Best is trial 3 with value: 0.23118971093496438.\n",
      "[I 2024-06-05 23:33:38,516] Trial 8 finished with value: 0.23898698049953696 and parameters: {'max_depth': 3, 'learning_rate': 0.1778279410038923, 'subsample': 0.875, 'colsample_bytree': 0.5625, 'num_boost_round': 212}. Best is trial 3 with value: 0.23118971093496438.\n",
      "[I 2024-06-05 23:33:53,462] Trial 9 finished with value: 0.23642390050969483 and parameters: {'max_depth': 4, 'learning_rate': 0.04216965034285824, 'subsample': 0.9875, 'colsample_bytree': 0.71875, 'num_boost_round': 606}. Best is trial 3 with value: 0.23118971093496438.\n",
      "[I 2024-06-05 23:34:01,008] Trial 10 finished with value: 0.24847240762518902 and parameters: {'max_depth': 8, 'learning_rate': 0.4216965034285823, 'subsample': 0.8875000000000001, 'colsample_bytree': 0.96875, 'num_boost_round': 156}. Best is trial 3 with value: 0.23118971093496438.\n",
      "[I 2024-06-05 23:34:26,702] Trial 11 finished with value: 0.23552224897332918 and parameters: {'max_depth': 10, 'learning_rate': 0.013335214321633242, 'subsample': 0.9375, 'colsample_bytree': 0.59375, 'num_boost_round': 381}. Best is trial 3 with value: 0.23118971093496438.\n",
      "[I 2024-06-05 23:34:42,435] Trial 12 finished with value: 0.23338660616854418 and parameters: {'max_depth': 6, 'learning_rate': 0.13335214321633246, 'subsample': 0.8375, 'colsample_bytree': 0.84375, 'num_boost_round': 832}. Best is trial 3 with value: 0.23118971093496438.\n",
      "[I 2024-06-05 23:35:12,435] Trial 13 finished with value: 0.23412813076744923 and parameters: {'max_depth': 5, 'learning_rate': 0.023713737056616564, 'subsample': 0.8625, 'colsample_bytree': 0.78125, 'num_boost_round': 944}. Best is trial 3 with value: 0.23118971093496438.\n",
      "[I 2024-06-05 23:35:20,896] Trial 14 finished with value: 0.23818648034325723 and parameters: {'max_depth': 9, 'learning_rate': 0.23713737056616557, 'subsample': 0.9625, 'colsample_bytree': 0.53125, 'num_boost_round': 494}. Best is trial 3 with value: 0.23118971093496438.\n",
      "[I 2024-06-05 23:35:33,013] Trial 15 finished with value: 0.232482398153645 and parameters: {'max_depth': 7, 'learning_rate': 0.07498942093324559, 'subsample': 0.8125, 'colsample_bytree': 0.90625, 'num_boost_round': 268}. Best is trial 3 with value: 0.23118971093496438.\n",
      "[I 2024-06-05 23:35:38,729] Trial 16 finished with value: 0.23844778344074244 and parameters: {'max_depth': 3, 'learning_rate': 0.7498942093324561, 'subsample': 0.9125, 'colsample_bytree': 0.65625, 'num_boost_round': 719}. Best is trial 3 with value: 0.23118971093496438.\n",
      "[I 2024-06-05 23:35:45,801] Trial 17 finished with value: 0.23941940520967464 and parameters: {'max_depth': 3, 'learning_rate': 0.08659643233600657, 'subsample': 0.89375, 'colsample_bytree': 0.828125, 'num_boost_round': 353}. Best is trial 3 with value: 0.23118971093496438.\n",
      "[I 2024-06-05 23:35:50,917] Trial 18 finished with value: 0.2696597578645978 and parameters: {'max_depth': 7, 'learning_rate': 0.8659643233600651, 'subsample': 0.99375, 'colsample_bytree': 0.578125, 'num_boost_round': 803}. Best is trial 3 with value: 0.23118971093496438.\n",
      "[I 2024-06-05 23:36:26,422] Trial 19 finished with value: 0.23139477541124134 and parameters: {'max_depth': 9, 'learning_rate': 0.02738419634264362, 'subsample': 0.84375, 'colsample_bytree': 0.953125, 'num_boost_round': 578}. Best is trial 3 with value: 0.23118971093496438.\n",
      "[I 2024-06-05 23:36:30,335] Trial 20 finished with value: 0.23495137988689602 and parameters: {'max_depth': 5, 'learning_rate': 0.27384196342643613, 'subsample': 0.94375, 'colsample_bytree': 0.703125, 'num_boost_round': 128}. Best is trial 3 with value: 0.23118971093496438.\n",
      "[I 2024-06-05 23:36:38,720] Trial 21 finished with value: 0.2528137232136816 and parameters: {'max_depth': 6, 'learning_rate': 0.015399265260594926, 'subsample': 0.96875, 'colsample_bytree': 0.640625, 'num_boost_round': 240}. Best is trial 3 with value: 0.23118971093496438.\n",
      "[I 2024-06-05 23:36:50,240] Trial 22 finished with value: 0.23627269024052125 and parameters: {'max_depth': 10, 'learning_rate': 0.15399265260594924, 'subsample': 0.86875, 'colsample_bytree': 0.890625, 'num_boost_round': 691}. Best is trial 3 with value: 0.23118971093496438.\n",
      "[I 2024-06-05 23:37:20,106] Trial 23 finished with value: 0.23141828915902135 and parameters: {'max_depth': 8, 'learning_rate': 0.04869675251658632, 'subsample': 0.91875, 'colsample_bytree': 0.515625, 'num_boost_round': 916}. Best is trial 3 with value: 0.23118971093496438.\n",
      "[I 2024-06-05 23:37:25,808] Trial 24 finished with value: 0.23733955628267864 and parameters: {'max_depth': 4, 'learning_rate': 0.48696752516586306, 'subsample': 0.8187500000000001, 'colsample_bytree': 0.765625, 'num_boost_round': 466}. Best is trial 3 with value: 0.23118971093496438.\n",
      "[I 2024-06-05 23:37:47,755] Trial 25 finished with value: 0.2387244529189062 and parameters: {'max_depth': 4, 'learning_rate': 0.020535250264571463, 'subsample': 0.90625, 'colsample_bytree': 0.921875, 'num_boost_round': 860}. Best is trial 3 with value: 0.23118971093496438.\n",
      "[I 2024-06-05 23:37:56,788] Trial 26 finished with value: 0.2367825690380846 and parameters: {'max_depth': 8, 'learning_rate': 0.20535250264571467, 'subsample': 0.80625, 'colsample_bytree': 0.671875, 'num_boost_round': 409}. Best is trial 3 with value: 0.23118971093496438.\n",
      "[I 2024-06-05 23:38:09,313] Trial 27 finished with value: 0.23194145546283568 and parameters: {'max_depth': 10, 'learning_rate': 0.06493816315762115, 'subsample': 0.95625, 'colsample_bytree': 0.796875, 'num_boost_round': 184}. Best is trial 3 with value: 0.23118971093496438.\n",
      "[I 2024-06-05 23:38:14,277] Trial 28 finished with value: 0.24854050485861148 and parameters: {'max_depth': 6, 'learning_rate': 0.6493816315762113, 'subsample': 0.8562500000000001, 'colsample_bytree': 0.546875, 'num_boost_round': 634}. Best is trial 3 with value: 0.23118971093496438.\n",
      "[I 2024-06-05 23:38:37,502] Trial 29 finished with value: 0.23362227054857232 and parameters: {'max_depth': 5, 'learning_rate': 0.03651741272548378, 'subsample': 0.83125, 'colsample_bytree': 0.609375, 'num_boost_round': 747}. Best is trial 3 with value: 0.23118971093496438.\n",
      "[I 2024-06-05 23:38:44,861] Trial 30 finished with value: 0.24783744904142094 and parameters: {'max_depth': 9, 'learning_rate': 0.3651741272548378, 'subsample': 0.93125, 'colsample_bytree': 0.859375, 'num_boost_round': 297}. Best is trial 3 with value: 0.23118971093496438.\n",
      "[I 2024-06-05 23:39:07,801] Trial 31 finished with value: 0.2381832431984015 and parameters: {'max_depth': 7, 'learning_rate': 0.01154781984689459, 'subsample': 0.8812500000000001, 'colsample_bytree': 0.734375, 'num_boost_round': 522}. Best is trial 3 with value: 0.23118971093496438.\n",
      "[I 2024-06-05 23:39:26,914] Trial 32 finished with value: 0.23415201297070895 and parameters: {'max_depth': 3, 'learning_rate': 0.11547819846894583, 'subsample': 0.98125, 'colsample_bytree': 0.984375, 'num_boost_round': 972}. Best is trial 3 with value: 0.23118971093496438.\n",
      "[I 2024-06-05 23:39:31,536] Trial 33 finished with value: 0.2559752306961662 and parameters: {'max_depth': 3, 'learning_rate': 0.033982083289425605, 'subsample': 0.940625, 'colsample_bytree': 0.7734375, 'num_boost_round': 226}. Best is trial 3 with value: 0.23118971093496438.\n",
      "[I 2024-06-05 23:39:37,652] Trial 34 finished with value: 0.23932194330623222 and parameters: {'max_depth': 7, 'learning_rate': 0.33982083289425596, 'subsample': 0.8406250000000001, 'colsample_bytree': 0.5234375, 'num_boost_round': 677}. Best is trial 3 with value: 0.23118971093496438.\n",
      "[I 2024-06-05 23:40:31,292] Trial 35 finished with value: 0.2321569536881712 and parameters: {'max_depth': 9, 'learning_rate': 0.010746078283213176, 'subsample': 0.990625, 'colsample_bytree': 0.8984375, 'num_boost_round': 902}. Best is trial 3 with value: 0.23118971093496438.\n",
      "[I 2024-06-05 23:40:44,649] Trial 36 finished with value: 0.23283982054159755 and parameters: {'max_depth': 5, 'learning_rate': 0.10746078283213178, 'subsample': 0.890625, 'colsample_bytree': 0.6484375, 'num_boost_round': 451}. Best is trial 3 with value: 0.23118971093496438.\n",
      "[I 2024-06-05 23:40:57,790] Trial 37 finished with value: 0.24059163947036052 and parameters: {'max_depth': 6, 'learning_rate': 0.019109529749704413, 'subsample': 0.815625, 'colsample_bytree': 0.7109375, 'num_boost_round': 339}. Best is trial 3 with value: 0.23118971093496438.\n",
      "[I 2024-06-05 23:41:08,496] Trial 38 finished with value: 0.23856656593223508 and parameters: {'max_depth': 10, 'learning_rate': 0.1910952974970441, 'subsample': 0.915625, 'colsample_bytree': 0.9609375, 'num_boost_round': 789}. Best is trial 3 with value: 0.23118971093496438.\n",
      "[I 2024-06-05 23:41:32,704] Trial 39 finished with value: 0.23180958864606302 and parameters: {'max_depth': 8, 'learning_rate': 0.060429639023813285, 'subsample': 0.8656250000000001, 'colsample_bytree': 0.5859375, 'num_boost_round': 564}. Best is trial 3 with value: 0.23118971093496438.\n",
      "[I 2024-06-05 23:41:35,617] Trial 40 finished with value: 0.2378174808640835 and parameters: {'max_depth': 4, 'learning_rate': 0.604296390238133, 'subsample': 0.965625, 'colsample_bytree': 0.8359375, 'num_boost_round': 114}. Best is trial 3 with value: 0.23118971093496438.\n",
      "[I 2024-06-05 23:41:56,166] Trial 41 finished with value: 0.24351957675600344 and parameters: {'max_depth': 4, 'learning_rate': 0.014330125702369637, 'subsample': 0.853125, 'colsample_bytree': 0.9921875, 'num_boost_round': 733}. Best is trial 3 with value: 0.23118971093496438.\n",
      "[I 2024-06-05 23:42:08,540] Trial 42 finished with value: 0.23382952376599492 and parameters: {'max_depth': 8, 'learning_rate': 0.14330125702369628, 'subsample': 0.953125, 'colsample_bytree': 0.7421875, 'num_boost_round': 283}. Best is trial 3 with value: 0.23118971093496438.\n",
      "[I 2024-06-05 23:42:35,540] Trial 43 finished with value: 0.23200268316634107 and parameters: {'max_depth': 10, 'learning_rate': 0.045315836376008195, 'subsample': 0.8031250000000001, 'colsample_bytree': 0.8671875, 'num_boost_round': 508}. Best is trial 3 with value: 0.23118971093496438.\n",
      "[I 2024-06-05 23:42:41,089] Trial 44 finished with value: 0.2402198252172351 and parameters: {'max_depth': 6, 'learning_rate': 0.4531583637600819, 'subsample': 0.9031250000000001, 'colsample_bytree': 0.6171875, 'num_boost_round': 958}. Best is trial 3 with value: 0.23118971093496438.\n",
      "[I 2024-06-05 23:43:05,227] Trial 45 finished with value: 0.23256387189515026 and parameters: {'max_depth': 5, 'learning_rate': 0.0805842187761482, 'subsample': 0.978125, 'colsample_bytree': 0.5546875, 'num_boost_round': 846}. Best is trial 3 with value: 0.23118971093496438.\n",
      "[I 2024-06-05 23:43:12,738] Trial 46 finished with value: 0.319161726413171 and parameters: {'max_depth': 9, 'learning_rate': 0.8058421877614819, 'subsample': 0.878125, 'colsample_bytree': 0.8046875, 'num_boost_round': 395}. Best is trial 3 with value: 0.23118971093496438.\n",
      "[I 2024-06-05 23:43:19,875] Trial 47 finished with value: 0.24408544282546157 and parameters: {'max_depth': 7, 'learning_rate': 0.025482967479793468, 'subsample': 0.928125, 'colsample_bytree': 0.6796875, 'num_boost_round': 170}. Best is trial 3 with value: 0.23118971093496438.\n",
      "[I 2024-06-05 23:43:33,275] Trial 48 finished with value: 0.2350326263376293 and parameters: {'max_depth': 3, 'learning_rate': 0.2548296747979347, 'subsample': 0.828125, 'colsample_bytree': 0.9296875, 'num_boost_round': 620}. Best is trial 3 with value: 0.23118971093496438.\n",
      "[I 2024-06-05 23:43:43,044] Trial 49 finished with value: 0.24657011616727106 and parameters: {'max_depth': 3, 'learning_rate': 0.02942727176209283, 'subsample': 0.959375, 'colsample_bytree': 0.5703125, 'num_boost_round': 480}. Best is trial 3 with value: 0.23118971093496438.\n"
     ]
    },
    {
     "data": {
      "text/plain": [
       "{'max_depth': 9,\n",
       " 'learning_rate': 0.0316227766016838,\n",
       " 'subsample': 0.8500000000000001,\n",
       " 'colsample_bytree': 0.625,\n",
       " 'num_boost_round': 775}"
      ]
     },
     "execution_count": 183,
     "metadata": {},
     "output_type": "execute_result"
    }
   ],
   "source": [
    "def log_loss_metric(y_true, y_pred):\n",
    "    return log_loss(y_true, y_pred)\n",
    "    \n",
    "def train_model_churn(dtrain, dvalid, num_boost_round, params):\n",
    "    return xgb.train(\n",
    "        params,\n",
    "        dtrain,\n",
    "        num_boost_round=num_boost_round,\n",
    "        evals=[(dvalid, \"valid\")],\n",
    "        verbose_eval=False,\n",
    "        early_stopping_rounds=100,\n",
    "    )\n",
    "\n",
    "\n",
    "def objective_churn(trial: Trial, dtrain, dvalid):\n",
    "    params = {\n",
    "        \"max_depth\": trial.suggest_int(\"max_depth\", 3, 10),\n",
    "        \"learning_rate\": trial.suggest_float(\"learning_rate\", 0.01, 1.0, log=True),\n",
    "        \"subsample\": trial.suggest_float(\"subsample\", 0.8, 1.0),\n",
    "        \"colsample_bytree\": trial.suggest_float(\"colsample_bytree\", 0.5, 1.0),\n",
    "        \"objective\": \"binary:logistic\",\n",
    "        \"eval_metric\": \"logloss\"\n",
    "    }\n",
    "    num_boost_round = trial.suggest_int(\"num_boost_round\", 100, 1000)\n",
    "    model = train_model(dtrain, dvalid, num_boost_round, params)\n",
    "    preds = model.predict(dvalid)\n",
    "    score = log_loss_metric(dvalid.get_label(), preds)\n",
    "    return score\n",
    "\n",
    "\n",
    "sampler = QMCSampler(seed=42)\n",
    "study_churn = optuna.create_study(\n",
    "    direction=\"minimize\", sampler=sampler, storage=\"sqlite:///optuna.db\"\n",
    ")\n",
    "study_churn.optimize(lambda trial: objective_churn(trial, dtrain_churn, dvalid_churn), n_trials=50)\n",
    "\n",
    "best_params_churn = study_churn.best_params\n",
    "\n",
    "best_params_churn"
   ]
  },
  {
   "cell_type": "code",
   "execution_count": 184,
   "id": "7d19684f-43dd-4203-9f6e-6a342a31faea",
   "metadata": {},
   "outputs": [
    {
     "name": "stderr",
     "output_type": "stream",
     "text": [
      "/Users/yanchunyang/Documents/virenv/tensorflow/lib/python3.10/site-packages/xgboost/core.py:160: UserWarning: [23:44:08] WARNING: /Users/runner/work/xgboost/xgboost/src/learner.cc:742: \n",
      "Parameters: { \"num_boost_round\" } are not used.\n",
      "\n",
      "  warnings.warn(smsg, UserWarning)\n"
     ]
    }
   ],
   "source": [
    "model_churn = train_model_churn(\n",
    "    dtrain_churn, dvalid_churn, study.best_trial.params[\"num_boost_round\"], best_params_churn\n",
    ")"
   ]
  },
  {
   "cell_type": "code",
   "execution_count": 185,
   "id": "65c83d74-228f-44aa-b3d9-9392d3fe897e",
   "metadata": {},
   "outputs": [],
   "source": [
    "predicted_value_churn = model_churn.predict(pred)"
   ]
  },
  {
   "cell_type": "code",
   "execution_count": 186,
   "id": "c47e38c9-ddaa-40fa-98d8-4723bd248304",
   "metadata": {},
   "outputs": [
    {
     "data": {
      "text/plain": [
       "0.5669477"
      ]
     },
     "execution_count": 186,
     "metadata": {},
     "output_type": "execute_result"
    }
   ],
   "source": [
    "predicted_value_churn.mean()"
   ]
  },
  {
   "cell_type": "code",
   "execution_count": 187,
   "id": "827de1f3-e146-4332-b75c-7f1820f07653",
   "metadata": {},
   "outputs": [
    {
     "data": {
      "text/plain": [
       "209.30232558139537"
      ]
     },
     "execution_count": 187,
     "metadata": {},
     "output_type": "execute_result"
    }
   ],
   "source": [
    "90/0.43"
   ]
  },
  {
   "cell_type": "markdown",
   "id": "8c9c12a9-0cf0-4e20-bc85-154855459533",
   "metadata": {},
   "source": [
    "<h3> check distribution </h3>"
   ]
  },
  {
   "cell_type": "code",
   "execution_count": 72,
   "id": "daed0807-a1b9-4f3f-8751-134324646786",
   "metadata": {},
   "outputs": [
    {
     "data": {
      "text/plain": [
       "(2044901, 234)"
      ]
     },
     "execution_count": 72,
     "metadata": {},
     "output_type": "execute_result"
    }
   ],
   "source": [
    "t1.shape"
   ]
  },
  {
   "cell_type": "code",
   "execution_count": 73,
   "id": "fa0e17f2-6c3e-4229-b79e-d08b20992afd",
   "metadata": {},
   "outputs": [
    {
     "data": {
      "text/plain": [
       "(619120, 234)"
      ]
     },
     "execution_count": 73,
     "metadata": {},
     "output_type": "execute_result"
    }
   ],
   "source": [
    "train_inputs.shape"
   ]
  },
  {
   "cell_type": "code",
   "execution_count": 74,
   "id": "94eb97f6-376f-4c50-bb2a-0a7019402e53",
   "metadata": {},
   "outputs": [
    {
     "data": {
      "text/plain": [
       "0.44314576257763916"
      ]
     },
     "execution_count": 74,
     "metadata": {},
     "output_type": "execute_result"
    }
   ],
   "source": [
    "np.mean(t1[:,1])"
   ]
  },
  {
   "cell_type": "code",
   "execution_count": 77,
   "id": "9f975a36-5d66-4c97-b080-908c74d769f2",
   "metadata": {},
   "outputs": [
    {
     "data": {
      "text/plain": [
       "683.1934533750044"
      ]
     },
     "execution_count": 77,
     "metadata": {},
     "output_type": "execute_result"
    }
   ],
   "source": [
    "prediction['USER_AGE'].mean()"
   ]
  },
  {
   "cell_type": "code",
   "execution_count": 78,
   "id": "d28f99c9-3a4c-4533-806c-0a1fd6fd8922",
   "metadata": {},
   "outputs": [
    {
     "data": {
      "text/plain": [
       "330.4436645561442"
      ]
     },
     "execution_count": 78,
     "metadata": {},
     "output_type": "execute_result"
    }
   ],
   "source": [
    "df['USER_AGE'].mean()"
   ]
  },
  {
   "cell_type": "code",
   "execution_count": 75,
   "id": "142c2089-c475-4f6b-93f6-7ee36a6ce2f4",
   "metadata": {},
   "outputs": [
    {
     "name": "stdout",
     "output_type": "stream",
     "text": [
      "0.9560511382642192\t-7.310912751795798e-05\n",
      "0.44314576257763916\t7.760387161067956e-05\n",
      "0.046602606797265134\t-0.0004136621257682883\n",
      "1.059345608664897\t-0.0006255920728262575\n",
      "0.6792580415250961\t0.000199139164821841\n",
      "0.8763445733302153\t0.00024308741031195486\n",
      "0.45157810600774867\t-0.0006793301431774691\n",
      "0.8067610500869177\t0.00035713113352211405\n",
      "0.5467620910424197\t2.2519325801352116e-05\n",
      "-0.05877387333481839\t-0.00022453966096054335\n",
      "-0.18636983132251878\t-0.0002015275637037973\n",
      "1.0409367409133865\t0.0005945721943573118\n",
      "0.1811024317644599\t-0.00035272444004508886\n",
      "1.4482583819125263\t0.0009816671041660721\n",
      "0.6778179499932337\t0.00046005057899134796\n",
      "0.06162152966799439\t-0.0003376761905940961\n",
      "-0.0036863793042796324\t-0.0005614232513645499\n",
      "0.2967626448331659\t-0.000733314562289785\n",
      "-0.29824177649351635\t0.0006890265875838587\n",
      "0.06316019762247\t2.1542679216639554e-05\n",
      "0.2699623785009984\t-0.00046631797844768583\n",
      "0.3894023597616902\t-0.0006644499700986072\n",
      "0.8763407812314129\t0.00024956447626396216\n",
      "0.2610902916589603\t0.0003414743844970567\n",
      "0.4848149989972012\t-0.00022643875995599473\n",
      "0.4402761652265814\t-0.0005454832627762147\n",
      "0.4950643206894461\t0.0002544115895412592\n",
      "0.353288281005294\t0.00014729920190562152\n",
      "-0.04202123105223469\t0.00039523177673495317\n",
      "-0.2078635184602547\t-0.00022362095369236543\n",
      "1.0591966036648324\t0.0007454977801896319\n",
      "0.32046902432885915\t-0.00032009277809863355\n",
      "1.4485213766564584\t0.001136104045989423\n",
      "0.8360312409301681\t0.0005852281393413642\n",
      "0.12759050690846518\t-0.00039110836979749805\n",
      "0.32399452152196156\t-0.0005601237246463991\n",
      "-0.34457959023988827\t0.0005443589274155095\n",
      "0.09927729656921047\t9.362868321041856e-06\n",
      "0.3605578676151456\t-0.0001511542057758689\n",
      "-0.17158895237711305\t-0.00036913114339784473\n",
      "1.3168348313857159\t0.0007920296815181041\n",
      "0.2987186219119253\t0.00016908516784757264\n",
      "-0.027065899631934127\t0.0007044471860285914\n",
      "0.12907809859923716\t-0.0003452953636438712\n",
      "0.026991892673884813\t-6.803170166239405e-05\n",
      "0.8053285802202529\t0.00019334726076046714\n",
      "0.806940777049809\t0.0007667715423174307\n",
      "-0.3793678680830512\t0.0008004421784439765\n",
      "0.4237639669500641\t-0.0009364300361282915\n",
      "0.7661672623858339\t-0.00020822382242366403\n",
      "0.6267400671730389\t-0.000433393635109329\n",
      "-0.05298226230646822\t0.00013493406895965067\n",
      "0.31073163800950204\t-9.301986118900776e-05\n",
      "0.25779311115916653\t0.00037045779637112213\n",
      "-0.4118162837737404\t0.0007179402334876231\n",
      "0.39571356948670694\t-0.0008497796942714855\n",
      "0.488451460674877\t-0.0002907272337903385\n",
      "0.4411151209718832\t-0.00032340560534623795\n",
      "-0.037536364536613076\t-0.00019148260141859966\n",
      "-0.01058384281355504\t1.2141520483912766e-05\n",
      "-0.2868399399604841\t0.00016368538626391132\n",
      "0.24857249015805227\t-3.208563400567177e-05\n",
      "0.8407467827506085\t-0.00020320015144247028\n",
      "0.6408427520225592\t-0.00012081699631057267\n",
      "0.19087351827361332\t-0.00043571309672037824\n",
      "-0.11236535558634406\t-0.0009419071579757849\n",
      "0.3658470507863217\t0.3646336736012405\n",
      "0.6322159361260031\t0.6022338157384675\n",
      "0.001937013087675149\t0.033132510660292026\n",
      "0.49782752319060924\t0.4945277167592712\n",
      "0.47745392075215376\t0.47673795063961755\n",
      "0.022878369172884164\t0.020286858767282593\n",
      "0.0018401868843528366\t0.00844747383382866\n",
      "9.780424578011356e-07\t1.6151957617263212e-06\n",
      "2.9341273734034067e-06\t0.0\n",
      "0.0016509356687683168\t0.002921889132962915\n",
      "0.12648925302496306\t0.13149308696213982\n",
      "0.007134330708430383\t0.005273614162036439\n",
      "0.042421613564666456\t0.05565641555756558\n",
      "2.9341273734034067e-06\t6.460783046905285e-06\n",
      "3.4231486023039745e-06\t1.4536761855536892e-05\n",
      "9.780424578011356e-07\t0.0\n",
      "0.0\t0.0\n",
      "9.780424578011356e-07\t1.6151957617263212e-06\n",
      "3.4231486023039745e-06\t8.075978808631606e-06\n",
      "0.12412825853183113\t0.14483137356247577\n",
      "1.4670636867017034e-06\t1.6151957617263212e-06\n",
      "0.00064599704337765\t0.0011031787052590775\n",
      "4.890212289005678e-07\t1.6151957617263212e-06\n",
      "0.00010367250052692037\t0.00015828918464917948\n",
      "1.956084915602271e-06\t1.6151957617263212e-06\n",
      "0.009006792993890659\t0.006315415428349916\n",
      "0.0001168760737072357\t0.00020836025326269545\n",
      "1.4670636867017034e-06\t3.2303915234526424e-06\n",
      "2.9341273734034067e-06\t0.0\n",
      "1.4670636867017034e-06\t3.2303915234526424e-06\n",
      "0.0\t1.6151957617263212e-06\n",
      "0.00016626721782619306\t0.0002826592583021062\n",
      "0.0\t0.0\n",
      "9.780424578011356e-07\t1.6151957617263212e-06\n",
      "4.890212289005678e-07\t0.0\n",
      "0.015992461248735268\t0.01012081664297713\n",
      "4.890212289005678e-07\t0.0\n",
      "0.0\t1.6151957617263212e-06\n",
      "0.005988553969116353\t0.004049295774647887\n",
      "3.4231486023039745e-06\t1.6151957617263212e-06\n",
      "0.4512619437322394\t0.45450155058793124\n",
      "3.4231486023039745e-06\t3.2303915234526424e-06\n",
      "9.780424578011356e-07\t1.6151957617263212e-06\n",
      "9.780424578011356e-07\t1.6151957617263212e-06\n",
      "0.0018416539480395383\t0.0012323943661971832\n",
      "1.4670636867017034e-06\t1.6151957617263212e-06\n",
      "9.58481608645113e-05\t0.00011952448636774777\n",
      "1.2714551951414763e-05\t1.4536761855536892e-05\n",
      "0.0011853874588549764\t0.0007866003359607185\n",
      "0.022878369172884164\t0.020286858767282593\n",
      "2.9341273734034067e-06\t8.075978808631606e-06\n",
      "2.445106144502839e-06\t3.2303915234526424e-06\n",
      "0.019580899026407635\t0.026196860059439202\n",
      "1.6626721782619306e-05\t8.075978808631606e-06\n",
      "0.0\t1.6151957617263212e-06\n",
      "4.4989953058852235e-05\t3.391911099625275e-05\n",
      "2.9341273734034067e-06\t4.845587285178964e-06\n",
      "3.569854970974145e-05\t5.491665589869492e-05\n",
      "1.5159658095917603e-05\t6.460783046905285e-06\n",
      "0.05558899917404314\t0.039244411422664424\n",
      "0.0\t1.6151957617263212e-06\n",
      "7.824339662409085e-06\t6.460783046905285e-06\n",
      "3.4231486023039745e-06\t1.6151957617263212e-06\n",
      "1.4670636867017034e-06\t1.6151957617263212e-06\n",
      "0.0\t1.6151957617263212e-06\n",
      "4.890212289005678e-07\t1.6151957617263212e-06\n",
      "6.357275975707382e-06\t8.075978808631606e-06\n",
      "0.0001628440692238891\t0.00020512986173924278\n",
      "0.0018401868843528366\t0.00844747383382866\n",
      "4.890212289005678e-07\t4.845587285178964e-06\n",
      "0.0\t0.0\n",
      "9.780424578011356e-06\t1.1306370332084248e-05\n",
      "0.017314774651682404\t0.01281657836929836\n",
      "0.02159419942579127\t0.017780074945083345\n",
      "9.780424578011356e-07\t0.0\n",
      "1.4670636867017034e-06\t1.6151957617263212e-06\n",
      "0.007518212373117329\t0.005947150794676314\n",
      "1.3692594409215898e-05\t1.9382349140715855e-05\n",
      "0.06310183231364257\t0.047021579015376666\n",
      "4.890212289005678e-07\t0.0\n",
      "9.291403349110788e-06\t1.292156609381057e-05\n",
      "3.4231486023039745e-06\t3.2303915234526424e-06\n",
      "1.2225530722514195e-05\t1.7767153378989534e-05\n",
      "2.3962040216127824e-05\t3.0688719472800105e-05\n",
      "5.525939886576416e-05\t8.237498384804238e-05\n",
      "1.4670636867017034e-06\t1.6151957617263212e-06\n",
      "1.0269445806911924e-05\t1.9382349140715855e-05\n",
      "0.0018392088418950354\t0.0025778524357152085\n",
      "0.13419720563489382\t0.12817547486755396\n",
      "0.1447869603467356\t0.14514149114872724\n",
      "0.1351331922670095\t0.13011370978162554\n",
      "0.030052799622084396\t0.02909613645173795\n",
      "0.00011198586141823002\t0.0011629409484429512\n",
      "0.05183820634837579\t0.05252293577981652\n",
      "0.02815441921149239\t0.028022031270189946\n",
      "0.3242445477800637\t0.33250904509626567\n",
      "0.15148068292792657\t0.15325623465564026\n",
      "0.08478307751817814\t0.06393429383641297\n",
      "0.5524658650956696\t0.6948556014989017\n",
      "0.36273296360068286\t0.23922018348623852\n",
      "1.809378546932101e-05\t0.0019899211784468276\n",
      "0.0001628440692238891\t0.0015748158676831632\n",
      "0.0\t1.6151957617263212e-06\n",
      "2.1027912842724414e-05\t2.2612740664168496e-05\n",
      "0.0006034521964633007\t0.009705711332213464\n",
      "0.0014812453023398198\t0.006116746349657578\n",
      "0.0\t1.7767153378989534e-05\n",
      "0.17075007543152457\t0.09970926476288926\n",
      "0.0002611373362329032\t0.00034403669724770644\n",
      "4.890212289005678e-07\t3.2303915234526424e-06\n",
      "0.0\t9.691174570357928e-06\n",
      "9.780424578011356e-07\t0.0007914459232458974\n",
      "1.1736509493613627e-05\t0.0028798940431580306\n",
      "0.001370237483379391\t0.0014585217728388682\n",
      "0.0\t0.00027296808373174827\n",
      "0.0\t0.0005588577335573072\n",
      "0.0\t0.00018897790412197957\n",
      "1.8582806698221575e-05\t0.001091872334926993\n",
      "4.890212289005678e-07\t0.0013890683550846362\n",
      "0.0005354782456461218\t0.001487595296549942\n",
      "0.0\t0.0\n",
      "0.0005232527149236076\t0.0012227031916268252\n",
      "0.0\t4.845587285178964e-06\n",
      "0.0\t1.292156609381057e-05\n",
      "0.0\t0.0004716371624240858\n",
      "0.0003413368177725963\t0.030719408192272903\n"
     ]
    },
    {
     "ename": "KeyboardInterrupt",
     "evalue": "",
     "output_type": "error",
     "traceback": [
      "\u001b[0;31m---------------------------------------------------------------------------\u001b[0m",
      "\u001b[0;31mKeyboardInterrupt\u001b[0m                         Traceback (most recent call last)",
      "Cell \u001b[0;32mIn[75], line 2\u001b[0m\n\u001b[1;32m      1\u001b[0m \u001b[38;5;28;01mfor\u001b[39;00m i \u001b[38;5;129;01min\u001b[39;00m \u001b[38;5;28mrange\u001b[39m(\u001b[38;5;241m0\u001b[39m, \u001b[38;5;241m234\u001b[39m):\n\u001b[0;32m----> 2\u001b[0m     \u001b[38;5;28mprint\u001b[39m(\u001b[38;5;28mstr\u001b[39m(\u001b[43mnp\u001b[49m\u001b[38;5;241;43m.\u001b[39;49m\u001b[43mmean\u001b[49m\u001b[43m(\u001b[49m\u001b[43mt1\u001b[49m\u001b[43m[\u001b[49m\u001b[43m:\u001b[49m\u001b[43m,\u001b[49m\u001b[43mi\u001b[49m\u001b[43m]\u001b[49m\u001b[43m)\u001b[49m) \u001b[38;5;241m+\u001b[39m \u001b[38;5;124m'\u001b[39m\u001b[38;5;130;01m\\t\u001b[39;00m\u001b[38;5;124m'\u001b[39m \u001b[38;5;241m+\u001b[39m \u001b[38;5;28mstr\u001b[39m(np\u001b[38;5;241m.\u001b[39mmean(train_inputs[:,i])))\n",
      "File \u001b[0;32m~/Documents/virenv/tensorflow/lib/python3.10/site-packages/numpy/core/fromnumeric.py:3504\u001b[0m, in \u001b[0;36mmean\u001b[0;34m(a, axis, dtype, out, keepdims, where)\u001b[0m\n\u001b[1;32m   3501\u001b[0m     \u001b[38;5;28;01melse\u001b[39;00m:\n\u001b[1;32m   3502\u001b[0m         \u001b[38;5;28;01mreturn\u001b[39;00m mean(axis\u001b[38;5;241m=\u001b[39maxis, dtype\u001b[38;5;241m=\u001b[39mdtype, out\u001b[38;5;241m=\u001b[39mout, \u001b[38;5;241m*\u001b[39m\u001b[38;5;241m*\u001b[39mkwargs)\n\u001b[0;32m-> 3504\u001b[0m \u001b[38;5;28;01mreturn\u001b[39;00m \u001b[43m_methods\u001b[49m\u001b[38;5;241;43m.\u001b[39;49m\u001b[43m_mean\u001b[49m\u001b[43m(\u001b[49m\u001b[43ma\u001b[49m\u001b[43m,\u001b[49m\u001b[43m \u001b[49m\u001b[43maxis\u001b[49m\u001b[38;5;241;43m=\u001b[39;49m\u001b[43maxis\u001b[49m\u001b[43m,\u001b[49m\u001b[43m \u001b[49m\u001b[43mdtype\u001b[49m\u001b[38;5;241;43m=\u001b[39;49m\u001b[43mdtype\u001b[49m\u001b[43m,\u001b[49m\n\u001b[1;32m   3505\u001b[0m \u001b[43m                      \u001b[49m\u001b[43mout\u001b[49m\u001b[38;5;241;43m=\u001b[39;49m\u001b[43mout\u001b[49m\u001b[43m,\u001b[49m\u001b[43m \u001b[49m\u001b[38;5;241;43m*\u001b[39;49m\u001b[38;5;241;43m*\u001b[39;49m\u001b[43mkwargs\u001b[49m\u001b[43m)\u001b[49m\n",
      "File \u001b[0;32m~/Documents/virenv/tensorflow/lib/python3.10/site-packages/numpy/core/_methods.py:118\u001b[0m, in \u001b[0;36m_mean\u001b[0;34m(a, axis, dtype, out, keepdims, where)\u001b[0m\n\u001b[1;32m    115\u001b[0m         dtype \u001b[38;5;241m=\u001b[39m mu\u001b[38;5;241m.\u001b[39mdtype(\u001b[38;5;124m'\u001b[39m\u001b[38;5;124mf4\u001b[39m\u001b[38;5;124m'\u001b[39m)\n\u001b[1;32m    116\u001b[0m         is_float16_result \u001b[38;5;241m=\u001b[39m \u001b[38;5;28;01mTrue\u001b[39;00m\n\u001b[0;32m--> 118\u001b[0m ret \u001b[38;5;241m=\u001b[39m \u001b[43mumr_sum\u001b[49m\u001b[43m(\u001b[49m\u001b[43marr\u001b[49m\u001b[43m,\u001b[49m\u001b[43m \u001b[49m\u001b[43maxis\u001b[49m\u001b[43m,\u001b[49m\u001b[43m \u001b[49m\u001b[43mdtype\u001b[49m\u001b[43m,\u001b[49m\u001b[43m \u001b[49m\u001b[43mout\u001b[49m\u001b[43m,\u001b[49m\u001b[43m \u001b[49m\u001b[43mkeepdims\u001b[49m\u001b[43m,\u001b[49m\u001b[43m \u001b[49m\u001b[43mwhere\u001b[49m\u001b[38;5;241;43m=\u001b[39;49m\u001b[43mwhere\u001b[49m\u001b[43m)\u001b[49m\n\u001b[1;32m    119\u001b[0m \u001b[38;5;28;01mif\u001b[39;00m \u001b[38;5;28misinstance\u001b[39m(ret, mu\u001b[38;5;241m.\u001b[39mndarray):\n\u001b[1;32m    120\u001b[0m     \u001b[38;5;28;01mwith\u001b[39;00m _no_nep50_warning():\n",
      "\u001b[0;31mKeyboardInterrupt\u001b[0m: "
     ]
    }
   ],
   "source": [
    "for i in range(0, 234):\n",
    "    print(str(np.mean(t1[:,i])) + '\\t' + str(np.mean(train_inputs[:,i])))"
   ]
  },
  {
   "cell_type": "code",
   "execution_count": 76,
   "id": "7ef6759a-aad9-4a32-a13d-6e03066115f3",
   "metadata": {},
   "outputs": [
    {
     "data": {
      "text/plain": [
       "Index(['USER_AGE', 'BOD_ACCOUNT_OPEN', 'BOD_DIRECT_DEPOSIT',\n",
       "       'DAYS_SINCE_PERCENTAGE_BASED_PRICING', 'ADVANCE_LIFETIME_COUNT',\n",
       "       'ADVANCE_LIFETIME_AMOUNT_TOTAL', 'ADVANCE_LIFETIME_AMOUNT_MEAN',\n",
       "       'ADVANCE_LIFETIME_AMOUNT_RANGE', 'ADVANCE_LIFETIME_AMOUNT_STDDEV',\n",
       "       'ADVANCE_LIFETIME_AMOUNT_SLOPE',\n",
       "       ...\n",
       "       'APPROVAL_REJECTION_REASON_MODE_payday-today',\n",
       "       'APPROVAL_REJECTION_REASON_MODE_predicted-upcoming-income',\n",
       "       'APPROVAL_REJECTION_REASON_MODE_stale-income',\n",
       "       'APPROVAL_REJECTION_REASON_MODE_nan',\n",
       "       'BANK_CONNECTION_HAS_VALID_CREDENTIALS_False',\n",
       "       'BANK_CONNECTION_HAS_VALID_CREDENTIALS_True',\n",
       "       'BANK_CONNECTION_HAS_VALID_CREDENTIALS_nan',\n",
       "       'BANK_CONNECTION_HAS_TRANSACTIONS_False',\n",
       "       'BANK_CONNECTION_HAS_TRANSACTIONS_True',\n",
       "       'BANK_CONNECTION_HAS_TRANSACTIONS_nan'],\n",
       "      dtype='object', length=234)"
      ]
     },
     "execution_count": 76,
     "metadata": {},
     "output_type": "execute_result"
    }
   ],
   "source": [
    "transformed_df.columns"
   ]
  },
  {
   "cell_type": "code",
   "execution_count": 80,
   "id": "3b01b4c4-de19-476d-8c3a-d1cfd527aa7c",
   "metadata": {},
   "outputs": [
    {
     "name": "stdout",
     "output_type": "stream",
     "text": [
      "USER_AGE\t330.4436645561442\t683.1934533750044\n",
      "BOD_ACCOUNT_OPEN\t0.7640483266571908\t0.9522045321509452\n",
      "BOD_DIRECT_DEPOSIT\t0.03582762630830857\t0.04448919532045806\n",
      "DAYS_SINCE_PERCENTAGE_BASED_PRICING\t-290.7823814446311\t274.0\n",
      "ADVANCE_LIFETIME_COUNT\t12.207000904509627\t23.642284394207838\n",
      "ADVANCE_LIFETIME_AMOUNT_TOTAL\t1330.7235623077916\t3374.660830939981\n",
      "ADVANCE_LIFETIME_AMOUNT_MEAN\t92.66892774982134\t122.40855997109382\n",
      "ADVANCE_LIFETIME_AMOUNT_RANGE\t84.4173430675798\t166.21053493054185\n",
      "ADVANCE_LIFETIME_AMOUNT_STDDEV\t36.573366211790606\t56.54563813808434\n",
      "ADVANCE_LIFETIME_AMOUNT_SLOPE\t0.23747438346293298\t0.11335032559385881\n",
      "ADVANCE_LIFETIME_TIP_PERCENT_MEAN\t0.04371966199081277\t0.03445372715306512\n",
      "ADVANCE_LIFETIME_REVENUE_TOTAL\t112.66348267667999\t279.64836577418646\n",
      "ADVANCE_LIFETIME_REVENUE_MEAN\t13.143415841528213\t17.029863157389308\n",
      "ADVANCE_LIFETIME_REVENUE_RANGE\t19.943895947662426\t79.33272547668567\n",
      "ADVANCE_LIFETIME_REVENUE_STDDEV\t8.698096457161531\t21.315651565564245\n",
      "ADVANCE_LIFETIME_REVENUE_SLOPE\t0.25372188147401975\t0.38154949817361805\n",
      "ADVANCE_LIFETIME_HAS_DEFAULT\t0.002018348623853211\t0.0018529014363042513\n",
      "ADVANCE_LIFETIME_DISBURSEMENT_SPENDING_PCT\t0.21516524703450046\t0.3197834053223113\n",
      "ADVANCE_LIFETIME_DISBURSEMENT_DEBIT_PCT\t0.7175894593151573\t0.604058688700822\n",
      "ADVANCE_LIFETIME_DISBURSEMENT_ACH_PCT\t0.06378556265408966\t0.07577667084225594\n",
      "ADVANCE_LIFETIME_BANK_ACCOUNT_COUNT\t1.185822457681871\t1.3498345396672016\n",
      "ADVANCE_FIRST_DAYS_FROM_PV\t53.986697247706424\t117.98652697612256\n",
      "ADVANCE_FIRST_RECENCY\t276.4569673084378\t565.2069263988819\n",
      "ADVANCE_LAST_6M_COUNT\t5.43229616229487\t6.697897355422096\n",
      "ADVANCE_LAST_6M_AMOUNT_TOTAL\t646.5258037472543\t1138.0563539564507\n",
      "ADVANCE_LAST_6M_AMOUNT_MEAN\t97.1415968641127\t132.45287731846486\n",
      "ADVANCE_LAST_6M_AMOUNT_RANGE\t61.969709652409875\t106.38002253913318\n",
      "ADVANCE_LAST_6M_AMOUNT_STDDEV\t33.5171835584273\t48.64827258208506\n",
      "ADVANCE_LAST_6M_AMOUNT_SLOPE\t0.25913944027154895\t0.1412168835427976\n",
      "ADVANCE_LAST_6M_TIP_PERCENT_MEAN\t0.04179898792219924\t0.030473102539572784\n",
      "ADVANCE_LAST_6M_REVENUE_TOTAL\t59.78778977618529\t140.55530588675822\n",
      "ADVANCE_LAST_6M_REVENUE_MEAN\t14.683885603139629\t23.08302407319809\n",
      "ADVANCE_LAST_6M_REVENUE_RANGE\t16.120394004902447\t76.2056708727992\n",
      "ADVANCE_LAST_6M_REVENUE_STDDEV\t9.546233434326114\t31.38278034995324\n",
      "ADVANCE_LAST_6M_REVENUE_SLOPE\t0.4069251269362633\t0.8052218751637447\n",
      "ADVANCE_LAST_6M_DISBURSEMENT_SPENDING_PCT\t0.22849505504070294\t0.3556727706201006\n",
      "ADVANCE_LAST_6M_DISBURSEMENT_DEBIT_PCT\t0.7058113663018476\t0.5600150414698332\n",
      "ADVANCE_LAST_6M_DISBURSEMENT_ACH_PCT\t0.06325136869750615\t0.0843121843037021\n",
      "ADVANCE_LAST_AMOUNT\t101.15824902442176\t133.77907096724977\n",
      "ADVANCE_LAST_TIP_PERCENT\t0.03845378847115314\t0.028749626351588665\n",
      "ADVANCE_LAST_REVENUE\t22.118869994663378\t80.6930044535163\n",
      "ADVANCE_LAST_RECENCY\t44.413934616875565\t59.49139933913671\n",
      "ADVANCE_LAST_OUTSTANDING\t0.31275487789120043\t0.3002067092734563\n",
      "ADVANCE_LAST_OUTSTANDING_DUE\t139.19122417276407\t185.26124924050288\n",
      "ADVANCE_LAST_OUTSTANDING_PLEDGED_REVENUE\t8.806041497101726\t9.530229339640627\n",
      "APPROVAL_LIFETIME_REQUEST_COUNT\t78.44444760304948\t189.8710191838138\n",
      "APPROVAL_LIFETIME_APPROVAL_COUNT\t28.91841323168368\t62.387707766781865\n",
      "APPROVAL_LIFETIME_APPROVAL_RATE\t0.4904578909517782\t0.3864537324770664\n",
      "APPROVAL_LIFETIME_AMOUNT_MEAN\t89.90315125171972\t117.87704757230819\n",
      "APPROVAL_LIFETIME_AMOUNT_RANGE\t108.10522586983666\t197.84171979087222\n",
      "APPROVAL_LIFETIME_AMOUNT_STDDEV\t34.87513686691213\t56.27946512165389\n",
      "APPROVAL_LIFETIME_AMOUNT_SLOPE\t0.25404557503886166\t0.06193925889942362\n",
      "APPROVAL_LAST_6M_REQUEST_COUNT\t43.83787698669079\t66.33943892638324\n",
      "APPROVAL_LAST_6M_APPROVAL_COUNT\t14.217608218116036\t18.984847677222515\n",
      "APPROVAL_LAST_6M_APPROVAL_RATE\t0.49827906714484804\t0.3742557579447957\n",
      "APPROVAL_LAST_6M_AMOUNT_MEAN\t95.48730885772908\t127.18366831850966\n",
      "APPROVAL_LAST_6M_AMOUNT_RANGE\t85.4155519420352\t137.81055632497694\n",
      "APPROVAL_LAST_6M_AMOUNT_STDDEV\t31.40577102907798\t47.75164169584828\n",
      "APPROVAL_LAST_6M_AMOUNT_SLOPE\t0.2845015388157773\t0.10583551810234398\n",
      "APPROVAL_LAST_RECENCY\t27.89517938315815\t27.457718680204934\n",
      "APPROVAL_LAST_IS_APPROVED\t0.5290033515795182\t0.3857882446396899\n",
      "APPROVAL_LAST_APPROVED_AMOUNT\t111.45164231553059\t176.8162361464542\n",
      "BANK_CONNECTION_COUNT\t0.4266675281044063\t1.2112425002481784\n",
      "SESSION_LIFETIME_COUNT\t95.34476407579623\t202.9252452994865\n",
      "SESSION_LAST_6M_COUNT\t51.61810716644864\t66.64018371532345\n",
      "SESSION_LAST_1M_COUNT\t14.55253927752665\t11.726207808879705\n"
     ]
    }
   ],
   "source": [
    "for item in num_columns:\n",
    "    print(str(item) + '\\t' + str(df[item].mean()) + '\\t' + str(prediction[item].mean()))"
   ]
  },
  {
   "cell_type": "code",
   "execution_count": null,
   "id": "080c269f-eb29-4d5f-9e70-e0981a6a5c73",
   "metadata": {},
   "outputs": [],
   "source": []
  }
 ],
 "metadata": {
  "kernelspec": {
   "display_name": "Python 3 (ipykernel)",
   "language": "python",
   "name": "python3"
  },
  "language_info": {
   "codemirror_mode": {
    "name": "ipython",
    "version": 3
   },
   "file_extension": ".py",
   "mimetype": "text/x-python",
   "name": "python",
   "nbconvert_exporter": "python",
   "pygments_lexer": "ipython3",
   "version": "3.10.6"
  }
 },
 "nbformat": 4,
 "nbformat_minor": 5
}
